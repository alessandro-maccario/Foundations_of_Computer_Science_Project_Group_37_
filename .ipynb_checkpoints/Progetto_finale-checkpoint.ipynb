{
 "cells": [
  {
   "cell_type": "markdown",
   "metadata": {
    "id": "QZM9dn_rWiwK"
   },
   "source": [
    "You have to work on the [University dataset](https://drive.google.com/drive/folders/1Hs3nRtK_F3h8eg59B4-TD1DEua6g8Klv?usp=sharing). It contains three different university rankings:\n",
    "\n",
    "* The Times Higher Education World University Ranking, shortly *Times*,\n",
    "* The Academic Ranking of World Universities, shortly *Shanghai*,\n",
    "* The Center for World University Rankings, shortly *cwur*.\n",
    "\n",
    "Notes\n",
    "\n",
    "* It is mandatory to use GitHub for developing the project.\n",
    "* The project must be a jupyter notebook.\n",
    "* There is no restriction on the libraries that can be used, nor on the Python version.\n",
    "* All questions on the project **must** be asked in a public channel on [Zulip](https://focs.zulipchat.com)."
   ]
  },
  {
   "cell_type": "markdown",
   "metadata": {
    "id": "dmmoW1adWiwy"
   },
   "source": [
    "# PROJECT 2020-2021 - Group 37 - Foundations of Computer Science\n",
    "### Professor Gianluca Della Vedova\n",
    "\n",
    "##### Authors: Marco Braga, Alessandro Maccario"
   ]
  },
  {
   "cell_type": "markdown",
   "metadata": {
    "id": "yObbHVYCWiw1"
   },
   "source": [
    "Prima di tutto vengono importate le librerie necessarie nel proseguo dell'analisi."
   ]
  },
  {
   "cell_type": "code",
   "execution_count": 1,
   "metadata": {
    "id": "rlBi5CqFWiw8"
   },
   "outputs": [],
   "source": [
    "import re\n",
    "import math\n",
    "import numpy as np\n",
    "import pandas as pd"
   ]
  },
  {
   "cell_type": "markdown",
   "metadata": {
    "id": "FLup4h3JWixB"
   },
   "source": [
    "### 1. For each university, extract from the `times` dataset the most recent and the least recent data, obtaining two separate dataframes"
   ]
  },
  {
   "cell_type": "markdown",
   "metadata": {
    "id": "7cLW6pmOWixE"
   },
   "source": [
    "Viene caricato il dataset `times` e ne viene visualizzato il contenuto:"
   ]
  },
  {
   "cell_type": "code",
   "execution_count": 2,
   "metadata": {
    "colab": {
     "base_uri": "https://localhost:8080/",
     "height": 400
    },
    "id": "9j_WsGhJWixG",
    "outputId": "6b634f39-fa5a-4ace-cfbf-74e6e248fb72",
    "scrolled": true
   },
   "outputs": [
    {
     "data": {
      "text/html": [
       "<div>\n",
       "<style scoped>\n",
       "    .dataframe tbody tr th:only-of-type {\n",
       "        vertical-align: middle;\n",
       "    }\n",
       "\n",
       "    .dataframe tbody tr th {\n",
       "        vertical-align: top;\n",
       "    }\n",
       "\n",
       "    .dataframe thead th {\n",
       "        text-align: right;\n",
       "    }\n",
       "</style>\n",
       "<table border=\"1\" class=\"dataframe\">\n",
       "  <thead>\n",
       "    <tr style=\"text-align: right;\">\n",
       "      <th></th>\n",
       "      <th>world_rank</th>\n",
       "      <th>university_name</th>\n",
       "      <th>country</th>\n",
       "      <th>teaching</th>\n",
       "      <th>international</th>\n",
       "      <th>research</th>\n",
       "      <th>citations</th>\n",
       "      <th>income</th>\n",
       "      <th>total_score</th>\n",
       "      <th>num_students</th>\n",
       "      <th>student_staff_ratio</th>\n",
       "      <th>international_students</th>\n",
       "      <th>female_male_ratio</th>\n",
       "      <th>year</th>\n",
       "    </tr>\n",
       "  </thead>\n",
       "  <tbody>\n",
       "    <tr>\n",
       "      <th>0</th>\n",
       "      <td>1</td>\n",
       "      <td>Harvard University</td>\n",
       "      <td>United States of America</td>\n",
       "      <td>99.7</td>\n",
       "      <td>72.4</td>\n",
       "      <td>98.7</td>\n",
       "      <td>98.8</td>\n",
       "      <td>34.5</td>\n",
       "      <td>96.1</td>\n",
       "      <td>20,152</td>\n",
       "      <td>8.9</td>\n",
       "      <td>25%</td>\n",
       "      <td>NaN</td>\n",
       "      <td>2011</td>\n",
       "    </tr>\n",
       "    <tr>\n",
       "      <th>1</th>\n",
       "      <td>2</td>\n",
       "      <td>California Institute of Technology</td>\n",
       "      <td>United States of America</td>\n",
       "      <td>97.7</td>\n",
       "      <td>54.6</td>\n",
       "      <td>98.0</td>\n",
       "      <td>99.9</td>\n",
       "      <td>83.7</td>\n",
       "      <td>96.0</td>\n",
       "      <td>2,243</td>\n",
       "      <td>6.9</td>\n",
       "      <td>27%</td>\n",
       "      <td>33 : 67</td>\n",
       "      <td>2011</td>\n",
       "    </tr>\n",
       "    <tr>\n",
       "      <th>2</th>\n",
       "      <td>3</td>\n",
       "      <td>Massachusetts Institute of Technology</td>\n",
       "      <td>United States of America</td>\n",
       "      <td>97.8</td>\n",
       "      <td>82.3</td>\n",
       "      <td>91.4</td>\n",
       "      <td>99.9</td>\n",
       "      <td>87.5</td>\n",
       "      <td>95.6</td>\n",
       "      <td>11,074</td>\n",
       "      <td>9.0</td>\n",
       "      <td>33%</td>\n",
       "      <td>37 : 63</td>\n",
       "      <td>2011</td>\n",
       "    </tr>\n",
       "    <tr>\n",
       "      <th>3</th>\n",
       "      <td>4</td>\n",
       "      <td>Stanford University</td>\n",
       "      <td>United States of America</td>\n",
       "      <td>98.3</td>\n",
       "      <td>29.5</td>\n",
       "      <td>98.1</td>\n",
       "      <td>99.2</td>\n",
       "      <td>64.3</td>\n",
       "      <td>94.3</td>\n",
       "      <td>15,596</td>\n",
       "      <td>7.8</td>\n",
       "      <td>22%</td>\n",
       "      <td>42 : 58</td>\n",
       "      <td>2011</td>\n",
       "    </tr>\n",
       "    <tr>\n",
       "      <th>4</th>\n",
       "      <td>5</td>\n",
       "      <td>Princeton University</td>\n",
       "      <td>United States of America</td>\n",
       "      <td>90.9</td>\n",
       "      <td>70.3</td>\n",
       "      <td>95.4</td>\n",
       "      <td>99.9</td>\n",
       "      <td>-</td>\n",
       "      <td>94.2</td>\n",
       "      <td>7,929</td>\n",
       "      <td>8.4</td>\n",
       "      <td>27%</td>\n",
       "      <td>45 : 55</td>\n",
       "      <td>2011</td>\n",
       "    </tr>\n",
       "  </tbody>\n",
       "</table>\n",
       "</div>"
      ],
      "text/plain": [
       "  world_rank                        university_name                   country  \\\n",
       "0          1                     Harvard University  United States of America   \n",
       "1          2     California Institute of Technology  United States of America   \n",
       "2          3  Massachusetts Institute of Technology  United States of America   \n",
       "3          4                    Stanford University  United States of America   \n",
       "4          5                   Princeton University  United States of America   \n",
       "\n",
       "   teaching international  research  citations income total_score  \\\n",
       "0      99.7          72.4      98.7       98.8   34.5        96.1   \n",
       "1      97.7          54.6      98.0       99.9   83.7        96.0   \n",
       "2      97.8          82.3      91.4       99.9   87.5        95.6   \n",
       "3      98.3          29.5      98.1       99.2   64.3        94.3   \n",
       "4      90.9          70.3      95.4       99.9      -        94.2   \n",
       "\n",
       "  num_students  student_staff_ratio international_students female_male_ratio  \\\n",
       "0       20,152                  8.9                    25%               NaN   \n",
       "1        2,243                  6.9                    27%           33 : 67   \n",
       "2       11,074                  9.0                    33%           37 : 63   \n",
       "3       15,596                  7.8                    22%           42 : 58   \n",
       "4        7,929                  8.4                    27%           45 : 55   \n",
       "\n",
       "   year  \n",
       "0  2011  \n",
       "1  2011  \n",
       "2  2011  \n",
       "3  2011  \n",
       "4  2011  "
      ]
     },
     "execution_count": 2,
     "metadata": {},
     "output_type": "execute_result"
    }
   ],
   "source": [
    "times = pd.read_csv('dataset_progetto/timesData.csv')\n",
    "times.head()"
   ]
  },
  {
   "cell_type": "markdown",
   "metadata": {
    "id": "uwwy3iwDWixS"
   },
   "source": [
    "Viene creato il dataset `times_min` per immagazzinare i dati meno recenti:\n",
    "(viene usata la funzione `loc` in quanto si accede ai dati tramite una *label* specifica) "
   ]
  },
  {
   "cell_type": "code",
   "execution_count": 3,
   "metadata": {
    "colab": {
     "base_uri": "https://localhost:8080/",
     "height": 600
    },
    "id": "z_IAbXyaWixU",
    "outputId": "49b66c40-b7b8-46f2-e8c6-b8ca7fab7485",
    "scrolled": true
   },
   "outputs": [
    {
     "data": {
      "text/html": [
       "<div>\n",
       "<style scoped>\n",
       "    .dataframe tbody tr th:only-of-type {\n",
       "        vertical-align: middle;\n",
       "    }\n",
       "\n",
       "    .dataframe tbody tr th {\n",
       "        vertical-align: top;\n",
       "    }\n",
       "\n",
       "    .dataframe thead th {\n",
       "        text-align: right;\n",
       "    }\n",
       "</style>\n",
       "<table border=\"1\" class=\"dataframe\">\n",
       "  <thead>\n",
       "    <tr style=\"text-align: right;\">\n",
       "      <th></th>\n",
       "      <th>world_rank</th>\n",
       "      <th>university_name</th>\n",
       "      <th>country</th>\n",
       "      <th>teaching</th>\n",
       "      <th>international</th>\n",
       "      <th>research</th>\n",
       "      <th>citations</th>\n",
       "      <th>income</th>\n",
       "      <th>total_score</th>\n",
       "      <th>num_students</th>\n",
       "      <th>student_staff_ratio</th>\n",
       "      <th>international_students</th>\n",
       "      <th>female_male_ratio</th>\n",
       "      <th>year</th>\n",
       "    </tr>\n",
       "  </thead>\n",
       "  <tbody>\n",
       "    <tr>\n",
       "      <th>2405</th>\n",
       "      <td>601-800</td>\n",
       "      <td>AGH University of Science and Technology</td>\n",
       "      <td>Poland</td>\n",
       "      <td>14.2</td>\n",
       "      <td>17.9</td>\n",
       "      <td>3.7</td>\n",
       "      <td>35.7</td>\n",
       "      <td>-</td>\n",
       "      <td>-</td>\n",
       "      <td>35,569</td>\n",
       "      <td>17.0</td>\n",
       "      <td>1%</td>\n",
       "      <td>-</td>\n",
       "      <td>2016</td>\n",
       "    </tr>\n",
       "    <tr>\n",
       "      <th>501</th>\n",
       "      <td>301-350</td>\n",
       "      <td>Aalborg University</td>\n",
       "      <td>Denmark</td>\n",
       "      <td>19.0</td>\n",
       "      <td>75.3</td>\n",
       "      <td>20.0</td>\n",
       "      <td>27.1</td>\n",
       "      <td>36.4</td>\n",
       "      <td>-</td>\n",
       "      <td>17,422</td>\n",
       "      <td>15.9</td>\n",
       "      <td>15%</td>\n",
       "      <td>48 : 52</td>\n",
       "      <td>2012</td>\n",
       "    </tr>\n",
       "    <tr>\n",
       "      <th>502</th>\n",
       "      <td>301-350</td>\n",
       "      <td>Aalto University</td>\n",
       "      <td>Finland</td>\n",
       "      <td>26.2</td>\n",
       "      <td>49.0</td>\n",
       "      <td>22.2</td>\n",
       "      <td>37.5</td>\n",
       "      <td>61.9</td>\n",
       "      <td>-</td>\n",
       "      <td>16,099</td>\n",
       "      <td>24.2</td>\n",
       "      <td>17%</td>\n",
       "      <td>32 : 68</td>\n",
       "      <td>2012</td>\n",
       "    </tr>\n",
       "    <tr>\n",
       "      <th>166</th>\n",
       "      <td>167</td>\n",
       "      <td>Aarhus University</td>\n",
       "      <td>Denmark</td>\n",
       "      <td>38.1</td>\n",
       "      <td>33.4</td>\n",
       "      <td>55.6</td>\n",
       "      <td>57.3</td>\n",
       "      <td>61.5</td>\n",
       "      <td>49.9</td>\n",
       "      <td>23,895</td>\n",
       "      <td>13.6</td>\n",
       "      <td>14%</td>\n",
       "      <td>54 : 46</td>\n",
       "      <td>2011</td>\n",
       "    </tr>\n",
       "    <tr>\n",
       "      <th>476</th>\n",
       "      <td>276-300</td>\n",
       "      <td>Aberystwyth University</td>\n",
       "      <td>United Kingdom</td>\n",
       "      <td>19.8</td>\n",
       "      <td>63.8</td>\n",
       "      <td>15.5</td>\n",
       "      <td>56.6</td>\n",
       "      <td>35.5</td>\n",
       "      <td>-</td>\n",
       "      <td>9,252</td>\n",
       "      <td>19.2</td>\n",
       "      <td>18%</td>\n",
       "      <td>48 : 52</td>\n",
       "      <td>2012</td>\n",
       "    </tr>\n",
       "    <tr>\n",
       "      <th>...</th>\n",
       "      <td>...</td>\n",
       "      <td>...</td>\n",
       "      <td>...</td>\n",
       "      <td>...</td>\n",
       "      <td>...</td>\n",
       "      <td>...</td>\n",
       "      <td>...</td>\n",
       "      <td>...</td>\n",
       "      <td>...</td>\n",
       "      <td>...</td>\n",
       "      <td>...</td>\n",
       "      <td>...</td>\n",
       "      <td>...</td>\n",
       "      <td>...</td>\n",
       "    </tr>\n",
       "    <tr>\n",
       "      <th>41</th>\n",
       "      <td>42</td>\n",
       "      <td>École Normale Supérieure</td>\n",
       "      <td>France</td>\n",
       "      <td>66.8</td>\n",
       "      <td>44.9</td>\n",
       "      <td>48.2</td>\n",
       "      <td>95.7</td>\n",
       "      <td>30.7</td>\n",
       "      <td>68.6</td>\n",
       "      <td>2,400</td>\n",
       "      <td>7.9</td>\n",
       "      <td>20%</td>\n",
       "      <td>46 : 54</td>\n",
       "      <td>2011</td>\n",
       "    </tr>\n",
       "    <tr>\n",
       "      <th>99</th>\n",
       "      <td>100</td>\n",
       "      <td>École Normale Supérieure de Lyon</td>\n",
       "      <td>France</td>\n",
       "      <td>51.1</td>\n",
       "      <td>37.6</td>\n",
       "      <td>34.4</td>\n",
       "      <td>88.8</td>\n",
       "      <td>26.1</td>\n",
       "      <td>57.0</td>\n",
       "      <td>2,218</td>\n",
       "      <td>8.0</td>\n",
       "      <td>14%</td>\n",
       "      <td>49 : 51</td>\n",
       "      <td>2011</td>\n",
       "    </tr>\n",
       "    <tr>\n",
       "      <th>38</th>\n",
       "      <td>39</td>\n",
       "      <td>École Polytechnique</td>\n",
       "      <td>France</td>\n",
       "      <td>57.9</td>\n",
       "      <td>77.9</td>\n",
       "      <td>56.1</td>\n",
       "      <td>91.4</td>\n",
       "      <td>-</td>\n",
       "      <td>69.5</td>\n",
       "      <td>2,429</td>\n",
       "      <td>4.8</td>\n",
       "      <td>30%</td>\n",
       "      <td>18 : 82</td>\n",
       "      <td>2011</td>\n",
       "    </tr>\n",
       "    <tr>\n",
       "      <th>47</th>\n",
       "      <td>48</td>\n",
       "      <td>École Polytechnique Fédérale de Lausanne</td>\n",
       "      <td>Switzerland</td>\n",
       "      <td>55.0</td>\n",
       "      <td>100.0</td>\n",
       "      <td>56.1</td>\n",
       "      <td>83.8</td>\n",
       "      <td>38.0</td>\n",
       "      <td>66.5</td>\n",
       "      <td>9,666</td>\n",
       "      <td>10.5</td>\n",
       "      <td>54%</td>\n",
       "      <td>27 : 73</td>\n",
       "      <td>2011</td>\n",
       "    </tr>\n",
       "    <tr>\n",
       "      <th>2134</th>\n",
       "      <td>301-350</td>\n",
       "      <td>Örebro University</td>\n",
       "      <td>Sweden</td>\n",
       "      <td>18.3</td>\n",
       "      <td>39.4</td>\n",
       "      <td>10.4</td>\n",
       "      <td>87.8</td>\n",
       "      <td>29.8</td>\n",
       "      <td>-</td>\n",
       "      <td>8,788</td>\n",
       "      <td>15.8</td>\n",
       "      <td>2%</td>\n",
       "      <td>61 : 39</td>\n",
       "      <td>2016</td>\n",
       "    </tr>\n",
       "  </tbody>\n",
       "</table>\n",
       "<p>818 rows × 14 columns</p>\n",
       "</div>"
      ],
      "text/plain": [
       "     world_rank                           university_name         country  \\\n",
       "2405    601-800  AGH University of Science and Technology          Poland   \n",
       "501     301-350                        Aalborg University         Denmark   \n",
       "502     301-350                          Aalto University         Finland   \n",
       "166         167                         Aarhus University         Denmark   \n",
       "476     276-300                    Aberystwyth University  United Kingdom   \n",
       "...         ...                                       ...             ...   \n",
       "41           42                  École Normale Supérieure          France   \n",
       "99          100          École Normale Supérieure de Lyon          France   \n",
       "38           39                       École Polytechnique          France   \n",
       "47           48  École Polytechnique Fédérale de Lausanne     Switzerland   \n",
       "2134    301-350                         Örebro University          Sweden   \n",
       "\n",
       "      teaching international  research  citations income total_score  \\\n",
       "2405      14.2          17.9       3.7       35.7      -           -   \n",
       "501       19.0          75.3      20.0       27.1   36.4           -   \n",
       "502       26.2          49.0      22.2       37.5   61.9           -   \n",
       "166       38.1          33.4      55.6       57.3   61.5        49.9   \n",
       "476       19.8          63.8      15.5       56.6   35.5           -   \n",
       "...        ...           ...       ...        ...    ...         ...   \n",
       "41        66.8          44.9      48.2       95.7   30.7        68.6   \n",
       "99        51.1          37.6      34.4       88.8   26.1        57.0   \n",
       "38        57.9          77.9      56.1       91.4      -        69.5   \n",
       "47        55.0         100.0      56.1       83.8   38.0        66.5   \n",
       "2134      18.3          39.4      10.4       87.8   29.8           -   \n",
       "\n",
       "     num_students  student_staff_ratio international_students  \\\n",
       "2405       35,569                 17.0                     1%   \n",
       "501        17,422                 15.9                    15%   \n",
       "502        16,099                 24.2                    17%   \n",
       "166        23,895                 13.6                    14%   \n",
       "476         9,252                 19.2                    18%   \n",
       "...           ...                  ...                    ...   \n",
       "41          2,400                  7.9                    20%   \n",
       "99          2,218                  8.0                    14%   \n",
       "38          2,429                  4.8                    30%   \n",
       "47          9,666                 10.5                    54%   \n",
       "2134        8,788                 15.8                     2%   \n",
       "\n",
       "     female_male_ratio  year  \n",
       "2405                 -  2016  \n",
       "501            48 : 52  2012  \n",
       "502            32 : 68  2012  \n",
       "166            54 : 46  2011  \n",
       "476            48 : 52  2012  \n",
       "...                ...   ...  \n",
       "41             46 : 54  2011  \n",
       "99             49 : 51  2011  \n",
       "38             18 : 82  2011  \n",
       "47             27 : 73  2011  \n",
       "2134           61 : 39  2016  \n",
       "\n",
       "[818 rows x 14 columns]"
      ]
     },
     "execution_count": 3,
     "metadata": {},
     "output_type": "execute_result"
    }
   ],
   "source": [
    "times_min = times.loc[times.groupby('university_name')['year'].idxmin()]\n",
    "times_min"
   ]
  },
  {
   "cell_type": "markdown",
   "metadata": {
    "id": "UGIxkhS-WixX"
   },
   "source": [
    "Viene creato il dataset `times_max` per immagazzinare i dati più recenti:"
   ]
  },
  {
   "cell_type": "code",
   "execution_count": 4,
   "metadata": {
    "colab": {
     "base_uri": "https://localhost:8080/",
     "height": 600
    },
    "id": "HMDQi9gLWixe",
    "outputId": "649917a6-530c-4e6e-9ab6-aa3532385394",
    "scrolled": true
   },
   "outputs": [
    {
     "data": {
      "text/html": [
       "<div>\n",
       "<style scoped>\n",
       "    .dataframe tbody tr th:only-of-type {\n",
       "        vertical-align: middle;\n",
       "    }\n",
       "\n",
       "    .dataframe tbody tr th {\n",
       "        vertical-align: top;\n",
       "    }\n",
       "\n",
       "    .dataframe thead th {\n",
       "        text-align: right;\n",
       "    }\n",
       "</style>\n",
       "<table border=\"1\" class=\"dataframe\">\n",
       "  <thead>\n",
       "    <tr style=\"text-align: right;\">\n",
       "      <th></th>\n",
       "      <th>world_rank</th>\n",
       "      <th>university_name</th>\n",
       "      <th>country</th>\n",
       "      <th>teaching</th>\n",
       "      <th>international</th>\n",
       "      <th>research</th>\n",
       "      <th>citations</th>\n",
       "      <th>income</th>\n",
       "      <th>total_score</th>\n",
       "      <th>num_students</th>\n",
       "      <th>student_staff_ratio</th>\n",
       "      <th>international_students</th>\n",
       "      <th>female_male_ratio</th>\n",
       "      <th>year</th>\n",
       "    </tr>\n",
       "  </thead>\n",
       "  <tbody>\n",
       "    <tr>\n",
       "      <th>2405</th>\n",
       "      <td>601-800</td>\n",
       "      <td>AGH University of Science and Technology</td>\n",
       "      <td>Poland</td>\n",
       "      <td>14.2</td>\n",
       "      <td>17.9</td>\n",
       "      <td>3.7</td>\n",
       "      <td>35.7</td>\n",
       "      <td>-</td>\n",
       "      <td>-</td>\n",
       "      <td>35,569</td>\n",
       "      <td>17.0</td>\n",
       "      <td>1%</td>\n",
       "      <td>-</td>\n",
       "      <td>2016</td>\n",
       "    </tr>\n",
       "    <tr>\n",
       "      <th>2003</th>\n",
       "      <td>201-250</td>\n",
       "      <td>Aalborg University</td>\n",
       "      <td>Denmark</td>\n",
       "      <td>25.1</td>\n",
       "      <td>71.0</td>\n",
       "      <td>28.4</td>\n",
       "      <td>73.8</td>\n",
       "      <td>43.7</td>\n",
       "      <td>-</td>\n",
       "      <td>17,422</td>\n",
       "      <td>15.9</td>\n",
       "      <td>15%</td>\n",
       "      <td>48 : 52</td>\n",
       "      <td>2016</td>\n",
       "    </tr>\n",
       "    <tr>\n",
       "      <th>2056</th>\n",
       "      <td>251-300</td>\n",
       "      <td>Aalto University</td>\n",
       "      <td>Finland</td>\n",
       "      <td>31.1</td>\n",
       "      <td>65.4</td>\n",
       "      <td>32.8</td>\n",
       "      <td>62.1</td>\n",
       "      <td>61.6</td>\n",
       "      <td>-</td>\n",
       "      <td>16,099</td>\n",
       "      <td>24.2</td>\n",
       "      <td>17%</td>\n",
       "      <td>32 : 68</td>\n",
       "      <td>2016</td>\n",
       "    </tr>\n",
       "    <tr>\n",
       "      <th>1908</th>\n",
       "      <td>=106</td>\n",
       "      <td>Aarhus University</td>\n",
       "      <td>Denmark</td>\n",
       "      <td>36.9</td>\n",
       "      <td>76.8</td>\n",
       "      <td>50.7</td>\n",
       "      <td>79.8</td>\n",
       "      <td>68.3</td>\n",
       "      <td>57.7</td>\n",
       "      <td>23,895</td>\n",
       "      <td>13.6</td>\n",
       "      <td>14%</td>\n",
       "      <td>54 : 46</td>\n",
       "      <td>2016</td>\n",
       "    </tr>\n",
       "    <tr>\n",
       "      <th>2105</th>\n",
       "      <td>301-350</td>\n",
       "      <td>Aberystwyth University</td>\n",
       "      <td>United Kingdom</td>\n",
       "      <td>21.6</td>\n",
       "      <td>72.2</td>\n",
       "      <td>18.9</td>\n",
       "      <td>67.2</td>\n",
       "      <td>31.3</td>\n",
       "      <td>-</td>\n",
       "      <td>9,252</td>\n",
       "      <td>19.2</td>\n",
       "      <td>18%</td>\n",
       "      <td>48 : 52</td>\n",
       "      <td>2016</td>\n",
       "    </tr>\n",
       "    <tr>\n",
       "      <th>...</th>\n",
       "      <td>...</td>\n",
       "      <td>...</td>\n",
       "      <td>...</td>\n",
       "      <td>...</td>\n",
       "      <td>...</td>\n",
       "      <td>...</td>\n",
       "      <td>...</td>\n",
       "      <td>...</td>\n",
       "      <td>...</td>\n",
       "      <td>...</td>\n",
       "      <td>...</td>\n",
       "      <td>...</td>\n",
       "      <td>...</td>\n",
       "      <td>...</td>\n",
       "    </tr>\n",
       "    <tr>\n",
       "      <th>1856</th>\n",
       "      <td>54</td>\n",
       "      <td>École Normale Supérieure</td>\n",
       "      <td>France</td>\n",
       "      <td>70.6</td>\n",
       "      <td>85.5</td>\n",
       "      <td>47.7</td>\n",
       "      <td>87.1</td>\n",
       "      <td>37.1</td>\n",
       "      <td>69.0</td>\n",
       "      <td>2,400</td>\n",
       "      <td>7.9</td>\n",
       "      <td>20%</td>\n",
       "      <td>46 : 54</td>\n",
       "      <td>2016</td>\n",
       "    </tr>\n",
       "    <tr>\n",
       "      <th>2013</th>\n",
       "      <td>201-250</td>\n",
       "      <td>École Normale Supérieure de Lyon</td>\n",
       "      <td>France</td>\n",
       "      <td>41.6</td>\n",
       "      <td>65.6</td>\n",
       "      <td>30.0</td>\n",
       "      <td>69.0</td>\n",
       "      <td>31.7</td>\n",
       "      <td>-</td>\n",
       "      <td>2,218</td>\n",
       "      <td>8.0</td>\n",
       "      <td>14%</td>\n",
       "      <td>49 : 51</td>\n",
       "      <td>2016</td>\n",
       "    </tr>\n",
       "    <tr>\n",
       "      <th>1904</th>\n",
       "      <td>=101</td>\n",
       "      <td>École Polytechnique</td>\n",
       "      <td>France</td>\n",
       "      <td>53.5</td>\n",
       "      <td>92.8</td>\n",
       "      <td>44.6</td>\n",
       "      <td>64.7</td>\n",
       "      <td>82.3</td>\n",
       "      <td>57.9</td>\n",
       "      <td>2,429</td>\n",
       "      <td>4.8</td>\n",
       "      <td>30%</td>\n",
       "      <td>18 : 82</td>\n",
       "      <td>2016</td>\n",
       "    </tr>\n",
       "    <tr>\n",
       "      <th>1833</th>\n",
       "      <td>31</td>\n",
       "      <td>École Polytechnique Fédérale de Lausanne</td>\n",
       "      <td>Switzerland</td>\n",
       "      <td>61.3</td>\n",
       "      <td>98.6</td>\n",
       "      <td>67.5</td>\n",
       "      <td>94.6</td>\n",
       "      <td>65.4</td>\n",
       "      <td>76.1</td>\n",
       "      <td>9,666</td>\n",
       "      <td>10.5</td>\n",
       "      <td>54%</td>\n",
       "      <td>27 : 73</td>\n",
       "      <td>2016</td>\n",
       "    </tr>\n",
       "    <tr>\n",
       "      <th>2134</th>\n",
       "      <td>301-350</td>\n",
       "      <td>Örebro University</td>\n",
       "      <td>Sweden</td>\n",
       "      <td>18.3</td>\n",
       "      <td>39.4</td>\n",
       "      <td>10.4</td>\n",
       "      <td>87.8</td>\n",
       "      <td>29.8</td>\n",
       "      <td>-</td>\n",
       "      <td>8,788</td>\n",
       "      <td>15.8</td>\n",
       "      <td>2%</td>\n",
       "      <td>61 : 39</td>\n",
       "      <td>2016</td>\n",
       "    </tr>\n",
       "  </tbody>\n",
       "</table>\n",
       "<p>818 rows × 14 columns</p>\n",
       "</div>"
      ],
      "text/plain": [
       "     world_rank                           university_name         country  \\\n",
       "2405    601-800  AGH University of Science and Technology          Poland   \n",
       "2003    201-250                        Aalborg University         Denmark   \n",
       "2056    251-300                          Aalto University         Finland   \n",
       "1908       =106                         Aarhus University         Denmark   \n",
       "2105    301-350                    Aberystwyth University  United Kingdom   \n",
       "...         ...                                       ...             ...   \n",
       "1856         54                  École Normale Supérieure          France   \n",
       "2013    201-250          École Normale Supérieure de Lyon          France   \n",
       "1904       =101                       École Polytechnique          France   \n",
       "1833         31  École Polytechnique Fédérale de Lausanne     Switzerland   \n",
       "2134    301-350                         Örebro University          Sweden   \n",
       "\n",
       "      teaching international  research  citations income total_score  \\\n",
       "2405      14.2          17.9       3.7       35.7      -           -   \n",
       "2003      25.1          71.0      28.4       73.8   43.7           -   \n",
       "2056      31.1          65.4      32.8       62.1   61.6           -   \n",
       "1908      36.9          76.8      50.7       79.8   68.3        57.7   \n",
       "2105      21.6          72.2      18.9       67.2   31.3           -   \n",
       "...        ...           ...       ...        ...    ...         ...   \n",
       "1856      70.6          85.5      47.7       87.1   37.1        69.0   \n",
       "2013      41.6          65.6      30.0       69.0   31.7           -   \n",
       "1904      53.5          92.8      44.6       64.7   82.3        57.9   \n",
       "1833      61.3          98.6      67.5       94.6   65.4        76.1   \n",
       "2134      18.3          39.4      10.4       87.8   29.8           -   \n",
       "\n",
       "     num_students  student_staff_ratio international_students  \\\n",
       "2405       35,569                 17.0                     1%   \n",
       "2003       17,422                 15.9                    15%   \n",
       "2056       16,099                 24.2                    17%   \n",
       "1908       23,895                 13.6                    14%   \n",
       "2105        9,252                 19.2                    18%   \n",
       "...           ...                  ...                    ...   \n",
       "1856        2,400                  7.9                    20%   \n",
       "2013        2,218                  8.0                    14%   \n",
       "1904        2,429                  4.8                    30%   \n",
       "1833        9,666                 10.5                    54%   \n",
       "2134        8,788                 15.8                     2%   \n",
       "\n",
       "     female_male_ratio  year  \n",
       "2405                 -  2016  \n",
       "2003           48 : 52  2016  \n",
       "2056           32 : 68  2016  \n",
       "1908           54 : 46  2016  \n",
       "2105           48 : 52  2016  \n",
       "...                ...   ...  \n",
       "1856           46 : 54  2016  \n",
       "2013           49 : 51  2016  \n",
       "1904           18 : 82  2016  \n",
       "1833           27 : 73  2016  \n",
       "2134           61 : 39  2016  \n",
       "\n",
       "[818 rows x 14 columns]"
      ]
     },
     "execution_count": 4,
     "metadata": {},
     "output_type": "execute_result"
    }
   ],
   "source": [
    "# new dataset with most recent data for each university\n",
    "times_max = times.loc[times.groupby('university_name')['year'].idxmax()]\n",
    "times_max"
   ]
  },
  {
   "cell_type": "markdown",
   "metadata": {
    "id": "uxs-RaXkWixj"
   },
   "source": [
    "### 2. For each university, compute the improvement in income between the least recent and the most recent data points"
   ]
  },
  {
   "cell_type": "markdown",
   "metadata": {
    "id": "WKC8T3vIWixl"
   },
   "source": [
    "La colonna `income` presenta molti valori `-` che verranno considerati come valori nulli o mancanti. In questo caso si è deciso di escluderli dal computo delle differenze per considerare solamente quelle università che presentavano sia nel dataset dei valori minimi che nel dataset dei valori massimi, valori non mancanti per permettere il calcolo della differenza effettiva.\n",
    "\n",
    "Si crea un dataset unico che contenga quindi i valori di `times_min` e di `times_max`."
   ]
  },
  {
   "cell_type": "code",
   "execution_count": 5,
   "metadata": {
    "colab": {
     "base_uri": "https://localhost:8080/",
     "height": 278
    },
    "id": "ontizKQvWixm",
    "outputId": "819a8111-8567-41cb-8fd4-78e5a4c0bfc3"
   },
   "outputs": [
    {
     "data": {
      "text/html": [
       "<div>\n",
       "<style scoped>\n",
       "    .dataframe tbody tr th:only-of-type {\n",
       "        vertical-align: middle;\n",
       "    }\n",
       "\n",
       "    .dataframe tbody tr th {\n",
       "        vertical-align: top;\n",
       "    }\n",
       "\n",
       "    .dataframe thead th {\n",
       "        text-align: right;\n",
       "    }\n",
       "</style>\n",
       "<table border=\"1\" class=\"dataframe\">\n",
       "  <thead>\n",
       "    <tr style=\"text-align: right;\">\n",
       "      <th></th>\n",
       "      <th>world_rank_min</th>\n",
       "      <th>university_name</th>\n",
       "      <th>country_min</th>\n",
       "      <th>teaching_min</th>\n",
       "      <th>international_min</th>\n",
       "      <th>research_min</th>\n",
       "      <th>citations_min</th>\n",
       "      <th>income_min</th>\n",
       "      <th>total_score_min</th>\n",
       "      <th>num_students_min</th>\n",
       "      <th>...</th>\n",
       "      <th>international_max</th>\n",
       "      <th>research_max</th>\n",
       "      <th>citations_max</th>\n",
       "      <th>income_max</th>\n",
       "      <th>total_score_max</th>\n",
       "      <th>num_students_max</th>\n",
       "      <th>student_staff_ratio_max</th>\n",
       "      <th>international_students_max</th>\n",
       "      <th>female_male_ratio_max</th>\n",
       "      <th>year_max</th>\n",
       "    </tr>\n",
       "  </thead>\n",
       "  <tbody>\n",
       "    <tr>\n",
       "      <th>0</th>\n",
       "      <td>601-800</td>\n",
       "      <td>AGH University of Science and Technology</td>\n",
       "      <td>Poland</td>\n",
       "      <td>14.2</td>\n",
       "      <td>17.9</td>\n",
       "      <td>3.7</td>\n",
       "      <td>35.7</td>\n",
       "      <td>-</td>\n",
       "      <td>-</td>\n",
       "      <td>35,569</td>\n",
       "      <td>...</td>\n",
       "      <td>17.9</td>\n",
       "      <td>3.7</td>\n",
       "      <td>35.7</td>\n",
       "      <td>-</td>\n",
       "      <td>-</td>\n",
       "      <td>35,569</td>\n",
       "      <td>17.0</td>\n",
       "      <td>1%</td>\n",
       "      <td>-</td>\n",
       "      <td>2016</td>\n",
       "    </tr>\n",
       "    <tr>\n",
       "      <th>1</th>\n",
       "      <td>301-350</td>\n",
       "      <td>Aalborg University</td>\n",
       "      <td>Denmark</td>\n",
       "      <td>19.0</td>\n",
       "      <td>75.3</td>\n",
       "      <td>20.0</td>\n",
       "      <td>27.1</td>\n",
       "      <td>36.4</td>\n",
       "      <td>-</td>\n",
       "      <td>17,422</td>\n",
       "      <td>...</td>\n",
       "      <td>71.0</td>\n",
       "      <td>28.4</td>\n",
       "      <td>73.8</td>\n",
       "      <td>43.7</td>\n",
       "      <td>-</td>\n",
       "      <td>17,422</td>\n",
       "      <td>15.9</td>\n",
       "      <td>15%</td>\n",
       "      <td>48 : 52</td>\n",
       "      <td>2016</td>\n",
       "    </tr>\n",
       "    <tr>\n",
       "      <th>2</th>\n",
       "      <td>301-350</td>\n",
       "      <td>Aalto University</td>\n",
       "      <td>Finland</td>\n",
       "      <td>26.2</td>\n",
       "      <td>49.0</td>\n",
       "      <td>22.2</td>\n",
       "      <td>37.5</td>\n",
       "      <td>61.9</td>\n",
       "      <td>-</td>\n",
       "      <td>16,099</td>\n",
       "      <td>...</td>\n",
       "      <td>65.4</td>\n",
       "      <td>32.8</td>\n",
       "      <td>62.1</td>\n",
       "      <td>61.6</td>\n",
       "      <td>-</td>\n",
       "      <td>16,099</td>\n",
       "      <td>24.2</td>\n",
       "      <td>17%</td>\n",
       "      <td>32 : 68</td>\n",
       "      <td>2016</td>\n",
       "    </tr>\n",
       "    <tr>\n",
       "      <th>3</th>\n",
       "      <td>167</td>\n",
       "      <td>Aarhus University</td>\n",
       "      <td>Denmark</td>\n",
       "      <td>38.1</td>\n",
       "      <td>33.4</td>\n",
       "      <td>55.6</td>\n",
       "      <td>57.3</td>\n",
       "      <td>61.5</td>\n",
       "      <td>49.9</td>\n",
       "      <td>23,895</td>\n",
       "      <td>...</td>\n",
       "      <td>76.8</td>\n",
       "      <td>50.7</td>\n",
       "      <td>79.8</td>\n",
       "      <td>68.3</td>\n",
       "      <td>57.7</td>\n",
       "      <td>23,895</td>\n",
       "      <td>13.6</td>\n",
       "      <td>14%</td>\n",
       "      <td>54 : 46</td>\n",
       "      <td>2016</td>\n",
       "    </tr>\n",
       "    <tr>\n",
       "      <th>4</th>\n",
       "      <td>276-300</td>\n",
       "      <td>Aberystwyth University</td>\n",
       "      <td>United Kingdom</td>\n",
       "      <td>19.8</td>\n",
       "      <td>63.8</td>\n",
       "      <td>15.5</td>\n",
       "      <td>56.6</td>\n",
       "      <td>35.5</td>\n",
       "      <td>-</td>\n",
       "      <td>9,252</td>\n",
       "      <td>...</td>\n",
       "      <td>72.2</td>\n",
       "      <td>18.9</td>\n",
       "      <td>67.2</td>\n",
       "      <td>31.3</td>\n",
       "      <td>-</td>\n",
       "      <td>9,252</td>\n",
       "      <td>19.2</td>\n",
       "      <td>18%</td>\n",
       "      <td>48 : 52</td>\n",
       "      <td>2016</td>\n",
       "    </tr>\n",
       "  </tbody>\n",
       "</table>\n",
       "<p>5 rows × 27 columns</p>\n",
       "</div>"
      ],
      "text/plain": [
       "  world_rank_min                           university_name     country_min  \\\n",
       "0        601-800  AGH University of Science and Technology          Poland   \n",
       "1        301-350                        Aalborg University         Denmark   \n",
       "2        301-350                          Aalto University         Finland   \n",
       "3            167                         Aarhus University         Denmark   \n",
       "4        276-300                    Aberystwyth University  United Kingdom   \n",
       "\n",
       "   teaching_min international_min  research_min  citations_min income_min  \\\n",
       "0          14.2              17.9           3.7           35.7          -   \n",
       "1          19.0              75.3          20.0           27.1       36.4   \n",
       "2          26.2              49.0          22.2           37.5       61.9   \n",
       "3          38.1              33.4          55.6           57.3       61.5   \n",
       "4          19.8              63.8          15.5           56.6       35.5   \n",
       "\n",
       "  total_score_min num_students_min  ...  international_max research_max  \\\n",
       "0               -           35,569  ...               17.9          3.7   \n",
       "1               -           17,422  ...               71.0         28.4   \n",
       "2               -           16,099  ...               65.4         32.8   \n",
       "3            49.9           23,895  ...               76.8         50.7   \n",
       "4               -            9,252  ...               72.2         18.9   \n",
       "\n",
       "  citations_max  income_max total_score_max num_students_max  \\\n",
       "0          35.7           -               -           35,569   \n",
       "1          73.8        43.7               -           17,422   \n",
       "2          62.1        61.6               -           16,099   \n",
       "3          79.8        68.3            57.7           23,895   \n",
       "4          67.2        31.3               -            9,252   \n",
       "\n",
       "   student_staff_ratio_max international_students_max  female_male_ratio_max  \\\n",
       "0                     17.0                         1%                      -   \n",
       "1                     15.9                        15%                48 : 52   \n",
       "2                     24.2                        17%                32 : 68   \n",
       "3                     13.6                        14%                54 : 46   \n",
       "4                     19.2                        18%                48 : 52   \n",
       "\n",
       "   year_max  \n",
       "0      2016  \n",
       "1      2016  \n",
       "2      2016  \n",
       "3      2016  \n",
       "4      2016  \n",
       "\n",
       "[5 rows x 27 columns]"
      ]
     },
     "execution_count": 5,
     "metadata": {},
     "output_type": "execute_result"
    }
   ],
   "source": [
    "times_income = pd.merge(times_min, times_max, on='university_name', suffixes=('_min', '_max'))\n",
    "times_income.head()"
   ]
  },
  {
   "cell_type": "markdown",
   "metadata": {
    "id": "BQVDgW1pWixm"
   },
   "source": [
    "Da quest'ultimo si estraggono solo quelle colonne di interesse:"
   ]
  },
  {
   "cell_type": "code",
   "execution_count": 6,
   "metadata": {
    "colab": {
     "base_uri": "https://localhost:8080/",
     "height": 206
    },
    "id": "ikXGrzVQWixn",
    "outputId": "4e96669a-febc-450f-f805-9fb0204e5add",
    "scrolled": true
   },
   "outputs": [
    {
     "data": {
      "text/html": [
       "<div>\n",
       "<style scoped>\n",
       "    .dataframe tbody tr th:only-of-type {\n",
       "        vertical-align: middle;\n",
       "    }\n",
       "\n",
       "    .dataframe tbody tr th {\n",
       "        vertical-align: top;\n",
       "    }\n",
       "\n",
       "    .dataframe thead th {\n",
       "        text-align: right;\n",
       "    }\n",
       "</style>\n",
       "<table border=\"1\" class=\"dataframe\">\n",
       "  <thead>\n",
       "    <tr style=\"text-align: right;\">\n",
       "      <th></th>\n",
       "      <th>university_name</th>\n",
       "      <th>income_min</th>\n",
       "      <th>income_max</th>\n",
       "    </tr>\n",
       "  </thead>\n",
       "  <tbody>\n",
       "    <tr>\n",
       "      <th>0</th>\n",
       "      <td>AGH University of Science and Technology</td>\n",
       "      <td>-</td>\n",
       "      <td>-</td>\n",
       "    </tr>\n",
       "    <tr>\n",
       "      <th>1</th>\n",
       "      <td>Aalborg University</td>\n",
       "      <td>36.4</td>\n",
       "      <td>43.7</td>\n",
       "    </tr>\n",
       "    <tr>\n",
       "      <th>2</th>\n",
       "      <td>Aalto University</td>\n",
       "      <td>61.9</td>\n",
       "      <td>61.6</td>\n",
       "    </tr>\n",
       "    <tr>\n",
       "      <th>3</th>\n",
       "      <td>Aarhus University</td>\n",
       "      <td>61.5</td>\n",
       "      <td>68.3</td>\n",
       "    </tr>\n",
       "    <tr>\n",
       "      <th>4</th>\n",
       "      <td>Aberystwyth University</td>\n",
       "      <td>35.5</td>\n",
       "      <td>31.3</td>\n",
       "    </tr>\n",
       "  </tbody>\n",
       "</table>\n",
       "</div>"
      ],
      "text/plain": [
       "                            university_name income_min income_max\n",
       "0  AGH University of Science and Technology          -          -\n",
       "1                        Aalborg University       36.4       43.7\n",
       "2                          Aalto University       61.9       61.6\n",
       "3                         Aarhus University       61.5       68.3\n",
       "4                    Aberystwyth University       35.5       31.3"
      ]
     },
     "execution_count": 6,
     "metadata": {},
     "output_type": "execute_result"
    }
   ],
   "source": [
    "times_income = times_income[['university_name', 'income_min', 'income_max']]\n",
    "times_income.head()"
   ]
  },
  {
   "cell_type": "markdown",
   "metadata": {
    "id": "bIiK3iCKWixs"
   },
   "source": [
    "Si decide di prendere quindi in considerazione solamente gli elementi non contenenti il dash (`-`) per poter poi calcolare le differenze dei valori."
   ]
  },
  {
   "cell_type": "code",
   "execution_count": 7,
   "metadata": {
    "colab": {
     "base_uri": "https://localhost:8080/",
     "height": 424
    },
    "id": "07_VMU-kWixu",
    "outputId": "f1e02373-3f5c-415c-badf-f6f29b59408b"
   },
   "outputs": [
    {
     "data": {
      "text/html": [
       "<div>\n",
       "<style scoped>\n",
       "    .dataframe tbody tr th:only-of-type {\n",
       "        vertical-align: middle;\n",
       "    }\n",
       "\n",
       "    .dataframe tbody tr th {\n",
       "        vertical-align: top;\n",
       "    }\n",
       "\n",
       "    .dataframe thead th {\n",
       "        text-align: right;\n",
       "    }\n",
       "</style>\n",
       "<table border=\"1\" class=\"dataframe\">\n",
       "  <thead>\n",
       "    <tr style=\"text-align: right;\">\n",
       "      <th></th>\n",
       "      <th>university_name</th>\n",
       "      <th>income_min</th>\n",
       "      <th>income_max</th>\n",
       "    </tr>\n",
       "  </thead>\n",
       "  <tbody>\n",
       "    <tr>\n",
       "      <th>1</th>\n",
       "      <td>Aalborg University</td>\n",
       "      <td>36.4</td>\n",
       "      <td>43.7</td>\n",
       "    </tr>\n",
       "    <tr>\n",
       "      <th>2</th>\n",
       "      <td>Aalto University</td>\n",
       "      <td>61.9</td>\n",
       "      <td>61.6</td>\n",
       "    </tr>\n",
       "    <tr>\n",
       "      <th>3</th>\n",
       "      <td>Aarhus University</td>\n",
       "      <td>61.5</td>\n",
       "      <td>68.3</td>\n",
       "    </tr>\n",
       "    <tr>\n",
       "      <th>4</th>\n",
       "      <td>Aberystwyth University</td>\n",
       "      <td>35.5</td>\n",
       "      <td>31.3</td>\n",
       "    </tr>\n",
       "    <tr>\n",
       "      <th>5</th>\n",
       "      <td>Adam Mickiewicz University</td>\n",
       "      <td>28.7</td>\n",
       "      <td>28.7</td>\n",
       "    </tr>\n",
       "    <tr>\n",
       "      <th>...</th>\n",
       "      <td>...</td>\n",
       "      <td>...</td>\n",
       "      <td>...</td>\n",
       "    </tr>\n",
       "    <tr>\n",
       "      <th>812</th>\n",
       "      <td>Zhejiang University</td>\n",
       "      <td>70.3</td>\n",
       "      <td>96.2</td>\n",
       "    </tr>\n",
       "    <tr>\n",
       "      <th>813</th>\n",
       "      <td>École Normale Supérieure</td>\n",
       "      <td>30.7</td>\n",
       "      <td>37.1</td>\n",
       "    </tr>\n",
       "    <tr>\n",
       "      <th>814</th>\n",
       "      <td>École Normale Supérieure de Lyon</td>\n",
       "      <td>26.1</td>\n",
       "      <td>31.7</td>\n",
       "    </tr>\n",
       "    <tr>\n",
       "      <th>816</th>\n",
       "      <td>École Polytechnique Fédérale de Lausanne</td>\n",
       "      <td>38.0</td>\n",
       "      <td>65.4</td>\n",
       "    </tr>\n",
       "    <tr>\n",
       "      <th>817</th>\n",
       "      <td>Örebro University</td>\n",
       "      <td>29.8</td>\n",
       "      <td>29.8</td>\n",
       "    </tr>\n",
       "  </tbody>\n",
       "</table>\n",
       "<p>704 rows × 3 columns</p>\n",
       "</div>"
      ],
      "text/plain": [
       "                              university_name income_min income_max\n",
       "1                          Aalborg University       36.4       43.7\n",
       "2                            Aalto University       61.9       61.6\n",
       "3                           Aarhus University       61.5       68.3\n",
       "4                      Aberystwyth University       35.5       31.3\n",
       "5                  Adam Mickiewicz University       28.7       28.7\n",
       "..                                        ...        ...        ...\n",
       "812                       Zhejiang University       70.3       96.2\n",
       "813                  École Normale Supérieure       30.7       37.1\n",
       "814          École Normale Supérieure de Lyon       26.1       31.7\n",
       "816  École Polytechnique Fédérale de Lausanne       38.0       65.4\n",
       "817                         Örebro University       29.8       29.8\n",
       "\n",
       "[704 rows x 3 columns]"
      ]
     },
     "execution_count": 7,
     "metadata": {},
     "output_type": "execute_result"
    }
   ],
   "source": [
    "times_income = times_income[(~times_income['income_min'].str.contains('-')) & (~times_income['income_max'].str.contains('-'))]\n",
    "times_income"
   ]
  },
  {
   "cell_type": "markdown",
   "metadata": {
    "id": "u5nNdtXkWixx"
   },
   "source": [
    "Si trasformano in float i valori di colonna:"
   ]
  },
  {
   "cell_type": "code",
   "execution_count": 8,
   "metadata": {
    "id": "KoZjIGDjWixy"
   },
   "outputs": [],
   "source": [
    "times_income['income_min'] = times_income['income_min'].astype('float')\n",
    "times_income['income_max'] = times_income['income_max'].astype('float')"
   ]
  },
  {
   "cell_type": "code",
   "execution_count": 9,
   "metadata": {
    "colab": {
     "base_uri": "https://localhost:8080/",
     "height": 424
    },
    "id": "rFw3NJnMWixz",
    "outputId": "2acfa23b-f8a3-4b23-85af-8994f608b476",
    "scrolled": true
   },
   "outputs": [
    {
     "data": {
      "text/html": [
       "<div>\n",
       "<style scoped>\n",
       "    .dataframe tbody tr th:only-of-type {\n",
       "        vertical-align: middle;\n",
       "    }\n",
       "\n",
       "    .dataframe tbody tr th {\n",
       "        vertical-align: top;\n",
       "    }\n",
       "\n",
       "    .dataframe thead th {\n",
       "        text-align: right;\n",
       "    }\n",
       "</style>\n",
       "<table border=\"1\" class=\"dataframe\">\n",
       "  <thead>\n",
       "    <tr style=\"text-align: right;\">\n",
       "      <th></th>\n",
       "      <th>university_name</th>\n",
       "      <th>income_min</th>\n",
       "      <th>income_max</th>\n",
       "      <th>income_diff</th>\n",
       "    </tr>\n",
       "  </thead>\n",
       "  <tbody>\n",
       "    <tr>\n",
       "      <th>1</th>\n",
       "      <td>Aalborg University</td>\n",
       "      <td>36.4</td>\n",
       "      <td>43.7</td>\n",
       "      <td>7.3</td>\n",
       "    </tr>\n",
       "    <tr>\n",
       "      <th>2</th>\n",
       "      <td>Aalto University</td>\n",
       "      <td>61.9</td>\n",
       "      <td>61.6</td>\n",
       "      <td>-0.3</td>\n",
       "    </tr>\n",
       "    <tr>\n",
       "      <th>3</th>\n",
       "      <td>Aarhus University</td>\n",
       "      <td>61.5</td>\n",
       "      <td>68.3</td>\n",
       "      <td>6.8</td>\n",
       "    </tr>\n",
       "    <tr>\n",
       "      <th>4</th>\n",
       "      <td>Aberystwyth University</td>\n",
       "      <td>35.5</td>\n",
       "      <td>31.3</td>\n",
       "      <td>-4.2</td>\n",
       "    </tr>\n",
       "    <tr>\n",
       "      <th>5</th>\n",
       "      <td>Adam Mickiewicz University</td>\n",
       "      <td>28.7</td>\n",
       "      <td>28.7</td>\n",
       "      <td>0.0</td>\n",
       "    </tr>\n",
       "    <tr>\n",
       "      <th>...</th>\n",
       "      <td>...</td>\n",
       "      <td>...</td>\n",
       "      <td>...</td>\n",
       "      <td>...</td>\n",
       "    </tr>\n",
       "    <tr>\n",
       "      <th>812</th>\n",
       "      <td>Zhejiang University</td>\n",
       "      <td>70.3</td>\n",
       "      <td>96.2</td>\n",
       "      <td>25.9</td>\n",
       "    </tr>\n",
       "    <tr>\n",
       "      <th>813</th>\n",
       "      <td>École Normale Supérieure</td>\n",
       "      <td>30.7</td>\n",
       "      <td>37.1</td>\n",
       "      <td>6.4</td>\n",
       "    </tr>\n",
       "    <tr>\n",
       "      <th>814</th>\n",
       "      <td>École Normale Supérieure de Lyon</td>\n",
       "      <td>26.1</td>\n",
       "      <td>31.7</td>\n",
       "      <td>5.6</td>\n",
       "    </tr>\n",
       "    <tr>\n",
       "      <th>816</th>\n",
       "      <td>École Polytechnique Fédérale de Lausanne</td>\n",
       "      <td>38.0</td>\n",
       "      <td>65.4</td>\n",
       "      <td>27.4</td>\n",
       "    </tr>\n",
       "    <tr>\n",
       "      <th>817</th>\n",
       "      <td>Örebro University</td>\n",
       "      <td>29.8</td>\n",
       "      <td>29.8</td>\n",
       "      <td>0.0</td>\n",
       "    </tr>\n",
       "  </tbody>\n",
       "</table>\n",
       "<p>704 rows × 4 columns</p>\n",
       "</div>"
      ],
      "text/plain": [
       "                              university_name  income_min  income_max  \\\n",
       "1                          Aalborg University        36.4        43.7   \n",
       "2                            Aalto University        61.9        61.6   \n",
       "3                           Aarhus University        61.5        68.3   \n",
       "4                      Aberystwyth University        35.5        31.3   \n",
       "5                  Adam Mickiewicz University        28.7        28.7   \n",
       "..                                        ...         ...         ...   \n",
       "812                       Zhejiang University        70.3        96.2   \n",
       "813                  École Normale Supérieure        30.7        37.1   \n",
       "814          École Normale Supérieure de Lyon        26.1        31.7   \n",
       "816  École Polytechnique Fédérale de Lausanne        38.0        65.4   \n",
       "817                         Örebro University        29.8        29.8   \n",
       "\n",
       "     income_diff  \n",
       "1            7.3  \n",
       "2           -0.3  \n",
       "3            6.8  \n",
       "4           -4.2  \n",
       "5            0.0  \n",
       "..           ...  \n",
       "812         25.9  \n",
       "813          6.4  \n",
       "814          5.6  \n",
       "816         27.4  \n",
       "817          0.0  \n",
       "\n",
       "[704 rows x 4 columns]"
      ]
     },
     "execution_count": 9,
     "metadata": {},
     "output_type": "execute_result"
    }
   ],
   "source": [
    "times_income['income_diff'] = times_income['income_max'] - times_income['income_min']\n",
    "times_income"
   ]
  },
  {
   "cell_type": "markdown",
   "metadata": {
    "id": "HzDTN7wXWixz"
   },
   "source": [
    "Infine, si controlla se sono presenti ancora valori `-` oppure valori nulli:"
   ]
  },
  {
   "cell_type": "code",
   "execution_count": 10,
   "metadata": {
    "colab": {
     "base_uri": "https://localhost:8080/",
     "height": 49
    },
    "id": "P8_vKy-eWixz",
    "outputId": "f55b85f5-157c-4462-a4e5-ffdebdee71aa",
    "scrolled": true
   },
   "outputs": [
    {
     "data": {
      "text/html": [
       "<div>\n",
       "<style scoped>\n",
       "    .dataframe tbody tr th:only-of-type {\n",
       "        vertical-align: middle;\n",
       "    }\n",
       "\n",
       "    .dataframe tbody tr th {\n",
       "        vertical-align: top;\n",
       "    }\n",
       "\n",
       "    .dataframe thead th {\n",
       "        text-align: right;\n",
       "    }\n",
       "</style>\n",
       "<table border=\"1\" class=\"dataframe\">\n",
       "  <thead>\n",
       "    <tr style=\"text-align: right;\">\n",
       "      <th></th>\n",
       "      <th>university_name</th>\n",
       "      <th>income_min</th>\n",
       "      <th>income_max</th>\n",
       "      <th>income_diff</th>\n",
       "    </tr>\n",
       "  </thead>\n",
       "  <tbody>\n",
       "  </tbody>\n",
       "</table>\n",
       "</div>"
      ],
      "text/plain": [
       "Empty DataFrame\n",
       "Columns: [university_name, income_min, income_max, income_diff]\n",
       "Index: []"
      ]
     },
     "execution_count": 10,
     "metadata": {},
     "output_type": "execute_result"
    }
   ],
   "source": [
    "times_income[times_income['income_diff'].isin(['^-$'])]"
   ]
  },
  {
   "cell_type": "code",
   "execution_count": 11,
   "metadata": {
    "colab": {
     "base_uri": "https://localhost:8080/",
     "height": 49
    },
    "id": "BHTkK0A3Wix0",
    "outputId": "0e1957dc-384f-4154-c9bc-ee0d1b1904f5"
   },
   "outputs": [
    {
     "data": {
      "text/html": [
       "<div>\n",
       "<style scoped>\n",
       "    .dataframe tbody tr th:only-of-type {\n",
       "        vertical-align: middle;\n",
       "    }\n",
       "\n",
       "    .dataframe tbody tr th {\n",
       "        vertical-align: top;\n",
       "    }\n",
       "\n",
       "    .dataframe thead th {\n",
       "        text-align: right;\n",
       "    }\n",
       "</style>\n",
       "<table border=\"1\" class=\"dataframe\">\n",
       "  <thead>\n",
       "    <tr style=\"text-align: right;\">\n",
       "      <th></th>\n",
       "      <th>university_name</th>\n",
       "      <th>income_min</th>\n",
       "      <th>income_max</th>\n",
       "      <th>income_diff</th>\n",
       "    </tr>\n",
       "  </thead>\n",
       "  <tbody>\n",
       "  </tbody>\n",
       "</table>\n",
       "</div>"
      ],
      "text/plain": [
       "Empty DataFrame\n",
       "Columns: [university_name, income_min, income_max, income_diff]\n",
       "Index: []"
      ]
     },
     "execution_count": 11,
     "metadata": {},
     "output_type": "execute_result"
    }
   ],
   "source": [
    "times_income[times_income['income_diff'].isna()]"
   ]
  },
  {
   "cell_type": "markdown",
   "metadata": {
    "id": "JWqR8_ZfWix3"
   },
   "source": [
    "### 3. Find the university with the largest increase computed in the previous point"
   ]
  },
  {
   "cell_type": "markdown",
   "metadata": {
    "id": "OtFfjq_CWix7"
   },
   "source": [
    "Valutiamo tramite la funzione `.max()` la presenza di uno o più record che presentano valori massimi di differenza fra gli `income` dalla data più recente a quella meno recente."
   ]
  },
  {
   "cell_type": "code",
   "execution_count": 12,
   "metadata": {
    "colab": {
     "base_uri": "https://localhost:8080/",
     "height": 81
    },
    "id": "16tUMcwxWix8",
    "outputId": "7cb68262-37bb-443c-c170-1ae0dd4e4af1"
   },
   "outputs": [
    {
     "data": {
      "text/html": [
       "<div>\n",
       "<style scoped>\n",
       "    .dataframe tbody tr th:only-of-type {\n",
       "        vertical-align: middle;\n",
       "    }\n",
       "\n",
       "    .dataframe tbody tr th {\n",
       "        vertical-align: top;\n",
       "    }\n",
       "\n",
       "    .dataframe thead th {\n",
       "        text-align: right;\n",
       "    }\n",
       "</style>\n",
       "<table border=\"1\" class=\"dataframe\">\n",
       "  <thead>\n",
       "    <tr style=\"text-align: right;\">\n",
       "      <th></th>\n",
       "      <th>university_name</th>\n",
       "      <th>income_min</th>\n",
       "      <th>income_max</th>\n",
       "      <th>income_diff</th>\n",
       "    </tr>\n",
       "  </thead>\n",
       "  <tbody>\n",
       "    <tr>\n",
       "      <th>428</th>\n",
       "      <td>TU Dresden</td>\n",
       "      <td>31.9</td>\n",
       "      <td>99.7</td>\n",
       "      <td>67.8</td>\n",
       "    </tr>\n",
       "  </tbody>\n",
       "</table>\n",
       "</div>"
      ],
      "text/plain": [
       "    university_name  income_min  income_max  income_diff\n",
       "428      TU Dresden        31.9        99.7         67.8"
      ]
     },
     "execution_count": 12,
     "metadata": {},
     "output_type": "execute_result"
    }
   ],
   "source": [
    "times_income[times_income['income_diff'] == times_income['income_diff'].max()]"
   ]
  },
  {
   "cell_type": "markdown",
   "metadata": {
    "id": "mKc2-8BLWix-"
   },
   "source": [
    "### 4. For each ranking, consider only the most recent data point. For each university, compute the maximum difference between the rankings (e.g. for Aarhus University the value is 122-73=49). Notice that some rankings are expressed as a range"
   ]
  },
  {
   "cell_type": "markdown",
   "metadata": {
    "id": "irZCaPAvWix_"
   },
   "source": [
    "Consideriamo i dataset utili al nostro scopo, ovvero `cwur`, `shanghaiData` e `times` e isoliamo i più recenti data point e le colonne di nostro interesse, ovvero `world rank`, `university name/institution`, `year`."
   ]
  },
  {
   "cell_type": "code",
   "execution_count": 13,
   "metadata": {
    "colab": {
     "base_uri": "https://localhost:8080/",
     "height": 206
    },
    "id": "7XN9XHAVWiyA",
    "outputId": "c77abfc0-4a12-4427-a4bb-c1c9578b6c65",
    "scrolled": false
   },
   "outputs": [
    {
     "data": {
      "text/html": [
       "<div>\n",
       "<style scoped>\n",
       "    .dataframe tbody tr th:only-of-type {\n",
       "        vertical-align: middle;\n",
       "    }\n",
       "\n",
       "    .dataframe tbody tr th {\n",
       "        vertical-align: top;\n",
       "    }\n",
       "\n",
       "    .dataframe thead th {\n",
       "        text-align: right;\n",
       "    }\n",
       "</style>\n",
       "<table border=\"1\" class=\"dataframe\">\n",
       "  <thead>\n",
       "    <tr style=\"text-align: right;\">\n",
       "      <th></th>\n",
       "      <th>world_rank</th>\n",
       "      <th>university_name</th>\n",
       "      <th>national_rank</th>\n",
       "      <th>total_score</th>\n",
       "      <th>alumni</th>\n",
       "      <th>award</th>\n",
       "      <th>hici</th>\n",
       "      <th>ns</th>\n",
       "      <th>pub</th>\n",
       "      <th>pcp</th>\n",
       "      <th>year</th>\n",
       "    </tr>\n",
       "  </thead>\n",
       "  <tbody>\n",
       "    <tr>\n",
       "      <th>0</th>\n",
       "      <td>1</td>\n",
       "      <td>Harvard University</td>\n",
       "      <td>1</td>\n",
       "      <td>100.0</td>\n",
       "      <td>100.0</td>\n",
       "      <td>100.0</td>\n",
       "      <td>100.0</td>\n",
       "      <td>100.0</td>\n",
       "      <td>100.0</td>\n",
       "      <td>72.4</td>\n",
       "      <td>2005</td>\n",
       "    </tr>\n",
       "    <tr>\n",
       "      <th>1</th>\n",
       "      <td>2</td>\n",
       "      <td>University of Cambridge</td>\n",
       "      <td>1</td>\n",
       "      <td>73.6</td>\n",
       "      <td>99.8</td>\n",
       "      <td>93.4</td>\n",
       "      <td>53.3</td>\n",
       "      <td>56.6</td>\n",
       "      <td>70.9</td>\n",
       "      <td>66.9</td>\n",
       "      <td>2005</td>\n",
       "    </tr>\n",
       "    <tr>\n",
       "      <th>2</th>\n",
       "      <td>3</td>\n",
       "      <td>Stanford University</td>\n",
       "      <td>2</td>\n",
       "      <td>73.4</td>\n",
       "      <td>41.1</td>\n",
       "      <td>72.2</td>\n",
       "      <td>88.5</td>\n",
       "      <td>70.9</td>\n",
       "      <td>72.3</td>\n",
       "      <td>65.0</td>\n",
       "      <td>2005</td>\n",
       "    </tr>\n",
       "    <tr>\n",
       "      <th>3</th>\n",
       "      <td>4</td>\n",
       "      <td>University of California, Berkeley</td>\n",
       "      <td>3</td>\n",
       "      <td>72.8</td>\n",
       "      <td>71.8</td>\n",
       "      <td>76.0</td>\n",
       "      <td>69.4</td>\n",
       "      <td>73.9</td>\n",
       "      <td>72.2</td>\n",
       "      <td>52.7</td>\n",
       "      <td>2005</td>\n",
       "    </tr>\n",
       "    <tr>\n",
       "      <th>4</th>\n",
       "      <td>5</td>\n",
       "      <td>Massachusetts Institute of Technology (MIT)</td>\n",
       "      <td>4</td>\n",
       "      <td>70.1</td>\n",
       "      <td>74.0</td>\n",
       "      <td>80.6</td>\n",
       "      <td>66.7</td>\n",
       "      <td>65.8</td>\n",
       "      <td>64.3</td>\n",
       "      <td>53.0</td>\n",
       "      <td>2005</td>\n",
       "    </tr>\n",
       "  </tbody>\n",
       "</table>\n",
       "</div>"
      ],
      "text/plain": [
       "  world_rank                              university_name national_rank  \\\n",
       "0          1                           Harvard University             1   \n",
       "1          2                      University of Cambridge             1   \n",
       "2          3                          Stanford University             2   \n",
       "3          4           University of California, Berkeley             3   \n",
       "4          5  Massachusetts Institute of Technology (MIT)             4   \n",
       "\n",
       "   total_score  alumni  award   hici     ns    pub   pcp  year  \n",
       "0        100.0   100.0  100.0  100.0  100.0  100.0  72.4  2005  \n",
       "1         73.6    99.8   93.4   53.3   56.6   70.9  66.9  2005  \n",
       "2         73.4    41.1   72.2   88.5   70.9   72.3  65.0  2005  \n",
       "3         72.8    71.8   76.0   69.4   73.9   72.2  52.7  2005  \n",
       "4         70.1    74.0   80.6   66.7   65.8   64.3  53.0  2005  "
      ]
     },
     "execution_count": 13,
     "metadata": {},
     "output_type": "execute_result"
    }
   ],
   "source": [
    "shanghai_db = pd.read_csv('dataset_progetto/shanghaiData.csv')\n",
    "shanghai_db.head()"
   ]
  },
  {
   "cell_type": "code",
   "execution_count": 14,
   "metadata": {
    "colab": {
     "base_uri": "https://localhost:8080/",
     "height": 276
    },
    "id": "7zANzf-BWiyB",
    "outputId": "f08c5267-0a9c-4790-855a-46f06d149e79"
   },
   "outputs": [
    {
     "data": {
      "text/html": [
       "<div>\n",
       "<style scoped>\n",
       "    .dataframe tbody tr th:only-of-type {\n",
       "        vertical-align: middle;\n",
       "    }\n",
       "\n",
       "    .dataframe tbody tr th {\n",
       "        vertical-align: top;\n",
       "    }\n",
       "\n",
       "    .dataframe thead th {\n",
       "        text-align: right;\n",
       "    }\n",
       "</style>\n",
       "<table border=\"1\" class=\"dataframe\">\n",
       "  <thead>\n",
       "    <tr style=\"text-align: right;\">\n",
       "      <th></th>\n",
       "      <th>world_rank</th>\n",
       "      <th>institution</th>\n",
       "      <th>country</th>\n",
       "      <th>national_rank</th>\n",
       "      <th>quality_of_education</th>\n",
       "      <th>alumni_employment</th>\n",
       "      <th>quality_of_faculty</th>\n",
       "      <th>publications</th>\n",
       "      <th>influence</th>\n",
       "      <th>citations</th>\n",
       "      <th>broad_impact</th>\n",
       "      <th>patents</th>\n",
       "      <th>score</th>\n",
       "      <th>year</th>\n",
       "    </tr>\n",
       "  </thead>\n",
       "  <tbody>\n",
       "    <tr>\n",
       "      <th>0</th>\n",
       "      <td>1</td>\n",
       "      <td>Harvard University</td>\n",
       "      <td>USA</td>\n",
       "      <td>1</td>\n",
       "      <td>7</td>\n",
       "      <td>9</td>\n",
       "      <td>1</td>\n",
       "      <td>1</td>\n",
       "      <td>1</td>\n",
       "      <td>1</td>\n",
       "      <td>NaN</td>\n",
       "      <td>5</td>\n",
       "      <td>100.00</td>\n",
       "      <td>2012</td>\n",
       "    </tr>\n",
       "    <tr>\n",
       "      <th>1</th>\n",
       "      <td>2</td>\n",
       "      <td>Massachusetts Institute of Technology</td>\n",
       "      <td>USA</td>\n",
       "      <td>2</td>\n",
       "      <td>9</td>\n",
       "      <td>17</td>\n",
       "      <td>3</td>\n",
       "      <td>12</td>\n",
       "      <td>4</td>\n",
       "      <td>4</td>\n",
       "      <td>NaN</td>\n",
       "      <td>1</td>\n",
       "      <td>91.67</td>\n",
       "      <td>2012</td>\n",
       "    </tr>\n",
       "    <tr>\n",
       "      <th>2</th>\n",
       "      <td>3</td>\n",
       "      <td>Stanford University</td>\n",
       "      <td>USA</td>\n",
       "      <td>3</td>\n",
       "      <td>17</td>\n",
       "      <td>11</td>\n",
       "      <td>5</td>\n",
       "      <td>4</td>\n",
       "      <td>2</td>\n",
       "      <td>2</td>\n",
       "      <td>NaN</td>\n",
       "      <td>15</td>\n",
       "      <td>89.50</td>\n",
       "      <td>2012</td>\n",
       "    </tr>\n",
       "    <tr>\n",
       "      <th>3</th>\n",
       "      <td>4</td>\n",
       "      <td>University of Cambridge</td>\n",
       "      <td>United Kingdom</td>\n",
       "      <td>1</td>\n",
       "      <td>10</td>\n",
       "      <td>24</td>\n",
       "      <td>4</td>\n",
       "      <td>16</td>\n",
       "      <td>16</td>\n",
       "      <td>11</td>\n",
       "      <td>NaN</td>\n",
       "      <td>50</td>\n",
       "      <td>86.17</td>\n",
       "      <td>2012</td>\n",
       "    </tr>\n",
       "    <tr>\n",
       "      <th>4</th>\n",
       "      <td>5</td>\n",
       "      <td>California Institute of Technology</td>\n",
       "      <td>USA</td>\n",
       "      <td>4</td>\n",
       "      <td>2</td>\n",
       "      <td>29</td>\n",
       "      <td>7</td>\n",
       "      <td>37</td>\n",
       "      <td>22</td>\n",
       "      <td>22</td>\n",
       "      <td>NaN</td>\n",
       "      <td>18</td>\n",
       "      <td>85.21</td>\n",
       "      <td>2012</td>\n",
       "    </tr>\n",
       "  </tbody>\n",
       "</table>\n",
       "</div>"
      ],
      "text/plain": [
       "   world_rank                            institution         country  \\\n",
       "0           1                     Harvard University             USA   \n",
       "1           2  Massachusetts Institute of Technology             USA   \n",
       "2           3                    Stanford University             USA   \n",
       "3           4                University of Cambridge  United Kingdom   \n",
       "4           5     California Institute of Technology             USA   \n",
       "\n",
       "   national_rank  quality_of_education  alumni_employment  quality_of_faculty  \\\n",
       "0              1                     7                  9                   1   \n",
       "1              2                     9                 17                   3   \n",
       "2              3                    17                 11                   5   \n",
       "3              1                    10                 24                   4   \n",
       "4              4                     2                 29                   7   \n",
       "\n",
       "   publications  influence  citations  broad_impact  patents   score  year  \n",
       "0             1          1          1           NaN        5  100.00  2012  \n",
       "1            12          4          4           NaN        1   91.67  2012  \n",
       "2             4          2          2           NaN       15   89.50  2012  \n",
       "3            16         16         11           NaN       50   86.17  2012  \n",
       "4            37         22         22           NaN       18   85.21  2012  "
      ]
     },
     "execution_count": 14,
     "metadata": {},
     "output_type": "execute_result"
    }
   ],
   "source": [
    "cwur_db = pd.read_csv('dataset_progetto/cwurData.csv')\n",
    "cwur_db.head()"
   ]
  },
  {
   "cell_type": "code",
   "execution_count": 15,
   "metadata": {
    "colab": {
     "base_uri": "https://localhost:8080/",
     "height": 206
    },
    "id": "yGgmfeq8WiyE",
    "outputId": "f2a26145-e8db-4c30-fcac-b88b5321e679"
   },
   "outputs": [
    {
     "data": {
      "text/html": [
       "<div>\n",
       "<style scoped>\n",
       "    .dataframe tbody tr th:only-of-type {\n",
       "        vertical-align: middle;\n",
       "    }\n",
       "\n",
       "    .dataframe tbody tr th {\n",
       "        vertical-align: top;\n",
       "    }\n",
       "\n",
       "    .dataframe thead th {\n",
       "        text-align: right;\n",
       "    }\n",
       "</style>\n",
       "<table border=\"1\" class=\"dataframe\">\n",
       "  <thead>\n",
       "    <tr style=\"text-align: right;\">\n",
       "      <th></th>\n",
       "      <th>university_name</th>\n",
       "      <th>world_rank</th>\n",
       "      <th>year</th>\n",
       "    </tr>\n",
       "  </thead>\n",
       "  <tbody>\n",
       "    <tr>\n",
       "      <th>2405</th>\n",
       "      <td>AGH University of Science and Technology</td>\n",
       "      <td>601-800</td>\n",
       "      <td>2016</td>\n",
       "    </tr>\n",
       "    <tr>\n",
       "      <th>2003</th>\n",
       "      <td>Aalborg University</td>\n",
       "      <td>201-250</td>\n",
       "      <td>2016</td>\n",
       "    </tr>\n",
       "    <tr>\n",
       "      <th>2056</th>\n",
       "      <td>Aalto University</td>\n",
       "      <td>251-300</td>\n",
       "      <td>2016</td>\n",
       "    </tr>\n",
       "    <tr>\n",
       "      <th>1908</th>\n",
       "      <td>Aarhus University</td>\n",
       "      <td>=106</td>\n",
       "      <td>2016</td>\n",
       "    </tr>\n",
       "    <tr>\n",
       "      <th>2105</th>\n",
       "      <td>Aberystwyth University</td>\n",
       "      <td>301-350</td>\n",
       "      <td>2016</td>\n",
       "    </tr>\n",
       "  </tbody>\n",
       "</table>\n",
       "</div>"
      ],
      "text/plain": [
       "                               university_name world_rank  year\n",
       "2405  AGH University of Science and Technology    601-800  2016\n",
       "2003                        Aalborg University    201-250  2016\n",
       "2056                          Aalto University    251-300  2016\n",
       "1908                         Aarhus University       =106  2016\n",
       "2105                    Aberystwyth University    301-350  2016"
      ]
     },
     "execution_count": 15,
     "metadata": {},
     "output_type": "execute_result"
    }
   ],
   "source": [
    "times_for_max = times.iloc[times.groupby('university_name')['year'].idxmax()][['university_name','world_rank','year']]\n",
    "times_for_max.head()"
   ]
  },
  {
   "cell_type": "code",
   "execution_count": 16,
   "metadata": {
    "colab": {
     "base_uri": "https://localhost:8080/",
     "height": 206
    },
    "id": "seL-UV_dWiyG",
    "outputId": "787a80cc-761a-4fad-b59e-1b4b27c76e2c"
   },
   "outputs": [
    {
     "data": {
      "text/html": [
       "<div>\n",
       "<style scoped>\n",
       "    .dataframe tbody tr th:only-of-type {\n",
       "        vertical-align: middle;\n",
       "    }\n",
       "\n",
       "    .dataframe tbody tr th {\n",
       "        vertical-align: top;\n",
       "    }\n",
       "\n",
       "    .dataframe thead th {\n",
       "        text-align: right;\n",
       "    }\n",
       "</style>\n",
       "<table border=\"1\" class=\"dataframe\">\n",
       "  <thead>\n",
       "    <tr style=\"text-align: right;\">\n",
       "      <th></th>\n",
       "      <th>institution</th>\n",
       "      <th>world_rank</th>\n",
       "      <th>year</th>\n",
       "    </tr>\n",
       "  </thead>\n",
       "  <tbody>\n",
       "    <tr>\n",
       "      <th>1981</th>\n",
       "      <td>AGH University of Science and Technology</td>\n",
       "      <td>782</td>\n",
       "      <td>2015</td>\n",
       "    </tr>\n",
       "    <tr>\n",
       "      <th>1764</th>\n",
       "      <td>Aalborg University</td>\n",
       "      <td>565</td>\n",
       "      <td>2015</td>\n",
       "    </tr>\n",
       "    <tr>\n",
       "      <th>1620</th>\n",
       "      <td>Aalto University</td>\n",
       "      <td>421</td>\n",
       "      <td>2015</td>\n",
       "    </tr>\n",
       "    <tr>\n",
       "      <th>1321</th>\n",
       "      <td>Aarhus University</td>\n",
       "      <td>122</td>\n",
       "      <td>2015</td>\n",
       "    </tr>\n",
       "    <tr>\n",
       "      <th>2013</th>\n",
       "      <td>Aberystwyth University</td>\n",
       "      <td>814</td>\n",
       "      <td>2015</td>\n",
       "    </tr>\n",
       "  </tbody>\n",
       "</table>\n",
       "</div>"
      ],
      "text/plain": [
       "                                   institution  world_rank  year\n",
       "1981  AGH University of Science and Technology         782  2015\n",
       "1764                        Aalborg University         565  2015\n",
       "1620                          Aalto University         421  2015\n",
       "1321                         Aarhus University         122  2015\n",
       "2013                    Aberystwyth University         814  2015"
      ]
     },
     "execution_count": 16,
     "metadata": {},
     "output_type": "execute_result"
    }
   ],
   "source": [
    "cwurdb_for_max = cwur_db.iloc[cwur_db.groupby('institution')['year'].idxmax()][['institution','world_rank','year']]\n",
    "cwurdb_for_max.head()"
   ]
  },
  {
   "cell_type": "code",
   "execution_count": 17,
   "metadata": {
    "colab": {
     "base_uri": "https://localhost:8080/",
     "height": 206
    },
    "id": "7KKtl6sRWiyH",
    "outputId": "37c82c82-8df8-4e79-fa0e-efff608fe339",
    "scrolled": true
   },
   "outputs": [
    {
     "data": {
      "text/html": [
       "<div>\n",
       "<style scoped>\n",
       "    .dataframe tbody tr th:only-of-type {\n",
       "        vertical-align: middle;\n",
       "    }\n",
       "\n",
       "    .dataframe tbody tr th {\n",
       "        vertical-align: top;\n",
       "    }\n",
       "\n",
       "    .dataframe thead th {\n",
       "        text-align: right;\n",
       "    }\n",
       "</style>\n",
       "<table border=\"1\" class=\"dataframe\">\n",
       "  <thead>\n",
       "    <tr style=\"text-align: right;\">\n",
       "      <th></th>\n",
       "      <th>university_name</th>\n",
       "      <th>world_rank</th>\n",
       "      <th>year</th>\n",
       "    </tr>\n",
       "  </thead>\n",
       "  <tbody>\n",
       "    <tr>\n",
       "      <th>4697</th>\n",
       "      <td>Aalborg University</td>\n",
       "      <td>301-400</td>\n",
       "      <td>2015</td>\n",
       "    </tr>\n",
       "    <tr>\n",
       "      <th>4797</th>\n",
       "      <td>Aalto University</td>\n",
       "      <td>401-500</td>\n",
       "      <td>2015</td>\n",
       "    </tr>\n",
       "    <tr>\n",
       "      <th>4469</th>\n",
       "      <td>Aarhus University</td>\n",
       "      <td>73</td>\n",
       "      <td>2015</td>\n",
       "    </tr>\n",
       "    <tr>\n",
       "      <th>4497</th>\n",
       "      <td>Aix Marseille University</td>\n",
       "      <td>101-150</td>\n",
       "      <td>2015</td>\n",
       "    </tr>\n",
       "    <tr>\n",
       "      <th>3115</th>\n",
       "      <td>Aix-Marseille University</td>\n",
       "      <td>102-150</td>\n",
       "      <td>2011</td>\n",
       "    </tr>\n",
       "  </tbody>\n",
       "</table>\n",
       "</div>"
      ],
      "text/plain": [
       "               university_name world_rank  year\n",
       "4697        Aalborg University    301-400  2015\n",
       "4797          Aalto University    401-500  2015\n",
       "4469         Aarhus University         73  2015\n",
       "4497  Aix Marseille University    101-150  2015\n",
       "3115  Aix-Marseille University    102-150  2011"
      ]
     },
     "execution_count": 17,
     "metadata": {},
     "output_type": "execute_result"
    }
   ],
   "source": [
    "shanghaidb_for_max = shanghai_db.iloc[shanghai_db.groupby('university_name')['year'].idxmax()][['university_name','world_rank','year']]\n",
    "shanghaidb_for_max.head()"
   ]
  },
  {
   "cell_type": "code",
   "execution_count": 18,
   "metadata": {
    "colab": {
     "base_uri": "https://localhost:8080/",
     "height": 81
    },
    "id": "9F0OAExRfqj0",
    "outputId": "5353defc-25f8-4e90-efd5-573833661c99"
   },
   "outputs": [
    {
     "data": {
      "text/html": [
       "<div>\n",
       "<style scoped>\n",
       "    .dataframe tbody tr th:only-of-type {\n",
       "        vertical-align: middle;\n",
       "    }\n",
       "\n",
       "    .dataframe tbody tr th {\n",
       "        vertical-align: top;\n",
       "    }\n",
       "\n",
       "    .dataframe thead th {\n",
       "        text-align: right;\n",
       "    }\n",
       "</style>\n",
       "<table border=\"1\" class=\"dataframe\">\n",
       "  <thead>\n",
       "    <tr style=\"text-align: right;\">\n",
       "      <th></th>\n",
       "      <th>university_name</th>\n",
       "      <th>world_rank</th>\n",
       "      <th>year</th>\n",
       "    </tr>\n",
       "  </thead>\n",
       "  <tbody>\n",
       "    <tr>\n",
       "      <th>1942</th>\n",
       "      <td>Karlsruhe Institute of Technology</td>\n",
       "      <td>=138</td>\n",
       "      <td>2016</td>\n",
       "    </tr>\n",
       "  </tbody>\n",
       "</table>\n",
       "</div>"
      ],
      "text/plain": [
       "                        university_name world_rank  year\n",
       "1942  Karlsruhe Institute of Technology       =138  2016"
      ]
     },
     "execution_count": 18,
     "metadata": {},
     "output_type": "execute_result"
    }
   ],
   "source": [
    "times_for_max[times_for_max['university_name'] == 'Karlsruhe Institute of Technology']"
   ]
  },
  {
   "cell_type": "code",
   "execution_count": 19,
   "metadata": {
    "colab": {
     "base_uri": "https://localhost:8080/",
     "height": 81
    },
    "id": "s0QCyEMbgE7D",
    "outputId": "76aa7b95-7839-4f5d-d832-e53ca629d9bf"
   },
   "outputs": [
    {
     "data": {
      "text/html": [
       "<div>\n",
       "<style scoped>\n",
       "    .dataframe tbody tr th:only-of-type {\n",
       "        vertical-align: middle;\n",
       "    }\n",
       "\n",
       "    .dataframe tbody tr th {\n",
       "        vertical-align: top;\n",
       "    }\n",
       "\n",
       "    .dataframe thead th {\n",
       "        text-align: right;\n",
       "    }\n",
       "</style>\n",
       "<table border=\"1\" class=\"dataframe\">\n",
       "  <thead>\n",
       "    <tr style=\"text-align: right;\">\n",
       "      <th></th>\n",
       "      <th>university_name</th>\n",
       "      <th>world_rank</th>\n",
       "      <th>year</th>\n",
       "    </tr>\n",
       "  </thead>\n",
       "  <tbody>\n",
       "    <tr>\n",
       "      <th>4618</th>\n",
       "      <td>Karlsruhe Institute of Technology (KIT)</td>\n",
       "      <td>201-300</td>\n",
       "      <td>2015</td>\n",
       "    </tr>\n",
       "  </tbody>\n",
       "</table>\n",
       "</div>"
      ],
      "text/plain": [
       "                              university_name world_rank  year\n",
       "4618  Karlsruhe Institute of Technology (KIT)    201-300  2015"
      ]
     },
     "execution_count": 19,
     "metadata": {},
     "output_type": "execute_result"
    }
   ],
   "source": [
    "shanghaidb_for_max[shanghaidb_for_max['university_name'].str.contains('Karlsruhe Institute of Technology')]"
   ]
  },
  {
   "cell_type": "markdown",
   "metadata": {
    "id": "oCFs1DzFYfdJ"
   },
   "source": [
    "Come si nota già nel *times_for_max* e nello *shanghaidb_for_max* possono essere presenti nomi di università che differiscono per almeno uno o più caratteri pur essendo lo stesso elemento. Dovendo quindi trattare tali eventualità si è deciso di normalizzare i nomi delle università usando il dataset *school_and_country_table.csv*, tramite la colonna *school_name*."
   ]
  },
  {
   "cell_type": "code",
   "execution_count": 20,
   "metadata": {
    "colab": {
     "base_uri": "https://localhost:8080/",
     "height": 206
    },
    "id": "3n-cCK78XjHX",
    "outputId": "0f69edad-2fea-49b7-9098-25d126688a30"
   },
   "outputs": [
    {
     "data": {
      "text/html": [
       "<div>\n",
       "<style scoped>\n",
       "    .dataframe tbody tr th:only-of-type {\n",
       "        vertical-align: middle;\n",
       "    }\n",
       "\n",
       "    .dataframe tbody tr th {\n",
       "        vertical-align: top;\n",
       "    }\n",
       "\n",
       "    .dataframe thead th {\n",
       "        text-align: right;\n",
       "    }\n",
       "</style>\n",
       "<table border=\"1\" class=\"dataframe\">\n",
       "  <thead>\n",
       "    <tr style=\"text-align: right;\">\n",
       "      <th></th>\n",
       "      <th>school_name</th>\n",
       "      <th>country</th>\n",
       "    </tr>\n",
       "  </thead>\n",
       "  <tbody>\n",
       "    <tr>\n",
       "      <th>0</th>\n",
       "      <td>Harvard University</td>\n",
       "      <td>United States of America</td>\n",
       "    </tr>\n",
       "    <tr>\n",
       "      <th>1</th>\n",
       "      <td>California Institute of Technology</td>\n",
       "      <td>United States of America</td>\n",
       "    </tr>\n",
       "    <tr>\n",
       "      <th>2</th>\n",
       "      <td>Massachusetts Institute of Technology</td>\n",
       "      <td>United States of America</td>\n",
       "    </tr>\n",
       "    <tr>\n",
       "      <th>3</th>\n",
       "      <td>Stanford University</td>\n",
       "      <td>United States of America</td>\n",
       "    </tr>\n",
       "    <tr>\n",
       "      <th>4</th>\n",
       "      <td>Princeton University</td>\n",
       "      <td>United States of America</td>\n",
       "    </tr>\n",
       "  </tbody>\n",
       "</table>\n",
       "</div>"
      ],
      "text/plain": [
       "                             school_name                   country\n",
       "0                     Harvard University  United States of America\n",
       "1     California Institute of Technology  United States of America\n",
       "2  Massachusetts Institute of Technology  United States of America\n",
       "3                    Stanford University  United States of America\n",
       "4                   Princeton University  United States of America"
      ]
     },
     "execution_count": 20,
     "metadata": {},
     "output_type": "execute_result"
    }
   ],
   "source": [
    "school_and_country_name = pd.read_csv(\"dataset_progetto/school_and_country_table.csv\", encoding=\"UTF-8\")\n",
    "school_and_country_name.head()"
   ]
  },
  {
   "cell_type": "code",
   "execution_count": 21,
   "metadata": {
    "id": "vTwY-uV2Xi8r"
   },
   "outputs": [],
   "source": [
    "school_and_country_name.rename(columns={'school_name':'university_name_normalized'}, inplace=True)"
   ]
  },
  {
   "cell_type": "code",
   "execution_count": 22,
   "metadata": {
    "colab": {
     "base_uri": "https://localhost:8080/",
     "height": 206
    },
    "id": "o_-31v1KXiuI",
    "outputId": "42af11af-47f7-4d60-9cb8-9ca8559eef48"
   },
   "outputs": [
    {
     "data": {
      "text/html": [
       "<div>\n",
       "<style scoped>\n",
       "    .dataframe tbody tr th:only-of-type {\n",
       "        vertical-align: middle;\n",
       "    }\n",
       "\n",
       "    .dataframe tbody tr th {\n",
       "        vertical-align: top;\n",
       "    }\n",
       "\n",
       "    .dataframe thead th {\n",
       "        text-align: right;\n",
       "    }\n",
       "</style>\n",
       "<table border=\"1\" class=\"dataframe\">\n",
       "  <thead>\n",
       "    <tr style=\"text-align: right;\">\n",
       "      <th></th>\n",
       "      <th>university_name_normalized</th>\n",
       "      <th>country</th>\n",
       "    </tr>\n",
       "  </thead>\n",
       "  <tbody>\n",
       "    <tr>\n",
       "      <th>0</th>\n",
       "      <td>Harvard University</td>\n",
       "      <td>United States of America</td>\n",
       "    </tr>\n",
       "    <tr>\n",
       "      <th>1</th>\n",
       "      <td>California Institute of Technology</td>\n",
       "      <td>United States of America</td>\n",
       "    </tr>\n",
       "    <tr>\n",
       "      <th>2</th>\n",
       "      <td>Massachusetts Institute of Technology</td>\n",
       "      <td>United States of America</td>\n",
       "    </tr>\n",
       "    <tr>\n",
       "      <th>3</th>\n",
       "      <td>Stanford University</td>\n",
       "      <td>United States of America</td>\n",
       "    </tr>\n",
       "    <tr>\n",
       "      <th>4</th>\n",
       "      <td>Princeton University</td>\n",
       "      <td>United States of America</td>\n",
       "    </tr>\n",
       "  </tbody>\n",
       "</table>\n",
       "</div>"
      ],
      "text/plain": [
       "              university_name_normalized                   country\n",
       "0                     Harvard University  United States of America\n",
       "1     California Institute of Technology  United States of America\n",
       "2  Massachusetts Institute of Technology  United States of America\n",
       "3                    Stanford University  United States of America\n",
       "4                   Princeton University  United States of America"
      ]
     },
     "execution_count": 22,
     "metadata": {},
     "output_type": "execute_result"
    }
   ],
   "source": [
    "school_and_country_name.head()"
   ]
  },
  {
   "cell_type": "markdown",
   "metadata": {
    "id": "h68_mk-9gkEG"
   },
   "source": [
    "Per ogni università contenuta nella tabella *school_and_country_name* abbiamo verificato se il nome dell'università nel dataset in cui si applica la funzione contiene o è contenuto nella tabella suddetta."
   ]
  },
  {
   "cell_type": "code",
   "execution_count": 23,
   "metadata": {
    "id": "4iB4JxyrZdo2"
   },
   "outputs": [],
   "source": [
    "def normalize(column_element):\n",
    "\n",
    "  for university in school_and_country_name['university_name_normalized']:\n",
    "    if column_element == university:\n",
    "      return column_element\n",
    "\n",
    "  name_column_element = re.compile(column_element)\n",
    "\n",
    "  for university in school_and_country_name['university_name_normalized']:\n",
    "    match = name_column_element.search(university)\n",
    "    if match:\n",
    "      return university\n",
    "    else:\n",
    "      name_university = re.compile(university)\n",
    "      metch_university = name_university.search(column_element)\n",
    "      if metch_university:\n",
    "        return university"
   ]
  },
  {
   "cell_type": "code",
   "execution_count": 24,
   "metadata": {
    "id": "wLx7xDnBZdjb"
   },
   "outputs": [],
   "source": [
    "shanghaidb_for_max[\"university_name_normalized\"] = shanghaidb_for_max['university_name'].apply(normalize)"
   ]
  },
  {
   "cell_type": "code",
   "execution_count": 25,
   "metadata": {
    "colab": {
     "base_uri": "https://localhost:8080/",
     "height": 206
    },
    "id": "vb4cJu8EZddT",
    "outputId": "3e3ccd21-3ba3-4c8d-de45-5997178b3c8b"
   },
   "outputs": [
    {
     "data": {
      "text/html": [
       "<div>\n",
       "<style scoped>\n",
       "    .dataframe tbody tr th:only-of-type {\n",
       "        vertical-align: middle;\n",
       "    }\n",
       "\n",
       "    .dataframe tbody tr th {\n",
       "        vertical-align: top;\n",
       "    }\n",
       "\n",
       "    .dataframe thead th {\n",
       "        text-align: right;\n",
       "    }\n",
       "</style>\n",
       "<table border=\"1\" class=\"dataframe\">\n",
       "  <thead>\n",
       "    <tr style=\"text-align: right;\">\n",
       "      <th></th>\n",
       "      <th>university_name</th>\n",
       "      <th>world_rank</th>\n",
       "      <th>year</th>\n",
       "      <th>university_name_normalized</th>\n",
       "    </tr>\n",
       "  </thead>\n",
       "  <tbody>\n",
       "    <tr>\n",
       "      <th>4697</th>\n",
       "      <td>Aalborg University</td>\n",
       "      <td>301-400</td>\n",
       "      <td>2015</td>\n",
       "      <td>Aalborg University</td>\n",
       "    </tr>\n",
       "    <tr>\n",
       "      <th>4797</th>\n",
       "      <td>Aalto University</td>\n",
       "      <td>401-500</td>\n",
       "      <td>2015</td>\n",
       "      <td>Aalto University</td>\n",
       "    </tr>\n",
       "    <tr>\n",
       "      <th>4469</th>\n",
       "      <td>Aarhus University</td>\n",
       "      <td>73</td>\n",
       "      <td>2015</td>\n",
       "      <td>Aarhus University</td>\n",
       "    </tr>\n",
       "    <tr>\n",
       "      <th>4497</th>\n",
       "      <td>Aix Marseille University</td>\n",
       "      <td>101-150</td>\n",
       "      <td>2015</td>\n",
       "      <td>None</td>\n",
       "    </tr>\n",
       "    <tr>\n",
       "      <th>3115</th>\n",
       "      <td>Aix-Marseille University</td>\n",
       "      <td>102-150</td>\n",
       "      <td>2011</td>\n",
       "      <td>Aix-Marseille University</td>\n",
       "    </tr>\n",
       "  </tbody>\n",
       "</table>\n",
       "</div>"
      ],
      "text/plain": [
       "               university_name world_rank  year university_name_normalized\n",
       "4697        Aalborg University    301-400  2015         Aalborg University\n",
       "4797          Aalto University    401-500  2015           Aalto University\n",
       "4469         Aarhus University         73  2015          Aarhus University\n",
       "4497  Aix Marseille University    101-150  2015                       None\n",
       "3115  Aix-Marseille University    102-150  2011   Aix-Marseille University"
      ]
     },
     "execution_count": 25,
     "metadata": {},
     "output_type": "execute_result"
    }
   ],
   "source": [
    "shanghaidb_for_max.head()"
   ]
  },
  {
   "cell_type": "markdown",
   "metadata": {
    "id": "O7AnPLuSc6CF"
   },
   "source": [
    "Avendo verificato l'esistenza di duplicati, si è indagato maggiormente per trattare separatamente i singoli casi:"
   ]
  },
  {
   "cell_type": "code",
   "execution_count": 26,
   "metadata": {
    "colab": {
     "base_uri": "https://localhost:8080/",
     "height": 990
    },
    "id": "zaeapxaLZdY_",
    "outputId": "ae13688f-4636-4bf5-c45b-3c7b376cbc67"
   },
   "outputs": [
    {
     "data": {
      "text/html": [
       "<div>\n",
       "<style scoped>\n",
       "    .dataframe tbody tr th:only-of-type {\n",
       "        vertical-align: middle;\n",
       "    }\n",
       "\n",
       "    .dataframe tbody tr th {\n",
       "        vertical-align: top;\n",
       "    }\n",
       "\n",
       "    .dataframe thead th {\n",
       "        text-align: right;\n",
       "    }\n",
       "</style>\n",
       "<table border=\"1\" class=\"dataframe\">\n",
       "  <thead>\n",
       "    <tr style=\"text-align: right;\">\n",
       "      <th></th>\n",
       "      <th>university_name</th>\n",
       "      <th>world_rank</th>\n",
       "      <th>year</th>\n",
       "      <th>university_name_normalized</th>\n",
       "    </tr>\n",
       "  </thead>\n",
       "  <tbody>\n",
       "    <tr>\n",
       "      <th>3876</th>\n",
       "      <td>Arizona State University - Tempe</td>\n",
       "      <td>79</td>\n",
       "      <td>2013</td>\n",
       "      <td>Arizona State University</td>\n",
       "    </tr>\n",
       "    <tr>\n",
       "      <th>3425</th>\n",
       "      <td>Curtin University of Technology</td>\n",
       "      <td>401-500</td>\n",
       "      <td>2011</td>\n",
       "      <td>Curtin University</td>\n",
       "    </tr>\n",
       "    <tr>\n",
       "      <th>925</th>\n",
       "      <td>Louisiana State University Health Sciences Center</td>\n",
       "      <td>401-500</td>\n",
       "      <td>2006</td>\n",
       "      <td>Louisiana State University</td>\n",
       "    </tr>\n",
       "    <tr>\n",
       "      <th>4510</th>\n",
       "      <td>Norwegian University of Science and Technology...</td>\n",
       "      <td>101-150</td>\n",
       "      <td>2015</td>\n",
       "      <td>Norwegian University of Science and Technology</td>\n",
       "    </tr>\n",
       "    <tr>\n",
       "      <th>4458</th>\n",
       "      <td>Purdue University - West Lafayette</td>\n",
       "      <td>61</td>\n",
       "      <td>2015</td>\n",
       "      <td>Purdue University</td>\n",
       "    </tr>\n",
       "    <tr>\n",
       "      <th>4133</th>\n",
       "      <td>Royal Institute of Technology</td>\n",
       "      <td>201-300</td>\n",
       "      <td>2014</td>\n",
       "      <td>KTH Royal Institute of Technology</td>\n",
       "    </tr>\n",
       "    <tr>\n",
       "      <th>3606</th>\n",
       "      <td>Texas A&amp;M University - College Station</td>\n",
       "      <td>93</td>\n",
       "      <td>2012</td>\n",
       "      <td>Texas A&amp;M University</td>\n",
       "    </tr>\n",
       "    <tr>\n",
       "      <th>3913</th>\n",
       "      <td>The Johns Hopkins University</td>\n",
       "      <td>17</td>\n",
       "      <td>2014</td>\n",
       "      <td>Johns Hopkins University</td>\n",
       "    </tr>\n",
       "    <tr>\n",
       "      <th>3461</th>\n",
       "      <td>The University of Connecticut Health Center</td>\n",
       "      <td>401-500</td>\n",
       "      <td>2011</td>\n",
       "      <td>University of Connecticut</td>\n",
       "    </tr>\n",
       "    <tr>\n",
       "      <th>4569</th>\n",
       "      <td>The University of Hong Kong</td>\n",
       "      <td>151-200</td>\n",
       "      <td>2015</td>\n",
       "      <td>University of Hong Kong</td>\n",
       "    </tr>\n",
       "    <tr>\n",
       "      <th>4854</th>\n",
       "      <td>University of Arkansas at Little Rock</td>\n",
       "      <td>401-500</td>\n",
       "      <td>2015</td>\n",
       "      <td>University of Arkansas</td>\n",
       "    </tr>\n",
       "    <tr>\n",
       "      <th>3383</th>\n",
       "      <td>University of Bordeaux 1</td>\n",
       "      <td>301-400</td>\n",
       "      <td>2011</td>\n",
       "      <td>University of Bordeaux</td>\n",
       "    </tr>\n",
       "    <tr>\n",
       "      <th>4764</th>\n",
       "      <td>University of Campinas</td>\n",
       "      <td>301-400</td>\n",
       "      <td>2015</td>\n",
       "      <td>State University of Campinas</td>\n",
       "    </tr>\n",
       "    <tr>\n",
       "      <th>4768</th>\n",
       "      <td>University of Connecticut</td>\n",
       "      <td>301-400</td>\n",
       "      <td>2015</td>\n",
       "      <td>University of Connecticut</td>\n",
       "    </tr>\n",
       "    <tr>\n",
       "      <th>4864</th>\n",
       "      <td>University of Graz</td>\n",
       "      <td>401-500</td>\n",
       "      <td>2015</td>\n",
       "      <td>University of Graz</td>\n",
       "    </tr>\n",
       "    <tr>\n",
       "      <th>4664</th>\n",
       "      <td>University of Innsbruck</td>\n",
       "      <td>201-300</td>\n",
       "      <td>2015</td>\n",
       "      <td>University of Innsbruck</td>\n",
       "    </tr>\n",
       "    <tr>\n",
       "      <th>3783</th>\n",
       "      <td>University of Kansas - Lawrence</td>\n",
       "      <td>201-300</td>\n",
       "      <td>2012</td>\n",
       "      <td>University of Kansas</td>\n",
       "    </tr>\n",
       "    <tr>\n",
       "      <th>2984</th>\n",
       "      <td>University of Kansas Medical Center</td>\n",
       "      <td>401-500</td>\n",
       "      <td>2010</td>\n",
       "      <td>University of Kansas</td>\n",
       "    </tr>\n",
       "    <tr>\n",
       "      <th>4872</th>\n",
       "      <td>University of Maryland, Baltimore County</td>\n",
       "      <td>401-500</td>\n",
       "      <td>2015</td>\n",
       "      <td>University of Maryland, Baltimore County</td>\n",
       "    </tr>\n",
       "    <tr>\n",
       "      <th>4534</th>\n",
       "      <td>University of Massachusetts Medical School - W...</td>\n",
       "      <td>101-150</td>\n",
       "      <td>2015</td>\n",
       "      <td>University of Massachusetts</td>\n",
       "    </tr>\n",
       "    <tr>\n",
       "      <th>3853</th>\n",
       "      <td>University of Melbourne</td>\n",
       "      <td>54</td>\n",
       "      <td>2013</td>\n",
       "      <td>University of Melbourne</td>\n",
       "    </tr>\n",
       "    <tr>\n",
       "      <th>4418</th>\n",
       "      <td>University of Michigan-Ann Arbor</td>\n",
       "      <td>22</td>\n",
       "      <td>2015</td>\n",
       "      <td>University of Michigan</td>\n",
       "    </tr>\n",
       "    <tr>\n",
       "      <th>4873</th>\n",
       "      <td>University of Milan - Bicocca</td>\n",
       "      <td>401-500</td>\n",
       "      <td>2015</td>\n",
       "      <td>University of Milan</td>\n",
       "    </tr>\n",
       "    <tr>\n",
       "      <th>4776</th>\n",
       "      <td>University of Montana - Missoula</td>\n",
       "      <td>301-400</td>\n",
       "      <td>2015</td>\n",
       "      <td>University of Montana</td>\n",
       "    </tr>\n",
       "    <tr>\n",
       "      <th>3654</th>\n",
       "      <td>University of New South Wales</td>\n",
       "      <td>101-150</td>\n",
       "      <td>2012</td>\n",
       "      <td>University of New South Wales</td>\n",
       "    </tr>\n",
       "    <tr>\n",
       "      <th>4275</th>\n",
       "      <td>University of Newcastle</td>\n",
       "      <td>301-400</td>\n",
       "      <td>2014</td>\n",
       "      <td>University of Newcastle</td>\n",
       "    </tr>\n",
       "    <tr>\n",
       "      <th>4466</th>\n",
       "      <td>University of Pittsburgh, Pittsburgh Campus</td>\n",
       "      <td>70</td>\n",
       "      <td>2015</td>\n",
       "      <td>University of Pittsburgh</td>\n",
       "    </tr>\n",
       "    <tr>\n",
       "      <th>3961</th>\n",
       "      <td>University of Pittsburgh-Pittsburgh Campus</td>\n",
       "      <td>65</td>\n",
       "      <td>2014</td>\n",
       "      <td>University of Pittsburgh</td>\n",
       "    </tr>\n",
       "    <tr>\n",
       "      <th>3501</th>\n",
       "      <td>University of Wisconsin - Milwaukee</td>\n",
       "      <td>401-500</td>\n",
       "      <td>2011</td>\n",
       "      <td>University of Wisconsin</td>\n",
       "    </tr>\n",
       "    <tr>\n",
       "      <th>3309</th>\n",
       "      <td>Washington State University - Pullman</td>\n",
       "      <td>201-300</td>\n",
       "      <td>2011</td>\n",
       "      <td>Washington State University</td>\n",
       "    </tr>\n",
       "  </tbody>\n",
       "</table>\n",
       "</div>"
      ],
      "text/plain": [
       "                                        university_name world_rank  year  \\\n",
       "3876                   Arizona State University - Tempe         79  2013   \n",
       "3425                    Curtin University of Technology    401-500  2011   \n",
       "925   Louisiana State University Health Sciences Center    401-500  2006   \n",
       "4510  Norwegian University of Science and Technology...    101-150  2015   \n",
       "4458                 Purdue University - West Lafayette         61  2015   \n",
       "4133                      Royal Institute of Technology    201-300  2014   \n",
       "3606             Texas A&M University - College Station         93  2012   \n",
       "3913                       The Johns Hopkins University         17  2014   \n",
       "3461        The University of Connecticut Health Center    401-500  2011   \n",
       "4569                        The University of Hong Kong    151-200  2015   \n",
       "4854              University of Arkansas at Little Rock    401-500  2015   \n",
       "3383                           University of Bordeaux 1    301-400  2011   \n",
       "4764                             University of Campinas    301-400  2015   \n",
       "4768                          University of Connecticut    301-400  2015   \n",
       "4864                                 University of Graz    401-500  2015   \n",
       "4664                            University of Innsbruck    201-300  2015   \n",
       "3783                    University of Kansas - Lawrence    201-300  2012   \n",
       "2984                University of Kansas Medical Center    401-500  2010   \n",
       "4872           University of Maryland, Baltimore County    401-500  2015   \n",
       "4534  University of Massachusetts Medical School - W...    101-150  2015   \n",
       "3853                            University of Melbourne         54  2013   \n",
       "4418                   University of Michigan-Ann Arbor         22  2015   \n",
       "4873                      University of Milan - Bicocca    401-500  2015   \n",
       "4776                   University of Montana - Missoula    301-400  2015   \n",
       "3654                      University of New South Wales    101-150  2012   \n",
       "4275                            University of Newcastle    301-400  2014   \n",
       "4466        University of Pittsburgh, Pittsburgh Campus         70  2015   \n",
       "3961         University of Pittsburgh-Pittsburgh Campus         65  2014   \n",
       "3501                University of Wisconsin - Milwaukee    401-500  2011   \n",
       "3309              Washington State University - Pullman    201-300  2011   \n",
       "\n",
       "                          university_name_normalized  \n",
       "3876                        Arizona State University  \n",
       "3425                               Curtin University  \n",
       "925                       Louisiana State University  \n",
       "4510  Norwegian University of Science and Technology  \n",
       "4458                               Purdue University  \n",
       "4133               KTH Royal Institute of Technology  \n",
       "3606                            Texas A&M University  \n",
       "3913                        Johns Hopkins University  \n",
       "3461                       University of Connecticut  \n",
       "4569                         University of Hong Kong  \n",
       "4854                          University of Arkansas  \n",
       "3383                          University of Bordeaux  \n",
       "4764                    State University of Campinas  \n",
       "4768                       University of Connecticut  \n",
       "4864                              University of Graz  \n",
       "4664                         University of Innsbruck  \n",
       "3783                            University of Kansas  \n",
       "2984                            University of Kansas  \n",
       "4872        University of Maryland, Baltimore County  \n",
       "4534                     University of Massachusetts  \n",
       "3853                         University of Melbourne  \n",
       "4418                          University of Michigan  \n",
       "4873                             University of Milan  \n",
       "4776                           University of Montana  \n",
       "3654                   University of New South Wales  \n",
       "4275                         University of Newcastle  \n",
       "4466                        University of Pittsburgh  \n",
       "3961                        University of Pittsburgh  \n",
       "3501                         University of Wisconsin  \n",
       "3309                     Washington State University  "
      ]
     },
     "execution_count": 26,
     "metadata": {},
     "output_type": "execute_result"
    }
   ],
   "source": [
    "shanghaidb_for_max[(shanghaidb_for_max['university_name_normalized'].isnull() == False) & (shanghaidb_for_max['university_name_normalized'].duplicated() == True)]"
   ]
  },
  {
   "cell_type": "code",
   "execution_count": 27,
   "metadata": {
    "colab": {
     "base_uri": "https://localhost:8080/",
     "height": 112
    },
    "id": "yH9ZvyM3ZdSP",
    "outputId": "f13fa47d-3a50-4d0f-a951-34a57b726c3e"
   },
   "outputs": [
    {
     "data": {
      "text/html": [
       "<div>\n",
       "<style scoped>\n",
       "    .dataframe tbody tr th:only-of-type {\n",
       "        vertical-align: middle;\n",
       "    }\n",
       "\n",
       "    .dataframe tbody tr th {\n",
       "        vertical-align: top;\n",
       "    }\n",
       "\n",
       "    .dataframe thead th {\n",
       "        text-align: right;\n",
       "    }\n",
       "</style>\n",
       "<table border=\"1\" class=\"dataframe\">\n",
       "  <thead>\n",
       "    <tr style=\"text-align: right;\">\n",
       "      <th></th>\n",
       "      <th>university_name</th>\n",
       "      <th>world_rank</th>\n",
       "      <th>year</th>\n",
       "      <th>university_name_normalized</th>\n",
       "    </tr>\n",
       "  </thead>\n",
       "  <tbody>\n",
       "    <tr>\n",
       "      <th>4489</th>\n",
       "      <td>Arizona State University</td>\n",
       "      <td>93</td>\n",
       "      <td>2015</td>\n",
       "      <td>Arizona State University</td>\n",
       "    </tr>\n",
       "    <tr>\n",
       "      <th>3876</th>\n",
       "      <td>Arizona State University - Tempe</td>\n",
       "      <td>79</td>\n",
       "      <td>2013</td>\n",
       "      <td>Arizona State University</td>\n",
       "    </tr>\n",
       "  </tbody>\n",
       "</table>\n",
       "</div>"
      ],
      "text/plain": [
       "                       university_name world_rank  year  \\\n",
       "4489          Arizona State University         93  2015   \n",
       "3876  Arizona State University - Tempe         79  2013   \n",
       "\n",
       "     university_name_normalized  \n",
       "4489   Arizona State University  \n",
       "3876   Arizona State University  "
      ]
     },
     "execution_count": 27,
     "metadata": {},
     "output_type": "execute_result"
    }
   ],
   "source": [
    "shanghaidb_for_max[shanghaidb_for_max['university_name_normalized'] == 'Arizona State University']"
   ]
  },
  {
   "cell_type": "code",
   "execution_count": 28,
   "metadata": {
    "colab": {
     "base_uri": "https://localhost:8080/",
     "height": 112
    },
    "id": "X6ZE8Yszh5QM",
    "outputId": "cfeb05a5-4ecb-44c7-c592-24e588ac3d7f"
   },
   "outputs": [
    {
     "data": {
      "text/html": [
       "<div>\n",
       "<style scoped>\n",
       "    .dataframe tbody tr th:only-of-type {\n",
       "        vertical-align: middle;\n",
       "    }\n",
       "\n",
       "    .dataframe tbody tr th {\n",
       "        vertical-align: top;\n",
       "    }\n",
       "\n",
       "    .dataframe thead th {\n",
       "        text-align: right;\n",
       "    }\n",
       "</style>\n",
       "<table border=\"1\" class=\"dataframe\">\n",
       "  <thead>\n",
       "    <tr style=\"text-align: right;\">\n",
       "      <th></th>\n",
       "      <th>university_name</th>\n",
       "      <th>world_rank</th>\n",
       "      <th>year</th>\n",
       "      <th>university_name_normalized</th>\n",
       "    </tr>\n",
       "  </thead>\n",
       "  <tbody>\n",
       "    <tr>\n",
       "      <th>4606</th>\n",
       "      <td>Curtin University</td>\n",
       "      <td>201-300</td>\n",
       "      <td>2015</td>\n",
       "      <td>Curtin University</td>\n",
       "    </tr>\n",
       "    <tr>\n",
       "      <th>3425</th>\n",
       "      <td>Curtin University of Technology</td>\n",
       "      <td>401-500</td>\n",
       "      <td>2011</td>\n",
       "      <td>Curtin University</td>\n",
       "    </tr>\n",
       "  </tbody>\n",
       "</table>\n",
       "</div>"
      ],
      "text/plain": [
       "                      university_name world_rank  year  \\\n",
       "4606                Curtin University    201-300  2015   \n",
       "3425  Curtin University of Technology    401-500  2011   \n",
       "\n",
       "     university_name_normalized  \n",
       "4606          Curtin University  \n",
       "3425          Curtin University  "
      ]
     },
     "execution_count": 28,
     "metadata": {},
     "output_type": "execute_result"
    }
   ],
   "source": [
    "shanghaidb_for_max[shanghaidb_for_max['university_name_normalized'] == 'Curtin University']"
   ]
  },
  {
   "cell_type": "code",
   "execution_count": 29,
   "metadata": {
    "colab": {
     "base_uri": "https://localhost:8080/",
     "height": 112
    },
    "id": "p_Nkh1Jjh5Ln",
    "outputId": "34eeaaad-3f72-43ec-95cf-6ebfa66a324c"
   },
   "outputs": [
    {
     "data": {
      "text/html": [
       "<div>\n",
       "<style scoped>\n",
       "    .dataframe tbody tr th:only-of-type {\n",
       "        vertical-align: middle;\n",
       "    }\n",
       "\n",
       "    .dataframe tbody tr th {\n",
       "        vertical-align: top;\n",
       "    }\n",
       "\n",
       "    .dataframe thead th {\n",
       "        text-align: right;\n",
       "    }\n",
       "</style>\n",
       "<table border=\"1\" class=\"dataframe\">\n",
       "  <thead>\n",
       "    <tr style=\"text-align: right;\">\n",
       "      <th></th>\n",
       "      <th>university_name</th>\n",
       "      <th>world_rank</th>\n",
       "      <th>year</th>\n",
       "      <th>university_name_normalized</th>\n",
       "    </tr>\n",
       "  </thead>\n",
       "  <tbody>\n",
       "    <tr>\n",
       "      <th>4624</th>\n",
       "      <td>Louisiana State University - Baton Rouge</td>\n",
       "      <td>201-300</td>\n",
       "      <td>2015</td>\n",
       "      <td>Louisiana State University</td>\n",
       "    </tr>\n",
       "    <tr>\n",
       "      <th>925</th>\n",
       "      <td>Louisiana State University Health Sciences Center</td>\n",
       "      <td>401-500</td>\n",
       "      <td>2006</td>\n",
       "      <td>Louisiana State University</td>\n",
       "    </tr>\n",
       "  </tbody>\n",
       "</table>\n",
       "</div>"
      ],
      "text/plain": [
       "                                        university_name world_rank  year  \\\n",
       "4624           Louisiana State University - Baton Rouge    201-300  2015   \n",
       "925   Louisiana State University Health Sciences Center    401-500  2006   \n",
       "\n",
       "      university_name_normalized  \n",
       "4624  Louisiana State University  \n",
       "925   Louisiana State University  "
      ]
     },
     "execution_count": 29,
     "metadata": {},
     "output_type": "execute_result"
    }
   ],
   "source": [
    "shanghaidb_for_max[shanghaidb_for_max['university_name_normalized'] == 'Louisiana State University']"
   ]
  },
  {
   "cell_type": "code",
   "execution_count": 30,
   "metadata": {
    "colab": {
     "base_uri": "https://localhost:8080/",
     "height": 112
    },
    "id": "2_RztncFh5HV",
    "outputId": "b2e3a257-c73f-4044-e9bb-a68492a889e7"
   },
   "outputs": [
    {
     "data": {
      "text/html": [
       "<div>\n",
       "<style scoped>\n",
       "    .dataframe tbody tr th:only-of-type {\n",
       "        vertical-align: middle;\n",
       "    }\n",
       "\n",
       "    .dataframe tbody tr th {\n",
       "        vertical-align: top;\n",
       "    }\n",
       "\n",
       "    .dataframe thead th {\n",
       "        text-align: right;\n",
       "    }\n",
       "</style>\n",
       "<table border=\"1\" class=\"dataframe\">\n",
       "  <thead>\n",
       "    <tr style=\"text-align: right;\">\n",
       "      <th></th>\n",
       "      <th>university_name</th>\n",
       "      <th>world_rank</th>\n",
       "      <th>year</th>\n",
       "      <th>university_name_normalized</th>\n",
       "    </tr>\n",
       "  </thead>\n",
       "  <tbody>\n",
       "    <tr>\n",
       "      <th>3738</th>\n",
       "      <td>Norwegian University of Science and Technology</td>\n",
       "      <td>201-300</td>\n",
       "      <td>2012</td>\n",
       "      <td>Norwegian University of Science and Technology</td>\n",
       "    </tr>\n",
       "    <tr>\n",
       "      <th>4510</th>\n",
       "      <td>Norwegian University of Science and Technology...</td>\n",
       "      <td>101-150</td>\n",
       "      <td>2015</td>\n",
       "      <td>Norwegian University of Science and Technology</td>\n",
       "    </tr>\n",
       "  </tbody>\n",
       "</table>\n",
       "</div>"
      ],
      "text/plain": [
       "                                        university_name world_rank  year  \\\n",
       "3738     Norwegian University of Science and Technology    201-300  2012   \n",
       "4510  Norwegian University of Science and Technology...    101-150  2015   \n",
       "\n",
       "                          university_name_normalized  \n",
       "3738  Norwegian University of Science and Technology  \n",
       "4510  Norwegian University of Science and Technology  "
      ]
     },
     "execution_count": 30,
     "metadata": {},
     "output_type": "execute_result"
    }
   ],
   "source": [
    "shanghaidb_for_max[shanghaidb_for_max['university_name_normalized'] == 'Norwegian University of Science and Technology']"
   ]
  },
  {
   "cell_type": "code",
   "execution_count": 31,
   "metadata": {
    "colab": {
     "base_uri": "https://localhost:8080/",
     "height": 112
    },
    "id": "GMA6HkzziJaW",
    "outputId": "00227034-6750-4585-ef81-c6038aadf506"
   },
   "outputs": [
    {
     "data": {
      "text/html": [
       "<div>\n",
       "<style scoped>\n",
       "    .dataframe tbody tr th:only-of-type {\n",
       "        vertical-align: middle;\n",
       "    }\n",
       "\n",
       "    .dataframe tbody tr th {\n",
       "        vertical-align: top;\n",
       "    }\n",
       "\n",
       "    .dataframe thead th {\n",
       "        text-align: right;\n",
       "    }\n",
       "</style>\n",
       "<table border=\"1\" class=\"dataframe\">\n",
       "  <thead>\n",
       "    <tr style=\"text-align: right;\">\n",
       "      <th></th>\n",
       "      <th>university_name</th>\n",
       "      <th>world_rank</th>\n",
       "      <th>year</th>\n",
       "      <th>university_name_normalized</th>\n",
       "    </tr>\n",
       "  </thead>\n",
       "  <tbody>\n",
       "    <tr>\n",
       "      <th>4616</th>\n",
       "      <td>Indiana University-Purdue University at Indian...</td>\n",
       "      <td>201-300</td>\n",
       "      <td>2015</td>\n",
       "      <td>Purdue University</td>\n",
       "    </tr>\n",
       "    <tr>\n",
       "      <th>4458</th>\n",
       "      <td>Purdue University - West Lafayette</td>\n",
       "      <td>61</td>\n",
       "      <td>2015</td>\n",
       "      <td>Purdue University</td>\n",
       "    </tr>\n",
       "  </tbody>\n",
       "</table>\n",
       "</div>"
      ],
      "text/plain": [
       "                                        university_name world_rank  year  \\\n",
       "4616  Indiana University-Purdue University at Indian...    201-300  2015   \n",
       "4458                 Purdue University - West Lafayette         61  2015   \n",
       "\n",
       "     university_name_normalized  \n",
       "4616          Purdue University  \n",
       "4458          Purdue University  "
      ]
     },
     "execution_count": 31,
     "metadata": {},
     "output_type": "execute_result"
    }
   ],
   "source": [
    "shanghaidb_for_max[shanghaidb_for_max['university_name_normalized'] == 'Purdue University']"
   ]
  },
  {
   "cell_type": "code",
   "execution_count": 32,
   "metadata": {
    "colab": {
     "base_uri": "https://localhost:8080/",
     "height": 112
    },
    "id": "IBuBvvDziJXV",
    "outputId": "e0a80e77-800c-4846-9030-d7589fc705d7"
   },
   "outputs": [
    {
     "data": {
      "text/html": [
       "<div>\n",
       "<style scoped>\n",
       "    .dataframe tbody tr th:only-of-type {\n",
       "        vertical-align: middle;\n",
       "    }\n",
       "\n",
       "    .dataframe tbody tr th {\n",
       "        vertical-align: top;\n",
       "    }\n",
       "\n",
       "    .dataframe thead th {\n",
       "        text-align: right;\n",
       "    }\n",
       "</style>\n",
       "<table border=\"1\" class=\"dataframe\">\n",
       "  <thead>\n",
       "    <tr style=\"text-align: right;\">\n",
       "      <th></th>\n",
       "      <th>university_name</th>\n",
       "      <th>world_rank</th>\n",
       "      <th>year</th>\n",
       "      <th>university_name_normalized</th>\n",
       "    </tr>\n",
       "  </thead>\n",
       "  <tbody>\n",
       "    <tr>\n",
       "      <th>4621</th>\n",
       "      <td>KTH Royal Institute of Technology</td>\n",
       "      <td>201-300</td>\n",
       "      <td>2015</td>\n",
       "      <td>KTH Royal Institute of Technology</td>\n",
       "    </tr>\n",
       "    <tr>\n",
       "      <th>4133</th>\n",
       "      <td>Royal Institute of Technology</td>\n",
       "      <td>201-300</td>\n",
       "      <td>2014</td>\n",
       "      <td>KTH Royal Institute of Technology</td>\n",
       "    </tr>\n",
       "  </tbody>\n",
       "</table>\n",
       "</div>"
      ],
      "text/plain": [
       "                        university_name world_rank  year  \\\n",
       "4621  KTH Royal Institute of Technology    201-300  2015   \n",
       "4133      Royal Institute of Technology    201-300  2014   \n",
       "\n",
       "             university_name_normalized  \n",
       "4621  KTH Royal Institute of Technology  \n",
       "4133  KTH Royal Institute of Technology  "
      ]
     },
     "execution_count": 32,
     "metadata": {},
     "output_type": "execute_result"
    }
   ],
   "source": [
    "shanghaidb_for_max[shanghaidb_for_max['university_name_normalized'] == 'KTH Royal Institute of Technology']"
   ]
  },
  {
   "cell_type": "code",
   "execution_count": 33,
   "metadata": {
    "colab": {
     "base_uri": "https://localhost:8080/",
     "height": 112
    },
    "id": "JJPGe2tdiJNT",
    "outputId": "bb083fbd-e2b4-4b01-c169-c3e80e736689"
   },
   "outputs": [
    {
     "data": {
      "text/html": [
       "<div>\n",
       "<style scoped>\n",
       "    .dataframe tbody tr th:only-of-type {\n",
       "        vertical-align: middle;\n",
       "    }\n",
       "\n",
       "    .dataframe tbody tr th {\n",
       "        vertical-align: top;\n",
       "    }\n",
       "\n",
       "    .dataframe thead th {\n",
       "        text-align: right;\n",
       "    }\n",
       "</style>\n",
       "<table border=\"1\" class=\"dataframe\">\n",
       "  <thead>\n",
       "    <tr style=\"text-align: right;\">\n",
       "      <th></th>\n",
       "      <th>university_name</th>\n",
       "      <th>world_rank</th>\n",
       "      <th>year</th>\n",
       "      <th>university_name_normalized</th>\n",
       "    </tr>\n",
       "  </thead>\n",
       "  <tbody>\n",
       "    <tr>\n",
       "      <th>4496</th>\n",
       "      <td>Texas A&amp;M University</td>\n",
       "      <td>100</td>\n",
       "      <td>2015</td>\n",
       "      <td>Texas A&amp;M University</td>\n",
       "    </tr>\n",
       "    <tr>\n",
       "      <th>3606</th>\n",
       "      <td>Texas A&amp;M University - College Station</td>\n",
       "      <td>93</td>\n",
       "      <td>2012</td>\n",
       "      <td>Texas A&amp;M University</td>\n",
       "    </tr>\n",
       "  </tbody>\n",
       "</table>\n",
       "</div>"
      ],
      "text/plain": [
       "                             university_name world_rank  year  \\\n",
       "4496                    Texas A&M University        100  2015   \n",
       "3606  Texas A&M University - College Station         93  2012   \n",
       "\n",
       "     university_name_normalized  \n",
       "4496       Texas A&M University  \n",
       "3606       Texas A&M University  "
      ]
     },
     "execution_count": 33,
     "metadata": {},
     "output_type": "execute_result"
    }
   ],
   "source": [
    "shanghaidb_for_max[shanghaidb_for_max['university_name_normalized'] == 'Texas A&M University']"
   ]
  },
  {
   "cell_type": "code",
   "execution_count": 34,
   "metadata": {
    "colab": {
     "base_uri": "https://localhost:8080/",
     "height": 112
    },
    "id": "LbJdq9fPisG5",
    "outputId": "6ecbbf71-2099-4c25-ae16-88b98030f577"
   },
   "outputs": [
    {
     "data": {
      "text/html": [
       "<div>\n",
       "<style scoped>\n",
       "    .dataframe tbody tr th:only-of-type {\n",
       "        vertical-align: middle;\n",
       "    }\n",
       "\n",
       "    .dataframe tbody tr th {\n",
       "        vertical-align: top;\n",
       "    }\n",
       "\n",
       "    .dataframe thead th {\n",
       "        text-align: right;\n",
       "    }\n",
       "</style>\n",
       "<table border=\"1\" class=\"dataframe\">\n",
       "  <thead>\n",
       "    <tr style=\"text-align: right;\">\n",
       "      <th></th>\n",
       "      <th>university_name</th>\n",
       "      <th>world_rank</th>\n",
       "      <th>year</th>\n",
       "      <th>university_name_normalized</th>\n",
       "    </tr>\n",
       "  </thead>\n",
       "  <tbody>\n",
       "    <tr>\n",
       "      <th>4412</th>\n",
       "      <td>Johns Hopkins University</td>\n",
       "      <td>16</td>\n",
       "      <td>2015</td>\n",
       "      <td>Johns Hopkins University</td>\n",
       "    </tr>\n",
       "    <tr>\n",
       "      <th>3913</th>\n",
       "      <td>The Johns Hopkins University</td>\n",
       "      <td>17</td>\n",
       "      <td>2014</td>\n",
       "      <td>Johns Hopkins University</td>\n",
       "    </tr>\n",
       "  </tbody>\n",
       "</table>\n",
       "</div>"
      ],
      "text/plain": [
       "                   university_name world_rank  year university_name_normalized\n",
       "4412      Johns Hopkins University         16  2015   Johns Hopkins University\n",
       "3913  The Johns Hopkins University         17  2014   Johns Hopkins University"
      ]
     },
     "execution_count": 34,
     "metadata": {},
     "output_type": "execute_result"
    }
   ],
   "source": [
    "shanghaidb_for_max[shanghaidb_for_max['university_name_normalized'] == 'Johns Hopkins University']"
   ]
  },
  {
   "cell_type": "code",
   "execution_count": 35,
   "metadata": {
    "colab": {
     "base_uri": "https://localhost:8080/",
     "height": 143
    },
    "id": "JPkAiPZgiz5L",
    "outputId": "49eba4ec-e638-498c-dbe0-7d8a751452bc"
   },
   "outputs": [
    {
     "data": {
      "text/html": [
       "<div>\n",
       "<style scoped>\n",
       "    .dataframe tbody tr th:only-of-type {\n",
       "        vertical-align: middle;\n",
       "    }\n",
       "\n",
       "    .dataframe tbody tr th {\n",
       "        vertical-align: top;\n",
       "    }\n",
       "\n",
       "    .dataframe thead th {\n",
       "        text-align: right;\n",
       "    }\n",
       "</style>\n",
       "<table border=\"1\" class=\"dataframe\">\n",
       "  <thead>\n",
       "    <tr style=\"text-align: right;\">\n",
       "      <th></th>\n",
       "      <th>university_name</th>\n",
       "      <th>world_rank</th>\n",
       "      <th>year</th>\n",
       "      <th>university_name_normalized</th>\n",
       "    </tr>\n",
       "  </thead>\n",
       "  <tbody>\n",
       "    <tr>\n",
       "      <th>3758</th>\n",
       "      <td>The University of Connecticut - Storrs</td>\n",
       "      <td>201-300</td>\n",
       "      <td>2012</td>\n",
       "      <td>University of Connecticut</td>\n",
       "    </tr>\n",
       "    <tr>\n",
       "      <th>3461</th>\n",
       "      <td>The University of Connecticut Health Center</td>\n",
       "      <td>401-500</td>\n",
       "      <td>2011</td>\n",
       "      <td>University of Connecticut</td>\n",
       "    </tr>\n",
       "    <tr>\n",
       "      <th>4768</th>\n",
       "      <td>University of Connecticut</td>\n",
       "      <td>301-400</td>\n",
       "      <td>2015</td>\n",
       "      <td>University of Connecticut</td>\n",
       "    </tr>\n",
       "  </tbody>\n",
       "</table>\n",
       "</div>"
      ],
      "text/plain": [
       "                                  university_name world_rank  year  \\\n",
       "3758       The University of Connecticut - Storrs    201-300  2012   \n",
       "3461  The University of Connecticut Health Center    401-500  2011   \n",
       "4768                    University of Connecticut    301-400  2015   \n",
       "\n",
       "     university_name_normalized  \n",
       "3758  University of Connecticut  \n",
       "3461  University of Connecticut  \n",
       "4768  University of Connecticut  "
      ]
     },
     "execution_count": 35,
     "metadata": {},
     "output_type": "execute_result"
    }
   ],
   "source": [
    "shanghaidb_for_max[shanghaidb_for_max['university_name_normalized'] == 'University of Connecticut']"
   ]
  },
  {
   "cell_type": "code",
   "execution_count": 36,
   "metadata": {
    "colab": {
     "base_uri": "https://localhost:8080/",
     "height": 112
    },
    "id": "pfi956r9iz1g",
    "outputId": "a055b0e1-bdbb-49a2-f370-3ecd575a9c3f"
   },
   "outputs": [
    {
     "data": {
      "text/html": [
       "<div>\n",
       "<style scoped>\n",
       "    .dataframe tbody tr th:only-of-type {\n",
       "        vertical-align: middle;\n",
       "    }\n",
       "\n",
       "    .dataframe tbody tr th {\n",
       "        vertical-align: top;\n",
       "    }\n",
       "\n",
       "    .dataframe thead th {\n",
       "        text-align: right;\n",
       "    }\n",
       "</style>\n",
       "<table border=\"1\" class=\"dataframe\">\n",
       "  <thead>\n",
       "    <tr style=\"text-align: right;\">\n",
       "      <th></th>\n",
       "      <th>university_name</th>\n",
       "      <th>world_rank</th>\n",
       "      <th>year</th>\n",
       "      <th>university_name_normalized</th>\n",
       "    </tr>\n",
       "  </thead>\n",
       "  <tbody>\n",
       "    <tr>\n",
       "      <th>4853</th>\n",
       "      <td>University of Arkansas at Fayetteville</td>\n",
       "      <td>401-500</td>\n",
       "      <td>2015</td>\n",
       "      <td>University of Arkansas</td>\n",
       "    </tr>\n",
       "    <tr>\n",
       "      <th>4854</th>\n",
       "      <td>University of Arkansas at Little Rock</td>\n",
       "      <td>401-500</td>\n",
       "      <td>2015</td>\n",
       "      <td>University of Arkansas</td>\n",
       "    </tr>\n",
       "  </tbody>\n",
       "</table>\n",
       "</div>"
      ],
      "text/plain": [
       "                             university_name world_rank  year  \\\n",
       "4853  University of Arkansas at Fayetteville    401-500  2015   \n",
       "4854   University of Arkansas at Little Rock    401-500  2015   \n",
       "\n",
       "     university_name_normalized  \n",
       "4853     University of Arkansas  \n",
       "4854     University of Arkansas  "
      ]
     },
     "execution_count": 36,
     "metadata": {},
     "output_type": "execute_result"
    }
   ],
   "source": [
    "shanghaidb_for_max[shanghaidb_for_max['university_name_normalized'] == 'University of Arkansas']"
   ]
  },
  {
   "cell_type": "code",
   "execution_count": 37,
   "metadata": {
    "colab": {
     "base_uri": "https://localhost:8080/",
     "height": 112
    },
    "id": "chxZAhujir-F",
    "outputId": "2c308ffa-53d1-4d29-bc0d-0b67a4a7690b"
   },
   "outputs": [
    {
     "data": {
      "text/html": [
       "<div>\n",
       "<style scoped>\n",
       "    .dataframe tbody tr th:only-of-type {\n",
       "        vertical-align: middle;\n",
       "    }\n",
       "\n",
       "    .dataframe tbody tr th {\n",
       "        vertical-align: top;\n",
       "    }\n",
       "\n",
       "    .dataframe thead th {\n",
       "        text-align: right;\n",
       "    }\n",
       "</style>\n",
       "<table border=\"1\" class=\"dataframe\">\n",
       "  <thead>\n",
       "    <tr style=\"text-align: right;\">\n",
       "      <th></th>\n",
       "      <th>university_name</th>\n",
       "      <th>world_rank</th>\n",
       "      <th>year</th>\n",
       "      <th>university_name_normalized</th>\n",
       "    </tr>\n",
       "  </thead>\n",
       "  <tbody>\n",
       "    <tr>\n",
       "      <th>4656</th>\n",
       "      <td>University of Bordeaux</td>\n",
       "      <td>201-300</td>\n",
       "      <td>2015</td>\n",
       "      <td>University of Bordeaux</td>\n",
       "    </tr>\n",
       "    <tr>\n",
       "      <th>3383</th>\n",
       "      <td>University of Bordeaux 1</td>\n",
       "      <td>301-400</td>\n",
       "      <td>2011</td>\n",
       "      <td>University of Bordeaux</td>\n",
       "    </tr>\n",
       "  </tbody>\n",
       "</table>\n",
       "</div>"
      ],
      "text/plain": [
       "               university_name world_rank  year university_name_normalized\n",
       "4656    University of Bordeaux    201-300  2015     University of Bordeaux\n",
       "3383  University of Bordeaux 1    301-400  2011     University of Bordeaux"
      ]
     },
     "execution_count": 37,
     "metadata": {},
     "output_type": "execute_result"
    }
   ],
   "source": [
    "shanghaidb_for_max[shanghaidb_for_max['university_name_normalized'] == 'University of Bordeaux']"
   ]
  },
  {
   "cell_type": "code",
   "execution_count": 38,
   "metadata": {
    "colab": {
     "base_uri": "https://localhost:8080/",
     "height": 112
    },
    "id": "xwJiQ90th49C",
    "outputId": "b4df6a75-9291-42ae-8c2f-926b9199a55c"
   },
   "outputs": [
    {
     "data": {
      "text/html": [
       "<div>\n",
       "<style scoped>\n",
       "    .dataframe tbody tr th:only-of-type {\n",
       "        vertical-align: middle;\n",
       "    }\n",
       "\n",
       "    .dataframe tbody tr th {\n",
       "        vertical-align: top;\n",
       "    }\n",
       "\n",
       "    .dataframe thead th {\n",
       "        text-align: right;\n",
       "    }\n",
       "</style>\n",
       "<table border=\"1\" class=\"dataframe\">\n",
       "  <thead>\n",
       "    <tr style=\"text-align: right;\">\n",
       "      <th></th>\n",
       "      <th>university_name</th>\n",
       "      <th>world_rank</th>\n",
       "      <th>year</th>\n",
       "      <th>university_name_normalized</th>\n",
       "    </tr>\n",
       "  </thead>\n",
       "  <tbody>\n",
       "    <tr>\n",
       "      <th>3748</th>\n",
       "      <td>State University of Campinas</td>\n",
       "      <td>201-300</td>\n",
       "      <td>2012</td>\n",
       "      <td>State University of Campinas</td>\n",
       "    </tr>\n",
       "    <tr>\n",
       "      <th>4764</th>\n",
       "      <td>University of Campinas</td>\n",
       "      <td>301-400</td>\n",
       "      <td>2015</td>\n",
       "      <td>State University of Campinas</td>\n",
       "    </tr>\n",
       "  </tbody>\n",
       "</table>\n",
       "</div>"
      ],
      "text/plain": [
       "                   university_name world_rank  year  \\\n",
       "3748  State University of Campinas    201-300  2012   \n",
       "4764        University of Campinas    301-400  2015   \n",
       "\n",
       "        university_name_normalized  \n",
       "3748  State University of Campinas  \n",
       "4764  State University of Campinas  "
      ]
     },
     "execution_count": 38,
     "metadata": {},
     "output_type": "execute_result"
    }
   ],
   "source": [
    "shanghaidb_for_max[shanghaidb_for_max['university_name_normalized'] == 'State University of Campinas']"
   ]
  },
  {
   "cell_type": "code",
   "execution_count": 39,
   "metadata": {
    "colab": {
     "base_uri": "https://localhost:8080/",
     "height": 112
    },
    "id": "rOfVb87ljdSV",
    "outputId": "573580bc-2a8a-4011-d823-d08119fe1c7f"
   },
   "outputs": [
    {
     "data": {
      "text/html": [
       "<div>\n",
       "<style scoped>\n",
       "    .dataframe tbody tr th:only-of-type {\n",
       "        vertical-align: middle;\n",
       "    }\n",
       "\n",
       "    .dataframe tbody tr th {\n",
       "        vertical-align: top;\n",
       "    }\n",
       "\n",
       "    .dataframe thead th {\n",
       "        text-align: right;\n",
       "    }\n",
       "</style>\n",
       "<table border=\"1\" class=\"dataframe\">\n",
       "  <thead>\n",
       "    <tr style=\"text-align: right;\">\n",
       "      <th></th>\n",
       "      <th>university_name</th>\n",
       "      <th>world_rank</th>\n",
       "      <th>year</th>\n",
       "      <th>university_name_normalized</th>\n",
       "    </tr>\n",
       "  </thead>\n",
       "  <tbody>\n",
       "    <tr>\n",
       "      <th>4825</th>\n",
       "      <td>Medical University of Graz</td>\n",
       "      <td>401-500</td>\n",
       "      <td>2015</td>\n",
       "      <td>University of Graz</td>\n",
       "    </tr>\n",
       "    <tr>\n",
       "      <th>4864</th>\n",
       "      <td>University of Graz</td>\n",
       "      <td>401-500</td>\n",
       "      <td>2015</td>\n",
       "      <td>University of Graz</td>\n",
       "    </tr>\n",
       "  </tbody>\n",
       "</table>\n",
       "</div>"
      ],
      "text/plain": [
       "                 university_name world_rank  year university_name_normalized\n",
       "4825  Medical University of Graz    401-500  2015         University of Graz\n",
       "4864          University of Graz    401-500  2015         University of Graz"
      ]
     },
     "execution_count": 39,
     "metadata": {},
     "output_type": "execute_result"
    }
   ],
   "source": [
    "shanghaidb_for_max[shanghaidb_for_max['university_name_normalized'] == 'University of Graz']"
   ]
  },
  {
   "cell_type": "code",
   "execution_count": 40,
   "metadata": {
    "colab": {
     "base_uri": "https://localhost:8080/",
     "height": 112
    },
    "id": "f7kGivBijdOa",
    "outputId": "26580698-5161-4690-bb09-918211c2d936"
   },
   "outputs": [
    {
     "data": {
      "text/html": [
       "<div>\n",
       "<style scoped>\n",
       "    .dataframe tbody tr th:only-of-type {\n",
       "        vertical-align: middle;\n",
       "    }\n",
       "\n",
       "    .dataframe tbody tr th {\n",
       "        vertical-align: top;\n",
       "    }\n",
       "\n",
       "    .dataframe thead th {\n",
       "        text-align: right;\n",
       "    }\n",
       "</style>\n",
       "<table border=\"1\" class=\"dataframe\">\n",
       "  <thead>\n",
       "    <tr style=\"text-align: right;\">\n",
       "      <th></th>\n",
       "      <th>university_name</th>\n",
       "      <th>world_rank</th>\n",
       "      <th>year</th>\n",
       "      <th>university_name_normalized</th>\n",
       "    </tr>\n",
       "  </thead>\n",
       "  <tbody>\n",
       "    <tr>\n",
       "      <th>3346</th>\n",
       "      <td>Medical University of Innsbruck</td>\n",
       "      <td>301-400</td>\n",
       "      <td>2011</td>\n",
       "      <td>University of Innsbruck</td>\n",
       "    </tr>\n",
       "    <tr>\n",
       "      <th>4664</th>\n",
       "      <td>University of Innsbruck</td>\n",
       "      <td>201-300</td>\n",
       "      <td>2015</td>\n",
       "      <td>University of Innsbruck</td>\n",
       "    </tr>\n",
       "  </tbody>\n",
       "</table>\n",
       "</div>"
      ],
      "text/plain": [
       "                      university_name world_rank  year  \\\n",
       "3346  Medical University of Innsbruck    301-400  2011   \n",
       "4664          University of Innsbruck    201-300  2015   \n",
       "\n",
       "     university_name_normalized  \n",
       "3346    University of Innsbruck  \n",
       "4664    University of Innsbruck  "
      ]
     },
     "execution_count": 40,
     "metadata": {},
     "output_type": "execute_result"
    }
   ],
   "source": [
    "shanghaidb_for_max[shanghaidb_for_max['university_name_normalized'] == 'University of Innsbruck']"
   ]
  },
  {
   "cell_type": "code",
   "execution_count": 41,
   "metadata": {
    "colab": {
     "base_uri": "https://localhost:8080/",
     "height": 143
    },
    "id": "cWKboiFljzEL",
    "outputId": "65c88184-c02d-436b-92dc-38c70f2ee136"
   },
   "outputs": [
    {
     "data": {
      "text/html": [
       "<div>\n",
       "<style scoped>\n",
       "    .dataframe tbody tr th:only-of-type {\n",
       "        vertical-align: middle;\n",
       "    }\n",
       "\n",
       "    .dataframe tbody tr th {\n",
       "        vertical-align: top;\n",
       "    }\n",
       "\n",
       "    .dataframe thead th {\n",
       "        text-align: right;\n",
       "    }\n",
       "</style>\n",
       "<table border=\"1\" class=\"dataframe\">\n",
       "  <thead>\n",
       "    <tr style=\"text-align: right;\">\n",
       "      <th></th>\n",
       "      <th>university_name</th>\n",
       "      <th>world_rank</th>\n",
       "      <th>year</th>\n",
       "      <th>university_name_normalized</th>\n",
       "    </tr>\n",
       "  </thead>\n",
       "  <tbody>\n",
       "    <tr>\n",
       "      <th>4665</th>\n",
       "      <td>University of Kansas</td>\n",
       "      <td>201-300</td>\n",
       "      <td>2015</td>\n",
       "      <td>University of Kansas</td>\n",
       "    </tr>\n",
       "    <tr>\n",
       "      <th>3783</th>\n",
       "      <td>University of Kansas - Lawrence</td>\n",
       "      <td>201-300</td>\n",
       "      <td>2012</td>\n",
       "      <td>University of Kansas</td>\n",
       "    </tr>\n",
       "    <tr>\n",
       "      <th>2984</th>\n",
       "      <td>University of Kansas Medical Center</td>\n",
       "      <td>401-500</td>\n",
       "      <td>2010</td>\n",
       "      <td>University of Kansas</td>\n",
       "    </tr>\n",
       "  </tbody>\n",
       "</table>\n",
       "</div>"
      ],
      "text/plain": [
       "                          university_name world_rank  year  \\\n",
       "4665                 University of Kansas    201-300  2015   \n",
       "3783      University of Kansas - Lawrence    201-300  2012   \n",
       "2984  University of Kansas Medical Center    401-500  2010   \n",
       "\n",
       "     university_name_normalized  \n",
       "4665       University of Kansas  \n",
       "3783       University of Kansas  \n",
       "2984       University of Kansas  "
      ]
     },
     "execution_count": 41,
     "metadata": {},
     "output_type": "execute_result"
    }
   ],
   "source": [
    "shanghaidb_for_max[shanghaidb_for_max['university_name_normalized'] == 'University of Kansas']"
   ]
  },
  {
   "cell_type": "code",
   "execution_count": 42,
   "metadata": {
    "colab": {
     "base_uri": "https://localhost:8080/",
     "height": 112
    },
    "id": "cKVeKujwjzAA",
    "outputId": "4a0e6bac-0daf-4c42-c007-262be75fbbb3"
   },
   "outputs": [
    {
     "data": {
      "text/html": [
       "<div>\n",
       "<style scoped>\n",
       "    .dataframe tbody tr th:only-of-type {\n",
       "        vertical-align: middle;\n",
       "    }\n",
       "\n",
       "    .dataframe tbody tr th {\n",
       "        vertical-align: top;\n",
       "    }\n",
       "\n",
       "    .dataframe thead th {\n",
       "        text-align: right;\n",
       "    }\n",
       "</style>\n",
       "<table border=\"1\" class=\"dataframe\">\n",
       "  <thead>\n",
       "    <tr style=\"text-align: right;\">\n",
       "      <th></th>\n",
       "      <th>university_name</th>\n",
       "      <th>world_rank</th>\n",
       "      <th>year</th>\n",
       "      <th>university_name_normalized</th>\n",
       "    </tr>\n",
       "  </thead>\n",
       "  <tbody>\n",
       "    <tr>\n",
       "      <th>4675</th>\n",
       "      <td>University of Maryland, Baltimore</td>\n",
       "      <td>201-300</td>\n",
       "      <td>2015</td>\n",
       "      <td>University of Maryland, Baltimore County</td>\n",
       "    </tr>\n",
       "    <tr>\n",
       "      <th>4872</th>\n",
       "      <td>University of Maryland, Baltimore County</td>\n",
       "      <td>401-500</td>\n",
       "      <td>2015</td>\n",
       "      <td>University of Maryland, Baltimore County</td>\n",
       "    </tr>\n",
       "  </tbody>\n",
       "</table>\n",
       "</div>"
      ],
      "text/plain": [
       "                               university_name world_rank  year  \\\n",
       "4675         University of Maryland, Baltimore    201-300  2015   \n",
       "4872  University of Maryland, Baltimore County    401-500  2015   \n",
       "\n",
       "                    university_name_normalized  \n",
       "4675  University of Maryland, Baltimore County  \n",
       "4872  University of Maryland, Baltimore County  "
      ]
     },
     "execution_count": 42,
     "metadata": {},
     "output_type": "execute_result"
    }
   ],
   "source": [
    "shanghaidb_for_max[shanghaidb_for_max['university_name_normalized'] == 'University of Maryland, Baltimore County']"
   ]
  },
  {
   "cell_type": "code",
   "execution_count": 43,
   "metadata": {
    "colab": {
     "base_uri": "https://localhost:8080/",
     "height": 112
    },
    "id": "ay-UHAJ_jy8Z",
    "outputId": "cd27c69a-a0ee-45a5-c65f-4b67cc895a04"
   },
   "outputs": [
    {
     "data": {
      "text/html": [
       "<div>\n",
       "<style scoped>\n",
       "    .dataframe tbody tr th:only-of-type {\n",
       "        vertical-align: middle;\n",
       "    }\n",
       "\n",
       "    .dataframe tbody tr th {\n",
       "        vertical-align: top;\n",
       "    }\n",
       "\n",
       "    .dataframe thead th {\n",
       "        text-align: right;\n",
       "    }\n",
       "</style>\n",
       "<table border=\"1\" class=\"dataframe\">\n",
       "  <thead>\n",
       "    <tr style=\"text-align: right;\">\n",
       "      <th></th>\n",
       "      <th>university_name</th>\n",
       "      <th>world_rank</th>\n",
       "      <th>year</th>\n",
       "      <th>university_name_normalized</th>\n",
       "    </tr>\n",
       "  </thead>\n",
       "  <tbody>\n",
       "    <tr>\n",
       "      <th>4533</th>\n",
       "      <td>University of Massachusetts Amherst</td>\n",
       "      <td>101-150</td>\n",
       "      <td>2015</td>\n",
       "      <td>University of Massachusetts</td>\n",
       "    </tr>\n",
       "    <tr>\n",
       "      <th>4534</th>\n",
       "      <td>University of Massachusetts Medical School - W...</td>\n",
       "      <td>101-150</td>\n",
       "      <td>2015</td>\n",
       "      <td>University of Massachusetts</td>\n",
       "    </tr>\n",
       "  </tbody>\n",
       "</table>\n",
       "</div>"
      ],
      "text/plain": [
       "                                        university_name world_rank  year  \\\n",
       "4533                University of Massachusetts Amherst    101-150  2015   \n",
       "4534  University of Massachusetts Medical School - W...    101-150  2015   \n",
       "\n",
       "       university_name_normalized  \n",
       "4533  University of Massachusetts  \n",
       "4534  University of Massachusetts  "
      ]
     },
     "execution_count": 43,
     "metadata": {},
     "output_type": "execute_result"
    }
   ],
   "source": [
    "shanghaidb_for_max[shanghaidb_for_max['university_name_normalized'] == 'University of Massachusetts']"
   ]
  },
  {
   "cell_type": "code",
   "execution_count": 44,
   "metadata": {
    "colab": {
     "base_uri": "https://localhost:8080/",
     "height": 112
    },
    "id": "Pj6mgypPkL3k",
    "outputId": "3b6486f2-843f-4591-8f53-a6fa7419aab3"
   },
   "outputs": [
    {
     "data": {
      "text/html": [
       "<div>\n",
       "<style scoped>\n",
       "    .dataframe tbody tr th:only-of-type {\n",
       "        vertical-align: middle;\n",
       "    }\n",
       "\n",
       "    .dataframe tbody tr th {\n",
       "        vertical-align: top;\n",
       "    }\n",
       "\n",
       "    .dataframe thead th {\n",
       "        text-align: right;\n",
       "    }\n",
       "</style>\n",
       "<table border=\"1\" class=\"dataframe\">\n",
       "  <thead>\n",
       "    <tr style=\"text-align: right;\">\n",
       "      <th></th>\n",
       "      <th>university_name</th>\n",
       "      <th>world_rank</th>\n",
       "      <th>year</th>\n",
       "      <th>university_name_normalized</th>\n",
       "    </tr>\n",
       "  </thead>\n",
       "  <tbody>\n",
       "    <tr>\n",
       "      <th>4440</th>\n",
       "      <td>The University of Melbourne</td>\n",
       "      <td>44</td>\n",
       "      <td>2015</td>\n",
       "      <td>University of Melbourne</td>\n",
       "    </tr>\n",
       "    <tr>\n",
       "      <th>3853</th>\n",
       "      <td>University of Melbourne</td>\n",
       "      <td>54</td>\n",
       "      <td>2013</td>\n",
       "      <td>University of Melbourne</td>\n",
       "    </tr>\n",
       "  </tbody>\n",
       "</table>\n",
       "</div>"
      ],
      "text/plain": [
       "                  university_name world_rank  year university_name_normalized\n",
       "4440  The University of Melbourne         44  2015    University of Melbourne\n",
       "3853      University of Melbourne         54  2013    University of Melbourne"
      ]
     },
     "execution_count": 44,
     "metadata": {},
     "output_type": "execute_result"
    }
   ],
   "source": [
    "shanghaidb_for_max[shanghaidb_for_max['university_name_normalized'] == 'University of Melbourne']"
   ]
  },
  {
   "cell_type": "code",
   "execution_count": 45,
   "metadata": {
    "colab": {
     "base_uri": "https://localhost:8080/",
     "height": 112
    },
    "id": "DUKRtXQpkXlf",
    "outputId": "5faf4f00-2284-4070-b547-831d950391ab"
   },
   "outputs": [
    {
     "data": {
      "text/html": [
       "<div>\n",
       "<style scoped>\n",
       "    .dataframe tbody tr th:only-of-type {\n",
       "        vertical-align: middle;\n",
       "    }\n",
       "\n",
       "    .dataframe tbody tr th {\n",
       "        vertical-align: top;\n",
       "    }\n",
       "\n",
       "    .dataframe thead th {\n",
       "        text-align: right;\n",
       "    }\n",
       "</style>\n",
       "<table border=\"1\" class=\"dataframe\">\n",
       "  <thead>\n",
       "    <tr style=\"text-align: right;\">\n",
       "      <th></th>\n",
       "      <th>university_name</th>\n",
       "      <th>world_rank</th>\n",
       "      <th>year</th>\n",
       "      <th>university_name_normalized</th>\n",
       "    </tr>\n",
       "  </thead>\n",
       "  <tbody>\n",
       "    <tr>\n",
       "      <th>3820</th>\n",
       "      <td>University of Michigan - Ann Arbor</td>\n",
       "      <td>23</td>\n",
       "      <td>2013</td>\n",
       "      <td>University of Michigan</td>\n",
       "    </tr>\n",
       "    <tr>\n",
       "      <th>4418</th>\n",
       "      <td>University of Michigan-Ann Arbor</td>\n",
       "      <td>22</td>\n",
       "      <td>2015</td>\n",
       "      <td>University of Michigan</td>\n",
       "    </tr>\n",
       "  </tbody>\n",
       "</table>\n",
       "</div>"
      ],
      "text/plain": [
       "                         university_name world_rank  year  \\\n",
       "3820  University of Michigan - Ann Arbor         23  2013   \n",
       "4418    University of Michigan-Ann Arbor         22  2015   \n",
       "\n",
       "     university_name_normalized  \n",
       "3820     University of Michigan  \n",
       "4418     University of Michigan  "
      ]
     },
     "execution_count": 45,
     "metadata": {},
     "output_type": "execute_result"
    }
   ],
   "source": [
    "shanghaidb_for_max[shanghaidb_for_max['university_name_normalized'] == 'University of Michigan']"
   ]
  },
  {
   "cell_type": "code",
   "execution_count": 46,
   "metadata": {
    "colab": {
     "base_uri": "https://localhost:8080/",
     "height": 112
    },
    "id": "JWr4jmgpkXh-",
    "outputId": "85ab765c-44f2-44fc-9273-6e2a42a4b33f"
   },
   "outputs": [
    {
     "data": {
      "text/html": [
       "<div>\n",
       "<style scoped>\n",
       "    .dataframe tbody tr th:only-of-type {\n",
       "        vertical-align: middle;\n",
       "    }\n",
       "\n",
       "    .dataframe tbody tr th {\n",
       "        vertical-align: top;\n",
       "    }\n",
       "\n",
       "    .dataframe thead th {\n",
       "        text-align: right;\n",
       "    }\n",
       "</style>\n",
       "<table border=\"1\" class=\"dataframe\">\n",
       "  <thead>\n",
       "    <tr style=\"text-align: right;\">\n",
       "      <th></th>\n",
       "      <th>university_name</th>\n",
       "      <th>world_rank</th>\n",
       "      <th>year</th>\n",
       "      <th>university_name_normalized</th>\n",
       "    </tr>\n",
       "  </thead>\n",
       "  <tbody>\n",
       "    <tr>\n",
       "      <th>4250</th>\n",
       "      <td>The University of Montana - Missoula</td>\n",
       "      <td>301-400</td>\n",
       "      <td>2014</td>\n",
       "      <td>University of Montana</td>\n",
       "    </tr>\n",
       "    <tr>\n",
       "      <th>4776</th>\n",
       "      <td>University of Montana - Missoula</td>\n",
       "      <td>301-400</td>\n",
       "      <td>2015</td>\n",
       "      <td>University of Montana</td>\n",
       "    </tr>\n",
       "  </tbody>\n",
       "</table>\n",
       "</div>"
      ],
      "text/plain": [
       "                           university_name world_rank  year  \\\n",
       "4250  The University of Montana - Missoula    301-400  2014   \n",
       "4776      University of Montana - Missoula    301-400  2015   \n",
       "\n",
       "     university_name_normalized  \n",
       "4250      University of Montana  \n",
       "4776      University of Montana  "
      ]
     },
     "execution_count": 46,
     "metadata": {},
     "output_type": "execute_result"
    }
   ],
   "source": [
    "shanghaidb_for_max[shanghaidb_for_max['university_name_normalized'] == 'University of Montana']"
   ]
  },
  {
   "cell_type": "code",
   "execution_count": 47,
   "metadata": {
    "colab": {
     "base_uri": "https://localhost:8080/",
     "height": 112
    },
    "id": "-bcXJ2OzkLy3",
    "outputId": "4fb1faa5-7647-4ef6-bda1-d8979e29e87b"
   },
   "outputs": [
    {
     "data": {
      "text/html": [
       "<div>\n",
       "<style scoped>\n",
       "    .dataframe tbody tr th:only-of-type {\n",
       "        vertical-align: middle;\n",
       "    }\n",
       "\n",
       "    .dataframe tbody tr th {\n",
       "        vertical-align: top;\n",
       "    }\n",
       "\n",
       "    .dataframe thead th {\n",
       "        text-align: right;\n",
       "    }\n",
       "</style>\n",
       "<table border=\"1\" class=\"dataframe\">\n",
       "  <thead>\n",
       "    <tr style=\"text-align: right;\">\n",
       "      <th></th>\n",
       "      <th>university_name</th>\n",
       "      <th>world_rank</th>\n",
       "      <th>year</th>\n",
       "      <th>university_name_normalized</th>\n",
       "    </tr>\n",
       "  </thead>\n",
       "  <tbody>\n",
       "    <tr>\n",
       "      <th>4518</th>\n",
       "      <td>The University of New South Wales</td>\n",
       "      <td>101-150</td>\n",
       "      <td>2015</td>\n",
       "      <td>University of New South Wales</td>\n",
       "    </tr>\n",
       "    <tr>\n",
       "      <th>3654</th>\n",
       "      <td>University of New South Wales</td>\n",
       "      <td>101-150</td>\n",
       "      <td>2012</td>\n",
       "      <td>University of New South Wales</td>\n",
       "    </tr>\n",
       "  </tbody>\n",
       "</table>\n",
       "</div>"
      ],
      "text/plain": [
       "                        university_name world_rank  year  \\\n",
       "4518  The University of New South Wales    101-150  2015   \n",
       "3654      University of New South Wales    101-150  2012   \n",
       "\n",
       "         university_name_normalized  \n",
       "4518  University of New South Wales  \n",
       "3654  University of New South Wales  "
      ]
     },
     "execution_count": 47,
     "metadata": {},
     "output_type": "execute_result"
    }
   ],
   "source": [
    "shanghaidb_for_max[shanghaidb_for_max['university_name_normalized'] == 'University of New South Wales']"
   ]
  },
  {
   "cell_type": "code",
   "execution_count": 48,
   "metadata": {
    "colab": {
     "base_uri": "https://localhost:8080/",
     "height": 112
    },
    "id": "iikPHvWWkmyJ",
    "outputId": "30e1686d-af97-4b8c-9191-930d8f26f556"
   },
   "outputs": [
    {
     "data": {
      "text/html": [
       "<div>\n",
       "<style scoped>\n",
       "    .dataframe tbody tr th:only-of-type {\n",
       "        vertical-align: middle;\n",
       "    }\n",
       "\n",
       "    .dataframe tbody tr th {\n",
       "        vertical-align: top;\n",
       "    }\n",
       "\n",
       "    .dataframe thead th {\n",
       "        text-align: right;\n",
       "    }\n",
       "</style>\n",
       "<table border=\"1\" class=\"dataframe\">\n",
       "  <thead>\n",
       "    <tr style=\"text-align: right;\">\n",
       "      <th></th>\n",
       "      <th>university_name</th>\n",
       "      <th>world_rank</th>\n",
       "      <th>year</th>\n",
       "      <th>university_name_normalized</th>\n",
       "    </tr>\n",
       "  </thead>\n",
       "  <tbody>\n",
       "    <tr>\n",
       "      <th>4749</th>\n",
       "      <td>The University of Newcastle, Australia</td>\n",
       "      <td>301-400</td>\n",
       "      <td>2015</td>\n",
       "      <td>University of Newcastle</td>\n",
       "    </tr>\n",
       "    <tr>\n",
       "      <th>4275</th>\n",
       "      <td>University of Newcastle</td>\n",
       "      <td>301-400</td>\n",
       "      <td>2014</td>\n",
       "      <td>University of Newcastle</td>\n",
       "    </tr>\n",
       "  </tbody>\n",
       "</table>\n",
       "</div>"
      ],
      "text/plain": [
       "                             university_name world_rank  year  \\\n",
       "4749  The University of Newcastle, Australia    301-400  2015   \n",
       "4275                 University of Newcastle    301-400  2014   \n",
       "\n",
       "     university_name_normalized  \n",
       "4749    University of Newcastle  \n",
       "4275    University of Newcastle  "
      ]
     },
     "execution_count": 48,
     "metadata": {},
     "output_type": "execute_result"
    }
   ],
   "source": [
    "shanghaidb_for_max[shanghaidb_for_max['university_name_normalized'] == 'University of Newcastle']"
   ]
  },
  {
   "cell_type": "code",
   "execution_count": 49,
   "metadata": {
    "colab": {
     "base_uri": "https://localhost:8080/",
     "height": 143
    },
    "id": "fhqoN3Y2kmsx",
    "outputId": "edac7a54-2a27-48c2-c401-bbfe9ab45b3c"
   },
   "outputs": [
    {
     "data": {
      "text/html": [
       "<div>\n",
       "<style scoped>\n",
       "    .dataframe tbody tr th:only-of-type {\n",
       "        vertical-align: middle;\n",
       "    }\n",
       "\n",
       "    .dataframe tbody tr th {\n",
       "        vertical-align: top;\n",
       "    }\n",
       "\n",
       "    .dataframe thead th {\n",
       "        text-align: right;\n",
       "    }\n",
       "</style>\n",
       "<table border=\"1\" class=\"dataframe\">\n",
       "  <thead>\n",
       "    <tr style=\"text-align: right;\">\n",
       "      <th></th>\n",
       "      <th>university_name</th>\n",
       "      <th>world_rank</th>\n",
       "      <th>year</th>\n",
       "      <th>university_name_normalized</th>\n",
       "    </tr>\n",
       "  </thead>\n",
       "  <tbody>\n",
       "    <tr>\n",
       "      <th>3860</th>\n",
       "      <td>University of Pittsburgh</td>\n",
       "      <td>61</td>\n",
       "      <td>2013</td>\n",
       "      <td>University of Pittsburgh</td>\n",
       "    </tr>\n",
       "    <tr>\n",
       "      <th>4466</th>\n",
       "      <td>University of Pittsburgh, Pittsburgh Campus</td>\n",
       "      <td>70</td>\n",
       "      <td>2015</td>\n",
       "      <td>University of Pittsburgh</td>\n",
       "    </tr>\n",
       "    <tr>\n",
       "      <th>3961</th>\n",
       "      <td>University of Pittsburgh-Pittsburgh Campus</td>\n",
       "      <td>65</td>\n",
       "      <td>2014</td>\n",
       "      <td>University of Pittsburgh</td>\n",
       "    </tr>\n",
       "  </tbody>\n",
       "</table>\n",
       "</div>"
      ],
      "text/plain": [
       "                                  university_name world_rank  year  \\\n",
       "3860                     University of Pittsburgh         61  2013   \n",
       "4466  University of Pittsburgh, Pittsburgh Campus         70  2015   \n",
       "3961   University of Pittsburgh-Pittsburgh Campus         65  2014   \n",
       "\n",
       "     university_name_normalized  \n",
       "3860   University of Pittsburgh  \n",
       "4466   University of Pittsburgh  \n",
       "3961   University of Pittsburgh  "
      ]
     },
     "execution_count": 49,
     "metadata": {},
     "output_type": "execute_result"
    }
   ],
   "source": [
    "shanghaidb_for_max[shanghaidb_for_max['university_name_normalized'] == 'University of Pittsburgh']"
   ]
  },
  {
   "cell_type": "code",
   "execution_count": 50,
   "metadata": {
    "colab": {
     "base_uri": "https://localhost:8080/",
     "height": 112
    },
    "id": "NTOeNmX5kwZi",
    "outputId": "350bb992-ccf6-4466-a92e-bf79e866f7f2"
   },
   "outputs": [
    {
     "data": {
      "text/html": [
       "<div>\n",
       "<style scoped>\n",
       "    .dataframe tbody tr th:only-of-type {\n",
       "        vertical-align: middle;\n",
       "    }\n",
       "\n",
       "    .dataframe tbody tr th {\n",
       "        vertical-align: top;\n",
       "    }\n",
       "\n",
       "    .dataframe thead th {\n",
       "        text-align: right;\n",
       "    }\n",
       "</style>\n",
       "<table border=\"1\" class=\"dataframe\">\n",
       "  <thead>\n",
       "    <tr style=\"text-align: right;\">\n",
       "      <th></th>\n",
       "      <th>university_name</th>\n",
       "      <th>world_rank</th>\n",
       "      <th>year</th>\n",
       "      <th>university_name_normalized</th>\n",
       "    </tr>\n",
       "  </thead>\n",
       "  <tbody>\n",
       "    <tr>\n",
       "      <th>4793</th>\n",
       "      <td>Washington State University</td>\n",
       "      <td>301-400</td>\n",
       "      <td>2015</td>\n",
       "      <td>Washington State University</td>\n",
       "    </tr>\n",
       "    <tr>\n",
       "      <th>3309</th>\n",
       "      <td>Washington State University - Pullman</td>\n",
       "      <td>201-300</td>\n",
       "      <td>2011</td>\n",
       "      <td>Washington State University</td>\n",
       "    </tr>\n",
       "  </tbody>\n",
       "</table>\n",
       "</div>"
      ],
      "text/plain": [
       "                            university_name world_rank  year  \\\n",
       "4793            Washington State University    301-400  2015   \n",
       "3309  Washington State University - Pullman    201-300  2011   \n",
       "\n",
       "       university_name_normalized  \n",
       "4793  Washington State University  \n",
       "3309  Washington State University  "
      ]
     },
     "execution_count": 50,
     "metadata": {},
     "output_type": "execute_result"
    }
   ],
   "source": [
    "shanghaidb_for_max[shanghaidb_for_max['university_name_normalized'] == 'Washington State University']"
   ]
  },
  {
   "cell_type": "markdown",
   "metadata": {
    "id": "iZeRCyOwlhBe"
   },
   "source": [
    "Abbiamo quindi deciso di eliminare i duplicati e i vari campus di trattarli tramite una lista per poi eliminarli dallo studio, analizzando solamente la sede principali."
   ]
  },
  {
   "cell_type": "code",
   "execution_count": 51,
   "metadata": {
    "id": "hVExyJhhjdI0"
   },
   "outputs": [],
   "source": [
    "campus_shanghai = ['Arizona State University - Tempe',\n",
    "                              'Louisiana State University Health Sciences Center',\n",
    "                              'Indiana University-Purdue University at Indianapolis',\n",
    "                              'The University of Connecticut - Storrs',\n",
    "                              'The University of Connecticut Health Center',\n",
    "                              'University of Arkansas at Little Rock',\n",
    "                              'Medical University of Graz',\n",
    "                              'Medical University of Innsbruck',\n",
    "                              'University of Kansas Medical Center',\n",
    "                              'University of Maryland, Baltimore',\n",
    "                              'University of Massachusetts Medical School - Worcester']"
   ]
  },
  {
   "cell_type": "code",
   "execution_count": 52,
   "metadata": {
    "id": "84R0-DlSZdMj"
   },
   "outputs": [],
   "source": [
    "del shanghaidb_for_max['university_name_normalized']"
   ]
  },
  {
   "cell_type": "code",
   "execution_count": 53,
   "metadata": {
    "id": "QJIY8T_nhlHr"
   },
   "outputs": [],
   "source": [
    "shanghai_for_max = shanghaidb_for_max.copy()"
   ]
  },
  {
   "cell_type": "code",
   "execution_count": 54,
   "metadata": {
    "colab": {
     "base_uri": "https://localhost:8080/",
     "height": 206
    },
    "id": "PLd99cqphk--",
    "outputId": "9b47f976-3525-4dbe-9a81-69ea03a40697"
   },
   "outputs": [
    {
     "data": {
      "text/html": [
       "<div>\n",
       "<style scoped>\n",
       "    .dataframe tbody tr th:only-of-type {\n",
       "        vertical-align: middle;\n",
       "    }\n",
       "\n",
       "    .dataframe tbody tr th {\n",
       "        vertical-align: top;\n",
       "    }\n",
       "\n",
       "    .dataframe thead th {\n",
       "        text-align: right;\n",
       "    }\n",
       "</style>\n",
       "<table border=\"1\" class=\"dataframe\">\n",
       "  <thead>\n",
       "    <tr style=\"text-align: right;\">\n",
       "      <th></th>\n",
       "      <th>university_name</th>\n",
       "      <th>world_rank</th>\n",
       "      <th>year</th>\n",
       "    </tr>\n",
       "  </thead>\n",
       "  <tbody>\n",
       "    <tr>\n",
       "      <th>4697</th>\n",
       "      <td>Aalborg University</td>\n",
       "      <td>301-400</td>\n",
       "      <td>2015</td>\n",
       "    </tr>\n",
       "    <tr>\n",
       "      <th>4797</th>\n",
       "      <td>Aalto University</td>\n",
       "      <td>401-500</td>\n",
       "      <td>2015</td>\n",
       "    </tr>\n",
       "    <tr>\n",
       "      <th>4469</th>\n",
       "      <td>Aarhus University</td>\n",
       "      <td>73</td>\n",
       "      <td>2015</td>\n",
       "    </tr>\n",
       "    <tr>\n",
       "      <th>4497</th>\n",
       "      <td>Aix Marseille University</td>\n",
       "      <td>101-150</td>\n",
       "      <td>2015</td>\n",
       "    </tr>\n",
       "    <tr>\n",
       "      <th>3115</th>\n",
       "      <td>Aix-Marseille University</td>\n",
       "      <td>102-150</td>\n",
       "      <td>2011</td>\n",
       "    </tr>\n",
       "  </tbody>\n",
       "</table>\n",
       "</div>"
      ],
      "text/plain": [
       "               university_name world_rank  year\n",
       "4697        Aalborg University    301-400  2015\n",
       "4797          Aalto University    401-500  2015\n",
       "4469         Aarhus University         73  2015\n",
       "4497  Aix Marseille University    101-150  2015\n",
       "3115  Aix-Marseille University    102-150  2011"
      ]
     },
     "execution_count": 54,
     "metadata": {},
     "output_type": "execute_result"
    }
   ],
   "source": [
    "shanghai_for_max.head()"
   ]
  },
  {
   "cell_type": "markdown",
   "metadata": {
    "id": "Y-JQtxeEiEou"
   },
   "source": [
    "Si eliminano i duplicati tramite indice:"
   ]
  },
  {
   "cell_type": "code",
   "execution_count": 55,
   "metadata": {
    "id": "fZWi0QUAhkXI"
   },
   "outputs": [],
   "source": [
    "shanghai_for_max.drop([3425, 3738, 4133, 3606, 3913, 3383, 3748, 3783, 3853, 3820, 4250, 3654, 4275, 3860, 3961, 3309], inplace = True)"
   ]
  },
  {
   "cell_type": "markdown",
   "metadata": {
    "id": "sqIssHIqiJJq"
   },
   "source": [
    "Poiché la lista toglie i campus e il drop i duplicati, si sono dovuti trattare solamente gli ultimi casi limite come, ad esempio, la presenza o meno di spazi fra i trattini:"
   ]
  },
  {
   "cell_type": "code",
   "execution_count": 56,
   "metadata": {
    "id": "BLj1pyz4hkJt"
   },
   "outputs": [],
   "source": [
    "def normalize_shanghai(column_element):\n",
    "  \n",
    "  if column_element in campus_shanghai:\n",
    "    return None\n",
    "  \n",
    "  for university in school_and_country_name['university_name_normalized']:\n",
    "    if column_element == university:\n",
    "      return column_element\n",
    "\n",
    "    if column_element == \"The Chinese University of Hong Kong\" and university == \"Chinese University of Hong Kong\":\n",
    "      return university\n",
    "    \n",
    "    if column_element == \"University of Milan - Bicocca\" and university == \"University of Milan-Bicocca\":\n",
    "      return university\n",
    "\n",
    "    if column_element == \"University of Wisconsin - Madison\" and university == \"University of Wisconsin-Madison\":\n",
    "      return university\n",
    "\n",
    "    if column_element == \"University of Wisconsin - Milwaukee\" and university == \"University of Wisconsin-Milwaukee\":\n",
    "      return university\n",
    "  \n",
    "  \n",
    "  name_column_element = re.compile(column_element)\n",
    "\n",
    "  for university in school_and_country_name['university_name_normalized']:\n",
    "    match = name_column_element.search(university)\n",
    "    if match:\n",
    "      return university\n",
    "    else:\n",
    "      name_university = re.compile(university)\n",
    "      metch_university = name_university.search(column_element)\n",
    "      if metch_university:\n",
    "        return university"
   ]
  },
  {
   "cell_type": "code",
   "execution_count": 57,
   "metadata": {
    "id": "3_kC7x7dhkFr"
   },
   "outputs": [],
   "source": [
    "shanghai_for_max['university_name_normalized'] = shanghai_for_max['university_name'].apply(normalize_shanghai)"
   ]
  },
  {
   "cell_type": "code",
   "execution_count": 58,
   "metadata": {
    "colab": {
     "base_uri": "https://localhost:8080/",
     "height": 206
    },
    "id": "yHO4qehahkCK",
    "outputId": "12b7df67-7c59-4204-b7da-aa5a7e6e4a5d"
   },
   "outputs": [
    {
     "data": {
      "text/html": [
       "<div>\n",
       "<style scoped>\n",
       "    .dataframe tbody tr th:only-of-type {\n",
       "        vertical-align: middle;\n",
       "    }\n",
       "\n",
       "    .dataframe tbody tr th {\n",
       "        vertical-align: top;\n",
       "    }\n",
       "\n",
       "    .dataframe thead th {\n",
       "        text-align: right;\n",
       "    }\n",
       "</style>\n",
       "<table border=\"1\" class=\"dataframe\">\n",
       "  <thead>\n",
       "    <tr style=\"text-align: right;\">\n",
       "      <th></th>\n",
       "      <th>university_name</th>\n",
       "      <th>world_rank</th>\n",
       "      <th>year</th>\n",
       "      <th>university_name_normalized</th>\n",
       "    </tr>\n",
       "  </thead>\n",
       "  <tbody>\n",
       "    <tr>\n",
       "      <th>4697</th>\n",
       "      <td>Aalborg University</td>\n",
       "      <td>301-400</td>\n",
       "      <td>2015</td>\n",
       "      <td>Aalborg University</td>\n",
       "    </tr>\n",
       "    <tr>\n",
       "      <th>4797</th>\n",
       "      <td>Aalto University</td>\n",
       "      <td>401-500</td>\n",
       "      <td>2015</td>\n",
       "      <td>Aalto University</td>\n",
       "    </tr>\n",
       "    <tr>\n",
       "      <th>4469</th>\n",
       "      <td>Aarhus University</td>\n",
       "      <td>73</td>\n",
       "      <td>2015</td>\n",
       "      <td>Aarhus University</td>\n",
       "    </tr>\n",
       "    <tr>\n",
       "      <th>4497</th>\n",
       "      <td>Aix Marseille University</td>\n",
       "      <td>101-150</td>\n",
       "      <td>2015</td>\n",
       "      <td>None</td>\n",
       "    </tr>\n",
       "    <tr>\n",
       "      <th>3115</th>\n",
       "      <td>Aix-Marseille University</td>\n",
       "      <td>102-150</td>\n",
       "      <td>2011</td>\n",
       "      <td>Aix-Marseille University</td>\n",
       "    </tr>\n",
       "  </tbody>\n",
       "</table>\n",
       "</div>"
      ],
      "text/plain": [
       "               university_name world_rank  year university_name_normalized\n",
       "4697        Aalborg University    301-400  2015         Aalborg University\n",
       "4797          Aalto University    401-500  2015           Aalto University\n",
       "4469         Aarhus University         73  2015          Aarhus University\n",
       "4497  Aix Marseille University    101-150  2015                       None\n",
       "3115  Aix-Marseille University    102-150  2011   Aix-Marseille University"
      ]
     },
     "execution_count": 58,
     "metadata": {},
     "output_type": "execute_result"
    }
   ],
   "source": [
    "shanghai_for_max.head()"
   ]
  },
  {
   "cell_type": "markdown",
   "metadata": {
    "id": "U1Ae952iiisj"
   },
   "source": [
    "Si è controllato infine l'eventuale presenza di duplicati per assicurarsi di averli eliminati tutti:"
   ]
  },
  {
   "cell_type": "code",
   "execution_count": 59,
   "metadata": {
    "colab": {
     "base_uri": "https://localhost:8080/",
     "height": 49
    },
    "id": "dR9OmEbChj9z",
    "outputId": "122d84be-f2ac-4d20-83a5-c3b84474c8ed"
   },
   "outputs": [
    {
     "data": {
      "text/html": [
       "<div>\n",
       "<style scoped>\n",
       "    .dataframe tbody tr th:only-of-type {\n",
       "        vertical-align: middle;\n",
       "    }\n",
       "\n",
       "    .dataframe tbody tr th {\n",
       "        vertical-align: top;\n",
       "    }\n",
       "\n",
       "    .dataframe thead th {\n",
       "        text-align: right;\n",
       "    }\n",
       "</style>\n",
       "<table border=\"1\" class=\"dataframe\">\n",
       "  <thead>\n",
       "    <tr style=\"text-align: right;\">\n",
       "      <th></th>\n",
       "      <th>university_name</th>\n",
       "      <th>world_rank</th>\n",
       "      <th>year</th>\n",
       "      <th>university_name_normalized</th>\n",
       "    </tr>\n",
       "  </thead>\n",
       "  <tbody>\n",
       "  </tbody>\n",
       "</table>\n",
       "</div>"
      ],
      "text/plain": [
       "Empty DataFrame\n",
       "Columns: [university_name, world_rank, year, university_name_normalized]\n",
       "Index: []"
      ]
     },
     "execution_count": 59,
     "metadata": {},
     "output_type": "execute_result"
    }
   ],
   "source": [
    "shanghai_for_max[(shanghai_for_max['university_name_normalized'].isnull() == False) & (shanghai_for_max['university_name_normalized'].duplicated() == True)]"
   ]
  },
  {
   "cell_type": "markdown",
   "metadata": {
    "id": "X5YSQm7avulR"
   },
   "source": [
    "Allo stesso modo si controlla che il times dataset non presenti valori doppi:"
   ]
  },
  {
   "cell_type": "code",
   "execution_count": 60,
   "metadata": {
    "id": "0mLwLyPvvtkW"
   },
   "outputs": [],
   "source": [
    "times_for_max_copy = times_for_max.copy()"
   ]
  },
  {
   "cell_type": "code",
   "execution_count": 61,
   "metadata": {
    "id": "uJiFhTmpwYqW"
   },
   "outputs": [],
   "source": [
    "times_for_max_copy['university_name_normalized'] = times_for_max_copy['university_name'].apply(normalize)"
   ]
  },
  {
   "cell_type": "code",
   "execution_count": 62,
   "metadata": {
    "colab": {
     "base_uri": "https://localhost:8080/",
     "height": 206
    },
    "id": "M3z9eaLvwYmv",
    "outputId": "d6adccf5-d34f-4c21-efd2-cd2c1dd834dd"
   },
   "outputs": [
    {
     "data": {
      "text/html": [
       "<div>\n",
       "<style scoped>\n",
       "    .dataframe tbody tr th:only-of-type {\n",
       "        vertical-align: middle;\n",
       "    }\n",
       "\n",
       "    .dataframe tbody tr th {\n",
       "        vertical-align: top;\n",
       "    }\n",
       "\n",
       "    .dataframe thead th {\n",
       "        text-align: right;\n",
       "    }\n",
       "</style>\n",
       "<table border=\"1\" class=\"dataframe\">\n",
       "  <thead>\n",
       "    <tr style=\"text-align: right;\">\n",
       "      <th></th>\n",
       "      <th>university_name</th>\n",
       "      <th>world_rank</th>\n",
       "      <th>year</th>\n",
       "      <th>university_name_normalized</th>\n",
       "    </tr>\n",
       "  </thead>\n",
       "  <tbody>\n",
       "    <tr>\n",
       "      <th>2405</th>\n",
       "      <td>AGH University of Science and Technology</td>\n",
       "      <td>601-800</td>\n",
       "      <td>2016</td>\n",
       "      <td>AGH University of Science and Technology</td>\n",
       "    </tr>\n",
       "    <tr>\n",
       "      <th>2003</th>\n",
       "      <td>Aalborg University</td>\n",
       "      <td>201-250</td>\n",
       "      <td>2016</td>\n",
       "      <td>Aalborg University</td>\n",
       "    </tr>\n",
       "    <tr>\n",
       "      <th>2056</th>\n",
       "      <td>Aalto University</td>\n",
       "      <td>251-300</td>\n",
       "      <td>2016</td>\n",
       "      <td>Aalto University</td>\n",
       "    </tr>\n",
       "    <tr>\n",
       "      <th>1908</th>\n",
       "      <td>Aarhus University</td>\n",
       "      <td>=106</td>\n",
       "      <td>2016</td>\n",
       "      <td>Aarhus University</td>\n",
       "    </tr>\n",
       "    <tr>\n",
       "      <th>2105</th>\n",
       "      <td>Aberystwyth University</td>\n",
       "      <td>301-350</td>\n",
       "      <td>2016</td>\n",
       "      <td>Aberystwyth University</td>\n",
       "    </tr>\n",
       "  </tbody>\n",
       "</table>\n",
       "</div>"
      ],
      "text/plain": [
       "                               university_name world_rank  year  \\\n",
       "2405  AGH University of Science and Technology    601-800  2016   \n",
       "2003                        Aalborg University    201-250  2016   \n",
       "2056                          Aalto University    251-300  2016   \n",
       "1908                         Aarhus University       =106  2016   \n",
       "2105                    Aberystwyth University    301-350  2016   \n",
       "\n",
       "                    university_name_normalized  \n",
       "2405  AGH University of Science and Technology  \n",
       "2003                        Aalborg University  \n",
       "2056                          Aalto University  \n",
       "1908                         Aarhus University  \n",
       "2105                    Aberystwyth University  "
      ]
     },
     "execution_count": 62,
     "metadata": {},
     "output_type": "execute_result"
    }
   ],
   "source": [
    "times_for_max_copy.head()"
   ]
  },
  {
   "cell_type": "markdown",
   "metadata": {
    "id": "fQZEG-qFxnhQ"
   },
   "source": [
    "Controlliamo la presenza di valori doppi per il *times_for_max_copy*:"
   ]
  },
  {
   "cell_type": "code",
   "execution_count": 63,
   "metadata": {
    "colab": {
     "base_uri": "https://localhost:8080/",
     "height": 49
    },
    "id": "oW0wJlxuwYem",
    "outputId": "59a566fa-39c4-4c73-b822-ee3693a14dcb"
   },
   "outputs": [
    {
     "data": {
      "text/html": [
       "<div>\n",
       "<style scoped>\n",
       "    .dataframe tbody tr th:only-of-type {\n",
       "        vertical-align: middle;\n",
       "    }\n",
       "\n",
       "    .dataframe tbody tr th {\n",
       "        vertical-align: top;\n",
       "    }\n",
       "\n",
       "    .dataframe thead th {\n",
       "        text-align: right;\n",
       "    }\n",
       "</style>\n",
       "<table border=\"1\" class=\"dataframe\">\n",
       "  <thead>\n",
       "    <tr style=\"text-align: right;\">\n",
       "      <th></th>\n",
       "      <th>university_name</th>\n",
       "      <th>world_rank</th>\n",
       "      <th>year</th>\n",
       "      <th>university_name_normalized</th>\n",
       "    </tr>\n",
       "  </thead>\n",
       "  <tbody>\n",
       "  </tbody>\n",
       "</table>\n",
       "</div>"
      ],
      "text/plain": [
       "Empty DataFrame\n",
       "Columns: [university_name, world_rank, year, university_name_normalized]\n",
       "Index: []"
      ]
     },
     "execution_count": 63,
     "metadata": {},
     "output_type": "execute_result"
    }
   ],
   "source": [
    "times_for_max_copy[(times_for_max_copy['university_name_normalized'].isnull() == False) & (times_for_max_copy['university_name_normalized'].duplicated() == True)]"
   ]
  },
  {
   "cell_type": "markdown",
   "metadata": {
    "id": "kQE1n6p6yAhs"
   },
   "source": [
    "Poiché non sono presenti valori duplicati, non sarà necessario applicare lo stesso procedimento di eliminazione dei valori come precedentemente fatto per il database shanghai."
   ]
  },
  {
   "cell_type": "markdown",
   "metadata": {
    "id": "-7MceqtjyP3U"
   },
   "source": [
    "Infine, si applica lo stesso procedimento per il dataset *cwur*:"
   ]
  },
  {
   "cell_type": "code",
   "execution_count": 64,
   "metadata": {
    "id": "SgoSWcCSyATx"
   },
   "outputs": [],
   "source": [
    "cwurdb_for_max_copy = cwurdb_for_max.copy()"
   ]
  },
  {
   "cell_type": "code",
   "execution_count": 65,
   "metadata": {
    "colab": {
     "base_uri": "https://localhost:8080/",
     "height": 206
    },
    "id": "I5SuJ4K0yrm-",
    "outputId": "afdeeebd-a37a-40ec-806d-34a7a1305a49"
   },
   "outputs": [
    {
     "data": {
      "text/html": [
       "<div>\n",
       "<style scoped>\n",
       "    .dataframe tbody tr th:only-of-type {\n",
       "        vertical-align: middle;\n",
       "    }\n",
       "\n",
       "    .dataframe tbody tr th {\n",
       "        vertical-align: top;\n",
       "    }\n",
       "\n",
       "    .dataframe thead th {\n",
       "        text-align: right;\n",
       "    }\n",
       "</style>\n",
       "<table border=\"1\" class=\"dataframe\">\n",
       "  <thead>\n",
       "    <tr style=\"text-align: right;\">\n",
       "      <th></th>\n",
       "      <th>institution</th>\n",
       "      <th>world_rank</th>\n",
       "      <th>year</th>\n",
       "    </tr>\n",
       "  </thead>\n",
       "  <tbody>\n",
       "    <tr>\n",
       "      <th>1981</th>\n",
       "      <td>AGH University of Science and Technology</td>\n",
       "      <td>782</td>\n",
       "      <td>2015</td>\n",
       "    </tr>\n",
       "    <tr>\n",
       "      <th>1764</th>\n",
       "      <td>Aalborg University</td>\n",
       "      <td>565</td>\n",
       "      <td>2015</td>\n",
       "    </tr>\n",
       "    <tr>\n",
       "      <th>1620</th>\n",
       "      <td>Aalto University</td>\n",
       "      <td>421</td>\n",
       "      <td>2015</td>\n",
       "    </tr>\n",
       "    <tr>\n",
       "      <th>1321</th>\n",
       "      <td>Aarhus University</td>\n",
       "      <td>122</td>\n",
       "      <td>2015</td>\n",
       "    </tr>\n",
       "    <tr>\n",
       "      <th>2013</th>\n",
       "      <td>Aberystwyth University</td>\n",
       "      <td>814</td>\n",
       "      <td>2015</td>\n",
       "    </tr>\n",
       "  </tbody>\n",
       "</table>\n",
       "</div>"
      ],
      "text/plain": [
       "                                   institution  world_rank  year\n",
       "1981  AGH University of Science and Technology         782  2015\n",
       "1764                        Aalborg University         565  2015\n",
       "1620                          Aalto University         421  2015\n",
       "1321                         Aarhus University         122  2015\n",
       "2013                    Aberystwyth University         814  2015"
      ]
     },
     "execution_count": 65,
     "metadata": {},
     "output_type": "execute_result"
    }
   ],
   "source": [
    "cwurdb_for_max_copy.head()"
   ]
  },
  {
   "cell_type": "code",
   "execution_count": 66,
   "metadata": {
    "id": "2-xIk-KZwYZm"
   },
   "outputs": [],
   "source": [
    "cwurdb_for_max_copy['university_name_normalized'] = cwurdb_for_max_copy['institution'].apply(normalize)"
   ]
  },
  {
   "cell_type": "code",
   "execution_count": 67,
   "metadata": {
    "colab": {
     "base_uri": "https://localhost:8080/",
     "height": 206
    },
    "id": "-Bri5fZyx9Nn",
    "outputId": "66cc47d6-d585-4f4f-cab3-dd8fcbe41ce4"
   },
   "outputs": [
    {
     "data": {
      "text/html": [
       "<div>\n",
       "<style scoped>\n",
       "    .dataframe tbody tr th:only-of-type {\n",
       "        vertical-align: middle;\n",
       "    }\n",
       "\n",
       "    .dataframe tbody tr th {\n",
       "        vertical-align: top;\n",
       "    }\n",
       "\n",
       "    .dataframe thead th {\n",
       "        text-align: right;\n",
       "    }\n",
       "</style>\n",
       "<table border=\"1\" class=\"dataframe\">\n",
       "  <thead>\n",
       "    <tr style=\"text-align: right;\">\n",
       "      <th></th>\n",
       "      <th>institution</th>\n",
       "      <th>world_rank</th>\n",
       "      <th>year</th>\n",
       "      <th>university_name_normalized</th>\n",
       "    </tr>\n",
       "  </thead>\n",
       "  <tbody>\n",
       "    <tr>\n",
       "      <th>1981</th>\n",
       "      <td>AGH University of Science and Technology</td>\n",
       "      <td>782</td>\n",
       "      <td>2015</td>\n",
       "      <td>AGH University of Science and Technology</td>\n",
       "    </tr>\n",
       "    <tr>\n",
       "      <th>1764</th>\n",
       "      <td>Aalborg University</td>\n",
       "      <td>565</td>\n",
       "      <td>2015</td>\n",
       "      <td>Aalborg University</td>\n",
       "    </tr>\n",
       "    <tr>\n",
       "      <th>1620</th>\n",
       "      <td>Aalto University</td>\n",
       "      <td>421</td>\n",
       "      <td>2015</td>\n",
       "      <td>Aalto University</td>\n",
       "    </tr>\n",
       "    <tr>\n",
       "      <th>1321</th>\n",
       "      <td>Aarhus University</td>\n",
       "      <td>122</td>\n",
       "      <td>2015</td>\n",
       "      <td>Aarhus University</td>\n",
       "    </tr>\n",
       "    <tr>\n",
       "      <th>2013</th>\n",
       "      <td>Aberystwyth University</td>\n",
       "      <td>814</td>\n",
       "      <td>2015</td>\n",
       "      <td>Aberystwyth University</td>\n",
       "    </tr>\n",
       "  </tbody>\n",
       "</table>\n",
       "</div>"
      ],
      "text/plain": [
       "                                   institution  world_rank  year  \\\n",
       "1981  AGH University of Science and Technology         782  2015   \n",
       "1764                        Aalborg University         565  2015   \n",
       "1620                          Aalto University         421  2015   \n",
       "1321                         Aarhus University         122  2015   \n",
       "2013                    Aberystwyth University         814  2015   \n",
       "\n",
       "                    university_name_normalized  \n",
       "1981  AGH University of Science and Technology  \n",
       "1764                        Aalborg University  \n",
       "1620                          Aalto University  \n",
       "1321                         Aarhus University  \n",
       "2013                    Aberystwyth University  "
      ]
     },
     "execution_count": 67,
     "metadata": {},
     "output_type": "execute_result"
    }
   ],
   "source": [
    "cwurdb_for_max_copy.head()"
   ]
  },
  {
   "cell_type": "markdown",
   "metadata": {
    "id": "2QC_xk_bzFFf"
   },
   "source": [
    "Controlliamo la presenza di valori doppi per il *cwurdb_for_max_copy*:"
   ]
  },
  {
   "cell_type": "code",
   "execution_count": 68,
   "metadata": {
    "colab": {
     "base_uri": "https://localhost:8080/",
     "height": 802
    },
    "id": "O1QwLiGsx9IB",
    "outputId": "e621b62e-0188-4f03-cfb8-ca9db31120cb"
   },
   "outputs": [
    {
     "data": {
      "text/html": [
       "<div>\n",
       "<style scoped>\n",
       "    .dataframe tbody tr th:only-of-type {\n",
       "        vertical-align: middle;\n",
       "    }\n",
       "\n",
       "    .dataframe tbody tr th {\n",
       "        vertical-align: top;\n",
       "    }\n",
       "\n",
       "    .dataframe thead th {\n",
       "        text-align: right;\n",
       "    }\n",
       "</style>\n",
       "<table border=\"1\" class=\"dataframe\">\n",
       "  <thead>\n",
       "    <tr style=\"text-align: right;\">\n",
       "      <th></th>\n",
       "      <th>institution</th>\n",
       "      <th>world_rank</th>\n",
       "      <th>year</th>\n",
       "      <th>university_name_normalized</th>\n",
       "    </tr>\n",
       "  </thead>\n",
       "  <tbody>\n",
       "    <tr>\n",
       "      <th>2094</th>\n",
       "      <td>Nanjing University of Aeronautics and Astronau...</td>\n",
       "      <td>895</td>\n",
       "      <td>2015</td>\n",
       "      <td>Nanjing University</td>\n",
       "    </tr>\n",
       "    <tr>\n",
       "      <th>2003</th>\n",
       "      <td>Nanjing University of Science and Technology</td>\n",
       "      <td>804</td>\n",
       "      <td>2015</td>\n",
       "      <td>Nanjing University</td>\n",
       "    </tr>\n",
       "    <tr>\n",
       "      <th>2009</th>\n",
       "      <td>Nanjing University of Technology</td>\n",
       "      <td>810</td>\n",
       "      <td>2015</td>\n",
       "      <td>Nanjing University</td>\n",
       "    </tr>\n",
       "    <tr>\n",
       "      <th>2115</th>\n",
       "      <td>National Taiwan University of Science and Tech...</td>\n",
       "      <td>916</td>\n",
       "      <td>2015</td>\n",
       "      <td>National Taiwan University</td>\n",
       "    </tr>\n",
       "    <tr>\n",
       "      <th>2070</th>\n",
       "      <td>Northeastern University (China)</td>\n",
       "      <td>871</td>\n",
       "      <td>2015</td>\n",
       "      <td>Northeastern University</td>\n",
       "    </tr>\n",
       "    <tr>\n",
       "      <th>1242</th>\n",
       "      <td>Purdue University, West Lafayette</td>\n",
       "      <td>43</td>\n",
       "      <td>2015</td>\n",
       "      <td>Purdue University</td>\n",
       "    </tr>\n",
       "    <tr>\n",
       "      <th>2168</th>\n",
       "      <td>South China Agricultural University</td>\n",
       "      <td>969</td>\n",
       "      <td>2015</td>\n",
       "      <td>China Agricultural University</td>\n",
       "    </tr>\n",
       "    <tr>\n",
       "      <th>1476</th>\n",
       "      <td>Sun Yat-sen University</td>\n",
       "      <td>277</td>\n",
       "      <td>2015</td>\n",
       "      <td>Sun Yat-sen University</td>\n",
       "    </tr>\n",
       "    <tr>\n",
       "      <th>1628</th>\n",
       "      <td>University of Arkansas for Medical Sciences</td>\n",
       "      <td>429</td>\n",
       "      <td>2015</td>\n",
       "      <td>University of Arkansas</td>\n",
       "    </tr>\n",
       "    <tr>\n",
       "      <th>631</th>\n",
       "      <td>University of Bordeaux I</td>\n",
       "      <td>432</td>\n",
       "      <td>2014</td>\n",
       "      <td>University of Bordeaux</td>\n",
       "    </tr>\n",
       "    <tr>\n",
       "      <th>602</th>\n",
       "      <td>University of Bordeaux II</td>\n",
       "      <td>403</td>\n",
       "      <td>2014</td>\n",
       "      <td>University of Bordeaux</td>\n",
       "    </tr>\n",
       "    <tr>\n",
       "      <th>1783</th>\n",
       "      <td>University of Graz</td>\n",
       "      <td>584</td>\n",
       "      <td>2015</td>\n",
       "      <td>University of Graz</td>\n",
       "    </tr>\n",
       "    <tr>\n",
       "      <th>1692</th>\n",
       "      <td>University of Maryland, Baltimore County</td>\n",
       "      <td>493</td>\n",
       "      <td>2015</td>\n",
       "      <td>University of Maryland, Baltimore County</td>\n",
       "    </tr>\n",
       "    <tr>\n",
       "      <th>2024</th>\n",
       "      <td>University of Massachusetts Boston</td>\n",
       "      <td>825</td>\n",
       "      <td>2015</td>\n",
       "      <td>University of Massachusetts</td>\n",
       "    </tr>\n",
       "    <tr>\n",
       "      <th>2083</th>\n",
       "      <td>University of Massachusetts Lowell</td>\n",
       "      <td>884</td>\n",
       "      <td>2015</td>\n",
       "      <td>University of Massachusetts</td>\n",
       "    </tr>\n",
       "    <tr>\n",
       "      <th>1382</th>\n",
       "      <td>University of Massachusetts Medical School</td>\n",
       "      <td>183</td>\n",
       "      <td>2015</td>\n",
       "      <td>University of Massachusetts</td>\n",
       "    </tr>\n",
       "    <tr>\n",
       "      <th>1581</th>\n",
       "      <td>University of Milan - Bicocca</td>\n",
       "      <td>382</td>\n",
       "      <td>2015</td>\n",
       "      <td>University of Milan</td>\n",
       "    </tr>\n",
       "    <tr>\n",
       "      <th>1753</th>\n",
       "      <td>University of Missouri–Kansas City</td>\n",
       "      <td>554</td>\n",
       "      <td>2015</td>\n",
       "      <td>University of Missouri</td>\n",
       "    </tr>\n",
       "    <tr>\n",
       "      <th>1947</th>\n",
       "      <td>University of Missouri–St. Louis</td>\n",
       "      <td>748</td>\n",
       "      <td>2015</td>\n",
       "      <td>University of Missouri</td>\n",
       "    </tr>\n",
       "    <tr>\n",
       "      <th>1675</th>\n",
       "      <td>University of Oklahoma Health Sciences Center</td>\n",
       "      <td>476</td>\n",
       "      <td>2015</td>\n",
       "      <td>University of Oklahoma</td>\n",
       "    </tr>\n",
       "    <tr>\n",
       "      <th>1331</th>\n",
       "      <td>University of São Paulo</td>\n",
       "      <td>132</td>\n",
       "      <td>2015</td>\n",
       "      <td>University of São Paulo</td>\n",
       "    </tr>\n",
       "    <tr>\n",
       "      <th>1709</th>\n",
       "      <td>University of Wisconsin–Milwaukee</td>\n",
       "      <td>510</td>\n",
       "      <td>2015</td>\n",
       "      <td>University of Wisconsin</td>\n",
       "    </tr>\n",
       "    <tr>\n",
       "      <th>2183</th>\n",
       "      <td>Zhejiang University of Technology</td>\n",
       "      <td>984</td>\n",
       "      <td>2015</td>\n",
       "      <td>Zhejiang University</td>\n",
       "    </tr>\n",
       "    <tr>\n",
       "      <th>1980</th>\n",
       "      <td>École Polytechnique de Montréal</td>\n",
       "      <td>781</td>\n",
       "      <td>2015</td>\n",
       "      <td>École Polytechnique</td>\n",
       "    </tr>\n",
       "  </tbody>\n",
       "</table>\n",
       "</div>"
      ],
      "text/plain": [
       "                                            institution  world_rank  year  \\\n",
       "2094  Nanjing University of Aeronautics and Astronau...         895  2015   \n",
       "2003       Nanjing University of Science and Technology         804  2015   \n",
       "2009                   Nanjing University of Technology         810  2015   \n",
       "2115  National Taiwan University of Science and Tech...         916  2015   \n",
       "2070                    Northeastern University (China)         871  2015   \n",
       "1242                  Purdue University, West Lafayette          43  2015   \n",
       "2168                South China Agricultural University         969  2015   \n",
       "1476                             Sun Yat-sen University         277  2015   \n",
       "1628        University of Arkansas for Medical Sciences         429  2015   \n",
       "631                            University of Bordeaux I         432  2014   \n",
       "602                           University of Bordeaux II         403  2014   \n",
       "1783                                 University of Graz         584  2015   \n",
       "1692           University of Maryland, Baltimore County         493  2015   \n",
       "2024                 University of Massachusetts Boston         825  2015   \n",
       "2083                 University of Massachusetts Lowell         884  2015   \n",
       "1382         University of Massachusetts Medical School         183  2015   \n",
       "1581                      University of Milan - Bicocca         382  2015   \n",
       "1753                 University of Missouri–Kansas City         554  2015   \n",
       "1947                   University of Missouri–St. Louis         748  2015   \n",
       "1675      University of Oklahoma Health Sciences Center         476  2015   \n",
       "1331                            University of São Paulo         132  2015   \n",
       "1709                  University of Wisconsin–Milwaukee         510  2015   \n",
       "2183                  Zhejiang University of Technology         984  2015   \n",
       "1980                    École Polytechnique de Montréal         781  2015   \n",
       "\n",
       "                    university_name_normalized  \n",
       "2094                        Nanjing University  \n",
       "2003                        Nanjing University  \n",
       "2009                        Nanjing University  \n",
       "2115                National Taiwan University  \n",
       "2070                   Northeastern University  \n",
       "1242                         Purdue University  \n",
       "2168             China Agricultural University  \n",
       "1476                    Sun Yat-sen University  \n",
       "1628                    University of Arkansas  \n",
       "631                     University of Bordeaux  \n",
       "602                     University of Bordeaux  \n",
       "1783                        University of Graz  \n",
       "1692  University of Maryland, Baltimore County  \n",
       "2024               University of Massachusetts  \n",
       "2083               University of Massachusetts  \n",
       "1382               University of Massachusetts  \n",
       "1581                       University of Milan  \n",
       "1753                    University of Missouri  \n",
       "1947                    University of Missouri  \n",
       "1675                    University of Oklahoma  \n",
       "1331                   University of São Paulo  \n",
       "1709                   University of Wisconsin  \n",
       "2183                       Zhejiang University  \n",
       "1980                       École Polytechnique  "
      ]
     },
     "execution_count": 68,
     "metadata": {},
     "output_type": "execute_result"
    }
   ],
   "source": [
    "cwurdb_for_max_copy[(cwurdb_for_max_copy['university_name_normalized'].isnull() == False) & (cwurdb_for_max_copy['university_name_normalized'].duplicated() == True)]"
   ]
  },
  {
   "cell_type": "code",
   "execution_count": 69,
   "metadata": {
    "colab": {
     "base_uri": "https://localhost:8080/",
     "height": 175
    },
    "id": "kbqc7uu_x9Er",
    "outputId": "53d72a8b-9478-4005-91d8-0a2dc683d2ea"
   },
   "outputs": [
    {
     "data": {
      "text/html": [
       "<div>\n",
       "<style scoped>\n",
       "    .dataframe tbody tr th:only-of-type {\n",
       "        vertical-align: middle;\n",
       "    }\n",
       "\n",
       "    .dataframe tbody tr th {\n",
       "        vertical-align: top;\n",
       "    }\n",
       "\n",
       "    .dataframe thead th {\n",
       "        text-align: right;\n",
       "    }\n",
       "</style>\n",
       "<table border=\"1\" class=\"dataframe\">\n",
       "  <thead>\n",
       "    <tr style=\"text-align: right;\">\n",
       "      <th></th>\n",
       "      <th>institution</th>\n",
       "      <th>world_rank</th>\n",
       "      <th>year</th>\n",
       "      <th>university_name_normalized</th>\n",
       "    </tr>\n",
       "  </thead>\n",
       "  <tbody>\n",
       "    <tr>\n",
       "      <th>1443</th>\n",
       "      <td>Nanjing University</td>\n",
       "      <td>244</td>\n",
       "      <td>2015</td>\n",
       "      <td>Nanjing University</td>\n",
       "    </tr>\n",
       "    <tr>\n",
       "      <th>2094</th>\n",
       "      <td>Nanjing University of Aeronautics and Astronau...</td>\n",
       "      <td>895</td>\n",
       "      <td>2015</td>\n",
       "      <td>Nanjing University</td>\n",
       "    </tr>\n",
       "    <tr>\n",
       "      <th>2003</th>\n",
       "      <td>Nanjing University of Science and Technology</td>\n",
       "      <td>804</td>\n",
       "      <td>2015</td>\n",
       "      <td>Nanjing University</td>\n",
       "    </tr>\n",
       "    <tr>\n",
       "      <th>2009</th>\n",
       "      <td>Nanjing University of Technology</td>\n",
       "      <td>810</td>\n",
       "      <td>2015</td>\n",
       "      <td>Nanjing University</td>\n",
       "    </tr>\n",
       "  </tbody>\n",
       "</table>\n",
       "</div>"
      ],
      "text/plain": [
       "                                            institution  world_rank  year  \\\n",
       "1443                                 Nanjing University         244  2015   \n",
       "2094  Nanjing University of Aeronautics and Astronau...         895  2015   \n",
       "2003       Nanjing University of Science and Technology         804  2015   \n",
       "2009                   Nanjing University of Technology         810  2015   \n",
       "\n",
       "     university_name_normalized  \n",
       "1443         Nanjing University  \n",
       "2094         Nanjing University  \n",
       "2003         Nanjing University  \n",
       "2009         Nanjing University  "
      ]
     },
     "execution_count": 69,
     "metadata": {},
     "output_type": "execute_result"
    }
   ],
   "source": [
    "cwurdb_for_max_copy[cwurdb_for_max_copy['university_name_normalized'] == 'Nanjing University']"
   ]
  },
  {
   "cell_type": "markdown",
   "metadata": {
    "id": "XcXOtKkFjB2y"
   },
   "source": [
    "Si controlla il nome ufficiale in modo da decidere quale mantenere e quale eliminare:"
   ]
  },
  {
   "cell_type": "code",
   "execution_count": 70,
   "metadata": {
    "colab": {
     "base_uri": "https://localhost:8080/",
     "height": 81
    },
    "id": "YZ2bb0U14O9x",
    "outputId": "788f7157-1969-4c19-e4fd-5f09da7e50c3"
   },
   "outputs": [
    {
     "data": {
      "text/html": [
       "<div>\n",
       "<style scoped>\n",
       "    .dataframe tbody tr th:only-of-type {\n",
       "        vertical-align: middle;\n",
       "    }\n",
       "\n",
       "    .dataframe tbody tr th {\n",
       "        vertical-align: top;\n",
       "    }\n",
       "\n",
       "    .dataframe thead th {\n",
       "        text-align: right;\n",
       "    }\n",
       "</style>\n",
       "<table border=\"1\" class=\"dataframe\">\n",
       "  <thead>\n",
       "    <tr style=\"text-align: right;\">\n",
       "      <th></th>\n",
       "      <th>university_name_normalized</th>\n",
       "      <th>country</th>\n",
       "    </tr>\n",
       "  </thead>\n",
       "  <tbody>\n",
       "    <tr>\n",
       "      <th>119</th>\n",
       "      <td>Nanjing University</td>\n",
       "      <td>China</td>\n",
       "    </tr>\n",
       "  </tbody>\n",
       "</table>\n",
       "</div>"
      ],
      "text/plain": [
       "    university_name_normalized country\n",
       "119         Nanjing University   China"
      ]
     },
     "execution_count": 70,
     "metadata": {},
     "output_type": "execute_result"
    }
   ],
   "source": [
    "school_and_country_name[school_and_country_name['university_name_normalized'].str.contains('Nanjing University') == True]"
   ]
  },
  {
   "cell_type": "code",
   "execution_count": 71,
   "metadata": {
    "colab": {
     "base_uri": "https://localhost:8080/",
     "height": 112
    },
    "id": "ZUtfOUCYzuHZ",
    "outputId": "c2e14b5e-b54f-4900-acc7-ab14a9f3ff89"
   },
   "outputs": [
    {
     "data": {
      "text/html": [
       "<div>\n",
       "<style scoped>\n",
       "    .dataframe tbody tr th:only-of-type {\n",
       "        vertical-align: middle;\n",
       "    }\n",
       "\n",
       "    .dataframe tbody tr th {\n",
       "        vertical-align: top;\n",
       "    }\n",
       "\n",
       "    .dataframe thead th {\n",
       "        text-align: right;\n",
       "    }\n",
       "</style>\n",
       "<table border=\"1\" class=\"dataframe\">\n",
       "  <thead>\n",
       "    <tr style=\"text-align: right;\">\n",
       "      <th></th>\n",
       "      <th>institution</th>\n",
       "      <th>world_rank</th>\n",
       "      <th>year</th>\n",
       "      <th>university_name_normalized</th>\n",
       "    </tr>\n",
       "  </thead>\n",
       "  <tbody>\n",
       "    <tr>\n",
       "      <th>1474</th>\n",
       "      <td>Northeastern University</td>\n",
       "      <td>275</td>\n",
       "      <td>2015</td>\n",
       "      <td>Northeastern University</td>\n",
       "    </tr>\n",
       "    <tr>\n",
       "      <th>2070</th>\n",
       "      <td>Northeastern University (China)</td>\n",
       "      <td>871</td>\n",
       "      <td>2015</td>\n",
       "      <td>Northeastern University</td>\n",
       "    </tr>\n",
       "  </tbody>\n",
       "</table>\n",
       "</div>"
      ],
      "text/plain": [
       "                          institution  world_rank  year  \\\n",
       "1474          Northeastern University         275  2015   \n",
       "2070  Northeastern University (China)         871  2015   \n",
       "\n",
       "     university_name_normalized  \n",
       "1474    Northeastern University  \n",
       "2070    Northeastern University  "
      ]
     },
     "execution_count": 71,
     "metadata": {},
     "output_type": "execute_result"
    }
   ],
   "source": [
    "cwurdb_for_max_copy[cwurdb_for_max_copy['university_name_normalized'] == 'Northeastern University']"
   ]
  },
  {
   "cell_type": "markdown",
   "metadata": {
    "id": "Dgn4Y6z45TEm"
   },
   "source": [
    "Controlliamo nelle altre tabelle l'esistenza dell'università *Northeastern University*"
   ]
  },
  {
   "cell_type": "code",
   "execution_count": 72,
   "metadata": {
    "colab": {
     "base_uri": "https://localhost:8080/",
     "height": 400
    },
    "id": "UIJjmGQG5Rjg",
    "outputId": "9f7e2048-8639-4c30-befd-5b8186f689d2"
   },
   "outputs": [
    {
     "data": {
      "text/html": [
       "<div>\n",
       "<style scoped>\n",
       "    .dataframe tbody tr th:only-of-type {\n",
       "        vertical-align: middle;\n",
       "    }\n",
       "\n",
       "    .dataframe tbody tr th {\n",
       "        vertical-align: top;\n",
       "    }\n",
       "\n",
       "    .dataframe thead th {\n",
       "        text-align: right;\n",
       "    }\n",
       "</style>\n",
       "<table border=\"1\" class=\"dataframe\">\n",
       "  <thead>\n",
       "    <tr style=\"text-align: right;\">\n",
       "      <th></th>\n",
       "      <th>world_rank</th>\n",
       "      <th>university_name</th>\n",
       "      <th>country</th>\n",
       "      <th>teaching</th>\n",
       "      <th>international</th>\n",
       "      <th>research</th>\n",
       "      <th>citations</th>\n",
       "      <th>income</th>\n",
       "      <th>total_score</th>\n",
       "      <th>num_students</th>\n",
       "      <th>student_staff_ratio</th>\n",
       "      <th>international_students</th>\n",
       "      <th>female_male_ratio</th>\n",
       "      <th>year</th>\n",
       "    </tr>\n",
       "  </thead>\n",
       "  <tbody>\n",
       "    <tr>\n",
       "      <th>406</th>\n",
       "      <td>201-225</td>\n",
       "      <td>Northeastern University</td>\n",
       "      <td>United States of America</td>\n",
       "      <td>30.4</td>\n",
       "      <td>38.0</td>\n",
       "      <td>18.9</td>\n",
       "      <td>70.0</td>\n",
       "      <td>31.1</td>\n",
       "      <td>-</td>\n",
       "      <td>18,539</td>\n",
       "      <td>15.1</td>\n",
       "      <td>26%</td>\n",
       "      <td>50 : 50</td>\n",
       "      <td>2012</td>\n",
       "    </tr>\n",
       "    <tr>\n",
       "      <th>810</th>\n",
       "      <td>201-225</td>\n",
       "      <td>Northeastern University</td>\n",
       "      <td>United States of America</td>\n",
       "      <td>40.1</td>\n",
       "      <td>41.0</td>\n",
       "      <td>21.2</td>\n",
       "      <td>76.4</td>\n",
       "      <td>33.8</td>\n",
       "      <td>-</td>\n",
       "      <td>18,539</td>\n",
       "      <td>15.1</td>\n",
       "      <td>26%</td>\n",
       "      <td>50 : 50</td>\n",
       "      <td>2013</td>\n",
       "    </tr>\n",
       "    <tr>\n",
       "      <th>1185</th>\n",
       "      <td>184</td>\n",
       "      <td>Northeastern University</td>\n",
       "      <td>United States of America</td>\n",
       "      <td>34.5</td>\n",
       "      <td>48.5</td>\n",
       "      <td>19.8</td>\n",
       "      <td>82.0</td>\n",
       "      <td>34.5</td>\n",
       "      <td>45.4</td>\n",
       "      <td>18,539</td>\n",
       "      <td>15.1</td>\n",
       "      <td>26%</td>\n",
       "      <td>50 : 50</td>\n",
       "      <td>2014</td>\n",
       "    </tr>\n",
       "    <tr>\n",
       "      <th>1586</th>\n",
       "      <td>185</td>\n",
       "      <td>Northeastern University</td>\n",
       "      <td>United States of America</td>\n",
       "      <td>36.4</td>\n",
       "      <td>54.7</td>\n",
       "      <td>21.9</td>\n",
       "      <td>81.3</td>\n",
       "      <td>34.0</td>\n",
       "      <td>46.8</td>\n",
       "      <td>18,539</td>\n",
       "      <td>15.1</td>\n",
       "      <td>26%</td>\n",
       "      <td>50 : 50</td>\n",
       "      <td>2015</td>\n",
       "    </tr>\n",
       "    <tr>\n",
       "      <th>2029</th>\n",
       "      <td>201-250</td>\n",
       "      <td>Northeastern University</td>\n",
       "      <td>United States of America</td>\n",
       "      <td>35.5</td>\n",
       "      <td>58.7</td>\n",
       "      <td>20.6</td>\n",
       "      <td>84.0</td>\n",
       "      <td>32.9</td>\n",
       "      <td>-</td>\n",
       "      <td>18,539</td>\n",
       "      <td>15.1</td>\n",
       "      <td>26%</td>\n",
       "      <td>50 : 50</td>\n",
       "      <td>2016</td>\n",
       "    </tr>\n",
       "  </tbody>\n",
       "</table>\n",
       "</div>"
      ],
      "text/plain": [
       "     world_rank          university_name                   country  teaching  \\\n",
       "406     201-225  Northeastern University  United States of America      30.4   \n",
       "810     201-225  Northeastern University  United States of America      40.1   \n",
       "1185        184  Northeastern University  United States of America      34.5   \n",
       "1586        185  Northeastern University  United States of America      36.4   \n",
       "2029    201-250  Northeastern University  United States of America      35.5   \n",
       "\n",
       "     international  research  citations income total_score num_students  \\\n",
       "406           38.0      18.9       70.0   31.1           -       18,539   \n",
       "810           41.0      21.2       76.4   33.8           -       18,539   \n",
       "1185          48.5      19.8       82.0   34.5        45.4       18,539   \n",
       "1586          54.7      21.9       81.3   34.0        46.8       18,539   \n",
       "2029          58.7      20.6       84.0   32.9           -       18,539   \n",
       "\n",
       "      student_staff_ratio international_students female_male_ratio  year  \n",
       "406                  15.1                    26%           50 : 50  2012  \n",
       "810                  15.1                    26%           50 : 50  2013  \n",
       "1185                 15.1                    26%           50 : 50  2014  \n",
       "1586                 15.1                    26%           50 : 50  2015  \n",
       "2029                 15.1                    26%           50 : 50  2016  "
      ]
     },
     "execution_count": 72,
     "metadata": {},
     "output_type": "execute_result"
    }
   ],
   "source": [
    "times[times['university_name'].str.contains('Northeastern University')==True]"
   ]
  },
  {
   "cell_type": "markdown",
   "metadata": {
    "id": "EcmBQHD46Gvg"
   },
   "source": [
    "Si mantiene quella localizzata negli USA in quanto in altri dataset è presente mentre non è presente la corrispettiva cinese:"
   ]
  },
  {
   "cell_type": "code",
   "execution_count": 73,
   "metadata": {
    "colab": {
     "base_uri": "https://localhost:8080/",
     "height": 112
    },
    "id": "snxLj7o9zuEH",
    "outputId": "2b9a93c7-051c-4597-e5d1-31764ed5ea2e"
   },
   "outputs": [
    {
     "data": {
      "text/html": [
       "<div>\n",
       "<style scoped>\n",
       "    .dataframe tbody tr th:only-of-type {\n",
       "        vertical-align: middle;\n",
       "    }\n",
       "\n",
       "    .dataframe tbody tr th {\n",
       "        vertical-align: top;\n",
       "    }\n",
       "\n",
       "    .dataframe thead th {\n",
       "        text-align: right;\n",
       "    }\n",
       "</style>\n",
       "<table border=\"1\" class=\"dataframe\">\n",
       "  <thead>\n",
       "    <tr style=\"text-align: right;\">\n",
       "      <th></th>\n",
       "      <th>institution</th>\n",
       "      <th>world_rank</th>\n",
       "      <th>year</th>\n",
       "      <th>university_name_normalized</th>\n",
       "    </tr>\n",
       "  </thead>\n",
       "  <tbody>\n",
       "    <tr>\n",
       "      <th>1363</th>\n",
       "      <td>Indiana University-Purdue University Indianapolis</td>\n",
       "      <td>164</td>\n",
       "      <td>2015</td>\n",
       "      <td>Purdue University</td>\n",
       "    </tr>\n",
       "    <tr>\n",
       "      <th>1242</th>\n",
       "      <td>Purdue University, West Lafayette</td>\n",
       "      <td>43</td>\n",
       "      <td>2015</td>\n",
       "      <td>Purdue University</td>\n",
       "    </tr>\n",
       "  </tbody>\n",
       "</table>\n",
       "</div>"
      ],
      "text/plain": [
       "                                            institution  world_rank  year  \\\n",
       "1363  Indiana University-Purdue University Indianapolis         164  2015   \n",
       "1242                  Purdue University, West Lafayette          43  2015   \n",
       "\n",
       "     university_name_normalized  \n",
       "1363          Purdue University  \n",
       "1242          Purdue University  "
      ]
     },
     "execution_count": 73,
     "metadata": {},
     "output_type": "execute_result"
    }
   ],
   "source": [
    "cwurdb_for_max_copy[cwurdb_for_max_copy['university_name_normalized'] == 'Purdue University']"
   ]
  },
  {
   "cell_type": "code",
   "execution_count": 74,
   "metadata": {
    "colab": {
     "base_uri": "https://localhost:8080/",
     "height": 112
    },
    "id": "Y_VsI5AE0GWM",
    "outputId": "d08a0882-f64b-4b21-8754-21404d5c45d1"
   },
   "outputs": [
    {
     "data": {
      "text/html": [
       "<div>\n",
       "<style scoped>\n",
       "    .dataframe tbody tr th:only-of-type {\n",
       "        vertical-align: middle;\n",
       "    }\n",
       "\n",
       "    .dataframe tbody tr th {\n",
       "        vertical-align: top;\n",
       "    }\n",
       "\n",
       "    .dataframe thead th {\n",
       "        text-align: right;\n",
       "    }\n",
       "</style>\n",
       "<table border=\"1\" class=\"dataframe\">\n",
       "  <thead>\n",
       "    <tr style=\"text-align: right;\">\n",
       "      <th></th>\n",
       "      <th>institution</th>\n",
       "      <th>world_rank</th>\n",
       "      <th>year</th>\n",
       "      <th>university_name_normalized</th>\n",
       "    </tr>\n",
       "  </thead>\n",
       "  <tbody>\n",
       "    <tr>\n",
       "      <th>1826</th>\n",
       "      <td>China Agricultural University</td>\n",
       "      <td>627</td>\n",
       "      <td>2015</td>\n",
       "      <td>China Agricultural University</td>\n",
       "    </tr>\n",
       "    <tr>\n",
       "      <th>2168</th>\n",
       "      <td>South China Agricultural University</td>\n",
       "      <td>969</td>\n",
       "      <td>2015</td>\n",
       "      <td>China Agricultural University</td>\n",
       "    </tr>\n",
       "  </tbody>\n",
       "</table>\n",
       "</div>"
      ],
      "text/plain": [
       "                              institution  world_rank  year  \\\n",
       "1826        China Agricultural University         627  2015   \n",
       "2168  South China Agricultural University         969  2015   \n",
       "\n",
       "         university_name_normalized  \n",
       "1826  China Agricultural University  \n",
       "2168  China Agricultural University  "
      ]
     },
     "execution_count": 74,
     "metadata": {},
     "output_type": "execute_result"
    }
   ],
   "source": [
    "cwurdb_for_max_copy[cwurdb_for_max_copy['university_name_normalized'] == 'China Agricultural University']"
   ]
  },
  {
   "cell_type": "code",
   "execution_count": 75,
   "metadata": {
    "colab": {
     "base_uri": "https://localhost:8080/",
     "height": 81
    },
    "id": "g1vd290T0GRW",
    "outputId": "b0e56d02-b5f8-4403-c743-85a652031762"
   },
   "outputs": [
    {
     "data": {
      "text/html": [
       "<div>\n",
       "<style scoped>\n",
       "    .dataframe tbody tr th:only-of-type {\n",
       "        vertical-align: middle;\n",
       "    }\n",
       "\n",
       "    .dataframe tbody tr th {\n",
       "        vertical-align: top;\n",
       "    }\n",
       "\n",
       "    .dataframe thead th {\n",
       "        text-align: right;\n",
       "    }\n",
       "</style>\n",
       "<table border=\"1\" class=\"dataframe\">\n",
       "  <thead>\n",
       "    <tr style=\"text-align: right;\">\n",
       "      <th></th>\n",
       "      <th>university_name</th>\n",
       "      <th>world_rank</th>\n",
       "      <th>year</th>\n",
       "      <th>university_name_normalized</th>\n",
       "    </tr>\n",
       "  </thead>\n",
       "  <tbody>\n",
       "    <tr>\n",
       "      <th>2320</th>\n",
       "      <td>China Agricultural University</td>\n",
       "      <td>501-600</td>\n",
       "      <td>2016</td>\n",
       "      <td>China Agricultural University</td>\n",
       "    </tr>\n",
       "  </tbody>\n",
       "</table>\n",
       "</div>"
      ],
      "text/plain": [
       "                    university_name world_rank  year  \\\n",
       "2320  China Agricultural University    501-600  2016   \n",
       "\n",
       "         university_name_normalized  \n",
       "2320  China Agricultural University  "
      ]
     },
     "execution_count": 75,
     "metadata": {},
     "output_type": "execute_result"
    }
   ],
   "source": [
    "times_for_max_copy[times_for_max_copy['university_name'].str.contains('China Agricultural University') == True]"
   ]
  },
  {
   "cell_type": "code",
   "execution_count": 76,
   "metadata": {
    "colab": {
     "base_uri": "https://localhost:8080/",
     "height": 81
    },
    "id": "aBsAhyRI07WA",
    "outputId": "e436e27e-b5ff-4514-9fde-1837ee6f1876"
   },
   "outputs": [
    {
     "data": {
      "text/html": [
       "<div>\n",
       "<style scoped>\n",
       "    .dataframe tbody tr th:only-of-type {\n",
       "        vertical-align: middle;\n",
       "    }\n",
       "\n",
       "    .dataframe tbody tr th {\n",
       "        vertical-align: top;\n",
       "    }\n",
       "\n",
       "    .dataframe thead th {\n",
       "        text-align: right;\n",
       "    }\n",
       "</style>\n",
       "<table border=\"1\" class=\"dataframe\">\n",
       "  <thead>\n",
       "    <tr style=\"text-align: right;\">\n",
       "      <th></th>\n",
       "      <th>university_name</th>\n",
       "      <th>world_rank</th>\n",
       "      <th>year</th>\n",
       "      <th>university_name_normalized</th>\n",
       "    </tr>\n",
       "  </thead>\n",
       "  <tbody>\n",
       "    <tr>\n",
       "      <th>4703</th>\n",
       "      <td>China Agricultural University</td>\n",
       "      <td>301-400</td>\n",
       "      <td>2015</td>\n",
       "      <td>China Agricultural University</td>\n",
       "    </tr>\n",
       "  </tbody>\n",
       "</table>\n",
       "</div>"
      ],
      "text/plain": [
       "                    university_name world_rank  year  \\\n",
       "4703  China Agricultural University    301-400  2015   \n",
       "\n",
       "         university_name_normalized  \n",
       "4703  China Agricultural University  "
      ]
     },
     "execution_count": 76,
     "metadata": {},
     "output_type": "execute_result"
    }
   ],
   "source": [
    "shanghai_for_max[shanghai_for_max['university_name'].str.contains('China Agricultural University') == True]"
   ]
  },
  {
   "cell_type": "code",
   "execution_count": 77,
   "metadata": {
    "colab": {
     "base_uri": "https://localhost:8080/",
     "height": 112
    },
    "id": "t04cHxbT6u98",
    "outputId": "e66f34f0-aa36-4990-eed3-a4fbc0a1504d"
   },
   "outputs": [
    {
     "data": {
      "text/html": [
       "<div>\n",
       "<style scoped>\n",
       "    .dataframe tbody tr th:only-of-type {\n",
       "        vertical-align: middle;\n",
       "    }\n",
       "\n",
       "    .dataframe tbody tr th {\n",
       "        vertical-align: top;\n",
       "    }\n",
       "\n",
       "    .dataframe thead th {\n",
       "        text-align: right;\n",
       "    }\n",
       "</style>\n",
       "<table border=\"1\" class=\"dataframe\">\n",
       "  <thead>\n",
       "    <tr style=\"text-align: right;\">\n",
       "      <th></th>\n",
       "      <th>institution</th>\n",
       "      <th>world_rank</th>\n",
       "      <th>year</th>\n",
       "      <th>university_name_normalized</th>\n",
       "    </tr>\n",
       "  </thead>\n",
       "  <tbody>\n",
       "    <tr>\n",
       "      <th>2002</th>\n",
       "      <td>National Sun Yat-sen University</td>\n",
       "      <td>803</td>\n",
       "      <td>2015</td>\n",
       "      <td>Sun Yat-sen University</td>\n",
       "    </tr>\n",
       "    <tr>\n",
       "      <th>1476</th>\n",
       "      <td>Sun Yat-sen University</td>\n",
       "      <td>277</td>\n",
       "      <td>2015</td>\n",
       "      <td>Sun Yat-sen University</td>\n",
       "    </tr>\n",
       "  </tbody>\n",
       "</table>\n",
       "</div>"
      ],
      "text/plain": [
       "                          institution  world_rank  year  \\\n",
       "2002  National Sun Yat-sen University         803  2015   \n",
       "1476           Sun Yat-sen University         277  2015   \n",
       "\n",
       "     university_name_normalized  \n",
       "2002     Sun Yat-sen University  \n",
       "1476     Sun Yat-sen University  "
      ]
     },
     "execution_count": 77,
     "metadata": {},
     "output_type": "execute_result"
    }
   ],
   "source": [
    "# ANALIZZARE DOPO COME CASO PARTICOLARE\n",
    "cwurdb_for_max_copy[cwurdb_for_max_copy['university_name_normalized'] == 'Sun Yat-sen University']"
   ]
  },
  {
   "cell_type": "code",
   "execution_count": 78,
   "metadata": {
    "id": "emx92yWj7O5-"
   },
   "outputs": [
    {
     "data": {
      "text/html": [
       "<div>\n",
       "<style scoped>\n",
       "    .dataframe tbody tr th:only-of-type {\n",
       "        vertical-align: middle;\n",
       "    }\n",
       "\n",
       "    .dataframe tbody tr th {\n",
       "        vertical-align: top;\n",
       "    }\n",
       "\n",
       "    .dataframe thead th {\n",
       "        text-align: right;\n",
       "    }\n",
       "</style>\n",
       "<table border=\"1\" class=\"dataframe\">\n",
       "  <thead>\n",
       "    <tr style=\"text-align: right;\">\n",
       "      <th></th>\n",
       "      <th>university_name_normalized</th>\n",
       "      <th>country</th>\n",
       "    </tr>\n",
       "  </thead>\n",
       "  <tbody>\n",
       "    <tr>\n",
       "      <th>106</th>\n",
       "      <td>National Tsing Hua University</td>\n",
       "      <td>Taiwan</td>\n",
       "    </tr>\n",
       "    <tr>\n",
       "      <th>114</th>\n",
       "      <td>National Taiwan University</td>\n",
       "      <td>Taiwan</td>\n",
       "    </tr>\n",
       "    <tr>\n",
       "      <th>162</th>\n",
       "      <td>National Sun Yat-Sen University</td>\n",
       "      <td>Taiwan</td>\n",
       "    </tr>\n",
       "    <tr>\n",
       "      <th>180</th>\n",
       "      <td>National Chiao Tung University</td>\n",
       "      <td>Taiwan</td>\n",
       "    </tr>\n",
       "    <tr>\n",
       "      <th>320</th>\n",
       "      <td>National Taiwan University of Science and Tech...</td>\n",
       "      <td>Taiwan</td>\n",
       "    </tr>\n",
       "    <tr>\n",
       "      <th>374</th>\n",
       "      <td>National Central University</td>\n",
       "      <td>Taiwan</td>\n",
       "    </tr>\n",
       "    <tr>\n",
       "      <th>375</th>\n",
       "      <td>National Taiwan Ocean University</td>\n",
       "      <td>Taiwan</td>\n",
       "    </tr>\n",
       "    <tr>\n",
       "      <th>403</th>\n",
       "      <td>Yuan Ze University</td>\n",
       "      <td>Taiwan</td>\n",
       "    </tr>\n",
       "    <tr>\n",
       "      <th>425</th>\n",
       "      <td>National Cheng Kung University</td>\n",
       "      <td>Taiwan</td>\n",
       "    </tr>\n",
       "    <tr>\n",
       "      <th>450</th>\n",
       "      <td>China Medical University, Taiwan</td>\n",
       "      <td>Taiwan</td>\n",
       "    </tr>\n",
       "    <tr>\n",
       "      <th>543</th>\n",
       "      <td>National Yang-Ming University</td>\n",
       "      <td>Taiwan</td>\n",
       "    </tr>\n",
       "    <tr>\n",
       "      <th>599</th>\n",
       "      <td>National Taiwan Normal University</td>\n",
       "      <td>Taiwan</td>\n",
       "    </tr>\n",
       "    <tr>\n",
       "      <th>645</th>\n",
       "      <td>Asia University, Taiwan</td>\n",
       "      <td>Taiwan</td>\n",
       "    </tr>\n",
       "    <tr>\n",
       "      <th>665</th>\n",
       "      <td>Chang Gung University</td>\n",
       "      <td>Taiwan</td>\n",
       "    </tr>\n",
       "    <tr>\n",
       "      <th>676</th>\n",
       "      <td>Chung Yuan Christian University</td>\n",
       "      <td>Taiwan</td>\n",
       "    </tr>\n",
       "    <tr>\n",
       "      <th>697</th>\n",
       "      <td>Feng Chia University</td>\n",
       "      <td>Taiwan</td>\n",
       "    </tr>\n",
       "    <tr>\n",
       "      <th>698</th>\n",
       "      <td>Fu Jen Catholic University</td>\n",
       "      <td>Taiwan</td>\n",
       "    </tr>\n",
       "    <tr>\n",
       "      <th>710</th>\n",
       "      <td>I-Shou University</td>\n",
       "      <td>Taiwan</td>\n",
       "    </tr>\n",
       "    <tr>\n",
       "      <th>717</th>\n",
       "      <td>Kaohsiung Medical University</td>\n",
       "      <td>Taiwan</td>\n",
       "    </tr>\n",
       "    <tr>\n",
       "      <th>735</th>\n",
       "      <td>National Chengchi University</td>\n",
       "      <td>Taiwan</td>\n",
       "    </tr>\n",
       "    <tr>\n",
       "      <th>736</th>\n",
       "      <td>National Chung Cheng University</td>\n",
       "      <td>Taiwan</td>\n",
       "    </tr>\n",
       "    <tr>\n",
       "      <th>737</th>\n",
       "      <td>National Chung Hsing University</td>\n",
       "      <td>Taiwan</td>\n",
       "    </tr>\n",
       "    <tr>\n",
       "      <th>738</th>\n",
       "      <td>National Taipei University of Technology</td>\n",
       "      <td>Taiwan</td>\n",
       "    </tr>\n",
       "    <tr>\n",
       "      <th>788</th>\n",
       "      <td>Taipei Medical University</td>\n",
       "      <td>Taiwan</td>\n",
       "    </tr>\n",
       "  </tbody>\n",
       "</table>\n",
       "</div>"
      ],
      "text/plain": [
       "                            university_name_normalized country\n",
       "106                      National Tsing Hua University  Taiwan\n",
       "114                         National Taiwan University  Taiwan\n",
       "162                    National Sun Yat-Sen University  Taiwan\n",
       "180                     National Chiao Tung University  Taiwan\n",
       "320  National Taiwan University of Science and Tech...  Taiwan\n",
       "374                        National Central University  Taiwan\n",
       "375                   National Taiwan Ocean University  Taiwan\n",
       "403                                 Yuan Ze University  Taiwan\n",
       "425                     National Cheng Kung University  Taiwan\n",
       "450                   China Medical University, Taiwan  Taiwan\n",
       "543                      National Yang-Ming University  Taiwan\n",
       "599                  National Taiwan Normal University  Taiwan\n",
       "645                            Asia University, Taiwan  Taiwan\n",
       "665                              Chang Gung University  Taiwan\n",
       "676                    Chung Yuan Christian University  Taiwan\n",
       "697                               Feng Chia University  Taiwan\n",
       "698                         Fu Jen Catholic University  Taiwan\n",
       "710                                  I-Shou University  Taiwan\n",
       "717                       Kaohsiung Medical University  Taiwan\n",
       "735                       National Chengchi University  Taiwan\n",
       "736                    National Chung Cheng University  Taiwan\n",
       "737                    National Chung Hsing University  Taiwan\n",
       "738           National Taipei University of Technology  Taiwan\n",
       "788                          Taipei Medical University  Taiwan"
      ]
     },
     "execution_count": 78,
     "metadata": {},
     "output_type": "execute_result"
    }
   ],
   "source": [
    "school_and_country_name[school_and_country_name['country'].str.contains('Taiwan') == True]"
   ]
  },
  {
   "cell_type": "code",
   "execution_count": 79,
   "metadata": {
    "colab": {
     "base_uri": "https://localhost:8080/",
     "height": 112
    },
    "id": "H82tuKr27IHF",
    "outputId": "a963ba23-78eb-457b-850e-7800554d3ccc"
   },
   "outputs": [
    {
     "data": {
      "text/html": [
       "<div>\n",
       "<style scoped>\n",
       "    .dataframe tbody tr th:only-of-type {\n",
       "        vertical-align: middle;\n",
       "    }\n",
       "\n",
       "    .dataframe tbody tr th {\n",
       "        vertical-align: top;\n",
       "    }\n",
       "\n",
       "    .dataframe thead th {\n",
       "        text-align: right;\n",
       "    }\n",
       "</style>\n",
       "<table border=\"1\" class=\"dataframe\">\n",
       "  <thead>\n",
       "    <tr style=\"text-align: right;\">\n",
       "      <th></th>\n",
       "      <th>institution</th>\n",
       "      <th>world_rank</th>\n",
       "      <th>year</th>\n",
       "      <th>university_name_normalized</th>\n",
       "    </tr>\n",
       "  </thead>\n",
       "  <tbody>\n",
       "    <tr>\n",
       "      <th>1749</th>\n",
       "      <td>University of Arkansas - Fayetteville</td>\n",
       "      <td>550</td>\n",
       "      <td>2015</td>\n",
       "      <td>University of Arkansas</td>\n",
       "    </tr>\n",
       "    <tr>\n",
       "      <th>1628</th>\n",
       "      <td>University of Arkansas for Medical Sciences</td>\n",
       "      <td>429</td>\n",
       "      <td>2015</td>\n",
       "      <td>University of Arkansas</td>\n",
       "    </tr>\n",
       "  </tbody>\n",
       "</table>\n",
       "</div>"
      ],
      "text/plain": [
       "                                      institution  world_rank  year  \\\n",
       "1749        University of Arkansas - Fayetteville         550  2015   \n",
       "1628  University of Arkansas for Medical Sciences         429  2015   \n",
       "\n",
       "     university_name_normalized  \n",
       "1749     University of Arkansas  \n",
       "1628     University of Arkansas  "
      ]
     },
     "execution_count": 79,
     "metadata": {},
     "output_type": "execute_result"
    }
   ],
   "source": [
    "cwurdb_for_max_copy[cwurdb_for_max_copy['university_name_normalized'] == 'University of Arkansas']"
   ]
  },
  {
   "cell_type": "code",
   "execution_count": 80,
   "metadata": {
    "colab": {
     "base_uri": "https://localhost:8080/",
     "height": 143
    },
    "id": "0MlQH5Dg7ICv",
    "outputId": "203a0fc1-b436-4c2e-c5c0-4394104bc161"
   },
   "outputs": [
    {
     "data": {
      "text/html": [
       "<div>\n",
       "<style scoped>\n",
       "    .dataframe tbody tr th:only-of-type {\n",
       "        vertical-align: middle;\n",
       "    }\n",
       "\n",
       "    .dataframe tbody tr th {\n",
       "        vertical-align: top;\n",
       "    }\n",
       "\n",
       "    .dataframe thead th {\n",
       "        text-align: right;\n",
       "    }\n",
       "</style>\n",
       "<table border=\"1\" class=\"dataframe\">\n",
       "  <thead>\n",
       "    <tr style=\"text-align: right;\">\n",
       "      <th></th>\n",
       "      <th>institution</th>\n",
       "      <th>world_rank</th>\n",
       "      <th>year</th>\n",
       "      <th>university_name_normalized</th>\n",
       "    </tr>\n",
       "  </thead>\n",
       "  <tbody>\n",
       "    <tr>\n",
       "      <th>1498</th>\n",
       "      <td>University of Bordeaux</td>\n",
       "      <td>299</td>\n",
       "      <td>2015</td>\n",
       "      <td>University of Bordeaux</td>\n",
       "    </tr>\n",
       "    <tr>\n",
       "      <th>631</th>\n",
       "      <td>University of Bordeaux I</td>\n",
       "      <td>432</td>\n",
       "      <td>2014</td>\n",
       "      <td>University of Bordeaux</td>\n",
       "    </tr>\n",
       "    <tr>\n",
       "      <th>602</th>\n",
       "      <td>University of Bordeaux II</td>\n",
       "      <td>403</td>\n",
       "      <td>2014</td>\n",
       "      <td>University of Bordeaux</td>\n",
       "    </tr>\n",
       "  </tbody>\n",
       "</table>\n",
       "</div>"
      ],
      "text/plain": [
       "                    institution  world_rank  year university_name_normalized\n",
       "1498     University of Bordeaux         299  2015     University of Bordeaux\n",
       "631    University of Bordeaux I         432  2014     University of Bordeaux\n",
       "602   University of Bordeaux II         403  2014     University of Bordeaux"
      ]
     },
     "execution_count": 80,
     "metadata": {},
     "output_type": "execute_result"
    }
   ],
   "source": [
    "cwurdb_for_max_copy[cwurdb_for_max_copy['university_name_normalized'] == 'University of Bordeaux']"
   ]
  },
  {
   "cell_type": "code",
   "execution_count": 81,
   "metadata": {
    "colab": {
     "base_uri": "https://localhost:8080/",
     "height": 112
    },
    "id": "2tFDPvzV6u5w",
    "outputId": "e9174629-e6ef-48e3-87b8-64402110f94b"
   },
   "outputs": [
    {
     "data": {
      "text/html": [
       "<div>\n",
       "<style scoped>\n",
       "    .dataframe tbody tr th:only-of-type {\n",
       "        vertical-align: middle;\n",
       "    }\n",
       "\n",
       "    .dataframe tbody tr th {\n",
       "        vertical-align: top;\n",
       "    }\n",
       "\n",
       "    .dataframe thead th {\n",
       "        text-align: right;\n",
       "    }\n",
       "</style>\n",
       "<table border=\"1\" class=\"dataframe\">\n",
       "  <thead>\n",
       "    <tr style=\"text-align: right;\">\n",
       "      <th></th>\n",
       "      <th>institution</th>\n",
       "      <th>world_rank</th>\n",
       "      <th>year</th>\n",
       "      <th>university_name_normalized</th>\n",
       "    </tr>\n",
       "  </thead>\n",
       "  <tbody>\n",
       "    <tr>\n",
       "      <th>1773</th>\n",
       "      <td>Medical University of Graz</td>\n",
       "      <td>574</td>\n",
       "      <td>2015</td>\n",
       "      <td>University of Graz</td>\n",
       "    </tr>\n",
       "    <tr>\n",
       "      <th>1783</th>\n",
       "      <td>University of Graz</td>\n",
       "      <td>584</td>\n",
       "      <td>2015</td>\n",
       "      <td>University of Graz</td>\n",
       "    </tr>\n",
       "  </tbody>\n",
       "</table>\n",
       "</div>"
      ],
      "text/plain": [
       "                     institution  world_rank  year university_name_normalized\n",
       "1773  Medical University of Graz         574  2015         University of Graz\n",
       "1783          University of Graz         584  2015         University of Graz"
      ]
     },
     "execution_count": 81,
     "metadata": {},
     "output_type": "execute_result"
    }
   ],
   "source": [
    "cwurdb_for_max_copy[cwurdb_for_max_copy['university_name_normalized'] == 'University of Graz']"
   ]
  },
  {
   "cell_type": "code",
   "execution_count": 82,
   "metadata": {
    "colab": {
     "base_uri": "https://localhost:8080/",
     "height": 112
    },
    "id": "SkL-rO5r07R2",
    "outputId": "937f0a4e-d840-4d53-b380-2291fb9029e2"
   },
   "outputs": [
    {
     "data": {
      "text/html": [
       "<div>\n",
       "<style scoped>\n",
       "    .dataframe tbody tr th:only-of-type {\n",
       "        vertical-align: middle;\n",
       "    }\n",
       "\n",
       "    .dataframe tbody tr th {\n",
       "        vertical-align: top;\n",
       "    }\n",
       "\n",
       "    .dataframe thead th {\n",
       "        text-align: right;\n",
       "    }\n",
       "</style>\n",
       "<table border=\"1\" class=\"dataframe\">\n",
       "  <thead>\n",
       "    <tr style=\"text-align: right;\">\n",
       "      <th></th>\n",
       "      <th>institution</th>\n",
       "      <th>world_rank</th>\n",
       "      <th>year</th>\n",
       "      <th>university_name_normalized</th>\n",
       "    </tr>\n",
       "  </thead>\n",
       "  <tbody>\n",
       "    <tr>\n",
       "      <th>1374</th>\n",
       "      <td>University of Maryland, Baltimore</td>\n",
       "      <td>175</td>\n",
       "      <td>2015</td>\n",
       "      <td>University of Maryland, Baltimore County</td>\n",
       "    </tr>\n",
       "    <tr>\n",
       "      <th>1692</th>\n",
       "      <td>University of Maryland, Baltimore County</td>\n",
       "      <td>493</td>\n",
       "      <td>2015</td>\n",
       "      <td>University of Maryland, Baltimore County</td>\n",
       "    </tr>\n",
       "  </tbody>\n",
       "</table>\n",
       "</div>"
      ],
      "text/plain": [
       "                                   institution  world_rank  year  \\\n",
       "1374         University of Maryland, Baltimore         175  2015   \n",
       "1692  University of Maryland, Baltimore County         493  2015   \n",
       "\n",
       "                    university_name_normalized  \n",
       "1374  University of Maryland, Baltimore County  \n",
       "1692  University of Maryland, Baltimore County  "
      ]
     },
     "execution_count": 82,
     "metadata": {},
     "output_type": "execute_result"
    }
   ],
   "source": [
    "cwurdb_for_max_copy[cwurdb_for_max_copy['university_name_normalized'] == 'University of Maryland, Baltimore County']"
   ]
  },
  {
   "cell_type": "code",
   "execution_count": 83,
   "metadata": {
    "colab": {
     "base_uri": "https://localhost:8080/",
     "height": 175
    },
    "id": "K_PeTSB00GN6",
    "outputId": "d50855b7-a27c-476b-916f-bf8b2afdd4d4"
   },
   "outputs": [
    {
     "data": {
      "text/html": [
       "<div>\n",
       "<style scoped>\n",
       "    .dataframe tbody tr th:only-of-type {\n",
       "        vertical-align: middle;\n",
       "    }\n",
       "\n",
       "    .dataframe tbody tr th {\n",
       "        vertical-align: top;\n",
       "    }\n",
       "\n",
       "    .dataframe thead th {\n",
       "        text-align: right;\n",
       "    }\n",
       "</style>\n",
       "<table border=\"1\" class=\"dataframe\">\n",
       "  <thead>\n",
       "    <tr style=\"text-align: right;\">\n",
       "      <th></th>\n",
       "      <th>institution</th>\n",
       "      <th>world_rank</th>\n",
       "      <th>year</th>\n",
       "      <th>university_name_normalized</th>\n",
       "    </tr>\n",
       "  </thead>\n",
       "  <tbody>\n",
       "    <tr>\n",
       "      <th>1418</th>\n",
       "      <td>University of Massachusetts Amherst</td>\n",
       "      <td>219</td>\n",
       "      <td>2015</td>\n",
       "      <td>University of Massachusetts</td>\n",
       "    </tr>\n",
       "    <tr>\n",
       "      <th>2024</th>\n",
       "      <td>University of Massachusetts Boston</td>\n",
       "      <td>825</td>\n",
       "      <td>2015</td>\n",
       "      <td>University of Massachusetts</td>\n",
       "    </tr>\n",
       "    <tr>\n",
       "      <th>2083</th>\n",
       "      <td>University of Massachusetts Lowell</td>\n",
       "      <td>884</td>\n",
       "      <td>2015</td>\n",
       "      <td>University of Massachusetts</td>\n",
       "    </tr>\n",
       "    <tr>\n",
       "      <th>1382</th>\n",
       "      <td>University of Massachusetts Medical School</td>\n",
       "      <td>183</td>\n",
       "      <td>2015</td>\n",
       "      <td>University of Massachusetts</td>\n",
       "    </tr>\n",
       "  </tbody>\n",
       "</table>\n",
       "</div>"
      ],
      "text/plain": [
       "                                     institution  world_rank  year  \\\n",
       "1418         University of Massachusetts Amherst         219  2015   \n",
       "2024          University of Massachusetts Boston         825  2015   \n",
       "2083          University of Massachusetts Lowell         884  2015   \n",
       "1382  University of Massachusetts Medical School         183  2015   \n",
       "\n",
       "       university_name_normalized  \n",
       "1418  University of Massachusetts  \n",
       "2024  University of Massachusetts  \n",
       "2083  University of Massachusetts  \n",
       "1382  University of Massachusetts  "
      ]
     },
     "execution_count": 83,
     "metadata": {},
     "output_type": "execute_result"
    }
   ],
   "source": [
    "cwurdb_for_max_copy[cwurdb_for_max_copy['university_name_normalized'] == 'University of Massachusetts']"
   ]
  },
  {
   "cell_type": "code",
   "execution_count": 84,
   "metadata": {
    "colab": {
     "base_uri": "https://localhost:8080/",
     "height": 112
    },
    "id": "D0sj08GW0GJK",
    "outputId": "c2654805-5425-433a-b2f9-45ec7b9828f6"
   },
   "outputs": [
    {
     "data": {
      "text/html": [
       "<div>\n",
       "<style scoped>\n",
       "    .dataframe tbody tr th:only-of-type {\n",
       "        vertical-align: middle;\n",
       "    }\n",
       "\n",
       "    .dataframe tbody tr th {\n",
       "        vertical-align: top;\n",
       "    }\n",
       "\n",
       "    .dataframe thead th {\n",
       "        text-align: right;\n",
       "    }\n",
       "</style>\n",
       "<table border=\"1\" class=\"dataframe\">\n",
       "  <thead>\n",
       "    <tr style=\"text-align: right;\">\n",
       "      <th></th>\n",
       "      <th>institution</th>\n",
       "      <th>world_rank</th>\n",
       "      <th>year</th>\n",
       "      <th>university_name_normalized</th>\n",
       "    </tr>\n",
       "  </thead>\n",
       "  <tbody>\n",
       "    <tr>\n",
       "      <th>1371</th>\n",
       "      <td>University of Milan</td>\n",
       "      <td>172</td>\n",
       "      <td>2015</td>\n",
       "      <td>University of Milan</td>\n",
       "    </tr>\n",
       "    <tr>\n",
       "      <th>1581</th>\n",
       "      <td>University of Milan - Bicocca</td>\n",
       "      <td>382</td>\n",
       "      <td>2015</td>\n",
       "      <td>University of Milan</td>\n",
       "    </tr>\n",
       "  </tbody>\n",
       "</table>\n",
       "</div>"
      ],
      "text/plain": [
       "                        institution  world_rank  year  \\\n",
       "1371            University of Milan         172  2015   \n",
       "1581  University of Milan - Bicocca         382  2015   \n",
       "\n",
       "     university_name_normalized  \n",
       "1371        University of Milan  \n",
       "1581        University of Milan  "
      ]
     },
     "execution_count": 84,
     "metadata": {},
     "output_type": "execute_result"
    }
   ],
   "source": [
    "cwurdb_for_max_copy[cwurdb_for_max_copy['university_name_normalized'] == 'University of Milan']"
   ]
  },
  {
   "cell_type": "code",
   "execution_count": 85,
   "metadata": {
    "colab": {
     "base_uri": "https://localhost:8080/",
     "height": 143
    },
    "id": "Sbf1aMQG8rs0",
    "outputId": "81cb136f-1d98-41c0-ff14-8dd3c64269b3"
   },
   "outputs": [
    {
     "data": {
      "text/html": [
       "<div>\n",
       "<style scoped>\n",
       "    .dataframe tbody tr th:only-of-type {\n",
       "        vertical-align: middle;\n",
       "    }\n",
       "\n",
       "    .dataframe tbody tr th {\n",
       "        vertical-align: top;\n",
       "    }\n",
       "\n",
       "    .dataframe thead th {\n",
       "        text-align: right;\n",
       "    }\n",
       "</style>\n",
       "<table border=\"1\" class=\"dataframe\">\n",
       "  <thead>\n",
       "    <tr style=\"text-align: right;\">\n",
       "      <th></th>\n",
       "      <th>institution</th>\n",
       "      <th>world_rank</th>\n",
       "      <th>year</th>\n",
       "      <th>university_name_normalized</th>\n",
       "    </tr>\n",
       "  </thead>\n",
       "  <tbody>\n",
       "    <tr>\n",
       "      <th>1393</th>\n",
       "      <td>University of Missouri–Columbia</td>\n",
       "      <td>194</td>\n",
       "      <td>2015</td>\n",
       "      <td>University of Missouri</td>\n",
       "    </tr>\n",
       "    <tr>\n",
       "      <th>1753</th>\n",
       "      <td>University of Missouri–Kansas City</td>\n",
       "      <td>554</td>\n",
       "      <td>2015</td>\n",
       "      <td>University of Missouri</td>\n",
       "    </tr>\n",
       "    <tr>\n",
       "      <th>1947</th>\n",
       "      <td>University of Missouri–St. Louis</td>\n",
       "      <td>748</td>\n",
       "      <td>2015</td>\n",
       "      <td>University of Missouri</td>\n",
       "    </tr>\n",
       "  </tbody>\n",
       "</table>\n",
       "</div>"
      ],
      "text/plain": [
       "                             institution  world_rank  year  \\\n",
       "1393     University of Missouri–Columbia         194  2015   \n",
       "1753  University of Missouri–Kansas City         554  2015   \n",
       "1947    University of Missouri–St. Louis         748  2015   \n",
       "\n",
       "     university_name_normalized  \n",
       "1393     University of Missouri  \n",
       "1753     University of Missouri  \n",
       "1947     University of Missouri  "
      ]
     },
     "execution_count": 85,
     "metadata": {},
     "output_type": "execute_result"
    }
   ],
   "source": [
    "cwurdb_for_max_copy[cwurdb_for_max_copy['university_name_normalized'] == 'University of Missouri']"
   ]
  },
  {
   "cell_type": "code",
   "execution_count": 86,
   "metadata": {
    "colab": {
     "base_uri": "https://localhost:8080/",
     "height": 112
    },
    "id": "0fEo2KN88rny",
    "outputId": "1f40ce22-70d4-4428-d2c0-85b390657c5d"
   },
   "outputs": [
    {
     "data": {
      "text/html": [
       "<div>\n",
       "<style scoped>\n",
       "    .dataframe tbody tr th:only-of-type {\n",
       "        vertical-align: middle;\n",
       "    }\n",
       "\n",
       "    .dataframe tbody tr th {\n",
       "        vertical-align: top;\n",
       "    }\n",
       "\n",
       "    .dataframe thead th {\n",
       "        text-align: right;\n",
       "    }\n",
       "</style>\n",
       "<table border=\"1\" class=\"dataframe\">\n",
       "  <thead>\n",
       "    <tr style=\"text-align: right;\">\n",
       "      <th></th>\n",
       "      <th>institution</th>\n",
       "      <th>world_rank</th>\n",
       "      <th>year</th>\n",
       "      <th>university_name_normalized</th>\n",
       "    </tr>\n",
       "  </thead>\n",
       "  <tbody>\n",
       "    <tr>\n",
       "      <th>1549</th>\n",
       "      <td>University of Oklahoma - Norman Campus</td>\n",
       "      <td>350</td>\n",
       "      <td>2015</td>\n",
       "      <td>University of Oklahoma</td>\n",
       "    </tr>\n",
       "    <tr>\n",
       "      <th>1675</th>\n",
       "      <td>University of Oklahoma Health Sciences Center</td>\n",
       "      <td>476</td>\n",
       "      <td>2015</td>\n",
       "      <td>University of Oklahoma</td>\n",
       "    </tr>\n",
       "  </tbody>\n",
       "</table>\n",
       "</div>"
      ],
      "text/plain": [
       "                                        institution  world_rank  year  \\\n",
       "1549         University of Oklahoma - Norman Campus         350  2015   \n",
       "1675  University of Oklahoma Health Sciences Center         476  2015   \n",
       "\n",
       "     university_name_normalized  \n",
       "1549     University of Oklahoma  \n",
       "1675     University of Oklahoma  "
      ]
     },
     "execution_count": 86,
     "metadata": {},
     "output_type": "execute_result"
    }
   ],
   "source": [
    "cwurdb_for_max_copy[cwurdb_for_max_copy['university_name_normalized'] == 'University of Oklahoma']"
   ]
  },
  {
   "cell_type": "code",
   "execution_count": 87,
   "metadata": {
    "colab": {
     "base_uri": "https://localhost:8080/",
     "height": 112
    },
    "id": "gS_IYr-l8rjz",
    "outputId": "86ee936f-484b-47f3-c75c-6d7591b2fa1d"
   },
   "outputs": [
    {
     "data": {
      "text/html": [
       "<div>\n",
       "<style scoped>\n",
       "    .dataframe tbody tr th:only-of-type {\n",
       "        vertical-align: middle;\n",
       "    }\n",
       "\n",
       "    .dataframe tbody tr th {\n",
       "        vertical-align: top;\n",
       "    }\n",
       "\n",
       "    .dataframe thead th {\n",
       "        text-align: right;\n",
       "    }\n",
       "</style>\n",
       "<table border=\"1\" class=\"dataframe\">\n",
       "  <thead>\n",
       "    <tr style=\"text-align: right;\">\n",
       "      <th></th>\n",
       "      <th>institution</th>\n",
       "      <th>world_rank</th>\n",
       "      <th>year</th>\n",
       "      <th>university_name_normalized</th>\n",
       "    </tr>\n",
       "  </thead>\n",
       "  <tbody>\n",
       "    <tr>\n",
       "      <th>1788</th>\n",
       "      <td>Federal University of São Paulo</td>\n",
       "      <td>589</td>\n",
       "      <td>2015</td>\n",
       "      <td>University of São Paulo</td>\n",
       "    </tr>\n",
       "    <tr>\n",
       "      <th>1331</th>\n",
       "      <td>University of São Paulo</td>\n",
       "      <td>132</td>\n",
       "      <td>2015</td>\n",
       "      <td>University of São Paulo</td>\n",
       "    </tr>\n",
       "  </tbody>\n",
       "</table>\n",
       "</div>"
      ],
      "text/plain": [
       "                          institution  world_rank  year  \\\n",
       "1788  Federal University of São Paulo         589  2015   \n",
       "1331          University of São Paulo         132  2015   \n",
       "\n",
       "     university_name_normalized  \n",
       "1788    University of São Paulo  \n",
       "1331    University of São Paulo  "
      ]
     },
     "execution_count": 87,
     "metadata": {},
     "output_type": "execute_result"
    }
   ],
   "source": [
    "cwurdb_for_max_copy[cwurdb_for_max_copy['university_name_normalized'] == 'University of São Paulo']"
   ]
  },
  {
   "cell_type": "code",
   "execution_count": 88,
   "metadata": {
    "colab": {
     "base_uri": "https://localhost:8080/",
     "height": 112
    },
    "id": "Kn-quAza8-wj",
    "outputId": "9ed6ebc4-4685-4045-b2cc-ca066ac31023"
   },
   "outputs": [
    {
     "data": {
      "text/html": [
       "<div>\n",
       "<style scoped>\n",
       "    .dataframe tbody tr th:only-of-type {\n",
       "        vertical-align: middle;\n",
       "    }\n",
       "\n",
       "    .dataframe tbody tr th {\n",
       "        vertical-align: top;\n",
       "    }\n",
       "\n",
       "    .dataframe thead th {\n",
       "        text-align: right;\n",
       "    }\n",
       "</style>\n",
       "<table border=\"1\" class=\"dataframe\">\n",
       "  <thead>\n",
       "    <tr style=\"text-align: right;\">\n",
       "      <th></th>\n",
       "      <th>institution</th>\n",
       "      <th>world_rank</th>\n",
       "      <th>year</th>\n",
       "      <th>university_name_normalized</th>\n",
       "    </tr>\n",
       "  </thead>\n",
       "  <tbody>\n",
       "    <tr>\n",
       "      <th>1224</th>\n",
       "      <td>University of Wisconsin–Madison</td>\n",
       "      <td>25</td>\n",
       "      <td>2015</td>\n",
       "      <td>University of Wisconsin</td>\n",
       "    </tr>\n",
       "    <tr>\n",
       "      <th>1709</th>\n",
       "      <td>University of Wisconsin–Milwaukee</td>\n",
       "      <td>510</td>\n",
       "      <td>2015</td>\n",
       "      <td>University of Wisconsin</td>\n",
       "    </tr>\n",
       "  </tbody>\n",
       "</table>\n",
       "</div>"
      ],
      "text/plain": [
       "                            institution  world_rank  year  \\\n",
       "1224    University of Wisconsin–Madison          25  2015   \n",
       "1709  University of Wisconsin–Milwaukee         510  2015   \n",
       "\n",
       "     university_name_normalized  \n",
       "1224    University of Wisconsin  \n",
       "1709    University of Wisconsin  "
      ]
     },
     "execution_count": 88,
     "metadata": {},
     "output_type": "execute_result"
    }
   ],
   "source": [
    "cwurdb_for_max_copy[cwurdb_for_max_copy['university_name_normalized'] == 'University of Wisconsin']"
   ]
  },
  {
   "cell_type": "code",
   "execution_count": 89,
   "metadata": {
    "colab": {
     "base_uri": "https://localhost:8080/",
     "height": 112
    },
    "id": "IbDFfesd8-qk",
    "outputId": "b5074449-bc3c-4a29-a1e6-3da3c091aa14"
   },
   "outputs": [
    {
     "data": {
      "text/html": [
       "<div>\n",
       "<style scoped>\n",
       "    .dataframe tbody tr th:only-of-type {\n",
       "        vertical-align: middle;\n",
       "    }\n",
       "\n",
       "    .dataframe tbody tr th {\n",
       "        vertical-align: top;\n",
       "    }\n",
       "\n",
       "    .dataframe thead th {\n",
       "        text-align: right;\n",
       "    }\n",
       "</style>\n",
       "<table border=\"1\" class=\"dataframe\">\n",
       "  <thead>\n",
       "    <tr style=\"text-align: right;\">\n",
       "      <th></th>\n",
       "      <th>institution</th>\n",
       "      <th>world_rank</th>\n",
       "      <th>year</th>\n",
       "      <th>university_name_normalized</th>\n",
       "    </tr>\n",
       "  </thead>\n",
       "  <tbody>\n",
       "    <tr>\n",
       "      <th>1390</th>\n",
       "      <td>Zhejiang University</td>\n",
       "      <td>191</td>\n",
       "      <td>2015</td>\n",
       "      <td>Zhejiang University</td>\n",
       "    </tr>\n",
       "    <tr>\n",
       "      <th>2183</th>\n",
       "      <td>Zhejiang University of Technology</td>\n",
       "      <td>984</td>\n",
       "      <td>2015</td>\n",
       "      <td>Zhejiang University</td>\n",
       "    </tr>\n",
       "  </tbody>\n",
       "</table>\n",
       "</div>"
      ],
      "text/plain": [
       "                            institution  world_rank  year  \\\n",
       "1390                Zhejiang University         191  2015   \n",
       "2183  Zhejiang University of Technology         984  2015   \n",
       "\n",
       "     university_name_normalized  \n",
       "1390        Zhejiang University  \n",
       "2183        Zhejiang University  "
      ]
     },
     "execution_count": 89,
     "metadata": {},
     "output_type": "execute_result"
    }
   ],
   "source": [
    "cwurdb_for_max_copy[cwurdb_for_max_copy['university_name_normalized'] == 'Zhejiang University']"
   ]
  },
  {
   "cell_type": "code",
   "execution_count": 90,
   "metadata": {
    "colab": {
     "base_uri": "https://localhost:8080/",
     "height": 112
    },
    "id": "w55kpDRE8-kF",
    "outputId": "e92307fd-32f6-4a75-de5f-02fb48c069a8"
   },
   "outputs": [
    {
     "data": {
      "text/html": [
       "<div>\n",
       "<style scoped>\n",
       "    .dataframe tbody tr th:only-of-type {\n",
       "        vertical-align: middle;\n",
       "    }\n",
       "\n",
       "    .dataframe tbody tr th {\n",
       "        vertical-align: top;\n",
       "    }\n",
       "\n",
       "    .dataframe thead th {\n",
       "        text-align: right;\n",
       "    }\n",
       "</style>\n",
       "<table border=\"1\" class=\"dataframe\">\n",
       "  <thead>\n",
       "    <tr style=\"text-align: right;\">\n",
       "      <th></th>\n",
       "      <th>institution</th>\n",
       "      <th>world_rank</th>\n",
       "      <th>year</th>\n",
       "      <th>university_name_normalized</th>\n",
       "    </tr>\n",
       "  </thead>\n",
       "  <tbody>\n",
       "    <tr>\n",
       "      <th>1235</th>\n",
       "      <td>École Polytechnique</td>\n",
       "      <td>36</td>\n",
       "      <td>2015</td>\n",
       "      <td>École Polytechnique</td>\n",
       "    </tr>\n",
       "    <tr>\n",
       "      <th>1980</th>\n",
       "      <td>École Polytechnique de Montréal</td>\n",
       "      <td>781</td>\n",
       "      <td>2015</td>\n",
       "      <td>École Polytechnique</td>\n",
       "    </tr>\n",
       "  </tbody>\n",
       "</table>\n",
       "</div>"
      ],
      "text/plain": [
       "                          institution  world_rank  year  \\\n",
       "1235              École Polytechnique          36  2015   \n",
       "1980  École Polytechnique de Montréal         781  2015   \n",
       "\n",
       "     university_name_normalized  \n",
       "1235        École Polytechnique  \n",
       "1980        École Polytechnique  "
      ]
     },
     "execution_count": 90,
     "metadata": {},
     "output_type": "execute_result"
    }
   ],
   "source": [
    "cwurdb_for_max_copy[cwurdb_for_max_copy['university_name_normalized'] == 'École Polytechnique']"
   ]
  },
  {
   "cell_type": "markdown",
   "metadata": {
    "id": "LwPvQDZXjbqr"
   },
   "source": [
    "Si elimina il duplicato numero 631:"
   ]
  },
  {
   "cell_type": "code",
   "execution_count": 91,
   "metadata": {
    "id": "YMnyxNYKAHO0"
   },
   "outputs": [],
   "source": [
    "cwurdb_for_max_copy.drop([631],inplace=True)"
   ]
  },
  {
   "cell_type": "code",
   "execution_count": 92,
   "metadata": {
    "id": "TyhtH01GyZzv"
   },
   "outputs": [],
   "source": [
    "campus_cwur = ['Nanjing University of Aeronautics and Astronautics',\n",
    "                            'Nanjing University of Science and Technology',\n",
    "                            'Nanjing University of Technology',\n",
    "                            'Northeastern University (China)',  \n",
    "                            'Indiana University-Purdue University Indianapolis',                            \n",
    "                            'South China Agricultural University',\n",
    "                            'University of Arkansas for Medical Sciences',\n",
    "                            'University of Bordeaux II',\n",
    "                            'Medical University of Graz',\n",
    "                            'University of Maryland, Baltimore',\n",
    "                            'University of Massachusetts Boston',\n",
    "                            'University of Massachusetts Lowell',\n",
    "                            'University of Massachusetts Medical School',\n",
    "                            'University of Missouri–Kansas City',\n",
    "                            'University of Missouri–St. Louis',\n",
    "                            'University of Oklahoma Health Sciences Center',\n",
    "                            'Federal University of São Paulo',\n",
    "                            'Zhejiang University of Technology',\n",
    "                            'École Polytechnique de Montréal']"
   ]
  },
  {
   "cell_type": "code",
   "execution_count": 93,
   "metadata": {
    "id": "4kA0e_P49GgT"
   },
   "outputs": [],
   "source": [
    "def normalize_cwur(column_element):\n",
    "  \n",
    "  if column_element in campus_cwur:\n",
    "    return None\n",
    "  \n",
    "  for university in school_and_country_name['university_name_normalized']:\n",
    "    if column_element == university:\n",
    "      return column_element\n",
    "\n",
    "    if column_element == 'National Taiwan University of Science and Technology' and university == 'National Taiwan University of Science and Technology (Taiwan Tech)':\n",
    "      return university\n",
    "\n",
    "    if column_element == 'National Sun Yat-sen University' and university == 'National Sun Yat-Sen University':\n",
    "      return university\n",
    "\n",
    "    if column_element == \"University of Milan - Bicocca\" and university == \"University of Milan-Bicocca\":\n",
    "      return university\n",
    "\n",
    "    if column_element == \"University of Wisconsin-Madison\" and university == \"University of Wisconsin-Madison\":\n",
    "      return university\n",
    "\n",
    "    if column_element == 'University of Wisconsin–Milwaukee' and university == 'University of Wisconsin-Milwaukee':\n",
    "            return university\n",
    "  \n",
    "  \n",
    "  name_column_element = re.compile(column_element)\n",
    "\n",
    "  for university in school_and_country_name['university_name_normalized']:\n",
    "    match = name_column_element.search(university)\n",
    "    if match:\n",
    "      return university\n",
    "    else:\n",
    "      name_university = re.compile(university)\n",
    "      match_university = name_university.search(column_element)\n",
    "      if match_university:\n",
    "        return university"
   ]
  },
  {
   "cell_type": "code",
   "execution_count": 94,
   "metadata": {
    "id": "fE1IAtjT9eIJ"
   },
   "outputs": [],
   "source": [
    "cwurdb_for_max_copy['university_name_normalized'] = cwurdb_for_max_copy['institution'].apply(normalize_cwur)"
   ]
  },
  {
   "cell_type": "code",
   "execution_count": 95,
   "metadata": {
    "colab": {
     "base_uri": "https://localhost:8080/",
     "height": 206
    },
    "id": "csrFlabL9eDl",
    "outputId": "bdc9dfff-f814-4b15-f787-9846e3c097ae"
   },
   "outputs": [
    {
     "data": {
      "text/html": [
       "<div>\n",
       "<style scoped>\n",
       "    .dataframe tbody tr th:only-of-type {\n",
       "        vertical-align: middle;\n",
       "    }\n",
       "\n",
       "    .dataframe tbody tr th {\n",
       "        vertical-align: top;\n",
       "    }\n",
       "\n",
       "    .dataframe thead th {\n",
       "        text-align: right;\n",
       "    }\n",
       "</style>\n",
       "<table border=\"1\" class=\"dataframe\">\n",
       "  <thead>\n",
       "    <tr style=\"text-align: right;\">\n",
       "      <th></th>\n",
       "      <th>institution</th>\n",
       "      <th>world_rank</th>\n",
       "      <th>year</th>\n",
       "      <th>university_name_normalized</th>\n",
       "    </tr>\n",
       "  </thead>\n",
       "  <tbody>\n",
       "    <tr>\n",
       "      <th>1981</th>\n",
       "      <td>AGH University of Science and Technology</td>\n",
       "      <td>782</td>\n",
       "      <td>2015</td>\n",
       "      <td>AGH University of Science and Technology</td>\n",
       "    </tr>\n",
       "    <tr>\n",
       "      <th>1764</th>\n",
       "      <td>Aalborg University</td>\n",
       "      <td>565</td>\n",
       "      <td>2015</td>\n",
       "      <td>Aalborg University</td>\n",
       "    </tr>\n",
       "    <tr>\n",
       "      <th>1620</th>\n",
       "      <td>Aalto University</td>\n",
       "      <td>421</td>\n",
       "      <td>2015</td>\n",
       "      <td>Aalto University</td>\n",
       "    </tr>\n",
       "    <tr>\n",
       "      <th>1321</th>\n",
       "      <td>Aarhus University</td>\n",
       "      <td>122</td>\n",
       "      <td>2015</td>\n",
       "      <td>Aarhus University</td>\n",
       "    </tr>\n",
       "    <tr>\n",
       "      <th>2013</th>\n",
       "      <td>Aberystwyth University</td>\n",
       "      <td>814</td>\n",
       "      <td>2015</td>\n",
       "      <td>Aberystwyth University</td>\n",
       "    </tr>\n",
       "  </tbody>\n",
       "</table>\n",
       "</div>"
      ],
      "text/plain": [
       "                                   institution  world_rank  year  \\\n",
       "1981  AGH University of Science and Technology         782  2015   \n",
       "1764                        Aalborg University         565  2015   \n",
       "1620                          Aalto University         421  2015   \n",
       "1321                         Aarhus University         122  2015   \n",
       "2013                    Aberystwyth University         814  2015   \n",
       "\n",
       "                    university_name_normalized  \n",
       "1981  AGH University of Science and Technology  \n",
       "1764                        Aalborg University  \n",
       "1620                          Aalto University  \n",
       "1321                         Aarhus University  \n",
       "2013                    Aberystwyth University  "
      ]
     },
     "execution_count": 95,
     "metadata": {},
     "output_type": "execute_result"
    }
   ],
   "source": [
    "cwurdb_for_max_copy.head()"
   ]
  },
  {
   "cell_type": "markdown",
   "metadata": {
    "id": "9nqvzJsSjjxO"
   },
   "source": [
    "Si controllano eventuali valori duplicati rimanenti:"
   ]
  },
  {
   "cell_type": "code",
   "execution_count": 96,
   "metadata": {
    "colab": {
     "base_uri": "https://localhost:8080/",
     "height": 49
    },
    "id": "w9Z9qlB19GZJ",
    "outputId": "6b955ba9-d0e5-41d5-b610-644c08ab762f"
   },
   "outputs": [
    {
     "data": {
      "text/html": [
       "<div>\n",
       "<style scoped>\n",
       "    .dataframe tbody tr th:only-of-type {\n",
       "        vertical-align: middle;\n",
       "    }\n",
       "\n",
       "    .dataframe tbody tr th {\n",
       "        vertical-align: top;\n",
       "    }\n",
       "\n",
       "    .dataframe thead th {\n",
       "        text-align: right;\n",
       "    }\n",
       "</style>\n",
       "<table border=\"1\" class=\"dataframe\">\n",
       "  <thead>\n",
       "    <tr style=\"text-align: right;\">\n",
       "      <th></th>\n",
       "      <th>institution</th>\n",
       "      <th>world_rank</th>\n",
       "      <th>year</th>\n",
       "      <th>university_name_normalized</th>\n",
       "    </tr>\n",
       "  </thead>\n",
       "  <tbody>\n",
       "  </tbody>\n",
       "</table>\n",
       "</div>"
      ],
      "text/plain": [
       "Empty DataFrame\n",
       "Columns: [institution, world_rank, year, university_name_normalized]\n",
       "Index: []"
      ]
     },
     "execution_count": 96,
     "metadata": {},
     "output_type": "execute_result"
    }
   ],
   "source": [
    "cwurdb_for_max_copy[(cwurdb_for_max_copy['university_name_normalized'].isnull() == False) & (cwurdb_for_max_copy['university_name_normalized'].duplicated() == True)]"
   ]
  },
  {
   "cell_type": "code",
   "execution_count": 97,
   "metadata": {
    "id": "04SLzy6e9GUv"
   },
   "outputs": [],
   "source": [
    "shanghai_for_max_finale = shanghai_for_max[shanghai_for_max['university_name_normalized'].isnull() == False]"
   ]
  },
  {
   "cell_type": "code",
   "execution_count": 98,
   "metadata": {
    "id": "uZJxctPcBXs9"
   },
   "outputs": [],
   "source": [
    "times_for_max_finale = times_for_max_copy[times_for_max_copy['university_name_normalized'].isnull() == False]"
   ]
  },
  {
   "cell_type": "code",
   "execution_count": 99,
   "metadata": {
    "id": "CIQNwBHZBXiG"
   },
   "outputs": [],
   "source": [
    "cwur_for_max_finale = cwurdb_for_max_copy[cwurdb_for_max_copy['university_name_normalized'].isnull() == False]"
   ]
  },
  {
   "cell_type": "markdown",
   "metadata": {
    "id": "o-jcZTHTWiyM"
   },
   "source": [
    "Volendo ottenere un unico dataset finale, si dovrà fare prima un `merge` fra due dataset e poi un'ulteriore `merge` sui dati rimanenti:"
   ]
  },
  {
   "cell_type": "code",
   "execution_count": 100,
   "metadata": {
    "colab": {
     "base_uri": "https://localhost:8080/",
     "height": 206
    },
    "id": "yy4djeSrWiyQ",
    "outputId": "f42feb8a-90a6-40a0-ef7f-3d1b07c872f8"
   },
   "outputs": [
    {
     "data": {
      "text/html": [
       "<div>\n",
       "<style scoped>\n",
       "    .dataframe tbody tr th:only-of-type {\n",
       "        vertical-align: middle;\n",
       "    }\n",
       "\n",
       "    .dataframe tbody tr th {\n",
       "        vertical-align: top;\n",
       "    }\n",
       "\n",
       "    .dataframe thead th {\n",
       "        text-align: right;\n",
       "    }\n",
       "</style>\n",
       "<table border=\"1\" class=\"dataframe\">\n",
       "  <thead>\n",
       "    <tr style=\"text-align: right;\">\n",
       "      <th></th>\n",
       "      <th>university_name_shanghai</th>\n",
       "      <th>world_rank_shanghai</th>\n",
       "      <th>year_shanghai</th>\n",
       "      <th>university_name_normalized</th>\n",
       "      <th>university_name_times</th>\n",
       "      <th>world_rank_times</th>\n",
       "      <th>year_times</th>\n",
       "    </tr>\n",
       "  </thead>\n",
       "  <tbody>\n",
       "    <tr>\n",
       "      <th>0</th>\n",
       "      <td>Aalborg University</td>\n",
       "      <td>301-400</td>\n",
       "      <td>2015</td>\n",
       "      <td>Aalborg University</td>\n",
       "      <td>Aalborg University</td>\n",
       "      <td>201-250</td>\n",
       "      <td>2016</td>\n",
       "    </tr>\n",
       "    <tr>\n",
       "      <th>1</th>\n",
       "      <td>Aalto University</td>\n",
       "      <td>401-500</td>\n",
       "      <td>2015</td>\n",
       "      <td>Aalto University</td>\n",
       "      <td>Aalto University</td>\n",
       "      <td>251-300</td>\n",
       "      <td>2016</td>\n",
       "    </tr>\n",
       "    <tr>\n",
       "      <th>2</th>\n",
       "      <td>Aarhus University</td>\n",
       "      <td>73</td>\n",
       "      <td>2015</td>\n",
       "      <td>Aarhus University</td>\n",
       "      <td>Aarhus University</td>\n",
       "      <td>=106</td>\n",
       "      <td>2016</td>\n",
       "    </tr>\n",
       "    <tr>\n",
       "      <th>3</th>\n",
       "      <td>Aix-Marseille University</td>\n",
       "      <td>102-150</td>\n",
       "      <td>2011</td>\n",
       "      <td>Aix-Marseille University</td>\n",
       "      <td>Aix-Marseille University</td>\n",
       "      <td>251-300</td>\n",
       "      <td>2016</td>\n",
       "    </tr>\n",
       "    <tr>\n",
       "      <th>4</th>\n",
       "      <td>Aristotle University of Thessaloniki</td>\n",
       "      <td>401-500</td>\n",
       "      <td>2015</td>\n",
       "      <td>Aristotle University of Thessaloniki</td>\n",
       "      <td>Aristotle University of Thessaloniki</td>\n",
       "      <td>601-800</td>\n",
       "      <td>2016</td>\n",
       "    </tr>\n",
       "  </tbody>\n",
       "</table>\n",
       "</div>"
      ],
      "text/plain": [
       "               university_name_shanghai world_rank_shanghai  year_shanghai  \\\n",
       "0                    Aalborg University             301-400           2015   \n",
       "1                      Aalto University             401-500           2015   \n",
       "2                     Aarhus University                  73           2015   \n",
       "3              Aix-Marseille University             102-150           2011   \n",
       "4  Aristotle University of Thessaloniki             401-500           2015   \n",
       "\n",
       "             university_name_normalized                 university_name_times  \\\n",
       "0                    Aalborg University                    Aalborg University   \n",
       "1                      Aalto University                      Aalto University   \n",
       "2                     Aarhus University                     Aarhus University   \n",
       "3              Aix-Marseille University              Aix-Marseille University   \n",
       "4  Aristotle University of Thessaloniki  Aristotle University of Thessaloniki   \n",
       "\n",
       "  world_rank_times  year_times  \n",
       "0          201-250        2016  \n",
       "1          251-300        2016  \n",
       "2             =106        2016  \n",
       "3          251-300        2016  \n",
       "4          601-800        2016  "
      ]
     },
     "execution_count": 100,
     "metadata": {},
     "output_type": "execute_result"
    }
   ],
   "source": [
    "fuso_1 = pd.merge(shanghai_for_max_finale, times_for_max_finale, on = 'university_name_normalized', suffixes=('_shanghai', '_times'))\n",
    "fuso_1.head()"
   ]
  },
  {
   "cell_type": "code",
   "execution_count": 101,
   "metadata": {
    "colab": {
     "base_uri": "https://localhost:8080/",
     "height": 206
    },
    "id": "p1LZNzuoWiyR",
    "outputId": "7cb9f5d0-bdfd-4a92-a3a7-629d953b7c2f",
    "scrolled": true
   },
   "outputs": [
    {
     "data": {
      "text/html": [
       "<div>\n",
       "<style scoped>\n",
       "    .dataframe tbody tr th:only-of-type {\n",
       "        vertical-align: middle;\n",
       "    }\n",
       "\n",
       "    .dataframe tbody tr th {\n",
       "        vertical-align: top;\n",
       "    }\n",
       "\n",
       "    .dataframe thead th {\n",
       "        text-align: right;\n",
       "    }\n",
       "</style>\n",
       "<table border=\"1\" class=\"dataframe\">\n",
       "  <thead>\n",
       "    <tr style=\"text-align: right;\">\n",
       "      <th></th>\n",
       "      <th>university_name_normalized</th>\n",
       "      <th>world_rank_times</th>\n",
       "      <th>world_rank_shanghai</th>\n",
       "      <th>world_rank</th>\n",
       "    </tr>\n",
       "  </thead>\n",
       "  <tbody>\n",
       "    <tr>\n",
       "      <th>0</th>\n",
       "      <td>Aalborg University</td>\n",
       "      <td>201-250</td>\n",
       "      <td>301-400</td>\n",
       "      <td>565</td>\n",
       "    </tr>\n",
       "    <tr>\n",
       "      <th>1</th>\n",
       "      <td>Aalto University</td>\n",
       "      <td>251-300</td>\n",
       "      <td>401-500</td>\n",
       "      <td>421</td>\n",
       "    </tr>\n",
       "    <tr>\n",
       "      <th>2</th>\n",
       "      <td>Aarhus University</td>\n",
       "      <td>=106</td>\n",
       "      <td>73</td>\n",
       "      <td>122</td>\n",
       "    </tr>\n",
       "    <tr>\n",
       "      <th>3</th>\n",
       "      <td>Aix-Marseille University</td>\n",
       "      <td>251-300</td>\n",
       "      <td>102-150</td>\n",
       "      <td>206</td>\n",
       "    </tr>\n",
       "    <tr>\n",
       "      <th>4</th>\n",
       "      <td>Aristotle University of Thessaloniki</td>\n",
       "      <td>601-800</td>\n",
       "      <td>401-500</td>\n",
       "      <td>459</td>\n",
       "    </tr>\n",
       "  </tbody>\n",
       "</table>\n",
       "</div>"
      ],
      "text/plain": [
       "             university_name_normalized world_rank_times world_rank_shanghai  \\\n",
       "0                    Aalborg University          201-250             301-400   \n",
       "1                      Aalto University          251-300             401-500   \n",
       "2                     Aarhus University             =106                  73   \n",
       "3              Aix-Marseille University          251-300             102-150   \n",
       "4  Aristotle University of Thessaloniki          601-800             401-500   \n",
       "\n",
       "   world_rank  \n",
       "0         565  \n",
       "1         421  \n",
       "2         122  \n",
       "3         206  \n",
       "4         459  "
      ]
     },
     "execution_count": 101,
     "metadata": {},
     "output_type": "execute_result"
    }
   ],
   "source": [
    "times_shanghai_cwur = pd.merge(fuso_1, cwur_for_max_finale, on = 'university_name_normalized')[[\"university_name_normalized\", \"world_rank_times\", \"world_rank_shanghai\", \"world_rank\"]]\n",
    "times_shanghai_cwur.head()"
   ]
  },
  {
   "cell_type": "markdown",
   "metadata": {
    "id": "4tEYGrh2WiyU"
   },
   "source": [
    "Poiché nella colonna `world_rank_times` sono presenti elementi con il simbolo `=` al loro interno, è necessario rimpiazzare tale elemento per poter lavorare agevolmente con i valori che seguono il simbolo."
   ]
  },
  {
   "cell_type": "code",
   "execution_count": 102,
   "metadata": {
    "id": "vejh3xZFWiyW"
   },
   "outputs": [],
   "source": [
    "times_shanghai_cwur['world_rank_times'] = times_shanghai_cwur['world_rank_times'].str.replace('=', '')"
   ]
  },
  {
   "cell_type": "markdown",
   "metadata": {
    "id": "EcI6I4akWiyY"
   },
   "source": [
    "Controlliamo che tutti i valori siano stati eliminati."
   ]
  },
  {
   "cell_type": "code",
   "execution_count": 103,
   "metadata": {
    "colab": {
     "base_uri": "https://localhost:8080/",
     "height": 49
    },
    "id": "9kr1sFYsWiyZ",
    "outputId": "2783aec6-4bd1-4173-e640-7cbdede3127d"
   },
   "outputs": [
    {
     "data": {
      "text/html": [
       "<div>\n",
       "<style scoped>\n",
       "    .dataframe tbody tr th:only-of-type {\n",
       "        vertical-align: middle;\n",
       "    }\n",
       "\n",
       "    .dataframe tbody tr th {\n",
       "        vertical-align: top;\n",
       "    }\n",
       "\n",
       "    .dataframe thead th {\n",
       "        text-align: right;\n",
       "    }\n",
       "</style>\n",
       "<table border=\"1\" class=\"dataframe\">\n",
       "  <thead>\n",
       "    <tr style=\"text-align: right;\">\n",
       "      <th></th>\n",
       "      <th>university_name_normalized</th>\n",
       "      <th>world_rank_times</th>\n",
       "      <th>world_rank_shanghai</th>\n",
       "      <th>world_rank</th>\n",
       "    </tr>\n",
       "  </thead>\n",
       "  <tbody>\n",
       "  </tbody>\n",
       "</table>\n",
       "</div>"
      ],
      "text/plain": [
       "Empty DataFrame\n",
       "Columns: [university_name_normalized, world_rank_times, world_rank_shanghai, world_rank]\n",
       "Index: []"
      ]
     },
     "execution_count": 103,
     "metadata": {},
     "output_type": "execute_result"
    }
   ],
   "source": [
    "times_shanghai_cwur[times_shanghai_cwur['world_rank_times'].str.contains('=')]"
   ]
  },
  {
   "cell_type": "markdown",
   "metadata": {
    "id": "I-S2X5v8Wiya"
   },
   "source": [
    "Controlliamo inoltre che non siano presenti valori nulli o celle che presentano il solo valore `-`:"
   ]
  },
  {
   "cell_type": "code",
   "execution_count": 104,
   "metadata": {
    "colab": {
     "base_uri": "https://localhost:8080/",
     "height": 49
    },
    "id": "N6695jrQWiyf",
    "outputId": "0218dfca-3560-491b-9783-74755fe45798"
   },
   "outputs": [
    {
     "data": {
      "text/html": [
       "<div>\n",
       "<style scoped>\n",
       "    .dataframe tbody tr th:only-of-type {\n",
       "        vertical-align: middle;\n",
       "    }\n",
       "\n",
       "    .dataframe tbody tr th {\n",
       "        vertical-align: top;\n",
       "    }\n",
       "\n",
       "    .dataframe thead th {\n",
       "        text-align: right;\n",
       "    }\n",
       "</style>\n",
       "<table border=\"1\" class=\"dataframe\">\n",
       "  <thead>\n",
       "    <tr style=\"text-align: right;\">\n",
       "      <th></th>\n",
       "      <th>university_name_normalized</th>\n",
       "      <th>world_rank_times</th>\n",
       "      <th>world_rank_shanghai</th>\n",
       "      <th>world_rank</th>\n",
       "    </tr>\n",
       "  </thead>\n",
       "  <tbody>\n",
       "  </tbody>\n",
       "</table>\n",
       "</div>"
      ],
      "text/plain": [
       "Empty DataFrame\n",
       "Columns: [university_name_normalized, world_rank_times, world_rank_shanghai, world_rank]\n",
       "Index: []"
      ]
     },
     "execution_count": 104,
     "metadata": {},
     "output_type": "execute_result"
    }
   ],
   "source": [
    "times_shanghai_cwur[times_shanghai_cwur['world_rank_times'].isna()]"
   ]
  },
  {
   "cell_type": "code",
   "execution_count": 105,
   "metadata": {
    "colab": {
     "base_uri": "https://localhost:8080/",
     "height": 49
    },
    "id": "N7JY5Pu1Wiyh",
    "outputId": "0a542795-4e36-4536-a933-37da2f1fb3de"
   },
   "outputs": [
    {
     "data": {
      "text/html": [
       "<div>\n",
       "<style scoped>\n",
       "    .dataframe tbody tr th:only-of-type {\n",
       "        vertical-align: middle;\n",
       "    }\n",
       "\n",
       "    .dataframe tbody tr th {\n",
       "        vertical-align: top;\n",
       "    }\n",
       "\n",
       "    .dataframe thead th {\n",
       "        text-align: right;\n",
       "    }\n",
       "</style>\n",
       "<table border=\"1\" class=\"dataframe\">\n",
       "  <thead>\n",
       "    <tr style=\"text-align: right;\">\n",
       "      <th></th>\n",
       "      <th>university_name_normalized</th>\n",
       "      <th>world_rank_times</th>\n",
       "      <th>world_rank_shanghai</th>\n",
       "      <th>world_rank</th>\n",
       "    </tr>\n",
       "  </thead>\n",
       "  <tbody>\n",
       "  </tbody>\n",
       "</table>\n",
       "</div>"
      ],
      "text/plain": [
       "Empty DataFrame\n",
       "Columns: [university_name_normalized, world_rank_times, world_rank_shanghai, world_rank]\n",
       "Index: []"
      ]
     },
     "execution_count": 105,
     "metadata": {},
     "output_type": "execute_result"
    }
   ],
   "source": [
    "times_shanghai_cwur[times_shanghai_cwur['world_rank_times'].str.contains('^-$')]"
   ]
  },
  {
   "cell_type": "markdown",
   "metadata": {
    "id": "wPjJPc7LWiyj"
   },
   "source": [
    "Nel passaggio successivo bisogna affrontare le differenze delle diverse colonne di world rank: in almeno due sono presenti dei range di valori che non permettono nell'immediato di poter ottenere delle differenze di valori. Prima si dovranno trattare adeguatamente e, solo successivamente, potranno essere considerati come valori numerici."
   ]
  },
  {
   "cell_type": "code",
   "execution_count": 106,
   "metadata": {
    "id": "NnxPMYt2Wiyj"
   },
   "outputs": [],
   "source": [
    "def differenza_max_min(elemento):\n",
    "    # Match con gli elementi che contengono la dicitura richiesta\n",
    "    str_times = re.match('(?P<inf>\\d+)-(?P<sup>\\d+)', elemento['world_rank_times'])\n",
    "    str_shanghai = re.match('(?P<inf>\\d+)-(?P<sup>\\d+)', elemento['world_rank_shanghai'])\n",
    "    \n",
    "    # se str_times è True\n",
    "    if str_times:\n",
    "        sup_times = int(str_times.group('sup'))\n",
    "        inf_times = int(str_times.group('inf'))\n",
    "    else:\n",
    "        sup_times = int(elemento['world_rank_times'])\n",
    "        inf_times = int(elemento['world_rank_times'])\n",
    "    if str_shanghai:\n",
    "        sup_shanghai = int(str_shanghai.group('sup'))\n",
    "        inf_shanghai = int(str_shanghai.group('inf'))\n",
    "    else:\n",
    "        sup_shanghai = int(elemento['world_rank_shanghai'])\n",
    "        inf_shanghai = int(elemento['world_rank_shanghai'])\n",
    "    \n",
    "    cwur_elem = elemento['world_rank']\n",
    "    massimo = max(sup_times, sup_shanghai, cwur_elem)\n",
    "    minimo = min(sup_times, sup_shanghai, cwur_elem)\n",
    "    \n",
    "    # Viene ritornata la differenza fra i valori\n",
    "    return massimo - minimo   "
   ]
  },
  {
   "cell_type": "markdown",
   "metadata": {
    "id": "za5TXceoWiyj"
   },
   "source": [
    "Viene applicata la funzione precedentemente creata:"
   ]
  },
  {
   "cell_type": "code",
   "execution_count": 107,
   "metadata": {
    "colab": {
     "base_uri": "https://localhost:8080/",
     "height": 424
    },
    "id": "RBnxQCSwWiyk",
    "outputId": "217a9a7d-6548-480d-8dd6-7e57426c1b8b",
    "scrolled": true
   },
   "outputs": [
    {
     "data": {
      "text/html": [
       "<div>\n",
       "<style scoped>\n",
       "    .dataframe tbody tr th:only-of-type {\n",
       "        vertical-align: middle;\n",
       "    }\n",
       "\n",
       "    .dataframe tbody tr th {\n",
       "        vertical-align: top;\n",
       "    }\n",
       "\n",
       "    .dataframe thead th {\n",
       "        text-align: right;\n",
       "    }\n",
       "</style>\n",
       "<table border=\"1\" class=\"dataframe\">\n",
       "  <thead>\n",
       "    <tr style=\"text-align: right;\">\n",
       "      <th></th>\n",
       "      <th>university_name_normalized</th>\n",
       "      <th>world_rank_times</th>\n",
       "      <th>world_rank_shanghai</th>\n",
       "      <th>world_rank</th>\n",
       "      <th>differenza_max_min</th>\n",
       "    </tr>\n",
       "  </thead>\n",
       "  <tbody>\n",
       "    <tr>\n",
       "      <th>0</th>\n",
       "      <td>Aalborg University</td>\n",
       "      <td>201-250</td>\n",
       "      <td>301-400</td>\n",
       "      <td>565</td>\n",
       "      <td>315</td>\n",
       "    </tr>\n",
       "    <tr>\n",
       "      <th>1</th>\n",
       "      <td>Aalto University</td>\n",
       "      <td>251-300</td>\n",
       "      <td>401-500</td>\n",
       "      <td>421</td>\n",
       "      <td>200</td>\n",
       "    </tr>\n",
       "    <tr>\n",
       "      <th>2</th>\n",
       "      <td>Aarhus University</td>\n",
       "      <td>106</td>\n",
       "      <td>73</td>\n",
       "      <td>122</td>\n",
       "      <td>49</td>\n",
       "    </tr>\n",
       "    <tr>\n",
       "      <th>3</th>\n",
       "      <td>Aix-Marseille University</td>\n",
       "      <td>251-300</td>\n",
       "      <td>102-150</td>\n",
       "      <td>206</td>\n",
       "      <td>150</td>\n",
       "    </tr>\n",
       "    <tr>\n",
       "      <th>4</th>\n",
       "      <td>Aristotle University of Thessaloniki</td>\n",
       "      <td>601-800</td>\n",
       "      <td>401-500</td>\n",
       "      <td>459</td>\n",
       "      <td>341</td>\n",
       "    </tr>\n",
       "    <tr>\n",
       "      <th>...</th>\n",
       "      <td>...</td>\n",
       "      <td>...</td>\n",
       "      <td>...</td>\n",
       "      <td>...</td>\n",
       "      <td>...</td>\n",
       "    </tr>\n",
       "    <tr>\n",
       "      <th>430</th>\n",
       "      <td>Yale University</td>\n",
       "      <td>12</td>\n",
       "      <td>11</td>\n",
       "      <td>11</td>\n",
       "      <td>1</td>\n",
       "    </tr>\n",
       "    <tr>\n",
       "      <th>431</th>\n",
       "      <td>Yeshiva University</td>\n",
       "      <td>164</td>\n",
       "      <td>201-300</td>\n",
       "      <td>171</td>\n",
       "      <td>136</td>\n",
       "    </tr>\n",
       "    <tr>\n",
       "      <th>432</th>\n",
       "      <td>Yonsei University</td>\n",
       "      <td>301-350</td>\n",
       "      <td>201-300</td>\n",
       "      <td>98</td>\n",
       "      <td>252</td>\n",
       "    </tr>\n",
       "    <tr>\n",
       "      <th>433</th>\n",
       "      <td>York University</td>\n",
       "      <td>301-350</td>\n",
       "      <td>401-500</td>\n",
       "      <td>337</td>\n",
       "      <td>163</td>\n",
       "    </tr>\n",
       "    <tr>\n",
       "      <th>434</th>\n",
       "      <td>Zhejiang University</td>\n",
       "      <td>251-300</td>\n",
       "      <td>101-150</td>\n",
       "      <td>191</td>\n",
       "      <td>150</td>\n",
       "    </tr>\n",
       "  </tbody>\n",
       "</table>\n",
       "<p>435 rows × 5 columns</p>\n",
       "</div>"
      ],
      "text/plain": [
       "               university_name_normalized world_rank_times  \\\n",
       "0                      Aalborg University          201-250   \n",
       "1                        Aalto University          251-300   \n",
       "2                       Aarhus University              106   \n",
       "3                Aix-Marseille University          251-300   \n",
       "4    Aristotle University of Thessaloniki          601-800   \n",
       "..                                    ...              ...   \n",
       "430                       Yale University               12   \n",
       "431                    Yeshiva University              164   \n",
       "432                     Yonsei University          301-350   \n",
       "433                       York University          301-350   \n",
       "434                   Zhejiang University          251-300   \n",
       "\n",
       "    world_rank_shanghai  world_rank  differenza_max_min  \n",
       "0               301-400         565                 315  \n",
       "1               401-500         421                 200  \n",
       "2                    73         122                  49  \n",
       "3               102-150         206                 150  \n",
       "4               401-500         459                 341  \n",
       "..                  ...         ...                 ...  \n",
       "430                  11          11                   1  \n",
       "431             201-300         171                 136  \n",
       "432             201-300          98                 252  \n",
       "433             401-500         337                 163  \n",
       "434             101-150         191                 150  \n",
       "\n",
       "[435 rows x 5 columns]"
      ]
     },
     "execution_count": 107,
     "metadata": {},
     "output_type": "execute_result"
    }
   ],
   "source": [
    "times_shanghai_cwur['differenza_max_min'] = times_shanghai_cwur.apply(differenza_max_min, axis=1)\n",
    "times_shanghai_cwur"
   ]
  },
  {
   "cell_type": "markdown",
   "metadata": {
    "id": "6DCzXVlYWiyl"
   },
   "source": [
    "Controlliamo che la Aarhus University abbia effettivamente il valore `49` come differenza:"
   ]
  },
  {
   "cell_type": "code",
   "execution_count": 108,
   "metadata": {
    "colab": {
     "base_uri": "https://localhost:8080/",
     "height": 81
    },
    "id": "ajkEbhL1Wiym",
    "outputId": "6afd0a9c-9a40-4d22-8070-de1cefec102f",
    "scrolled": true
   },
   "outputs": [
    {
     "data": {
      "text/html": [
       "<div>\n",
       "<style scoped>\n",
       "    .dataframe tbody tr th:only-of-type {\n",
       "        vertical-align: middle;\n",
       "    }\n",
       "\n",
       "    .dataframe tbody tr th {\n",
       "        vertical-align: top;\n",
       "    }\n",
       "\n",
       "    .dataframe thead th {\n",
       "        text-align: right;\n",
       "    }\n",
       "</style>\n",
       "<table border=\"1\" class=\"dataframe\">\n",
       "  <thead>\n",
       "    <tr style=\"text-align: right;\">\n",
       "      <th></th>\n",
       "      <th>university_name_normalized</th>\n",
       "      <th>world_rank_times</th>\n",
       "      <th>world_rank_shanghai</th>\n",
       "      <th>world_rank</th>\n",
       "      <th>differenza_max_min</th>\n",
       "    </tr>\n",
       "  </thead>\n",
       "  <tbody>\n",
       "    <tr>\n",
       "      <th>2</th>\n",
       "      <td>Aarhus University</td>\n",
       "      <td>106</td>\n",
       "      <td>73</td>\n",
       "      <td>122</td>\n",
       "      <td>49</td>\n",
       "    </tr>\n",
       "  </tbody>\n",
       "</table>\n",
       "</div>"
      ],
      "text/plain": [
       "  university_name_normalized world_rank_times world_rank_shanghai  world_rank  \\\n",
       "2          Aarhus University              106                  73         122   \n",
       "\n",
       "   differenza_max_min  \n",
       "2                  49  "
      ]
     },
     "execution_count": 108,
     "metadata": {},
     "output_type": "execute_result"
    }
   ],
   "source": [
    "times_shanghai_cwur[times_shanghai_cwur['university_name_normalized']=='Aarhus University']"
   ]
  },
  {
   "cell_type": "markdown",
   "metadata": {
    "id": "gGm3hIyjWiyo"
   },
   "source": [
    "### 5. Consider only the most recent data point of the `times` dataset. Compute the number of male and female students for each country.¶"
   ]
  },
  {
   "cell_type": "markdown",
   "metadata": {
    "id": "97vlk-VJWiyp"
   },
   "source": [
    "Vengono quindi considerati i *data points* più recenti del dataset `times`."
   ]
  },
  {
   "cell_type": "code",
   "execution_count": 109,
   "metadata": {
    "colab": {
     "base_uri": "https://localhost:8080/",
     "height": 365
    },
    "id": "x-3fHG0xWiyp",
    "outputId": "4c2e3ab8-b00a-4d92-ab3d-2fac4495b153",
    "scrolled": true
   },
   "outputs": [
    {
     "data": {
      "text/html": [
       "<div>\n",
       "<style scoped>\n",
       "    .dataframe tbody tr th:only-of-type {\n",
       "        vertical-align: middle;\n",
       "    }\n",
       "\n",
       "    .dataframe tbody tr th {\n",
       "        vertical-align: top;\n",
       "    }\n",
       "\n",
       "    .dataframe thead th {\n",
       "        text-align: right;\n",
       "    }\n",
       "</style>\n",
       "<table border=\"1\" class=\"dataframe\">\n",
       "  <thead>\n",
       "    <tr style=\"text-align: right;\">\n",
       "      <th></th>\n",
       "      <th>world_rank</th>\n",
       "      <th>university_name</th>\n",
       "      <th>country</th>\n",
       "      <th>teaching</th>\n",
       "      <th>international</th>\n",
       "      <th>research</th>\n",
       "      <th>citations</th>\n",
       "      <th>income</th>\n",
       "      <th>total_score</th>\n",
       "      <th>num_students</th>\n",
       "      <th>student_staff_ratio</th>\n",
       "      <th>international_students</th>\n",
       "      <th>female_male_ratio</th>\n",
       "      <th>year</th>\n",
       "    </tr>\n",
       "  </thead>\n",
       "  <tbody>\n",
       "    <tr>\n",
       "      <th>1803</th>\n",
       "      <td>1</td>\n",
       "      <td>California Institute of Technology</td>\n",
       "      <td>United States of America</td>\n",
       "      <td>95.6</td>\n",
       "      <td>64.0</td>\n",
       "      <td>97.6</td>\n",
       "      <td>99.8</td>\n",
       "      <td>97.8</td>\n",
       "      <td>95.2</td>\n",
       "      <td>2,243</td>\n",
       "      <td>6.9</td>\n",
       "      <td>27%</td>\n",
       "      <td>33 : 67</td>\n",
       "      <td>2016</td>\n",
       "    </tr>\n",
       "    <tr>\n",
       "      <th>1804</th>\n",
       "      <td>2</td>\n",
       "      <td>University of Oxford</td>\n",
       "      <td>United Kingdom</td>\n",
       "      <td>86.5</td>\n",
       "      <td>94.4</td>\n",
       "      <td>98.9</td>\n",
       "      <td>98.8</td>\n",
       "      <td>73.1</td>\n",
       "      <td>94.2</td>\n",
       "      <td>19,919</td>\n",
       "      <td>11.6</td>\n",
       "      <td>34%</td>\n",
       "      <td>46 : 54</td>\n",
       "      <td>2016</td>\n",
       "    </tr>\n",
       "    <tr>\n",
       "      <th>1805</th>\n",
       "      <td>3</td>\n",
       "      <td>Stanford University</td>\n",
       "      <td>United States of America</td>\n",
       "      <td>92.5</td>\n",
       "      <td>76.3</td>\n",
       "      <td>96.2</td>\n",
       "      <td>99.9</td>\n",
       "      <td>63.3</td>\n",
       "      <td>93.9</td>\n",
       "      <td>15,596</td>\n",
       "      <td>7.8</td>\n",
       "      <td>22%</td>\n",
       "      <td>42 : 58</td>\n",
       "      <td>2016</td>\n",
       "    </tr>\n",
       "    <tr>\n",
       "      <th>1806</th>\n",
       "      <td>4</td>\n",
       "      <td>University of Cambridge</td>\n",
       "      <td>United Kingdom</td>\n",
       "      <td>88.2</td>\n",
       "      <td>91.5</td>\n",
       "      <td>96.7</td>\n",
       "      <td>97.0</td>\n",
       "      <td>55.0</td>\n",
       "      <td>92.8</td>\n",
       "      <td>18,812</td>\n",
       "      <td>11.8</td>\n",
       "      <td>34%</td>\n",
       "      <td>46 : 54</td>\n",
       "      <td>2016</td>\n",
       "    </tr>\n",
       "    <tr>\n",
       "      <th>1807</th>\n",
       "      <td>5</td>\n",
       "      <td>Massachusetts Institute of Technology</td>\n",
       "      <td>United States of America</td>\n",
       "      <td>89.4</td>\n",
       "      <td>84.0</td>\n",
       "      <td>88.6</td>\n",
       "      <td>99.7</td>\n",
       "      <td>95.4</td>\n",
       "      <td>92.0</td>\n",
       "      <td>11,074</td>\n",
       "      <td>9.0</td>\n",
       "      <td>33%</td>\n",
       "      <td>37 : 63</td>\n",
       "      <td>2016</td>\n",
       "    </tr>\n",
       "  </tbody>\n",
       "</table>\n",
       "</div>"
      ],
      "text/plain": [
       "     world_rank                        university_name  \\\n",
       "1803          1     California Institute of Technology   \n",
       "1804          2                   University of Oxford   \n",
       "1805          3                    Stanford University   \n",
       "1806          4                University of Cambridge   \n",
       "1807          5  Massachusetts Institute of Technology   \n",
       "\n",
       "                       country  teaching international  research  citations  \\\n",
       "1803  United States of America      95.6          64.0      97.6       99.8   \n",
       "1804            United Kingdom      86.5          94.4      98.9       98.8   \n",
       "1805  United States of America      92.5          76.3      96.2       99.9   \n",
       "1806            United Kingdom      88.2          91.5      96.7       97.0   \n",
       "1807  United States of America      89.4          84.0      88.6       99.7   \n",
       "\n",
       "     income total_score num_students  student_staff_ratio  \\\n",
       "1803   97.8        95.2        2,243                  6.9   \n",
       "1804   73.1        94.2       19,919                 11.6   \n",
       "1805   63.3        93.9       15,596                  7.8   \n",
       "1806   55.0        92.8       18,812                 11.8   \n",
       "1807   95.4        92.0       11,074                  9.0   \n",
       "\n",
       "     international_students female_male_ratio  year  \n",
       "1803                    27%           33 : 67  2016  \n",
       "1804                    34%           46 : 54  2016  \n",
       "1805                    22%           42 : 58  2016  \n",
       "1806                    34%           46 : 54  2016  \n",
       "1807                    33%           37 : 63  2016  "
      ]
     },
     "execution_count": 109,
     "metadata": {},
     "output_type": "execute_result"
    }
   ],
   "source": [
    "times_max_2 = times[times['year'] == times['year'].max()]\n",
    "times_max_2.head()"
   ]
  },
  {
   "cell_type": "markdown",
   "metadata": {
    "id": "qk2kRX8FWiyq"
   },
   "source": [
    "Viene richiesto che i valori nulli non vengano considerati per i successivi passaggi per la colonna `female_male_ratio` e nemmeno i valori contenenti il `-`: i valori di questo tipo vengono visti come mancanti e non utilizzati per le operazioni ancora da svolgere. "
   ]
  },
  {
   "cell_type": "code",
   "execution_count": 110,
   "metadata": {
    "id": "cgoQNqZMWiyq"
   },
   "outputs": [],
   "source": [
    "times_max_2 = times_max_2[times_max_2['female_male_ratio'].notnull()]\n",
    "times_max_2 = times_max_2[~times_max_2['female_male_ratio'].str.contains('-')]"
   ]
  },
  {
   "cell_type": "markdown",
   "metadata": {
    "id": "rbnOqyCaWiyq"
   },
   "source": [
    "Viene verificata il tipo della colonna `num_students` in quanto ambigua:"
   ]
  },
  {
   "cell_type": "code",
   "execution_count": 111,
   "metadata": {
    "colab": {
     "base_uri": "https://localhost:8080/"
    },
    "id": "J7T9HKHIWiyq",
    "outputId": "64a85797-f7cf-44bc-b777-a0b2338c3e3d",
    "scrolled": false
   },
   "outputs": [
    {
     "data": {
      "text/plain": [
       "1803     2,243\n",
       "1804    19,919\n",
       "1805    15,596\n",
       "1806    18,812\n",
       "1807    11,074\n",
       "         ...  \n",
       "2597    31,618\n",
       "2598    21,958\n",
       "2599    31,268\n",
       "2601    10,117\n",
       "2602     8,663\n",
       "Name: num_students, Length: 736, dtype: object"
      ]
     },
     "execution_count": 111,
     "metadata": {},
     "output_type": "execute_result"
    }
   ],
   "source": [
    "times_max_2['num_students']"
   ]
  },
  {
   "cell_type": "markdown",
   "metadata": {
    "id": "7X6vIRikWiyr"
   },
   "source": [
    "Non essendo un effettivo *float number* si crea una funzione che rimpiazzi la `,` col `.` e restituisca un valore intero."
   ]
  },
  {
   "cell_type": "code",
   "execution_count": 112,
   "metadata": {
    "id": "zVSCCB23Wiys"
   },
   "outputs": [],
   "source": [
    "def convert_to_int(col):\n",
    "    repl = int(col.replace(',', ''))\n",
    "    \n",
    "    return repl"
   ]
  },
  {
   "cell_type": "markdown",
   "metadata": {
    "id": "LUrT_js4Wiyt"
   },
   "source": [
    "La colonna `num_students` viene convertita tramite la funzione `convert_to_int` in `int number`, passaggio necessario per poter svolgere le successive operazioni matematiche."
   ]
  },
  {
   "cell_type": "code",
   "execution_count": 113,
   "metadata": {
    "colab": {
     "base_uri": "https://localhost:8080/",
     "height": 365
    },
    "id": "DVIT6KgvWiyv",
    "outputId": "8c1abf85-d6c2-4bfa-f669-62b3a49c55d3",
    "scrolled": false
   },
   "outputs": [
    {
     "data": {
      "text/html": [
       "<div>\n",
       "<style scoped>\n",
       "    .dataframe tbody tr th:only-of-type {\n",
       "        vertical-align: middle;\n",
       "    }\n",
       "\n",
       "    .dataframe tbody tr th {\n",
       "        vertical-align: top;\n",
       "    }\n",
       "\n",
       "    .dataframe thead th {\n",
       "        text-align: right;\n",
       "    }\n",
       "</style>\n",
       "<table border=\"1\" class=\"dataframe\">\n",
       "  <thead>\n",
       "    <tr style=\"text-align: right;\">\n",
       "      <th></th>\n",
       "      <th>world_rank</th>\n",
       "      <th>university_name</th>\n",
       "      <th>country</th>\n",
       "      <th>teaching</th>\n",
       "      <th>international</th>\n",
       "      <th>research</th>\n",
       "      <th>citations</th>\n",
       "      <th>income</th>\n",
       "      <th>total_score</th>\n",
       "      <th>num_students</th>\n",
       "      <th>student_staff_ratio</th>\n",
       "      <th>international_students</th>\n",
       "      <th>female_male_ratio</th>\n",
       "      <th>year</th>\n",
       "    </tr>\n",
       "  </thead>\n",
       "  <tbody>\n",
       "    <tr>\n",
       "      <th>1803</th>\n",
       "      <td>1</td>\n",
       "      <td>California Institute of Technology</td>\n",
       "      <td>United States of America</td>\n",
       "      <td>95.6</td>\n",
       "      <td>64.0</td>\n",
       "      <td>97.6</td>\n",
       "      <td>99.8</td>\n",
       "      <td>97.8</td>\n",
       "      <td>95.2</td>\n",
       "      <td>2243</td>\n",
       "      <td>6.9</td>\n",
       "      <td>27%</td>\n",
       "      <td>33 : 67</td>\n",
       "      <td>2016</td>\n",
       "    </tr>\n",
       "    <tr>\n",
       "      <th>1804</th>\n",
       "      <td>2</td>\n",
       "      <td>University of Oxford</td>\n",
       "      <td>United Kingdom</td>\n",
       "      <td>86.5</td>\n",
       "      <td>94.4</td>\n",
       "      <td>98.9</td>\n",
       "      <td>98.8</td>\n",
       "      <td>73.1</td>\n",
       "      <td>94.2</td>\n",
       "      <td>19919</td>\n",
       "      <td>11.6</td>\n",
       "      <td>34%</td>\n",
       "      <td>46 : 54</td>\n",
       "      <td>2016</td>\n",
       "    </tr>\n",
       "    <tr>\n",
       "      <th>1805</th>\n",
       "      <td>3</td>\n",
       "      <td>Stanford University</td>\n",
       "      <td>United States of America</td>\n",
       "      <td>92.5</td>\n",
       "      <td>76.3</td>\n",
       "      <td>96.2</td>\n",
       "      <td>99.9</td>\n",
       "      <td>63.3</td>\n",
       "      <td>93.9</td>\n",
       "      <td>15596</td>\n",
       "      <td>7.8</td>\n",
       "      <td>22%</td>\n",
       "      <td>42 : 58</td>\n",
       "      <td>2016</td>\n",
       "    </tr>\n",
       "    <tr>\n",
       "      <th>1806</th>\n",
       "      <td>4</td>\n",
       "      <td>University of Cambridge</td>\n",
       "      <td>United Kingdom</td>\n",
       "      <td>88.2</td>\n",
       "      <td>91.5</td>\n",
       "      <td>96.7</td>\n",
       "      <td>97.0</td>\n",
       "      <td>55.0</td>\n",
       "      <td>92.8</td>\n",
       "      <td>18812</td>\n",
       "      <td>11.8</td>\n",
       "      <td>34%</td>\n",
       "      <td>46 : 54</td>\n",
       "      <td>2016</td>\n",
       "    </tr>\n",
       "    <tr>\n",
       "      <th>1807</th>\n",
       "      <td>5</td>\n",
       "      <td>Massachusetts Institute of Technology</td>\n",
       "      <td>United States of America</td>\n",
       "      <td>89.4</td>\n",
       "      <td>84.0</td>\n",
       "      <td>88.6</td>\n",
       "      <td>99.7</td>\n",
       "      <td>95.4</td>\n",
       "      <td>92.0</td>\n",
       "      <td>11074</td>\n",
       "      <td>9.0</td>\n",
       "      <td>33%</td>\n",
       "      <td>37 : 63</td>\n",
       "      <td>2016</td>\n",
       "    </tr>\n",
       "  </tbody>\n",
       "</table>\n",
       "</div>"
      ],
      "text/plain": [
       "     world_rank                        university_name  \\\n",
       "1803          1     California Institute of Technology   \n",
       "1804          2                   University of Oxford   \n",
       "1805          3                    Stanford University   \n",
       "1806          4                University of Cambridge   \n",
       "1807          5  Massachusetts Institute of Technology   \n",
       "\n",
       "                       country  teaching international  research  citations  \\\n",
       "1803  United States of America      95.6          64.0      97.6       99.8   \n",
       "1804            United Kingdom      86.5          94.4      98.9       98.8   \n",
       "1805  United States of America      92.5          76.3      96.2       99.9   \n",
       "1806            United Kingdom      88.2          91.5      96.7       97.0   \n",
       "1807  United States of America      89.4          84.0      88.6       99.7   \n",
       "\n",
       "     income total_score  num_students  student_staff_ratio  \\\n",
       "1803   97.8        95.2          2243                  6.9   \n",
       "1804   73.1        94.2         19919                 11.6   \n",
       "1805   63.3        93.9         15596                  7.8   \n",
       "1806   55.0        92.8         18812                 11.8   \n",
       "1807   95.4        92.0         11074                  9.0   \n",
       "\n",
       "     international_students female_male_ratio  year  \n",
       "1803                    27%           33 : 67  2016  \n",
       "1804                    34%           46 : 54  2016  \n",
       "1805                    22%           42 : 58  2016  \n",
       "1806                    34%           46 : 54  2016  \n",
       "1807                    33%           37 : 63  2016  "
      ]
     },
     "execution_count": 113,
     "metadata": {},
     "output_type": "execute_result"
    }
   ],
   "source": [
    "times_max_2['num_students'] = times_max_2['num_students'].apply(convert_to_int)\n",
    "times_max_2.head()"
   ]
  },
  {
   "cell_type": "markdown",
   "metadata": {
    "id": "21_ntx1aWiyz"
   },
   "source": [
    "Si creano due funzioni (una per l'attributo `femmine` e una per l'attributo `maschi`) che ricerchino esattamente quanto richiesto tramite il match della regular expression."
   ]
  },
  {
   "cell_type": "code",
   "execution_count": 114,
   "metadata": {
    "id": "NZ8EBvwVWiy0"
   },
   "outputs": [],
   "source": [
    "def female_assoluto(col):\n",
    "    # Si trova il match con il group regex\n",
    "    fem_regex = re.match('^(\\d+) : (\\d+)$', col['female_male_ratio'])\n",
    "        \n",
    "    # Si convertono in interi i valori\n",
    "    female = round(int(fem_regex.group(1)) * col['num_students']/100)\n",
    "    \n",
    "    return female\n",
    "    \n",
    "def male_assoluto(col):\n",
    "    # Si trova il match con il group regex\n",
    "    male_regex = re.match('^(\\d+) : (\\d+)$', col['female_male_ratio'])\n",
    "    \n",
    "    # Si convertono in interi i valori\n",
    "    male = round(int(male_regex.group(2)) * col['num_students']/100)\n",
    "    \n",
    "    return male"
   ]
  },
  {
   "cell_type": "markdown",
   "metadata": {
    "id": "ZxYyg44EWiy0"
   },
   "source": [
    "Si applicano le due funzioni al dataframe `times_max_2` creando due colonne che corrispondano ai valori assoluti di `female` e di `male`:"
   ]
  },
  {
   "cell_type": "code",
   "execution_count": 115,
   "metadata": {
    "id": "hoFW9e4wWiy0"
   },
   "outputs": [],
   "source": [
    "times_max_2['female'] = times_max_2.apply(female_assoluto, axis=1)\n",
    "times_max_2['male'] = times_max_2.apply(male_assoluto, axis=1)"
   ]
  },
  {
   "cell_type": "markdown",
   "metadata": {
    "id": "GgsxbNz8Wiy1"
   },
   "source": [
    "Infine, si richiama il dataframe con le nuove colonne per essere certi della correttezza del risultato richiesto, scegliendo le colonne per una migliore visualizzazione:"
   ]
  },
  {
   "cell_type": "code",
   "execution_count": 116,
   "metadata": {
    "colab": {
     "base_uri": "https://localhost:8080/",
     "height": 424
    },
    "id": "32DXzYFqWiy2",
    "outputId": "6a0e91ff-53d1-4e3e-ce84-da956b0ad6ce"
   },
   "outputs": [
    {
     "data": {
      "text/html": [
       "<div>\n",
       "<style scoped>\n",
       "    .dataframe tbody tr th:only-of-type {\n",
       "        vertical-align: middle;\n",
       "    }\n",
       "\n",
       "    .dataframe tbody tr th {\n",
       "        vertical-align: top;\n",
       "    }\n",
       "\n",
       "    .dataframe thead th {\n",
       "        text-align: right;\n",
       "    }\n",
       "</style>\n",
       "<table border=\"1\" class=\"dataframe\">\n",
       "  <thead>\n",
       "    <tr style=\"text-align: right;\">\n",
       "      <th></th>\n",
       "      <th>country</th>\n",
       "      <th>female</th>\n",
       "      <th>male</th>\n",
       "    </tr>\n",
       "  </thead>\n",
       "  <tbody>\n",
       "    <tr>\n",
       "      <th>0</th>\n",
       "      <td>Argentina</td>\n",
       "      <td>67191</td>\n",
       "      <td>41182</td>\n",
       "    </tr>\n",
       "    <tr>\n",
       "      <th>1</th>\n",
       "      <td>Australia</td>\n",
       "      <td>391736</td>\n",
       "      <td>321640</td>\n",
       "    </tr>\n",
       "    <tr>\n",
       "      <th>2</th>\n",
       "      <td>Austria</td>\n",
       "      <td>68364</td>\n",
       "      <td>66113</td>\n",
       "    </tr>\n",
       "    <tr>\n",
       "      <th>3</th>\n",
       "      <td>Bangladesh</td>\n",
       "      <td>21323</td>\n",
       "      <td>41393</td>\n",
       "    </tr>\n",
       "    <tr>\n",
       "      <th>4</th>\n",
       "      <td>Belarus</td>\n",
       "      <td>20219</td>\n",
       "      <td>9084</td>\n",
       "    </tr>\n",
       "    <tr>\n",
       "      <th>...</th>\n",
       "      <td>...</td>\n",
       "      <td>...</td>\n",
       "      <td>...</td>\n",
       "    </tr>\n",
       "    <tr>\n",
       "      <th>65</th>\n",
       "      <td>Uganda</td>\n",
       "      <td>18670</td>\n",
       "      <td>18670</td>\n",
       "    </tr>\n",
       "    <tr>\n",
       "      <th>66</th>\n",
       "      <td>Ukraine</td>\n",
       "      <td>17846</td>\n",
       "      <td>19250</td>\n",
       "    </tr>\n",
       "    <tr>\n",
       "      <th>67</th>\n",
       "      <td>United Arab Emirates</td>\n",
       "      <td>9516</td>\n",
       "      <td>4931</td>\n",
       "    </tr>\n",
       "    <tr>\n",
       "      <th>68</th>\n",
       "      <td>United Kingdom</td>\n",
       "      <td>711814</td>\n",
       "      <td>613028</td>\n",
       "    </tr>\n",
       "    <tr>\n",
       "      <th>69</th>\n",
       "      <td>United States of America</td>\n",
       "      <td>1597414</td>\n",
       "      <td>1553277</td>\n",
       "    </tr>\n",
       "  </tbody>\n",
       "</table>\n",
       "<p>70 rows × 3 columns</p>\n",
       "</div>"
      ],
      "text/plain": [
       "                     country   female     male\n",
       "0                  Argentina    67191    41182\n",
       "1                  Australia   391736   321640\n",
       "2                    Austria    68364    66113\n",
       "3                 Bangladesh    21323    41393\n",
       "4                    Belarus    20219     9084\n",
       "..                       ...      ...      ...\n",
       "65                    Uganda    18670    18670\n",
       "66                   Ukraine    17846    19250\n",
       "67      United Arab Emirates     9516     4931\n",
       "68            United Kingdom   711814   613028\n",
       "69  United States of America  1597414  1553277\n",
       "\n",
       "[70 rows x 3 columns]"
      ]
     },
     "execution_count": 116,
     "metadata": {},
     "output_type": "execute_result"
    }
   ],
   "source": [
    "times_max_2.groupby([\"country\"], as_index = False)[['country', 'female_male_ratio', 'female', 'male']].sum()"
   ]
  },
  {
   "cell_type": "markdown",
   "metadata": {
    "id": "DKNIl5XHWiy3"
   },
   "source": [
    "### 6. Find the universities where the ratio between female and male is below the average ratio (computed over all universities)"
   ]
  },
  {
   "cell_type": "markdown",
   "metadata": {
    "id": "0KjUge1YWiy3"
   },
   "source": [
    "Viene creata una funzione che computi il rapporto fra `femmine` e `maschi`. Nel caso in cui i `maschi`, che si trovano al denominatore, fossero pari a `0`, verrà restituito il valore `100` in quanto al numeratore si troveranno le `femmine` uguali a `100`. Così facendo il rapporto (pari a `100`) indicherà una università totalmente femminile."
   ]
  },
  {
   "cell_type": "code",
   "execution_count": 117,
   "metadata": {
    "id": "79ED7En9Wiy4"
   },
   "outputs": [],
   "source": [
    "def fem_mal(col):\n",
    "    # Ricerca il match nella colonna female_male_ratio\n",
    "    find_male_zero = re.match('^(?P<female>\\d+) : (?P<male>\\d+)$', col['female_male_ratio'])\n",
    "    \n",
    "    # converto in interi i valori di female e male (da stringhe)\n",
    "    female = int(find_male_zero.group('female'))\n",
    "    male = int(find_male_zero.group('male'))\n",
    "    \n",
    "    # se 'male' fosse uguale a 0, ritorna direttamente il valore 100, considerando l'università\n",
    "    # completamente femminile\n",
    "    if male == 0:\n",
    "        return 100\n",
    "    # Altrimenti ritorna il rapporto\n",
    "    else:\n",
    "        return female/male"
   ]
  },
  {
   "cell_type": "markdown",
   "metadata": {
    "id": "5JgRqDwHWiy4"
   },
   "source": [
    "Si applica la funzione `f_m_ratio_decimal`:"
   ]
  },
  {
   "cell_type": "code",
   "execution_count": 118,
   "metadata": {
    "id": "fZnAbHccWiy5"
   },
   "outputs": [],
   "source": [
    "times_max_2['f_m_ratio_decimal'] = times_max_2.apply(fem_mal, axis = 1)"
   ]
  },
  {
   "cell_type": "markdown",
   "metadata": {
    "id": "Q5574cGRWiy5"
   },
   "source": [
    "Se ne controlla la correttezza:"
   ]
  },
  {
   "cell_type": "code",
   "execution_count": 119,
   "metadata": {
    "colab": {
     "base_uri": "https://localhost:8080/",
     "height": 365
    },
    "id": "5CIIVSv7Wiy5",
    "outputId": "6547f558-c050-4567-8f8f-d475b905f39a"
   },
   "outputs": [
    {
     "data": {
      "text/html": [
       "<div>\n",
       "<style scoped>\n",
       "    .dataframe tbody tr th:only-of-type {\n",
       "        vertical-align: middle;\n",
       "    }\n",
       "\n",
       "    .dataframe tbody tr th {\n",
       "        vertical-align: top;\n",
       "    }\n",
       "\n",
       "    .dataframe thead th {\n",
       "        text-align: right;\n",
       "    }\n",
       "</style>\n",
       "<table border=\"1\" class=\"dataframe\">\n",
       "  <thead>\n",
       "    <tr style=\"text-align: right;\">\n",
       "      <th></th>\n",
       "      <th>world_rank</th>\n",
       "      <th>university_name</th>\n",
       "      <th>country</th>\n",
       "      <th>teaching</th>\n",
       "      <th>international</th>\n",
       "      <th>research</th>\n",
       "      <th>citations</th>\n",
       "      <th>income</th>\n",
       "      <th>total_score</th>\n",
       "      <th>num_students</th>\n",
       "      <th>student_staff_ratio</th>\n",
       "      <th>international_students</th>\n",
       "      <th>female_male_ratio</th>\n",
       "      <th>year</th>\n",
       "      <th>female</th>\n",
       "      <th>male</th>\n",
       "      <th>f_m_ratio_decimal</th>\n",
       "    </tr>\n",
       "  </thead>\n",
       "  <tbody>\n",
       "    <tr>\n",
       "      <th>1803</th>\n",
       "      <td>1</td>\n",
       "      <td>California Institute of Technology</td>\n",
       "      <td>United States of America</td>\n",
       "      <td>95.6</td>\n",
       "      <td>64.0</td>\n",
       "      <td>97.6</td>\n",
       "      <td>99.8</td>\n",
       "      <td>97.8</td>\n",
       "      <td>95.2</td>\n",
       "      <td>2243</td>\n",
       "      <td>6.9</td>\n",
       "      <td>27%</td>\n",
       "      <td>33 : 67</td>\n",
       "      <td>2016</td>\n",
       "      <td>740</td>\n",
       "      <td>1503</td>\n",
       "      <td>0.492537</td>\n",
       "    </tr>\n",
       "    <tr>\n",
       "      <th>1804</th>\n",
       "      <td>2</td>\n",
       "      <td>University of Oxford</td>\n",
       "      <td>United Kingdom</td>\n",
       "      <td>86.5</td>\n",
       "      <td>94.4</td>\n",
       "      <td>98.9</td>\n",
       "      <td>98.8</td>\n",
       "      <td>73.1</td>\n",
       "      <td>94.2</td>\n",
       "      <td>19919</td>\n",
       "      <td>11.6</td>\n",
       "      <td>34%</td>\n",
       "      <td>46 : 54</td>\n",
       "      <td>2016</td>\n",
       "      <td>9163</td>\n",
       "      <td>10756</td>\n",
       "      <td>0.851852</td>\n",
       "    </tr>\n",
       "    <tr>\n",
       "      <th>1805</th>\n",
       "      <td>3</td>\n",
       "      <td>Stanford University</td>\n",
       "      <td>United States of America</td>\n",
       "      <td>92.5</td>\n",
       "      <td>76.3</td>\n",
       "      <td>96.2</td>\n",
       "      <td>99.9</td>\n",
       "      <td>63.3</td>\n",
       "      <td>93.9</td>\n",
       "      <td>15596</td>\n",
       "      <td>7.8</td>\n",
       "      <td>22%</td>\n",
       "      <td>42 : 58</td>\n",
       "      <td>2016</td>\n",
       "      <td>6550</td>\n",
       "      <td>9046</td>\n",
       "      <td>0.724138</td>\n",
       "    </tr>\n",
       "    <tr>\n",
       "      <th>1806</th>\n",
       "      <td>4</td>\n",
       "      <td>University of Cambridge</td>\n",
       "      <td>United Kingdom</td>\n",
       "      <td>88.2</td>\n",
       "      <td>91.5</td>\n",
       "      <td>96.7</td>\n",
       "      <td>97.0</td>\n",
       "      <td>55.0</td>\n",
       "      <td>92.8</td>\n",
       "      <td>18812</td>\n",
       "      <td>11.8</td>\n",
       "      <td>34%</td>\n",
       "      <td>46 : 54</td>\n",
       "      <td>2016</td>\n",
       "      <td>8654</td>\n",
       "      <td>10158</td>\n",
       "      <td>0.851852</td>\n",
       "    </tr>\n",
       "    <tr>\n",
       "      <th>1807</th>\n",
       "      <td>5</td>\n",
       "      <td>Massachusetts Institute of Technology</td>\n",
       "      <td>United States of America</td>\n",
       "      <td>89.4</td>\n",
       "      <td>84.0</td>\n",
       "      <td>88.6</td>\n",
       "      <td>99.7</td>\n",
       "      <td>95.4</td>\n",
       "      <td>92.0</td>\n",
       "      <td>11074</td>\n",
       "      <td>9.0</td>\n",
       "      <td>33%</td>\n",
       "      <td>37 : 63</td>\n",
       "      <td>2016</td>\n",
       "      <td>4097</td>\n",
       "      <td>6977</td>\n",
       "      <td>0.587302</td>\n",
       "    </tr>\n",
       "  </tbody>\n",
       "</table>\n",
       "</div>"
      ],
      "text/plain": [
       "     world_rank                        university_name  \\\n",
       "1803          1     California Institute of Technology   \n",
       "1804          2                   University of Oxford   \n",
       "1805          3                    Stanford University   \n",
       "1806          4                University of Cambridge   \n",
       "1807          5  Massachusetts Institute of Technology   \n",
       "\n",
       "                       country  teaching international  research  citations  \\\n",
       "1803  United States of America      95.6          64.0      97.6       99.8   \n",
       "1804            United Kingdom      86.5          94.4      98.9       98.8   \n",
       "1805  United States of America      92.5          76.3      96.2       99.9   \n",
       "1806            United Kingdom      88.2          91.5      96.7       97.0   \n",
       "1807  United States of America      89.4          84.0      88.6       99.7   \n",
       "\n",
       "     income total_score  num_students  student_staff_ratio  \\\n",
       "1803   97.8        95.2          2243                  6.9   \n",
       "1804   73.1        94.2         19919                 11.6   \n",
       "1805   63.3        93.9         15596                  7.8   \n",
       "1806   55.0        92.8         18812                 11.8   \n",
       "1807   95.4        92.0         11074                  9.0   \n",
       "\n",
       "     international_students female_male_ratio  year  female   male  \\\n",
       "1803                    27%           33 : 67  2016     740   1503   \n",
       "1804                    34%           46 : 54  2016    9163  10756   \n",
       "1805                    22%           42 : 58  2016    6550   9046   \n",
       "1806                    34%           46 : 54  2016    8654  10158   \n",
       "1807                    33%           37 : 63  2016    4097   6977   \n",
       "\n",
       "      f_m_ratio_decimal  \n",
       "1803           0.492537  \n",
       "1804           0.851852  \n",
       "1805           0.724138  \n",
       "1806           0.851852  \n",
       "1807           0.587302  "
      ]
     },
     "execution_count": 119,
     "metadata": {},
     "output_type": "execute_result"
    }
   ],
   "source": [
    "times_max_2.head()"
   ]
  },
  {
   "cell_type": "markdown",
   "metadata": {
    "id": "QMidWzvDWiy5"
   },
   "source": [
    "Viene applicata la funzione `mean()` per calcolare la media di colonna:"
   ]
  },
  {
   "cell_type": "code",
   "execution_count": 120,
   "metadata": {
    "colab": {
     "base_uri": "https://localhost:8080/"
    },
    "id": "x42NVgv5Wiy6",
    "outputId": "40562e2f-56b1-4996-db16-e3e753174632"
   },
   "outputs": [
    {
     "data": {
      "text/plain": [
       "1.2169695629288875"
      ]
     },
     "execution_count": 120,
     "metadata": {},
     "output_type": "execute_result"
    }
   ],
   "source": [
    "times_max_2['f_m_ratio_decimal'].mean()"
   ]
  },
  {
   "cell_type": "markdown",
   "metadata": {
    "id": "iug1pvBMWiy7"
   },
   "source": [
    "Troviamo quindi quelle università che presentano un rapporto `female_male` al di sotto della media:"
   ]
  },
  {
   "cell_type": "code",
   "execution_count": 121,
   "metadata": {
    "colab": {
     "base_uri": "https://localhost:8080/",
     "height": 635
    },
    "id": "h4hugn3jWiy7",
    "outputId": "d7241732-4d1d-4f3a-dee4-31f304f19b11"
   },
   "outputs": [
    {
     "data": {
      "text/html": [
       "<div>\n",
       "<style scoped>\n",
       "    .dataframe tbody tr th:only-of-type {\n",
       "        vertical-align: middle;\n",
       "    }\n",
       "\n",
       "    .dataframe tbody tr th {\n",
       "        vertical-align: top;\n",
       "    }\n",
       "\n",
       "    .dataframe thead th {\n",
       "        text-align: right;\n",
       "    }\n",
       "</style>\n",
       "<table border=\"1\" class=\"dataframe\">\n",
       "  <thead>\n",
       "    <tr style=\"text-align: right;\">\n",
       "      <th></th>\n",
       "      <th>world_rank</th>\n",
       "      <th>university_name</th>\n",
       "      <th>country</th>\n",
       "      <th>teaching</th>\n",
       "      <th>international</th>\n",
       "      <th>research</th>\n",
       "      <th>citations</th>\n",
       "      <th>income</th>\n",
       "      <th>total_score</th>\n",
       "      <th>num_students</th>\n",
       "      <th>student_staff_ratio</th>\n",
       "      <th>international_students</th>\n",
       "      <th>female_male_ratio</th>\n",
       "      <th>year</th>\n",
       "      <th>female</th>\n",
       "      <th>male</th>\n",
       "      <th>f_m_ratio_decimal</th>\n",
       "    </tr>\n",
       "  </thead>\n",
       "  <tbody>\n",
       "    <tr>\n",
       "      <th>1803</th>\n",
       "      <td>1</td>\n",
       "      <td>California Institute of Technology</td>\n",
       "      <td>United States of America</td>\n",
       "      <td>95.6</td>\n",
       "      <td>64.0</td>\n",
       "      <td>97.6</td>\n",
       "      <td>99.8</td>\n",
       "      <td>97.8</td>\n",
       "      <td>95.2</td>\n",
       "      <td>2243</td>\n",
       "      <td>6.9</td>\n",
       "      <td>27%</td>\n",
       "      <td>33 : 67</td>\n",
       "      <td>2016</td>\n",
       "      <td>740</td>\n",
       "      <td>1503</td>\n",
       "      <td>0.492537</td>\n",
       "    </tr>\n",
       "    <tr>\n",
       "      <th>1804</th>\n",
       "      <td>2</td>\n",
       "      <td>University of Oxford</td>\n",
       "      <td>United Kingdom</td>\n",
       "      <td>86.5</td>\n",
       "      <td>94.4</td>\n",
       "      <td>98.9</td>\n",
       "      <td>98.8</td>\n",
       "      <td>73.1</td>\n",
       "      <td>94.2</td>\n",
       "      <td>19919</td>\n",
       "      <td>11.6</td>\n",
       "      <td>34%</td>\n",
       "      <td>46 : 54</td>\n",
       "      <td>2016</td>\n",
       "      <td>9163</td>\n",
       "      <td>10756</td>\n",
       "      <td>0.851852</td>\n",
       "    </tr>\n",
       "    <tr>\n",
       "      <th>1805</th>\n",
       "      <td>3</td>\n",
       "      <td>Stanford University</td>\n",
       "      <td>United States of America</td>\n",
       "      <td>92.5</td>\n",
       "      <td>76.3</td>\n",
       "      <td>96.2</td>\n",
       "      <td>99.9</td>\n",
       "      <td>63.3</td>\n",
       "      <td>93.9</td>\n",
       "      <td>15596</td>\n",
       "      <td>7.8</td>\n",
       "      <td>22%</td>\n",
       "      <td>42 : 58</td>\n",
       "      <td>2016</td>\n",
       "      <td>6550</td>\n",
       "      <td>9046</td>\n",
       "      <td>0.724138</td>\n",
       "    </tr>\n",
       "    <tr>\n",
       "      <th>1806</th>\n",
       "      <td>4</td>\n",
       "      <td>University of Cambridge</td>\n",
       "      <td>United Kingdom</td>\n",
       "      <td>88.2</td>\n",
       "      <td>91.5</td>\n",
       "      <td>96.7</td>\n",
       "      <td>97.0</td>\n",
       "      <td>55.0</td>\n",
       "      <td>92.8</td>\n",
       "      <td>18812</td>\n",
       "      <td>11.8</td>\n",
       "      <td>34%</td>\n",
       "      <td>46 : 54</td>\n",
       "      <td>2016</td>\n",
       "      <td>8654</td>\n",
       "      <td>10158</td>\n",
       "      <td>0.851852</td>\n",
       "    </tr>\n",
       "    <tr>\n",
       "      <th>1807</th>\n",
       "      <td>5</td>\n",
       "      <td>Massachusetts Institute of Technology</td>\n",
       "      <td>United States of America</td>\n",
       "      <td>89.4</td>\n",
       "      <td>84.0</td>\n",
       "      <td>88.6</td>\n",
       "      <td>99.7</td>\n",
       "      <td>95.4</td>\n",
       "      <td>92.0</td>\n",
       "      <td>11074</td>\n",
       "      <td>9.0</td>\n",
       "      <td>33%</td>\n",
       "      <td>37 : 63</td>\n",
       "      <td>2016</td>\n",
       "      <td>4097</td>\n",
       "      <td>6977</td>\n",
       "      <td>0.587302</td>\n",
       "    </tr>\n",
       "    <tr>\n",
       "      <th>...</th>\n",
       "      <td>...</td>\n",
       "      <td>...</td>\n",
       "      <td>...</td>\n",
       "      <td>...</td>\n",
       "      <td>...</td>\n",
       "      <td>...</td>\n",
       "      <td>...</td>\n",
       "      <td>...</td>\n",
       "      <td>...</td>\n",
       "      <td>...</td>\n",
       "      <td>...</td>\n",
       "      <td>...</td>\n",
       "      <td>...</td>\n",
       "      <td>...</td>\n",
       "      <td>...</td>\n",
       "      <td>...</td>\n",
       "      <td>...</td>\n",
       "    </tr>\n",
       "    <tr>\n",
       "      <th>2597</th>\n",
       "      <td>601-800</td>\n",
       "      <td>Xidian University</td>\n",
       "      <td>China</td>\n",
       "      <td>17.9</td>\n",
       "      <td>12.8</td>\n",
       "      <td>12.1</td>\n",
       "      <td>8.9</td>\n",
       "      <td>83.7</td>\n",
       "      <td>-</td>\n",
       "      <td>31618</td>\n",
       "      <td>16.4</td>\n",
       "      <td>2%</td>\n",
       "      <td>29 : 71</td>\n",
       "      <td>2016</td>\n",
       "      <td>9169</td>\n",
       "      <td>22449</td>\n",
       "      <td>0.408451</td>\n",
       "    </tr>\n",
       "    <tr>\n",
       "      <th>2598</th>\n",
       "      <td>601-800</td>\n",
       "      <td>Yeungnam University</td>\n",
       "      <td>South Korea</td>\n",
       "      <td>18.6</td>\n",
       "      <td>24.3</td>\n",
       "      <td>10.9</td>\n",
       "      <td>26.5</td>\n",
       "      <td>35.4</td>\n",
       "      <td>-</td>\n",
       "      <td>21958</td>\n",
       "      <td>15.3</td>\n",
       "      <td>3%</td>\n",
       "      <td>48 : 52</td>\n",
       "      <td>2016</td>\n",
       "      <td>10540</td>\n",
       "      <td>11418</td>\n",
       "      <td>0.923077</td>\n",
       "    </tr>\n",
       "    <tr>\n",
       "      <th>2599</th>\n",
       "      <td>601-800</td>\n",
       "      <td>Yıldız Technical University</td>\n",
       "      <td>Turkey</td>\n",
       "      <td>14.5</td>\n",
       "      <td>14.9</td>\n",
       "      <td>7.6</td>\n",
       "      <td>19.3</td>\n",
       "      <td>44.0</td>\n",
       "      <td>-</td>\n",
       "      <td>31268</td>\n",
       "      <td>28.7</td>\n",
       "      <td>2%</td>\n",
       "      <td>36 : 64</td>\n",
       "      <td>2016</td>\n",
       "      <td>11256</td>\n",
       "      <td>20012</td>\n",
       "      <td>0.562500</td>\n",
       "    </tr>\n",
       "    <tr>\n",
       "      <th>2601</th>\n",
       "      <td>601-800</td>\n",
       "      <td>Yokohama National University</td>\n",
       "      <td>Japan</td>\n",
       "      <td>20.1</td>\n",
       "      <td>23.3</td>\n",
       "      <td>16.0</td>\n",
       "      <td>13.5</td>\n",
       "      <td>40.4</td>\n",
       "      <td>-</td>\n",
       "      <td>10117</td>\n",
       "      <td>12.1</td>\n",
       "      <td>8%</td>\n",
       "      <td>28 : 72</td>\n",
       "      <td>2016</td>\n",
       "      <td>2833</td>\n",
       "      <td>7284</td>\n",
       "      <td>0.388889</td>\n",
       "    </tr>\n",
       "    <tr>\n",
       "      <th>2602</th>\n",
       "      <td>601-800</td>\n",
       "      <td>Yuan Ze University</td>\n",
       "      <td>Taiwan</td>\n",
       "      <td>16.2</td>\n",
       "      <td>17.7</td>\n",
       "      <td>18.3</td>\n",
       "      <td>28.6</td>\n",
       "      <td>39.8</td>\n",
       "      <td>-</td>\n",
       "      <td>8663</td>\n",
       "      <td>20.6</td>\n",
       "      <td>4%</td>\n",
       "      <td>43 : 57</td>\n",
       "      <td>2016</td>\n",
       "      <td>3725</td>\n",
       "      <td>4938</td>\n",
       "      <td>0.754386</td>\n",
       "    </tr>\n",
       "  </tbody>\n",
       "</table>\n",
       "<p>466 rows × 17 columns</p>\n",
       "</div>"
      ],
      "text/plain": [
       "     world_rank                        university_name  \\\n",
       "1803          1     California Institute of Technology   \n",
       "1804          2                   University of Oxford   \n",
       "1805          3                    Stanford University   \n",
       "1806          4                University of Cambridge   \n",
       "1807          5  Massachusetts Institute of Technology   \n",
       "...         ...                                    ...   \n",
       "2597    601-800                      Xidian University   \n",
       "2598    601-800                    Yeungnam University   \n",
       "2599    601-800            Yıldız Technical University   \n",
       "2601    601-800           Yokohama National University   \n",
       "2602    601-800                     Yuan Ze University   \n",
       "\n",
       "                       country  teaching international  research  citations  \\\n",
       "1803  United States of America      95.6          64.0      97.6       99.8   \n",
       "1804            United Kingdom      86.5          94.4      98.9       98.8   \n",
       "1805  United States of America      92.5          76.3      96.2       99.9   \n",
       "1806            United Kingdom      88.2          91.5      96.7       97.0   \n",
       "1807  United States of America      89.4          84.0      88.6       99.7   \n",
       "...                        ...       ...           ...       ...        ...   \n",
       "2597                     China      17.9          12.8      12.1        8.9   \n",
       "2598               South Korea      18.6          24.3      10.9       26.5   \n",
       "2599                    Turkey      14.5          14.9       7.6       19.3   \n",
       "2601                     Japan      20.1          23.3      16.0       13.5   \n",
       "2602                    Taiwan      16.2          17.7      18.3       28.6   \n",
       "\n",
       "     income total_score  num_students  student_staff_ratio  \\\n",
       "1803   97.8        95.2          2243                  6.9   \n",
       "1804   73.1        94.2         19919                 11.6   \n",
       "1805   63.3        93.9         15596                  7.8   \n",
       "1806   55.0        92.8         18812                 11.8   \n",
       "1807   95.4        92.0         11074                  9.0   \n",
       "...     ...         ...           ...                  ...   \n",
       "2597   83.7           -         31618                 16.4   \n",
       "2598   35.4           -         21958                 15.3   \n",
       "2599   44.0           -         31268                 28.7   \n",
       "2601   40.4           -         10117                 12.1   \n",
       "2602   39.8           -          8663                 20.6   \n",
       "\n",
       "     international_students female_male_ratio  year  female   male  \\\n",
       "1803                    27%           33 : 67  2016     740   1503   \n",
       "1804                    34%           46 : 54  2016    9163  10756   \n",
       "1805                    22%           42 : 58  2016    6550   9046   \n",
       "1806                    34%           46 : 54  2016    8654  10158   \n",
       "1807                    33%           37 : 63  2016    4097   6977   \n",
       "...                     ...               ...   ...     ...    ...   \n",
       "2597                     2%           29 : 71  2016    9169  22449   \n",
       "2598                     3%           48 : 52  2016   10540  11418   \n",
       "2599                     2%           36 : 64  2016   11256  20012   \n",
       "2601                     8%           28 : 72  2016    2833   7284   \n",
       "2602                     4%           43 : 57  2016    3725   4938   \n",
       "\n",
       "      f_m_ratio_decimal  \n",
       "1803           0.492537  \n",
       "1804           0.851852  \n",
       "1805           0.724138  \n",
       "1806           0.851852  \n",
       "1807           0.587302  \n",
       "...                 ...  \n",
       "2597           0.408451  \n",
       "2598           0.923077  \n",
       "2599           0.562500  \n",
       "2601           0.388889  \n",
       "2602           0.754386  \n",
       "\n",
       "[466 rows x 17 columns]"
      ]
     },
     "execution_count": 121,
     "metadata": {},
     "output_type": "execute_result"
    }
   ],
   "source": [
    "sotto_media = times_max_2[times_max_2['f_m_ratio_decimal'] < times_max_2['f_m_ratio_decimal'].mean()]\n",
    "sotto_media"
   ]
  },
  {
   "cell_type": "markdown",
   "metadata": {
    "id": "9Bk319vqWiy8"
   },
   "source": [
    "### 7. For each country, compute the fraction of the students in the country that are in one of the universities computed in the previous point (that is, the denominator of the ratio is the total number of students over all universities in the country)."
   ]
  },
  {
   "cell_type": "markdown",
   "metadata": {
    "id": "WHA4w4J4Wiy9"
   },
   "source": [
    "Considerando il dataframe poco sopra creato (sulle università che presentavano un rapporto femmine/maschi sotto la media), si raggruppa per `country` e si sommano il numero di studenti per ottenere il valore totale per paese."
   ]
  },
  {
   "cell_type": "code",
   "execution_count": 122,
   "metadata": {
    "colab": {
     "base_uri": "https://localhost:8080/",
     "height": 206
    },
    "id": "kvUKmc1xWiy-",
    "outputId": "9149090a-cc02-415f-f224-118ac4542ef6",
    "scrolled": true
   },
   "outputs": [
    {
     "data": {
      "text/html": [
       "<div>\n",
       "<style scoped>\n",
       "    .dataframe tbody tr th:only-of-type {\n",
       "        vertical-align: middle;\n",
       "    }\n",
       "\n",
       "    .dataframe tbody tr th {\n",
       "        vertical-align: top;\n",
       "    }\n",
       "\n",
       "    .dataframe thead th {\n",
       "        text-align: right;\n",
       "    }\n",
       "</style>\n",
       "<table border=\"1\" class=\"dataframe\">\n",
       "  <thead>\n",
       "    <tr style=\"text-align: right;\">\n",
       "      <th></th>\n",
       "      <th>country</th>\n",
       "      <th>num_students</th>\n",
       "    </tr>\n",
       "  </thead>\n",
       "  <tbody>\n",
       "    <tr>\n",
       "      <th>0</th>\n",
       "      <td>Australia</td>\n",
       "      <td>295021</td>\n",
       "    </tr>\n",
       "    <tr>\n",
       "      <th>1</th>\n",
       "      <td>Austria</td>\n",
       "      <td>79242</td>\n",
       "    </tr>\n",
       "    <tr>\n",
       "      <th>2</th>\n",
       "      <td>Bangladesh</td>\n",
       "      <td>62716</td>\n",
       "    </tr>\n",
       "    <tr>\n",
       "      <th>3</th>\n",
       "      <td>Belgium</td>\n",
       "      <td>116129</td>\n",
       "    </tr>\n",
       "    <tr>\n",
       "      <th>4</th>\n",
       "      <td>Brazil</td>\n",
       "      <td>438476</td>\n",
       "    </tr>\n",
       "  </tbody>\n",
       "</table>\n",
       "</div>"
      ],
      "text/plain": [
       "      country  num_students\n",
       "0   Australia        295021\n",
       "1     Austria         79242\n",
       "2  Bangladesh         62716\n",
       "3     Belgium        116129\n",
       "4      Brazil        438476"
      ]
     },
     "execution_count": 122,
     "metadata": {},
     "output_type": "execute_result"
    }
   ],
   "source": [
    "stud_paese_sotto_media_parz = sotto_media.groupby(\"country\", as_index = False)[\"num_students\"].agg(sum)\n",
    "stud_paese_sotto_media_parz.head()"
   ]
  },
  {
   "cell_type": "markdown",
   "metadata": {
    "id": "zn8nNesKWizA"
   },
   "source": [
    "Si crea un nuovo df con il numero di studenti totali:"
   ]
  },
  {
   "cell_type": "code",
   "execution_count": 123,
   "metadata": {
    "colab": {
     "base_uri": "https://localhost:8080/",
     "height": 206
    },
    "id": "z-ytE4aaWizA",
    "outputId": "f312834e-c6bd-43f7-b248-661ebf27c918",
    "scrolled": true
   },
   "outputs": [
    {
     "data": {
      "text/html": [
       "<div>\n",
       "<style scoped>\n",
       "    .dataframe tbody tr th:only-of-type {\n",
       "        vertical-align: middle;\n",
       "    }\n",
       "\n",
       "    .dataframe tbody tr th {\n",
       "        vertical-align: top;\n",
       "    }\n",
       "\n",
       "    .dataframe thead th {\n",
       "        text-align: right;\n",
       "    }\n",
       "</style>\n",
       "<table border=\"1\" class=\"dataframe\">\n",
       "  <thead>\n",
       "    <tr style=\"text-align: right;\">\n",
       "      <th></th>\n",
       "      <th>country</th>\n",
       "      <th>num_students</th>\n",
       "    </tr>\n",
       "  </thead>\n",
       "  <tbody>\n",
       "    <tr>\n",
       "      <th>0</th>\n",
       "      <td>Argentina</td>\n",
       "      <td>108373</td>\n",
       "    </tr>\n",
       "    <tr>\n",
       "      <th>1</th>\n",
       "      <td>Australia</td>\n",
       "      <td>713376</td>\n",
       "    </tr>\n",
       "    <tr>\n",
       "      <th>2</th>\n",
       "      <td>Austria</td>\n",
       "      <td>134477</td>\n",
       "    </tr>\n",
       "    <tr>\n",
       "      <th>3</th>\n",
       "      <td>Bangladesh</td>\n",
       "      <td>62716</td>\n",
       "    </tr>\n",
       "    <tr>\n",
       "      <th>4</th>\n",
       "      <td>Belarus</td>\n",
       "      <td>29303</td>\n",
       "    </tr>\n",
       "  </tbody>\n",
       "</table>\n",
       "</div>"
      ],
      "text/plain": [
       "      country  num_students\n",
       "0   Argentina        108373\n",
       "1   Australia        713376\n",
       "2     Austria        134477\n",
       "3  Bangladesh         62716\n",
       "4     Belarus         29303"
      ]
     },
     "execution_count": 123,
     "metadata": {},
     "output_type": "execute_result"
    }
   ],
   "source": [
    "stud_paese_totali = times_max_2.groupby(\"country\", as_index = False)[\"num_students\"].agg(sum)\n",
    "stud_paese_totali.head()"
   ]
  },
  {
   "cell_type": "markdown",
   "metadata": {
    "id": "S4Bz5jQ5WizC"
   },
   "source": [
    "Si fondono i due dataframe:"
   ]
  },
  {
   "cell_type": "code",
   "execution_count": 124,
   "metadata": {
    "colab": {
     "base_uri": "https://localhost:8080/",
     "height": 206
    },
    "id": "lLW8QOpCWizC",
    "outputId": "b2c51cef-432b-4b80-e5b5-8f8abc4443a9"
   },
   "outputs": [
    {
     "data": {
      "text/html": [
       "<div>\n",
       "<style scoped>\n",
       "    .dataframe tbody tr th:only-of-type {\n",
       "        vertical-align: middle;\n",
       "    }\n",
       "\n",
       "    .dataframe tbody tr th {\n",
       "        vertical-align: top;\n",
       "    }\n",
       "\n",
       "    .dataframe thead th {\n",
       "        text-align: right;\n",
       "    }\n",
       "</style>\n",
       "<table border=\"1\" class=\"dataframe\">\n",
       "  <thead>\n",
       "    <tr style=\"text-align: right;\">\n",
       "      <th></th>\n",
       "      <th>country</th>\n",
       "      <th>num_students_parz</th>\n",
       "      <th>num_students_tot</th>\n",
       "    </tr>\n",
       "  </thead>\n",
       "  <tbody>\n",
       "    <tr>\n",
       "      <th>0</th>\n",
       "      <td>Australia</td>\n",
       "      <td>295021</td>\n",
       "      <td>713376</td>\n",
       "    </tr>\n",
       "    <tr>\n",
       "      <th>1</th>\n",
       "      <td>Austria</td>\n",
       "      <td>79242</td>\n",
       "      <td>134477</td>\n",
       "    </tr>\n",
       "    <tr>\n",
       "      <th>2</th>\n",
       "      <td>Bangladesh</td>\n",
       "      <td>62716</td>\n",
       "      <td>62716</td>\n",
       "    </tr>\n",
       "    <tr>\n",
       "      <th>3</th>\n",
       "      <td>Belgium</td>\n",
       "      <td>116129</td>\n",
       "      <td>169661</td>\n",
       "    </tr>\n",
       "    <tr>\n",
       "      <th>4</th>\n",
       "      <td>Brazil</td>\n",
       "      <td>438476</td>\n",
       "      <td>494251</td>\n",
       "    </tr>\n",
       "  </tbody>\n",
       "</table>\n",
       "</div>"
      ],
      "text/plain": [
       "      country  num_students_parz  num_students_tot\n",
       "0   Australia             295021            713376\n",
       "1     Austria              79242            134477\n",
       "2  Bangladesh              62716             62716\n",
       "3     Belgium             116129            169661\n",
       "4      Brazil             438476            494251"
      ]
     },
     "execution_count": 124,
     "metadata": {},
     "output_type": "execute_result"
    }
   ],
   "source": [
    "stud_parz_tot_merge = pd.merge(stud_paese_sotto_media_parz, stud_paese_totali, on = 'country', suffixes=('_parz', '_tot'))\n",
    "stud_parz_tot_merge.head()"
   ]
  },
  {
   "cell_type": "markdown",
   "metadata": {
    "id": "PGaYj8aDWizD"
   },
   "source": [
    "Si crea la colonna desiderata del rapporto:"
   ]
  },
  {
   "cell_type": "code",
   "execution_count": 125,
   "metadata": {
    "colab": {
     "base_uri": "https://localhost:8080/",
     "height": 206
    },
    "id": "fKTRYK4CWizD",
    "outputId": "dcf69ffc-83e9-4469-8403-3df300737703"
   },
   "outputs": [
    {
     "data": {
      "text/html": [
       "<div>\n",
       "<style scoped>\n",
       "    .dataframe tbody tr th:only-of-type {\n",
       "        vertical-align: middle;\n",
       "    }\n",
       "\n",
       "    .dataframe tbody tr th {\n",
       "        vertical-align: top;\n",
       "    }\n",
       "\n",
       "    .dataframe thead th {\n",
       "        text-align: right;\n",
       "    }\n",
       "</style>\n",
       "<table border=\"1\" class=\"dataframe\">\n",
       "  <thead>\n",
       "    <tr style=\"text-align: right;\">\n",
       "      <th></th>\n",
       "      <th>country</th>\n",
       "      <th>num_students_parz</th>\n",
       "      <th>num_students_tot</th>\n",
       "      <th>ratio_parz_tot</th>\n",
       "    </tr>\n",
       "  </thead>\n",
       "  <tbody>\n",
       "    <tr>\n",
       "      <th>0</th>\n",
       "      <td>Australia</td>\n",
       "      <td>295021</td>\n",
       "      <td>713376</td>\n",
       "      <td>0.413556</td>\n",
       "    </tr>\n",
       "    <tr>\n",
       "      <th>1</th>\n",
       "      <td>Austria</td>\n",
       "      <td>79242</td>\n",
       "      <td>134477</td>\n",
       "      <td>0.589261</td>\n",
       "    </tr>\n",
       "    <tr>\n",
       "      <th>2</th>\n",
       "      <td>Bangladesh</td>\n",
       "      <td>62716</td>\n",
       "      <td>62716</td>\n",
       "      <td>1.000000</td>\n",
       "    </tr>\n",
       "    <tr>\n",
       "      <th>3</th>\n",
       "      <td>Belgium</td>\n",
       "      <td>116129</td>\n",
       "      <td>169661</td>\n",
       "      <td>0.684477</td>\n",
       "    </tr>\n",
       "    <tr>\n",
       "      <th>4</th>\n",
       "      <td>Brazil</td>\n",
       "      <td>438476</td>\n",
       "      <td>494251</td>\n",
       "      <td>0.887152</td>\n",
       "    </tr>\n",
       "  </tbody>\n",
       "</table>\n",
       "</div>"
      ],
      "text/plain": [
       "      country  num_students_parz  num_students_tot  ratio_parz_tot\n",
       "0   Australia             295021            713376        0.413556\n",
       "1     Austria              79242            134477        0.589261\n",
       "2  Bangladesh              62716             62716        1.000000\n",
       "3     Belgium             116129            169661        0.684477\n",
       "4      Brazil             438476            494251        0.887152"
      ]
     },
     "execution_count": 125,
     "metadata": {},
     "output_type": "execute_result"
    }
   ],
   "source": [
    "stud_parz_tot_merge['ratio_parz_tot'] = (stud_parz_tot_merge['num_students_parz']/stud_parz_tot_merge['num_students_tot'])\n",
    "stud_parz_tot_merge.head()"
   ]
  },
  {
   "cell_type": "markdown",
   "metadata": {
    "id": "E9XtjY-lWizD"
   },
   "source": [
    "### 8. Read the file educational_attainment_supplementary_data.csv, discarding any row with missing country_name or series_name"
   ]
  },
  {
   "cell_type": "markdown",
   "metadata": {
    "id": "si0AtXPKWizD"
   },
   "source": [
    "Viene letto il dataframe:"
   ]
  },
  {
   "cell_type": "code",
   "execution_count": 126,
   "metadata": {
    "colab": {
     "base_uri": "https://localhost:8080/",
     "height": 791
    },
    "id": "kHae7g_IWizE",
    "outputId": "b856e547-45ae-4b26-ce28-1b2672d7be4b",
    "scrolled": true
   },
   "outputs": [
    {
     "data": {
      "text/html": [
       "<div>\n",
       "<style scoped>\n",
       "    .dataframe tbody tr th:only-of-type {\n",
       "        vertical-align: middle;\n",
       "    }\n",
       "\n",
       "    .dataframe tbody tr th {\n",
       "        vertical-align: top;\n",
       "    }\n",
       "\n",
       "    .dataframe thead th {\n",
       "        text-align: right;\n",
       "    }\n",
       "</style>\n",
       "<table border=\"1\" class=\"dataframe\">\n",
       "  <thead>\n",
       "    <tr style=\"text-align: right;\">\n",
       "      <th></th>\n",
       "      <th>country_name</th>\n",
       "      <th>series_name</th>\n",
       "      <th>1985</th>\n",
       "      <th>1986</th>\n",
       "      <th>1987</th>\n",
       "      <th>1990</th>\n",
       "      <th>1991</th>\n",
       "      <th>1992</th>\n",
       "      <th>1993</th>\n",
       "      <th>1995</th>\n",
       "      <th>...</th>\n",
       "      <th>2005</th>\n",
       "      <th>2006</th>\n",
       "      <th>2007</th>\n",
       "      <th>2008</th>\n",
       "      <th>2009</th>\n",
       "      <th>2010</th>\n",
       "      <th>2011</th>\n",
       "      <th>2012</th>\n",
       "      <th>2013</th>\n",
       "      <th>2015</th>\n",
       "    </tr>\n",
       "  </thead>\n",
       "  <tbody>\n",
       "    <tr>\n",
       "      <th>0</th>\n",
       "      <td>Afghanistan</td>\n",
       "      <td>Barro-Lee: Average years of primary schooling,...</td>\n",
       "      <td>0.33</td>\n",
       "      <td>NaN</td>\n",
       "      <td>NaN</td>\n",
       "      <td>0.44</td>\n",
       "      <td>NaN</td>\n",
       "      <td>NaN</td>\n",
       "      <td>NaN</td>\n",
       "      <td>0.57</td>\n",
       "      <td>...</td>\n",
       "      <td>0.86</td>\n",
       "      <td>NaN</td>\n",
       "      <td>NaN</td>\n",
       "      <td>NaN</td>\n",
       "      <td>NaN</td>\n",
       "      <td>1.27</td>\n",
       "      <td>NaN</td>\n",
       "      <td>NaN</td>\n",
       "      <td>NaN</td>\n",
       "      <td>NaN</td>\n",
       "    </tr>\n",
       "    <tr>\n",
       "      <th>1</th>\n",
       "      <td>Afghanistan</td>\n",
       "      <td>Barro-Lee: Average years of primary schooling,...</td>\n",
       "      <td>1.03</td>\n",
       "      <td>NaN</td>\n",
       "      <td>NaN</td>\n",
       "      <td>1.26</td>\n",
       "      <td>NaN</td>\n",
       "      <td>NaN</td>\n",
       "      <td>NaN</td>\n",
       "      <td>1.54</td>\n",
       "      <td>...</td>\n",
       "      <td>2.18</td>\n",
       "      <td>NaN</td>\n",
       "      <td>NaN</td>\n",
       "      <td>NaN</td>\n",
       "      <td>NaN</td>\n",
       "      <td>2.64</td>\n",
       "      <td>NaN</td>\n",
       "      <td>NaN</td>\n",
       "      <td>NaN</td>\n",
       "      <td>NaN</td>\n",
       "    </tr>\n",
       "    <tr>\n",
       "      <th>2</th>\n",
       "      <td>Afghanistan</td>\n",
       "      <td>Barro-Lee: Average years of primary schooling,...</td>\n",
       "      <td>0.83</td>\n",
       "      <td>NaN</td>\n",
       "      <td>NaN</td>\n",
       "      <td>0.95</td>\n",
       "      <td>NaN</td>\n",
       "      <td>NaN</td>\n",
       "      <td>NaN</td>\n",
       "      <td>1.26</td>\n",
       "      <td>...</td>\n",
       "      <td>1.01</td>\n",
       "      <td>NaN</td>\n",
       "      <td>NaN</td>\n",
       "      <td>NaN</td>\n",
       "      <td>NaN</td>\n",
       "      <td>2.45</td>\n",
       "      <td>NaN</td>\n",
       "      <td>NaN</td>\n",
       "      <td>NaN</td>\n",
       "      <td>NaN</td>\n",
       "    </tr>\n",
       "    <tr>\n",
       "      <th>3</th>\n",
       "      <td>Afghanistan</td>\n",
       "      <td>Barro-Lee: Average years of primary schooling,...</td>\n",
       "      <td>2.34</td>\n",
       "      <td>NaN</td>\n",
       "      <td>NaN</td>\n",
       "      <td>2.22</td>\n",
       "      <td>NaN</td>\n",
       "      <td>NaN</td>\n",
       "      <td>NaN</td>\n",
       "      <td>2.37</td>\n",
       "      <td>...</td>\n",
       "      <td>2.26</td>\n",
       "      <td>NaN</td>\n",
       "      <td>NaN</td>\n",
       "      <td>NaN</td>\n",
       "      <td>NaN</td>\n",
       "      <td>3.55</td>\n",
       "      <td>NaN</td>\n",
       "      <td>NaN</td>\n",
       "      <td>NaN</td>\n",
       "      <td>NaN</td>\n",
       "    </tr>\n",
       "    <tr>\n",
       "      <th>4</th>\n",
       "      <td>Afghanistan</td>\n",
       "      <td>Barro-Lee: Average years of primary schooling,...</td>\n",
       "      <td>0.54</td>\n",
       "      <td>NaN</td>\n",
       "      <td>NaN</td>\n",
       "      <td>0.92</td>\n",
       "      <td>NaN</td>\n",
       "      <td>NaN</td>\n",
       "      <td>NaN</td>\n",
       "      <td>0.94</td>\n",
       "      <td>...</td>\n",
       "      <td>2.00</td>\n",
       "      <td>NaN</td>\n",
       "      <td>NaN</td>\n",
       "      <td>NaN</td>\n",
       "      <td>NaN</td>\n",
       "      <td>1.29</td>\n",
       "      <td>NaN</td>\n",
       "      <td>NaN</td>\n",
       "      <td>NaN</td>\n",
       "      <td>NaN</td>\n",
       "    </tr>\n",
       "    <tr>\n",
       "      <th>...</th>\n",
       "      <td>...</td>\n",
       "      <td>...</td>\n",
       "      <td>...</td>\n",
       "      <td>...</td>\n",
       "      <td>...</td>\n",
       "      <td>...</td>\n",
       "      <td>...</td>\n",
       "      <td>...</td>\n",
       "      <td>...</td>\n",
       "      <td>...</td>\n",
       "      <td>...</td>\n",
       "      <td>...</td>\n",
       "      <td>...</td>\n",
       "      <td>...</td>\n",
       "      <td>...</td>\n",
       "      <td>...</td>\n",
       "      <td>...</td>\n",
       "      <td>...</td>\n",
       "      <td>...</td>\n",
       "      <td>...</td>\n",
       "      <td>...</td>\n",
       "    </tr>\n",
       "    <tr>\n",
       "      <th>79050</th>\n",
       "      <td>NaN</td>\n",
       "      <td>NaN</td>\n",
       "      <td>NaN</td>\n",
       "      <td>NaN</td>\n",
       "      <td>NaN</td>\n",
       "      <td>NaN</td>\n",
       "      <td>NaN</td>\n",
       "      <td>NaN</td>\n",
       "      <td>NaN</td>\n",
       "      <td>NaN</td>\n",
       "      <td>...</td>\n",
       "      <td>NaN</td>\n",
       "      <td>NaN</td>\n",
       "      <td>NaN</td>\n",
       "      <td>NaN</td>\n",
       "      <td>NaN</td>\n",
       "      <td>NaN</td>\n",
       "      <td>NaN</td>\n",
       "      <td>NaN</td>\n",
       "      <td>NaN</td>\n",
       "      <td>NaN</td>\n",
       "    </tr>\n",
       "    <tr>\n",
       "      <th>79051</th>\n",
       "      <td>NaN</td>\n",
       "      <td>NaN</td>\n",
       "      <td>NaN</td>\n",
       "      <td>NaN</td>\n",
       "      <td>NaN</td>\n",
       "      <td>NaN</td>\n",
       "      <td>NaN</td>\n",
       "      <td>NaN</td>\n",
       "      <td>NaN</td>\n",
       "      <td>NaN</td>\n",
       "      <td>...</td>\n",
       "      <td>NaN</td>\n",
       "      <td>NaN</td>\n",
       "      <td>NaN</td>\n",
       "      <td>NaN</td>\n",
       "      <td>NaN</td>\n",
       "      <td>NaN</td>\n",
       "      <td>NaN</td>\n",
       "      <td>NaN</td>\n",
       "      <td>NaN</td>\n",
       "      <td>NaN</td>\n",
       "    </tr>\n",
       "    <tr>\n",
       "      <th>79052</th>\n",
       "      <td>NaN</td>\n",
       "      <td>NaN</td>\n",
       "      <td>NaN</td>\n",
       "      <td>NaN</td>\n",
       "      <td>NaN</td>\n",
       "      <td>NaN</td>\n",
       "      <td>NaN</td>\n",
       "      <td>NaN</td>\n",
       "      <td>NaN</td>\n",
       "      <td>NaN</td>\n",
       "      <td>...</td>\n",
       "      <td>NaN</td>\n",
       "      <td>NaN</td>\n",
       "      <td>NaN</td>\n",
       "      <td>NaN</td>\n",
       "      <td>NaN</td>\n",
       "      <td>NaN</td>\n",
       "      <td>NaN</td>\n",
       "      <td>NaN</td>\n",
       "      <td>NaN</td>\n",
       "      <td>NaN</td>\n",
       "    </tr>\n",
       "    <tr>\n",
       "      <th>79053</th>\n",
       "      <td>Data from database: Education Statistics: Educ...</td>\n",
       "      <td>NaN</td>\n",
       "      <td>NaN</td>\n",
       "      <td>NaN</td>\n",
       "      <td>NaN</td>\n",
       "      <td>NaN</td>\n",
       "      <td>NaN</td>\n",
       "      <td>NaN</td>\n",
       "      <td>NaN</td>\n",
       "      <td>NaN</td>\n",
       "      <td>...</td>\n",
       "      <td>NaN</td>\n",
       "      <td>NaN</td>\n",
       "      <td>NaN</td>\n",
       "      <td>NaN</td>\n",
       "      <td>NaN</td>\n",
       "      <td>NaN</td>\n",
       "      <td>NaN</td>\n",
       "      <td>NaN</td>\n",
       "      <td>NaN</td>\n",
       "      <td>NaN</td>\n",
       "    </tr>\n",
       "    <tr>\n",
       "      <th>79054</th>\n",
       "      <td>Last Updated: 10/20/2015</td>\n",
       "      <td>NaN</td>\n",
       "      <td>NaN</td>\n",
       "      <td>NaN</td>\n",
       "      <td>NaN</td>\n",
       "      <td>NaN</td>\n",
       "      <td>NaN</td>\n",
       "      <td>NaN</td>\n",
       "      <td>NaN</td>\n",
       "      <td>NaN</td>\n",
       "      <td>...</td>\n",
       "      <td>NaN</td>\n",
       "      <td>NaN</td>\n",
       "      <td>NaN</td>\n",
       "      <td>NaN</td>\n",
       "      <td>NaN</td>\n",
       "      <td>NaN</td>\n",
       "      <td>NaN</td>\n",
       "      <td>NaN</td>\n",
       "      <td>NaN</td>\n",
       "      <td>NaN</td>\n",
       "    </tr>\n",
       "  </tbody>\n",
       "</table>\n",
       "<p>79055 rows × 29 columns</p>\n",
       "</div>"
      ],
      "text/plain": [
       "                                            country_name  \\\n",
       "0                                            Afghanistan   \n",
       "1                                            Afghanistan   \n",
       "2                                            Afghanistan   \n",
       "3                                            Afghanistan   \n",
       "4                                            Afghanistan   \n",
       "...                                                  ...   \n",
       "79050                                                NaN   \n",
       "79051                                                NaN   \n",
       "79052                                                NaN   \n",
       "79053  Data from database: Education Statistics: Educ...   \n",
       "79054                           Last Updated: 10/20/2015   \n",
       "\n",
       "                                             series_name  1985  1986  1987  \\\n",
       "0      Barro-Lee: Average years of primary schooling,...  0.33   NaN   NaN   \n",
       "1      Barro-Lee: Average years of primary schooling,...  1.03   NaN   NaN   \n",
       "2      Barro-Lee: Average years of primary schooling,...  0.83   NaN   NaN   \n",
       "3      Barro-Lee: Average years of primary schooling,...  2.34   NaN   NaN   \n",
       "4      Barro-Lee: Average years of primary schooling,...  0.54   NaN   NaN   \n",
       "...                                                  ...   ...   ...   ...   \n",
       "79050                                                NaN   NaN   NaN   NaN   \n",
       "79051                                                NaN   NaN   NaN   NaN   \n",
       "79052                                                NaN   NaN   NaN   NaN   \n",
       "79053                                                NaN   NaN   NaN   NaN   \n",
       "79054                                                NaN   NaN   NaN   NaN   \n",
       "\n",
       "       1990  1991  1992  1993  1995  ...  2005  2006  2007  2008  2009  2010  \\\n",
       "0      0.44   NaN   NaN   NaN  0.57  ...  0.86   NaN   NaN   NaN   NaN  1.27   \n",
       "1      1.26   NaN   NaN   NaN  1.54  ...  2.18   NaN   NaN   NaN   NaN  2.64   \n",
       "2      0.95   NaN   NaN   NaN  1.26  ...  1.01   NaN   NaN   NaN   NaN  2.45   \n",
       "3      2.22   NaN   NaN   NaN  2.37  ...  2.26   NaN   NaN   NaN   NaN  3.55   \n",
       "4      0.92   NaN   NaN   NaN  0.94  ...  2.00   NaN   NaN   NaN   NaN  1.29   \n",
       "...     ...   ...   ...   ...   ...  ...   ...   ...   ...   ...   ...   ...   \n",
       "79050   NaN   NaN   NaN   NaN   NaN  ...   NaN   NaN   NaN   NaN   NaN   NaN   \n",
       "79051   NaN   NaN   NaN   NaN   NaN  ...   NaN   NaN   NaN   NaN   NaN   NaN   \n",
       "79052   NaN   NaN   NaN   NaN   NaN  ...   NaN   NaN   NaN   NaN   NaN   NaN   \n",
       "79053   NaN   NaN   NaN   NaN   NaN  ...   NaN   NaN   NaN   NaN   NaN   NaN   \n",
       "79054   NaN   NaN   NaN   NaN   NaN  ...   NaN   NaN   NaN   NaN   NaN   NaN   \n",
       "\n",
       "       2011  2012  2013  2015  \n",
       "0       NaN   NaN   NaN   NaN  \n",
       "1       NaN   NaN   NaN   NaN  \n",
       "2       NaN   NaN   NaN   NaN  \n",
       "3       NaN   NaN   NaN   NaN  \n",
       "4       NaN   NaN   NaN   NaN  \n",
       "...     ...   ...   ...   ...  \n",
       "79050   NaN   NaN   NaN   NaN  \n",
       "79051   NaN   NaN   NaN   NaN  \n",
       "79052   NaN   NaN   NaN   NaN  \n",
       "79053   NaN   NaN   NaN   NaN  \n",
       "79054   NaN   NaN   NaN   NaN  \n",
       "\n",
       "[79055 rows x 29 columns]"
      ]
     },
     "execution_count": 126,
     "metadata": {},
     "output_type": "execute_result"
    }
   ],
   "source": [
    "educational_attainment = pd.read_csv('dataset_progetto/educational_attainment_supplementary_data.csv')\n",
    "educational_attainment"
   ]
  },
  {
   "cell_type": "markdown",
   "metadata": {
    "id": "_D6oBqBKWizE"
   },
   "source": [
    "Si andranno ad eliminare quei valori nulli nelle colonne presenti nel parametro `subset` di `dropna()`:"
   ]
  },
  {
   "cell_type": "code",
   "execution_count": 127,
   "metadata": {
    "id": "Lr9-93g6WizE"
   },
   "outputs": [],
   "source": [
    "educational_attainment.dropna(subset=['country_name', 'series_name'], inplace=True)"
   ]
  },
  {
   "cell_type": "markdown",
   "metadata": {
    "id": "g_7RcIKIWizF"
   },
   "source": [
    "Si controlla se quanto svolto è corretto:"
   ]
  },
  {
   "cell_type": "code",
   "execution_count": 128,
   "metadata": {
    "colab": {
     "base_uri": "https://localhost:8080/",
     "height": 49
    },
    "id": "P8hX5IXQWizF",
    "outputId": "eb56346f-42bb-4007-fcf9-3c0595eb2f47",
    "scrolled": false
   },
   "outputs": [
    {
     "data": {
      "text/html": [
       "<div>\n",
       "<style scoped>\n",
       "    .dataframe tbody tr th:only-of-type {\n",
       "        vertical-align: middle;\n",
       "    }\n",
       "\n",
       "    .dataframe tbody tr th {\n",
       "        vertical-align: top;\n",
       "    }\n",
       "\n",
       "    .dataframe thead th {\n",
       "        text-align: right;\n",
       "    }\n",
       "</style>\n",
       "<table border=\"1\" class=\"dataframe\">\n",
       "  <thead>\n",
       "    <tr style=\"text-align: right;\">\n",
       "      <th></th>\n",
       "      <th>country_name</th>\n",
       "      <th>series_name</th>\n",
       "      <th>1985</th>\n",
       "      <th>1986</th>\n",
       "      <th>1987</th>\n",
       "      <th>1990</th>\n",
       "      <th>1991</th>\n",
       "      <th>1992</th>\n",
       "      <th>1993</th>\n",
       "      <th>1995</th>\n",
       "      <th>...</th>\n",
       "      <th>2005</th>\n",
       "      <th>2006</th>\n",
       "      <th>2007</th>\n",
       "      <th>2008</th>\n",
       "      <th>2009</th>\n",
       "      <th>2010</th>\n",
       "      <th>2011</th>\n",
       "      <th>2012</th>\n",
       "      <th>2013</th>\n",
       "      <th>2015</th>\n",
       "    </tr>\n",
       "  </thead>\n",
       "  <tbody>\n",
       "  </tbody>\n",
       "</table>\n",
       "<p>0 rows × 29 columns</p>\n",
       "</div>"
      ],
      "text/plain": [
       "Empty DataFrame\n",
       "Columns: [country_name, series_name, 1985, 1986, 1987, 1990, 1991, 1992, 1993, 1995, 1996, 1997, 1998, 1999, 2000, 2001, 2002, 2003, 2004, 2005, 2006, 2007, 2008, 2009, 2010, 2011, 2012, 2013, 2015]\n",
       "Index: []\n",
       "\n",
       "[0 rows x 29 columns]"
      ]
     },
     "execution_count": 128,
     "metadata": {},
     "output_type": "execute_result"
    }
   ],
   "source": [
    "educational_attainment[educational_attainment['country_name'].isnull()]"
   ]
  },
  {
   "cell_type": "code",
   "execution_count": 129,
   "metadata": {
    "colab": {
     "base_uri": "https://localhost:8080/",
     "height": 49
    },
    "id": "6x9bffuwWizF",
    "outputId": "8ccc6d53-06df-4781-bc75-107abb74e569"
   },
   "outputs": [
    {
     "data": {
      "text/html": [
       "<div>\n",
       "<style scoped>\n",
       "    .dataframe tbody tr th:only-of-type {\n",
       "        vertical-align: middle;\n",
       "    }\n",
       "\n",
       "    .dataframe tbody tr th {\n",
       "        vertical-align: top;\n",
       "    }\n",
       "\n",
       "    .dataframe thead th {\n",
       "        text-align: right;\n",
       "    }\n",
       "</style>\n",
       "<table border=\"1\" class=\"dataframe\">\n",
       "  <thead>\n",
       "    <tr style=\"text-align: right;\">\n",
       "      <th></th>\n",
       "      <th>country_name</th>\n",
       "      <th>series_name</th>\n",
       "      <th>1985</th>\n",
       "      <th>1986</th>\n",
       "      <th>1987</th>\n",
       "      <th>1990</th>\n",
       "      <th>1991</th>\n",
       "      <th>1992</th>\n",
       "      <th>1993</th>\n",
       "      <th>1995</th>\n",
       "      <th>...</th>\n",
       "      <th>2005</th>\n",
       "      <th>2006</th>\n",
       "      <th>2007</th>\n",
       "      <th>2008</th>\n",
       "      <th>2009</th>\n",
       "      <th>2010</th>\n",
       "      <th>2011</th>\n",
       "      <th>2012</th>\n",
       "      <th>2013</th>\n",
       "      <th>2015</th>\n",
       "    </tr>\n",
       "  </thead>\n",
       "  <tbody>\n",
       "  </tbody>\n",
       "</table>\n",
       "<p>0 rows × 29 columns</p>\n",
       "</div>"
      ],
      "text/plain": [
       "Empty DataFrame\n",
       "Columns: [country_name, series_name, 1985, 1986, 1987, 1990, 1991, 1992, 1993, 1995, 1996, 1997, 1998, 1999, 2000, 2001, 2002, 2003, 2004, 2005, 2006, 2007, 2008, 2009, 2010, 2011, 2012, 2013, 2015]\n",
       "Index: []\n",
       "\n",
       "[0 rows x 29 columns]"
      ]
     },
     "execution_count": 129,
     "metadata": {},
     "output_type": "execute_result"
    }
   ],
   "source": [
    "educational_attainment[educational_attainment['series_name'].isnull()]"
   ]
  },
  {
   "cell_type": "markdown",
   "metadata": {
    "id": "XLz6yFH2WizG"
   },
   "source": [
    "### 9. From attainment build a dataframe with the same data, but with 4 columns: country_name, series_name, year, value"
   ]
  },
  {
   "cell_type": "markdown",
   "metadata": {
    "id": "TapL1vDBWizG"
   },
   "source": [
    "Si controlla quali sono le colonne attualmente presenti in `educational_attainment`:"
   ]
  },
  {
   "cell_type": "code",
   "execution_count": 130,
   "metadata": {
    "colab": {
     "base_uri": "https://localhost:8080/"
    },
    "id": "08vvOs4nWizG",
    "outputId": "f3ba4ec2-2802-48e2-fab3-ee46cc5afdb2",
    "scrolled": true
   },
   "outputs": [
    {
     "data": {
      "text/plain": [
       "Index(['country_name', 'series_name', '1985', '1986', '1987', '1990', '1991',\n",
       "       '1992', '1993', '1995', '1996', '1997', '1998', '1999', '2000', '2001',\n",
       "       '2002', '2003', '2004', '2005', '2006', '2007', '2008', '2009', '2010',\n",
       "       '2011', '2012', '2013', '2015'],\n",
       "      dtype='object')"
      ]
     },
     "execution_count": 130,
     "metadata": {},
     "output_type": "execute_result"
    }
   ],
   "source": [
    "educational_attainment.columns"
   ]
  },
  {
   "cell_type": "markdown",
   "metadata": {
    "id": "MCVCclWVWizH"
   },
   "source": [
    "Il risultato finale che si vuole ottenere prevede di trasformare il dataframe nel *wide format* in un dataframe in un formato *long*, ovvero convertire le colonne per renderle come valori di riga. Sarà necessario anche modificare il nome di colonna in `year`.\n",
    "Per poter svolgere tale compito, si utilizza la funzione `.melt()` adibita a tale scopo:"
   ]
  },
  {
   "cell_type": "code",
   "execution_count": 131,
   "metadata": {
    "colab": {
     "base_uri": "https://localhost:8080/",
     "height": 206
    },
    "id": "SZu_TLunWizI",
    "outputId": "f1051cfc-506e-4c06-bb31-ead17264c677"
   },
   "outputs": [
    {
     "data": {
      "text/html": [
       "<div>\n",
       "<style scoped>\n",
       "    .dataframe tbody tr th:only-of-type {\n",
       "        vertical-align: middle;\n",
       "    }\n",
       "\n",
       "    .dataframe tbody tr th {\n",
       "        vertical-align: top;\n",
       "    }\n",
       "\n",
       "    .dataframe thead th {\n",
       "        text-align: right;\n",
       "    }\n",
       "</style>\n",
       "<table border=\"1\" class=\"dataframe\">\n",
       "  <thead>\n",
       "    <tr style=\"text-align: right;\">\n",
       "      <th></th>\n",
       "      <th>country_name</th>\n",
       "      <th>series_name</th>\n",
       "      <th>year</th>\n",
       "      <th>value</th>\n",
       "    </tr>\n",
       "  </thead>\n",
       "  <tbody>\n",
       "    <tr>\n",
       "      <th>0</th>\n",
       "      <td>Afghanistan</td>\n",
       "      <td>Barro-Lee: Average years of primary schooling,...</td>\n",
       "      <td>1985</td>\n",
       "      <td>0.33</td>\n",
       "    </tr>\n",
       "    <tr>\n",
       "      <th>1</th>\n",
       "      <td>Afghanistan</td>\n",
       "      <td>Barro-Lee: Average years of primary schooling,...</td>\n",
       "      <td>1985</td>\n",
       "      <td>1.03</td>\n",
       "    </tr>\n",
       "    <tr>\n",
       "      <th>2</th>\n",
       "      <td>Afghanistan</td>\n",
       "      <td>Barro-Lee: Average years of primary schooling,...</td>\n",
       "      <td>1985</td>\n",
       "      <td>0.83</td>\n",
       "    </tr>\n",
       "    <tr>\n",
       "      <th>3</th>\n",
       "      <td>Afghanistan</td>\n",
       "      <td>Barro-Lee: Average years of primary schooling,...</td>\n",
       "      <td>1985</td>\n",
       "      <td>2.34</td>\n",
       "    </tr>\n",
       "    <tr>\n",
       "      <th>4</th>\n",
       "      <td>Afghanistan</td>\n",
       "      <td>Barro-Lee: Average years of primary schooling,...</td>\n",
       "      <td>1985</td>\n",
       "      <td>0.54</td>\n",
       "    </tr>\n",
       "  </tbody>\n",
       "</table>\n",
       "</div>"
      ],
      "text/plain": [
       "  country_name                                        series_name  year  value\n",
       "0  Afghanistan  Barro-Lee: Average years of primary schooling,...  1985   0.33\n",
       "1  Afghanistan  Barro-Lee: Average years of primary schooling,...  1985   1.03\n",
       "2  Afghanistan  Barro-Lee: Average years of primary schooling,...  1985   0.83\n",
       "3  Afghanistan  Barro-Lee: Average years of primary schooling,...  1985   2.34\n",
       "4  Afghanistan  Barro-Lee: Average years of primary schooling,...  1985   0.54"
      ]
     },
     "execution_count": 131,
     "metadata": {},
     "output_type": "execute_result"
    }
   ],
   "source": [
    "melt_educational_df = pd.melt(educational_attainment, id_vars=['country_name', 'series_name'], var_name=\"year\")\n",
    "melt_educational_df.head()"
   ]
  },
  {
   "cell_type": "markdown",
   "metadata": {
    "id": "NyNPvqCKWizJ"
   },
   "source": [
    "### 10. For each university, find the number of rankings in which they appear (it suffices to appear in one year for each ranking)."
   ]
  },
  {
   "cell_type": "markdown",
   "metadata": {
    "id": "hD4TXTotkBG9"
   },
   "source": [
    "Si sono create le liste dei nomi utilizzando i nomi normalizzati e abbiamo contato i valori inserendoli in un dizionario successivamente convertito in un dataframe."
   ]
  },
  {
   "cell_type": "code",
   "execution_count": 132,
   "metadata": {
    "id": "n3WshU7JKRVz"
   },
   "outputs": [],
   "source": [
    "shanghai_list = list(shanghai_for_max[shanghai_for_max['university_name_normalized'].isnull() == False]['university_name_normalized'].unique())"
   ]
  },
  {
   "cell_type": "code",
   "execution_count": 133,
   "metadata": {
    "id": "Qq2YejM0KRSX"
   },
   "outputs": [],
   "source": [
    "times_list = list(times_for_max_copy[times_for_max_copy['university_name_normalized'].isnull() == False]['university_name_normalized'].unique())"
   ]
  },
  {
   "cell_type": "code",
   "execution_count": 134,
   "metadata": {
    "id": "ou159tl1KRON"
   },
   "outputs": [],
   "source": [
    "cwur_list = list(cwurdb_for_max_copy[cwurdb_for_max_copy['university_name_normalized'].isnull() == False]['university_name_normalized'].unique())"
   ]
  },
  {
   "cell_type": "code",
   "execution_count": 135,
   "metadata": {
    "id": "yq_EahLQKRIv"
   },
   "outputs": [],
   "source": [
    "final_list = shanghai_list + times_list + cwur_list"
   ]
  },
  {
   "cell_type": "code",
   "execution_count": 136,
   "metadata": {
    "id": "b0NgsSjyKRAu"
   },
   "outputs": [],
   "source": [
    "# crea un dizionario vuoto\n",
    "count_dict = {}"
   ]
  },
  {
   "cell_type": "code",
   "execution_count": 137,
   "metadata": {
    "id": "qqxsqb7wKQ0H"
   },
   "outputs": [],
   "source": [
    "for university in final_list:\n",
    "  if university in count_dict:\n",
    "    count_dict[university] += 1\n",
    "  else:\n",
    "    count_dict[university] = 1"
   ]
  },
  {
   "cell_type": "code",
   "execution_count": 138,
   "metadata": {
    "id": "KwPmRRqbKQvr"
   },
   "outputs": [],
   "source": [
    "conteggio_ranking = pd.DataFrame(count_dict.items(), columns=[\"university\", \"count\"])"
   ]
  },
  {
   "cell_type": "code",
   "execution_count": 139,
   "metadata": {
    "colab": {
     "base_uri": "https://localhost:8080/",
     "height": 424
    },
    "id": "0fpnGgiHKQrk",
    "outputId": "36eab09c-21ba-44a7-a79b-febe3ecdc185"
   },
   "outputs": [
    {
     "data": {
      "text/html": [
       "<div>\n",
       "<style scoped>\n",
       "    .dataframe tbody tr th:only-of-type {\n",
       "        vertical-align: middle;\n",
       "    }\n",
       "\n",
       "    .dataframe tbody tr th {\n",
       "        vertical-align: top;\n",
       "    }\n",
       "\n",
       "    .dataframe thead th {\n",
       "        text-align: right;\n",
       "    }\n",
       "</style>\n",
       "<table border=\"1\" class=\"dataframe\">\n",
       "  <thead>\n",
       "    <tr style=\"text-align: right;\">\n",
       "      <th></th>\n",
       "      <th>university</th>\n",
       "      <th>count</th>\n",
       "    </tr>\n",
       "  </thead>\n",
       "  <tbody>\n",
       "    <tr>\n",
       "      <th>0</th>\n",
       "      <td>Aalborg University</td>\n",
       "      <td>3</td>\n",
       "    </tr>\n",
       "    <tr>\n",
       "      <th>1</th>\n",
       "      <td>Aalto University</td>\n",
       "      <td>3</td>\n",
       "    </tr>\n",
       "    <tr>\n",
       "      <th>2</th>\n",
       "      <td>Aarhus University</td>\n",
       "      <td>3</td>\n",
       "    </tr>\n",
       "    <tr>\n",
       "      <th>3</th>\n",
       "      <td>Aix-Marseille University</td>\n",
       "      <td>3</td>\n",
       "    </tr>\n",
       "    <tr>\n",
       "      <th>4</th>\n",
       "      <td>Aristotle University of Thessaloniki</td>\n",
       "      <td>3</td>\n",
       "    </tr>\n",
       "    <tr>\n",
       "      <th>...</th>\n",
       "      <td>...</td>\n",
       "      <td>...</td>\n",
       "    </tr>\n",
       "    <tr>\n",
       "      <th>813</th>\n",
       "      <td>École Normale Supérieure</td>\n",
       "      <td>1</td>\n",
       "    </tr>\n",
       "    <tr>\n",
       "      <th>814</th>\n",
       "      <td>École Normale Supérieure de Lyon</td>\n",
       "      <td>1</td>\n",
       "    </tr>\n",
       "    <tr>\n",
       "      <th>815</th>\n",
       "      <td>École Polytechnique</td>\n",
       "      <td>2</td>\n",
       "    </tr>\n",
       "    <tr>\n",
       "      <th>816</th>\n",
       "      <td>École Polytechnique Fédérale de Lausanne</td>\n",
       "      <td>1</td>\n",
       "    </tr>\n",
       "    <tr>\n",
       "      <th>817</th>\n",
       "      <td>Örebro University</td>\n",
       "      <td>2</td>\n",
       "    </tr>\n",
       "  </tbody>\n",
       "</table>\n",
       "<p>818 rows × 2 columns</p>\n",
       "</div>"
      ],
      "text/plain": [
       "                                   university  count\n",
       "0                          Aalborg University      3\n",
       "1                            Aalto University      3\n",
       "2                           Aarhus University      3\n",
       "3                    Aix-Marseille University      3\n",
       "4        Aristotle University of Thessaloniki      3\n",
       "..                                        ...    ...\n",
       "813                  École Normale Supérieure      1\n",
       "814          École Normale Supérieure de Lyon      1\n",
       "815                       École Polytechnique      2\n",
       "816  École Polytechnique Fédérale de Lausanne      1\n",
       "817                         Örebro University      2\n",
       "\n",
       "[818 rows x 2 columns]"
      ]
     },
     "execution_count": 139,
     "metadata": {},
     "output_type": "execute_result"
    }
   ],
   "source": [
    "conteggio_ranking"
   ]
  },
  {
   "cell_type": "markdown",
   "metadata": {
    "id": "YwpnTVuoWizQ"
   },
   "source": [
    "### 11. In the `times` ranking, compute the number of times each university appears"
   ]
  },
  {
   "cell_type": "code",
   "execution_count": 140,
   "metadata": {
    "id": "0yHER99CTu-Y"
   },
   "outputs": [],
   "source": [
    "final_list_times = list(times['university_name'])"
   ]
  },
  {
   "cell_type": "code",
   "execution_count": 141,
   "metadata": {
    "id": "4_CwwdZSULnm"
   },
   "outputs": [],
   "source": [
    "times_dict = {}"
   ]
  },
  {
   "cell_type": "code",
   "execution_count": 142,
   "metadata": {
    "id": "k1GGyW7wTuzx"
   },
   "outputs": [],
   "source": [
    "for university in final_list_times:\n",
    "  if university in times_dict:\n",
    "    times_dict[university] += 1\n",
    "  else:\n",
    "    times_dict[university] = 1"
   ]
  },
  {
   "cell_type": "code",
   "execution_count": 143,
   "metadata": {
    "id": "bTbZyqAdTuuK"
   },
   "outputs": [],
   "source": [
    "conteggio_ranking_university = pd.DataFrame(times_dict.items(), columns=[\"university\", \"count\"])"
   ]
  },
  {
   "cell_type": "code",
   "execution_count": 144,
   "metadata": {
    "colab": {
     "base_uri": "https://localhost:8080/",
     "height": 424
    },
    "id": "AaejoK6tTuip",
    "outputId": "e4d3bced-32e6-4fb2-94cf-1bd2062669d7"
   },
   "outputs": [
    {
     "data": {
      "text/html": [
       "<div>\n",
       "<style scoped>\n",
       "    .dataframe tbody tr th:only-of-type {\n",
       "        vertical-align: middle;\n",
       "    }\n",
       "\n",
       "    .dataframe tbody tr th {\n",
       "        vertical-align: top;\n",
       "    }\n",
       "\n",
       "    .dataframe thead th {\n",
       "        text-align: right;\n",
       "    }\n",
       "</style>\n",
       "<table border=\"1\" class=\"dataframe\">\n",
       "  <thead>\n",
       "    <tr style=\"text-align: right;\">\n",
       "      <th></th>\n",
       "      <th>university</th>\n",
       "      <th>count</th>\n",
       "    </tr>\n",
       "  </thead>\n",
       "  <tbody>\n",
       "    <tr>\n",
       "      <th>0</th>\n",
       "      <td>Harvard University</td>\n",
       "      <td>6</td>\n",
       "    </tr>\n",
       "    <tr>\n",
       "      <th>1</th>\n",
       "      <td>California Institute of Technology</td>\n",
       "      <td>6</td>\n",
       "    </tr>\n",
       "    <tr>\n",
       "      <th>2</th>\n",
       "      <td>Massachusetts Institute of Technology</td>\n",
       "      <td>6</td>\n",
       "    </tr>\n",
       "    <tr>\n",
       "      <th>3</th>\n",
       "      <td>Stanford University</td>\n",
       "      <td>6</td>\n",
       "    </tr>\n",
       "    <tr>\n",
       "      <th>4</th>\n",
       "      <td>Princeton University</td>\n",
       "      <td>6</td>\n",
       "    </tr>\n",
       "    <tr>\n",
       "      <th>...</th>\n",
       "      <td>...</td>\n",
       "      <td>...</td>\n",
       "    </tr>\n",
       "    <tr>\n",
       "      <th>813</th>\n",
       "      <td>Xidian University</td>\n",
       "      <td>1</td>\n",
       "    </tr>\n",
       "    <tr>\n",
       "      <th>814</th>\n",
       "      <td>Yeungnam University</td>\n",
       "      <td>1</td>\n",
       "    </tr>\n",
       "    <tr>\n",
       "      <th>815</th>\n",
       "      <td>Yıldız Technical University</td>\n",
       "      <td>1</td>\n",
       "    </tr>\n",
       "    <tr>\n",
       "      <th>816</th>\n",
       "      <td>Yokohama City University</td>\n",
       "      <td>1</td>\n",
       "    </tr>\n",
       "    <tr>\n",
       "      <th>817</th>\n",
       "      <td>Yokohama National University</td>\n",
       "      <td>1</td>\n",
       "    </tr>\n",
       "  </tbody>\n",
       "</table>\n",
       "<p>818 rows × 2 columns</p>\n",
       "</div>"
      ],
      "text/plain": [
       "                                university  count\n",
       "0                       Harvard University      6\n",
       "1       California Institute of Technology      6\n",
       "2    Massachusetts Institute of Technology      6\n",
       "3                      Stanford University      6\n",
       "4                     Princeton University      6\n",
       "..                                     ...    ...\n",
       "813                      Xidian University      1\n",
       "814                    Yeungnam University      1\n",
       "815            Yıldız Technical University      1\n",
       "816               Yokohama City University      1\n",
       "817           Yokohama National University      1\n",
       "\n",
       "[818 rows x 2 columns]"
      ]
     },
     "execution_count": 144,
     "metadata": {},
     "output_type": "execute_result"
    }
   ],
   "source": [
    "conteggio_ranking_university"
   ]
  },
  {
   "cell_type": "markdown",
   "metadata": {
    "id": "kuDfhUm7WizS"
   },
   "source": [
    "### 12. Find the universities that appear at most twice in the times ranking."
   ]
  },
  {
   "cell_type": "code",
   "execution_count": 145,
   "metadata": {
    "colab": {
     "base_uri": "https://localhost:8080/",
     "height": 424
    },
    "id": "RMXEFHTmWizT",
    "outputId": "85491d52-1bc8-436a-da92-3136192f8fb8"
   },
   "outputs": [
    {
     "data": {
      "text/html": [
       "<div>\n",
       "<style scoped>\n",
       "    .dataframe tbody tr th:only-of-type {\n",
       "        vertical-align: middle;\n",
       "    }\n",
       "\n",
       "    .dataframe tbody tr th {\n",
       "        vertical-align: top;\n",
       "    }\n",
       "\n",
       "    .dataframe thead th {\n",
       "        text-align: right;\n",
       "    }\n",
       "</style>\n",
       "<table border=\"1\" class=\"dataframe\">\n",
       "  <thead>\n",
       "    <tr style=\"text-align: right;\">\n",
       "      <th></th>\n",
       "      <th>university</th>\n",
       "      <th>count</th>\n",
       "    </tr>\n",
       "  </thead>\n",
       "  <tbody>\n",
       "    <tr>\n",
       "      <th>45</th>\n",
       "      <td>University of Wisconsin</td>\n",
       "      <td>1</td>\n",
       "    </tr>\n",
       "    <tr>\n",
       "      <th>211</th>\n",
       "      <td>Medical University of South Carolina</td>\n",
       "      <td>2</td>\n",
       "    </tr>\n",
       "    <tr>\n",
       "      <th>239</th>\n",
       "      <td>University of Medicine and Dentistry of New Je...</td>\n",
       "      <td>1</td>\n",
       "    </tr>\n",
       "    <tr>\n",
       "      <th>257</th>\n",
       "      <td>University of Hamburg</td>\n",
       "      <td>1</td>\n",
       "    </tr>\n",
       "    <tr>\n",
       "      <th>300</th>\n",
       "      <td>University of Kentucky</td>\n",
       "      <td>2</td>\n",
       "    </tr>\n",
       "    <tr>\n",
       "      <th>...</th>\n",
       "      <td>...</td>\n",
       "      <td>...</td>\n",
       "    </tr>\n",
       "    <tr>\n",
       "      <th>813</th>\n",
       "      <td>Xidian University</td>\n",
       "      <td>1</td>\n",
       "    </tr>\n",
       "    <tr>\n",
       "      <th>814</th>\n",
       "      <td>Yeungnam University</td>\n",
       "      <td>1</td>\n",
       "    </tr>\n",
       "    <tr>\n",
       "      <th>815</th>\n",
       "      <td>Yıldız Technical University</td>\n",
       "      <td>1</td>\n",
       "    </tr>\n",
       "    <tr>\n",
       "      <th>816</th>\n",
       "      <td>Yokohama City University</td>\n",
       "      <td>1</td>\n",
       "    </tr>\n",
       "    <tr>\n",
       "      <th>817</th>\n",
       "      <td>Yokohama National University</td>\n",
       "      <td>1</td>\n",
       "    </tr>\n",
       "  </tbody>\n",
       "</table>\n",
       "<p>408 rows × 2 columns</p>\n",
       "</div>"
      ],
      "text/plain": [
       "                                            university  count\n",
       "45                             University of Wisconsin      1\n",
       "211               Medical University of South Carolina      2\n",
       "239  University of Medicine and Dentistry of New Je...      1\n",
       "257                              University of Hamburg      1\n",
       "300                             University of Kentucky      2\n",
       "..                                                 ...    ...\n",
       "813                                  Xidian University      1\n",
       "814                                Yeungnam University      1\n",
       "815                        Yıldız Technical University      1\n",
       "816                           Yokohama City University      1\n",
       "817                       Yokohama National University      1\n",
       "\n",
       "[408 rows x 2 columns]"
      ]
     },
     "execution_count": 145,
     "metadata": {},
     "output_type": "execute_result"
    }
   ],
   "source": [
    "conteggio_ranking_university[conteggio_ranking_university['count'] < 3]"
   ]
  },
  {
   "cell_type": "markdown",
   "metadata": {
    "id": "c5BN1kZTWizT"
   },
   "source": [
    "### 13. The universities that, in any year, have the same position in all three rankings (they must have the same position in a year)."
   ]
  },
  {
   "cell_type": "code",
   "execution_count": 146,
   "metadata": {
    "id": "kkVzafaLX9lM"
   },
   "outputs": [],
   "source": [
    "times_copy = times.copy()"
   ]
  },
  {
   "cell_type": "code",
   "execution_count": 147,
   "metadata": {
    "id": "U_0EwXVGX9fz"
   },
   "outputs": [],
   "source": [
    "shanghai_copy = shanghai_db.copy()"
   ]
  },
  {
   "cell_type": "code",
   "execution_count": 148,
   "metadata": {
    "id": "L6hRE4Z_X9ZG"
   },
   "outputs": [],
   "source": [
    "cwur_copy = cwur_db.copy()"
   ]
  },
  {
   "cell_type": "code",
   "execution_count": 149,
   "metadata": {
    "id": "XrJ728uCXJOG"
   },
   "outputs": [],
   "source": [
    "times_copy['university_name_normalized'] = times_copy['university_name'].apply(normalize)"
   ]
  },
  {
   "cell_type": "code",
   "execution_count": 150,
   "metadata": {
    "id": "4rf6VldwctPw"
   },
   "outputs": [],
   "source": [
    "shanghai_copy['university_name'] = shanghai_copy['university_name'].apply(str)"
   ]
  },
  {
   "cell_type": "code",
   "execution_count": 151,
   "metadata": {
    "id": "2xG_r-0mW1ZH"
   },
   "outputs": [],
   "source": [
    "shanghai_copy['university_name_normalized'] = shanghai_copy['university_name'].apply(normalize_shanghai)"
   ]
  },
  {
   "cell_type": "code",
   "execution_count": 152,
   "metadata": {
    "id": "wH-O-wbsW1Pn"
   },
   "outputs": [],
   "source": [
    "cwur_copy['university_name_normalized'] = cwur_copy['institution'].apply(normalize_cwur)"
   ]
  },
  {
   "cell_type": "code",
   "execution_count": 153,
   "metadata": {
    "colab": {
     "base_uri": "https://localhost:8080/",
     "height": 206
    },
    "id": "88WtC3TyW1GV",
    "outputId": "750d398a-ae1b-416e-dc91-f2a2c8634a30"
   },
   "outputs": [
    {
     "data": {
      "text/html": [
       "<div>\n",
       "<style scoped>\n",
       "    .dataframe tbody tr th:only-of-type {\n",
       "        vertical-align: middle;\n",
       "    }\n",
       "\n",
       "    .dataframe tbody tr th {\n",
       "        vertical-align: top;\n",
       "    }\n",
       "\n",
       "    .dataframe thead th {\n",
       "        text-align: right;\n",
       "    }\n",
       "</style>\n",
       "<table border=\"1\" class=\"dataframe\">\n",
       "  <thead>\n",
       "    <tr style=\"text-align: right;\">\n",
       "      <th></th>\n",
       "      <th>world_rank</th>\n",
       "      <th>university_name</th>\n",
       "      <th>national_rank</th>\n",
       "      <th>total_score</th>\n",
       "      <th>alumni</th>\n",
       "      <th>award</th>\n",
       "      <th>hici</th>\n",
       "      <th>ns</th>\n",
       "      <th>pub</th>\n",
       "      <th>pcp</th>\n",
       "      <th>year</th>\n",
       "      <th>university_name_normalized</th>\n",
       "    </tr>\n",
       "  </thead>\n",
       "  <tbody>\n",
       "    <tr>\n",
       "      <th>0</th>\n",
       "      <td>1</td>\n",
       "      <td>Harvard University</td>\n",
       "      <td>1</td>\n",
       "      <td>100.0</td>\n",
       "      <td>100.0</td>\n",
       "      <td>100.0</td>\n",
       "      <td>100.0</td>\n",
       "      <td>100.0</td>\n",
       "      <td>100.0</td>\n",
       "      <td>72.4</td>\n",
       "      <td>2005</td>\n",
       "      <td>Harvard University</td>\n",
       "    </tr>\n",
       "    <tr>\n",
       "      <th>1</th>\n",
       "      <td>2</td>\n",
       "      <td>University of Cambridge</td>\n",
       "      <td>1</td>\n",
       "      <td>73.6</td>\n",
       "      <td>99.8</td>\n",
       "      <td>93.4</td>\n",
       "      <td>53.3</td>\n",
       "      <td>56.6</td>\n",
       "      <td>70.9</td>\n",
       "      <td>66.9</td>\n",
       "      <td>2005</td>\n",
       "      <td>University of Cambridge</td>\n",
       "    </tr>\n",
       "    <tr>\n",
       "      <th>2</th>\n",
       "      <td>3</td>\n",
       "      <td>Stanford University</td>\n",
       "      <td>2</td>\n",
       "      <td>73.4</td>\n",
       "      <td>41.1</td>\n",
       "      <td>72.2</td>\n",
       "      <td>88.5</td>\n",
       "      <td>70.9</td>\n",
       "      <td>72.3</td>\n",
       "      <td>65.0</td>\n",
       "      <td>2005</td>\n",
       "      <td>Stanford University</td>\n",
       "    </tr>\n",
       "    <tr>\n",
       "      <th>3</th>\n",
       "      <td>4</td>\n",
       "      <td>University of California, Berkeley</td>\n",
       "      <td>3</td>\n",
       "      <td>72.8</td>\n",
       "      <td>71.8</td>\n",
       "      <td>76.0</td>\n",
       "      <td>69.4</td>\n",
       "      <td>73.9</td>\n",
       "      <td>72.2</td>\n",
       "      <td>52.7</td>\n",
       "      <td>2005</td>\n",
       "      <td>University of California, Berkeley</td>\n",
       "    </tr>\n",
       "    <tr>\n",
       "      <th>4</th>\n",
       "      <td>5</td>\n",
       "      <td>Massachusetts Institute of Technology (MIT)</td>\n",
       "      <td>4</td>\n",
       "      <td>70.1</td>\n",
       "      <td>74.0</td>\n",
       "      <td>80.6</td>\n",
       "      <td>66.7</td>\n",
       "      <td>65.8</td>\n",
       "      <td>64.3</td>\n",
       "      <td>53.0</td>\n",
       "      <td>2005</td>\n",
       "      <td>Massachusetts Institute of Technology</td>\n",
       "    </tr>\n",
       "  </tbody>\n",
       "</table>\n",
       "</div>"
      ],
      "text/plain": [
       "  world_rank                              university_name national_rank  \\\n",
       "0          1                           Harvard University             1   \n",
       "1          2                      University of Cambridge             1   \n",
       "2          3                          Stanford University             2   \n",
       "3          4           University of California, Berkeley             3   \n",
       "4          5  Massachusetts Institute of Technology (MIT)             4   \n",
       "\n",
       "   total_score  alumni  award   hici     ns    pub   pcp  year  \\\n",
       "0        100.0   100.0  100.0  100.0  100.0  100.0  72.4  2005   \n",
       "1         73.6    99.8   93.4   53.3   56.6   70.9  66.9  2005   \n",
       "2         73.4    41.1   72.2   88.5   70.9   72.3  65.0  2005   \n",
       "3         72.8    71.8   76.0   69.4   73.9   72.2  52.7  2005   \n",
       "4         70.1    74.0   80.6   66.7   65.8   64.3  53.0  2005   \n",
       "\n",
       "              university_name_normalized  \n",
       "0                     Harvard University  \n",
       "1                University of Cambridge  \n",
       "2                    Stanford University  \n",
       "3     University of California, Berkeley  \n",
       "4  Massachusetts Institute of Technology  "
      ]
     },
     "execution_count": 153,
     "metadata": {},
     "output_type": "execute_result"
    }
   ],
   "source": [
    "shanghai_copy.head()"
   ]
  },
  {
   "cell_type": "markdown",
   "metadata": {
    "id": "6i6yUWUiWizT"
   },
   "source": [
    "Si procede con un `pd.merge` dei diversi dataframe:"
   ]
  },
  {
   "cell_type": "code",
   "execution_count": 154,
   "metadata": {
    "id": "aUHHzwSRWizT"
   },
   "outputs": [],
   "source": [
    "t_s_fusion_db = pd.merge(times_copy, shanghai_copy , on = ['university_name_normalized', 'year'], suffixes=('_times', '_shanghai'))[['university_name_normalized', 'world_rank_times', 'world_rank_shanghai', 'year']]"
   ]
  },
  {
   "cell_type": "code",
   "execution_count": 155,
   "metadata": {
    "id": "rma741rfWizT"
   },
   "outputs": [],
   "source": [
    "t_s_c_fusion_db = pd.merge(t_s_fusion_db, cwur_copy, on = ['university_name_normalized', 'year'])[['university_name_normalized', 'world_rank_times', 'world_rank_shanghai', 'world_rank', 'year']]"
   ]
  },
  {
   "cell_type": "code",
   "execution_count": 156,
   "metadata": {
    "colab": {
     "base_uri": "https://localhost:8080/",
     "height": 206
    },
    "id": "4_Hu0LzVWizU",
    "outputId": "d22eddba-549c-433e-a2e0-a431dc6f63ae",
    "scrolled": true
   },
   "outputs": [
    {
     "data": {
      "text/html": [
       "<div>\n",
       "<style scoped>\n",
       "    .dataframe tbody tr th:only-of-type {\n",
       "        vertical-align: middle;\n",
       "    }\n",
       "\n",
       "    .dataframe tbody tr th {\n",
       "        vertical-align: top;\n",
       "    }\n",
       "\n",
       "    .dataframe thead th {\n",
       "        text-align: right;\n",
       "    }\n",
       "</style>\n",
       "<table border=\"1\" class=\"dataframe\">\n",
       "  <thead>\n",
       "    <tr style=\"text-align: right;\">\n",
       "      <th></th>\n",
       "      <th>university_name_normalized</th>\n",
       "      <th>world_rank_times</th>\n",
       "      <th>world_rank_shanghai</th>\n",
       "      <th>world_rank</th>\n",
       "      <th>year</th>\n",
       "    </tr>\n",
       "  </thead>\n",
       "  <tbody>\n",
       "    <tr>\n",
       "      <th>0</th>\n",
       "      <td>California Institute of Technology</td>\n",
       "      <td>1</td>\n",
       "      <td>6</td>\n",
       "      <td>5</td>\n",
       "      <td>2012</td>\n",
       "    </tr>\n",
       "    <tr>\n",
       "      <th>1</th>\n",
       "      <td>Harvard University</td>\n",
       "      <td>2</td>\n",
       "      <td>1</td>\n",
       "      <td>1</td>\n",
       "      <td>2012</td>\n",
       "    </tr>\n",
       "    <tr>\n",
       "      <th>2</th>\n",
       "      <td>Stanford University</td>\n",
       "      <td>2</td>\n",
       "      <td>2</td>\n",
       "      <td>3</td>\n",
       "      <td>2012</td>\n",
       "    </tr>\n",
       "    <tr>\n",
       "      <th>3</th>\n",
       "      <td>University of Oxford</td>\n",
       "      <td>4</td>\n",
       "      <td>10</td>\n",
       "      <td>7</td>\n",
       "      <td>2012</td>\n",
       "    </tr>\n",
       "    <tr>\n",
       "      <th>4</th>\n",
       "      <td>Princeton University</td>\n",
       "      <td>5</td>\n",
       "      <td>7</td>\n",
       "      <td>6</td>\n",
       "      <td>2012</td>\n",
       "    </tr>\n",
       "  </tbody>\n",
       "</table>\n",
       "</div>"
      ],
      "text/plain": [
       "           university_name_normalized world_rank_times world_rank_shanghai  \\\n",
       "0  California Institute of Technology                1                   6   \n",
       "1                  Harvard University                2                   1   \n",
       "2                 Stanford University                2                   2   \n",
       "3                University of Oxford                4                  10   \n",
       "4                Princeton University                5                   7   \n",
       "\n",
       "   world_rank  year  \n",
       "0           5  2012  \n",
       "1           1  2012  \n",
       "2           3  2012  \n",
       "3           7  2012  \n",
       "4           6  2012  "
      ]
     },
     "execution_count": 156,
     "metadata": {},
     "output_type": "execute_result"
    }
   ],
   "source": [
    "t_s_c_fusion_db.head()"
   ]
  },
  {
   "cell_type": "markdown",
   "metadata": {
    "id": "kD2WvAM1WizY"
   },
   "source": [
    "E' necessario convertire la colonna `world_rank` in stringa in quanto si tratta di un valore numerico, mentre le altre colonne di world rank sono considerate come oggetti:"
   ]
  },
  {
   "cell_type": "code",
   "execution_count": 157,
   "metadata": {
    "id": "94wGmksEWizY"
   },
   "outputs": [],
   "source": [
    "t_s_c_fusion_db['world_rank'] = t_s_c_fusion_db['world_rank'].apply(str)"
   ]
  },
  {
   "cell_type": "markdown",
   "metadata": {
    "id": "IJx9AxenWizZ"
   },
   "source": [
    "Viene richiesto di ottenere soltanto quelle istanze che si presentano nello stesso rank e, successivamente, nello stesso anno."
   ]
  },
  {
   "cell_type": "markdown",
   "metadata": {
    "id": "-zWb8Cu6WizZ"
   },
   "source": [
    "Nello stesso rank e nello stesso anno:"
   ]
  },
  {
   "cell_type": "code",
   "execution_count": 158,
   "metadata": {
    "colab": {
     "base_uri": "https://localhost:8080/",
     "height": 81
    },
    "id": "DQuBOCulWizZ",
    "outputId": "9cfd1bd8-ed27-4c8b-c052-8be3d8a1ad03"
   },
   "outputs": [
    {
     "data": {
      "text/html": [
       "<div>\n",
       "<style scoped>\n",
       "    .dataframe tbody tr th:only-of-type {\n",
       "        vertical-align: middle;\n",
       "    }\n",
       "\n",
       "    .dataframe tbody tr th {\n",
       "        vertical-align: top;\n",
       "    }\n",
       "\n",
       "    .dataframe thead th {\n",
       "        text-align: right;\n",
       "    }\n",
       "</style>\n",
       "<table border=\"1\" class=\"dataframe\">\n",
       "  <thead>\n",
       "    <tr style=\"text-align: right;\">\n",
       "      <th></th>\n",
       "      <th>university_name_normalized</th>\n",
       "      <th>world_rank_times</th>\n",
       "      <th>world_rank_shanghai</th>\n",
       "      <th>world_rank</th>\n",
       "      <th>year</th>\n",
       "    </tr>\n",
       "  </thead>\n",
       "  <tbody>\n",
       "    <tr>\n",
       "      <th>77</th>\n",
       "      <td>Stanford University</td>\n",
       "      <td>2</td>\n",
       "      <td>2</td>\n",
       "      <td>2</td>\n",
       "      <td>2013</td>\n",
       "    </tr>\n",
       "  </tbody>\n",
       "</table>\n",
       "</div>"
      ],
      "text/plain": [
       "   university_name_normalized world_rank_times world_rank_shanghai world_rank  \\\n",
       "77        Stanford University                2                   2          2   \n",
       "\n",
       "    year  \n",
       "77  2013  "
      ]
     },
     "execution_count": 158,
     "metadata": {},
     "output_type": "execute_result"
    }
   ],
   "source": [
    "t_s_c_fusion_db_same_rank = t_s_c_fusion_db[(t_s_c_fusion_db['world_rank_times'] == t_s_c_fusion_db['world_rank_shanghai']) & (t_s_c_fusion_db['world_rank_times'] == t_s_c_fusion_db['world_rank'])]\n",
    "t_s_c_fusion_db_same_rank.head()"
   ]
  },
  {
   "cell_type": "markdown",
   "metadata": {
    "id": "9i9cG84FWizb"
   },
   "source": [
    "Ottenendo come risultato conclusivo che la *Standford University* è l'unica università che viene a trovarsi in tutti e tre i ranking, nello stesso anno, nella stessa identica posizione."
   ]
  }
 ],
 "metadata": {
  "colab": {
   "collapsed_sections": [],
   "name": "Progetto_finale.ipynb",
   "provenance": [],
   "toc_visible": true
  },
  "kernelspec": {
   "display_name": "Python 3",
   "language": "python",
   "name": "python3"
  },
  "language_info": {
   "codemirror_mode": {
    "name": "ipython",
    "version": 3
   },
   "file_extension": ".py",
   "mimetype": "text/x-python",
   "name": "python",
   "nbconvert_exporter": "python",
   "pygments_lexer": "ipython3",
   "version": "3.8.5"
  }
 },
 "nbformat": 4,
 "nbformat_minor": 1
}
